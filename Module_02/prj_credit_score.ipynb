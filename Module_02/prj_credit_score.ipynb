{
 "cells": [
  {
   "attachments": {},
   "cell_type": "markdown",
   "metadata": {
    "pycharm": {
     "name": "#%% md\n"
    }
   },
   "source": [
    "# Project 2: Investigating borrower reliability\n",
    "\n",
    "## Introduction\n",
    "\n",
    "The client is a bank's credit department, and the objective is to determine whether a client's marital status and the number of children they have impact the timely repayment of loans. The bank provides input data consisting of clients' creditworthiness statistics.\n",
    "\n",
    "The results of this study will be incorporated into the development of a credit scoring model—a specialized system that evaluates a potential borrower's ability to repay a loan to the bank.\n",
    "\n",
    "**Research goals** - to test four hypotheses:\n",
    "\n",
    "1. Is there a correlation between having children and repaying a loan on time?\n",
    "2. Is there a correlation between marital status and repaying a loan on time?\n",
    "3. Is there a correlation between income level and repaying a loan on time?\n",
    "4. How do different loan purposes affect the timely repayment of loans?\n",
    "\n",
    "**Data description**\n",
    "\n",
    "The table consists of 12 columns:\n",
    "\n",
    "1. `children` — the number of children in the family\n",
    "2. `days_employed` — total employment history in days\n",
    "3. `dob_years` — client's age in years\n",
    "4. `education` — client's education level\n",
    "5. `education_id` — identifier for the education level\n",
    "6. `family_status` — marital status\n",
    "7. `family_status_id` — identifier for the marital status\n",
    "8. `gender` — client's gender\n",
    "9. `income_type` — type of employment\n",
    "10. `debt` — whether the client had debt related to loan repayment (yes/no)\n",
    "11. `total_income` — monthly income\n",
    "12. `purpose` — purpose of the loan\n",
    "\n",
    "Each row in the dataset represents a client. The data includes both categorical variables (such as `education`, `income_type`) and quantitative variables (like `total_income`, `children`). The data appears sufficient for testing the stated hypotheses.\n",
    "\n",
    "In the subsequent analysis, we will examine if there are any artifacts in the data that require attention. For now, it is worth noting that all column names are already recorded in the snake_case format."
   ]
  },
  {
   "cell_type": "code",
   "execution_count": null,
   "metadata": {},
   "outputs": [],
   "source": [
    "import pandas as pd\n",
    "import numpy as np\n",
    "import plotly.express as px\n",
    "\n",
    "from caseconverter import snakecase\n",
    "from collections import defaultdict\n",
    "from IPython.display import display\n",
    "from itertools import product"
   ]
  },
  {
   "cell_type": "code",
   "execution_count": null,
   "metadata": {},
   "outputs": [],
   "source": [
    "FIG_WIDTH = 10 * 100\n",
    "FIG_HEIGHT = 5 * 100"
   ]
  },
  {
   "cell_type": "code",
   "execution_count": null,
   "metadata": {},
   "outputs": [],
   "source": [
    "try:\n",
    "    raw_df = pd.read_csv('/datasets/data.csv')\n",
    "except:\n",
    "    raw_df = pd.read_csv('raw_credit_scoring.csv')"
   ]
  },
  {
   "attachments": {},
   "cell_type": "markdown",
   "metadata": {},
   "source": [
    "## Data preprocessing\n",
    "\n",
    "Initially, we need to examine the available data. Our areas of interest include:\n",
    "\n",
    "1. Artifacts in the data\n",
    "2. Missing (None) values in columns\n",
    "3. Duplicate rows, non-standard category names, and data types in columns\n",
    "4. Lookup tables\n",
    "5. Classification of total_income\n",
    "\n",
    "We will address these points one-by-one."
   ]
  },
  {
   "cell_type": "code",
   "execution_count": 2,
   "metadata": {
    "pycharm": {
     "name": "#%%\n"
    }
   },
   "outputs": [
    {
     "name": "stdout",
     "output_type": "stream",
     "text": [
      "<class 'pandas.core.frame.DataFrame'>\n",
      "RangeIndex: 21525 entries, 0 to 21524\n",
      "Data columns (total 12 columns):\n",
      " #   Column            Non-Null Count  Dtype  \n",
      "---  ------            --------------  -----  \n",
      " 0   children          21525 non-null  int64  \n",
      " 1   days_employed     19351 non-null  float64\n",
      " 2   dob_years         21525 non-null  int64  \n",
      " 3   education         21525 non-null  object \n",
      " 4   education_id      21525 non-null  int64  \n",
      " 5   family_status     21525 non-null  object \n",
      " 6   family_status_id  21525 non-null  int64  \n",
      " 7   gender            21525 non-null  object \n",
      " 8   income_type       21525 non-null  object \n",
      " 9   debt              21525 non-null  int64  \n",
      " 10  total_income      19351 non-null  float64\n",
      " 11  purpose           21525 non-null  object \n",
      "dtypes: float64(2), int64(5), object(5)\n",
      "memory usage: 2.0+ MB\n"
     ]
    }
   ],
   "source": [
    "raw_df.info()"
   ]
  },
  {
   "attachments": {},
   "cell_type": "markdown",
   "metadata": {},
   "source": [
    "The first observation is that the categorical columns have `object` data type, representing text fields. Most of the quantitative columns have `float` data type, with the exception of `children` and `dob_years`, which have `int` data type (this makes sense, as the number of children cannot be a fraction).\n",
    "\n",
    "The second observation is that the columns have varying numbers of rows; both `days_employed` and `total_income` have approximately 2,000 fewer rows than the others. This suggests that some records (rows) are missing these values.\n",
    "\n",
    "Lastly, it appears that the columns `education_id` and `family_status_id` contain identifiers (keys) for different statuses in the `education` and `family_status` columns."
   ]
  },
  {
   "cell_type": "code",
   "execution_count": 3,
   "metadata": {
    "pycharm": {
     "name": "#%%\n"
    }
   },
   "outputs": [
    {
     "data": {
      "text/html": [
       "<div>\n",
       "<style scoped>\n",
       "    .dataframe tbody tr th:only-of-type {\n",
       "        vertical-align: middle;\n",
       "    }\n",
       "\n",
       "    .dataframe tbody tr th {\n",
       "        vertical-align: top;\n",
       "    }\n",
       "\n",
       "    .dataframe thead th {\n",
       "        text-align: right;\n",
       "    }\n",
       "</style>\n",
       "<table border=\"1\" class=\"dataframe\">\n",
       "  <thead>\n",
       "    <tr style=\"text-align: right;\">\n",
       "      <th></th>\n",
       "      <th>children</th>\n",
       "      <th>days_employed</th>\n",
       "      <th>dob_years</th>\n",
       "      <th>education</th>\n",
       "      <th>education_id</th>\n",
       "      <th>family_status</th>\n",
       "      <th>family_status_id</th>\n",
       "      <th>gender</th>\n",
       "      <th>income_type</th>\n",
       "      <th>debt</th>\n",
       "      <th>total_income</th>\n",
       "      <th>purpose</th>\n",
       "    </tr>\n",
       "  </thead>\n",
       "  <tbody>\n",
       "    <tr>\n",
       "      <th>0</th>\n",
       "      <td>1</td>\n",
       "      <td>-8437.673028</td>\n",
       "      <td>42</td>\n",
       "      <td>высшее</td>\n",
       "      <td>0</td>\n",
       "      <td>женат / замужем</td>\n",
       "      <td>0</td>\n",
       "      <td>F</td>\n",
       "      <td>сотрудник</td>\n",
       "      <td>0</td>\n",
       "      <td>253875.639453</td>\n",
       "      <td>покупка жилья</td>\n",
       "    </tr>\n",
       "    <tr>\n",
       "      <th>1</th>\n",
       "      <td>1</td>\n",
       "      <td>-4024.803754</td>\n",
       "      <td>36</td>\n",
       "      <td>среднее</td>\n",
       "      <td>1</td>\n",
       "      <td>женат / замужем</td>\n",
       "      <td>0</td>\n",
       "      <td>F</td>\n",
       "      <td>сотрудник</td>\n",
       "      <td>0</td>\n",
       "      <td>112080.014102</td>\n",
       "      <td>приобретение автомобиля</td>\n",
       "    </tr>\n",
       "    <tr>\n",
       "      <th>2</th>\n",
       "      <td>0</td>\n",
       "      <td>-5623.422610</td>\n",
       "      <td>33</td>\n",
       "      <td>Среднее</td>\n",
       "      <td>1</td>\n",
       "      <td>женат / замужем</td>\n",
       "      <td>0</td>\n",
       "      <td>M</td>\n",
       "      <td>сотрудник</td>\n",
       "      <td>0</td>\n",
       "      <td>145885.952297</td>\n",
       "      <td>покупка жилья</td>\n",
       "    </tr>\n",
       "    <tr>\n",
       "      <th>3</th>\n",
       "      <td>3</td>\n",
       "      <td>-4124.747207</td>\n",
       "      <td>32</td>\n",
       "      <td>среднее</td>\n",
       "      <td>1</td>\n",
       "      <td>женат / замужем</td>\n",
       "      <td>0</td>\n",
       "      <td>M</td>\n",
       "      <td>сотрудник</td>\n",
       "      <td>0</td>\n",
       "      <td>267628.550329</td>\n",
       "      <td>дополнительное образование</td>\n",
       "    </tr>\n",
       "    <tr>\n",
       "      <th>4</th>\n",
       "      <td>0</td>\n",
       "      <td>340266.072047</td>\n",
       "      <td>53</td>\n",
       "      <td>среднее</td>\n",
       "      <td>1</td>\n",
       "      <td>гражданский брак</td>\n",
       "      <td>1</td>\n",
       "      <td>F</td>\n",
       "      <td>пенсионер</td>\n",
       "      <td>0</td>\n",
       "      <td>158616.077870</td>\n",
       "      <td>сыграть свадьбу</td>\n",
       "    </tr>\n",
       "    <tr>\n",
       "      <th>5</th>\n",
       "      <td>0</td>\n",
       "      <td>-926.185831</td>\n",
       "      <td>27</td>\n",
       "      <td>высшее</td>\n",
       "      <td>0</td>\n",
       "      <td>гражданский брак</td>\n",
       "      <td>1</td>\n",
       "      <td>M</td>\n",
       "      <td>компаньон</td>\n",
       "      <td>0</td>\n",
       "      <td>255763.565419</td>\n",
       "      <td>покупка жилья</td>\n",
       "    </tr>\n",
       "    <tr>\n",
       "      <th>6</th>\n",
       "      <td>0</td>\n",
       "      <td>-2879.202052</td>\n",
       "      <td>43</td>\n",
       "      <td>высшее</td>\n",
       "      <td>0</td>\n",
       "      <td>женат / замужем</td>\n",
       "      <td>0</td>\n",
       "      <td>F</td>\n",
       "      <td>компаньон</td>\n",
       "      <td>0</td>\n",
       "      <td>240525.971920</td>\n",
       "      <td>операции с жильем</td>\n",
       "    </tr>\n",
       "    <tr>\n",
       "      <th>7</th>\n",
       "      <td>0</td>\n",
       "      <td>-152.779569</td>\n",
       "      <td>50</td>\n",
       "      <td>СРЕДНЕЕ</td>\n",
       "      <td>1</td>\n",
       "      <td>женат / замужем</td>\n",
       "      <td>0</td>\n",
       "      <td>M</td>\n",
       "      <td>сотрудник</td>\n",
       "      <td>0</td>\n",
       "      <td>135823.934197</td>\n",
       "      <td>образование</td>\n",
       "    </tr>\n",
       "    <tr>\n",
       "      <th>8</th>\n",
       "      <td>2</td>\n",
       "      <td>-6929.865299</td>\n",
       "      <td>35</td>\n",
       "      <td>ВЫСШЕЕ</td>\n",
       "      <td>0</td>\n",
       "      <td>гражданский брак</td>\n",
       "      <td>1</td>\n",
       "      <td>F</td>\n",
       "      <td>сотрудник</td>\n",
       "      <td>0</td>\n",
       "      <td>95856.832424</td>\n",
       "      <td>на проведение свадьбы</td>\n",
       "    </tr>\n",
       "    <tr>\n",
       "      <th>9</th>\n",
       "      <td>0</td>\n",
       "      <td>-2188.756445</td>\n",
       "      <td>41</td>\n",
       "      <td>среднее</td>\n",
       "      <td>1</td>\n",
       "      <td>женат / замужем</td>\n",
       "      <td>0</td>\n",
       "      <td>M</td>\n",
       "      <td>сотрудник</td>\n",
       "      <td>0</td>\n",
       "      <td>144425.938277</td>\n",
       "      <td>покупка жилья для семьи</td>\n",
       "    </tr>\n",
       "  </tbody>\n",
       "</table>\n",
       "</div>"
      ],
      "text/plain": [
       "   children  days_employed  dob_years education  education_id  \\\n",
       "0         1   -8437.673028         42    высшее             0   \n",
       "1         1   -4024.803754         36   среднее             1   \n",
       "2         0   -5623.422610         33   Среднее             1   \n",
       "3         3   -4124.747207         32   среднее             1   \n",
       "4         0  340266.072047         53   среднее             1   \n",
       "5         0    -926.185831         27    высшее             0   \n",
       "6         0   -2879.202052         43    высшее             0   \n",
       "7         0    -152.779569         50   СРЕДНЕЕ             1   \n",
       "8         2   -6929.865299         35    ВЫСШЕЕ             0   \n",
       "9         0   -2188.756445         41   среднее             1   \n",
       "\n",
       "      family_status  family_status_id gender income_type  debt   total_income  \\\n",
       "0   женат / замужем                 0      F   сотрудник     0  253875.639453   \n",
       "1   женат / замужем                 0      F   сотрудник     0  112080.014102   \n",
       "2   женат / замужем                 0      M   сотрудник     0  145885.952297   \n",
       "3   женат / замужем                 0      M   сотрудник     0  267628.550329   \n",
       "4  гражданский брак                 1      F   пенсионер     0  158616.077870   \n",
       "5  гражданский брак                 1      M   компаньон     0  255763.565419   \n",
       "6   женат / замужем                 0      F   компаньон     0  240525.971920   \n",
       "7   женат / замужем                 0      M   сотрудник     0  135823.934197   \n",
       "8  гражданский брак                 1      F   сотрудник     0   95856.832424   \n",
       "9   женат / замужем                 0      M   сотрудник     0  144425.938277   \n",
       "\n",
       "                      purpose  \n",
       "0               покупка жилья  \n",
       "1     приобретение автомобиля  \n",
       "2               покупка жилья  \n",
       "3  дополнительное образование  \n",
       "4             сыграть свадьбу  \n",
       "5               покупка жилья  \n",
       "6           операции с жильем  \n",
       "7                 образование  \n",
       "8       на проведение свадьбы  \n",
       "9     покупка жилья для семьи  "
      ]
     },
     "metadata": {},
     "output_type": "display_data"
    }
   ],
   "source": [
    "display(raw_df.head(10))"
   ]
  },
  {
   "attachments": {},
   "cell_type": "markdown",
   "metadata": {},
   "source": [
    "From the first 10 rows, it is clear that the data needs to be processed before analysis. For example, in the `education` column, the data is not standardized: a value can be `СРЕДНЕЕ` or `Среднее`. In the `days_employed` column, we also encounter unusual values: either negative or greater than 300,000."
   ]
  },
  {
   "attachments": {},
   "cell_type": "markdown",
   "metadata": {},
   "source": [
    "### Artifacts in the Data\n",
    "\n",
    "Before we perform any operations with the data (such as replacing empty values with averages), let's check for and correct any possible artifacts."
   ]
  },
  {
   "cell_type": "code",
   "execution_count": 4,
   "metadata": {
    "pycharm": {
     "name": "#%%\n"
    }
   },
   "outputs": [
    {
     "data": {
      "text/html": [
       "<div>\n",
       "<style scoped>\n",
       "    .dataframe tbody tr th:only-of-type {\n",
       "        vertical-align: middle;\n",
       "    }\n",
       "\n",
       "    .dataframe tbody tr th {\n",
       "        vertical-align: top;\n",
       "    }\n",
       "\n",
       "    .dataframe thead th {\n",
       "        text-align: right;\n",
       "    }\n",
       "</style>\n",
       "<table border=\"1\" class=\"dataframe\">\n",
       "  <thead>\n",
       "    <tr style=\"text-align: right;\">\n",
       "      <th></th>\n",
       "      <th>children</th>\n",
       "      <th>days_employed</th>\n",
       "      <th>dob_years</th>\n",
       "      <th>total_income</th>\n",
       "    </tr>\n",
       "  </thead>\n",
       "  <tbody>\n",
       "    <tr>\n",
       "      <th>count</th>\n",
       "      <td>21525.0</td>\n",
       "      <td>19351.0</td>\n",
       "      <td>21525.0</td>\n",
       "      <td>19351.0</td>\n",
       "    </tr>\n",
       "    <tr>\n",
       "      <th>mean</th>\n",
       "      <td>0.5</td>\n",
       "      <td>63046.5</td>\n",
       "      <td>43.3</td>\n",
       "      <td>167422.3</td>\n",
       "    </tr>\n",
       "    <tr>\n",
       "      <th>std</th>\n",
       "      <td>1.4</td>\n",
       "      <td>140827.3</td>\n",
       "      <td>12.6</td>\n",
       "      <td>102971.6</td>\n",
       "    </tr>\n",
       "    <tr>\n",
       "      <th>min</th>\n",
       "      <td>-1.0</td>\n",
       "      <td>-18388.9</td>\n",
       "      <td>0.0</td>\n",
       "      <td>20667.3</td>\n",
       "    </tr>\n",
       "    <tr>\n",
       "      <th>25%</th>\n",
       "      <td>0.0</td>\n",
       "      <td>-2747.4</td>\n",
       "      <td>33.0</td>\n",
       "      <td>103053.2</td>\n",
       "    </tr>\n",
       "    <tr>\n",
       "      <th>50%</th>\n",
       "      <td>0.0</td>\n",
       "      <td>-1203.4</td>\n",
       "      <td>42.0</td>\n",
       "      <td>145017.9</td>\n",
       "    </tr>\n",
       "    <tr>\n",
       "      <th>75%</th>\n",
       "      <td>1.0</td>\n",
       "      <td>-291.1</td>\n",
       "      <td>53.0</td>\n",
       "      <td>203435.1</td>\n",
       "    </tr>\n",
       "    <tr>\n",
       "      <th>max</th>\n",
       "      <td>20.0</td>\n",
       "      <td>401755.4</td>\n",
       "      <td>75.0</td>\n",
       "      <td>2265604.0</td>\n",
       "    </tr>\n",
       "  </tbody>\n",
       "</table>\n",
       "</div>"
      ],
      "text/plain": [
       "       children  days_employed  dob_years  total_income\n",
       "count   21525.0        19351.0    21525.0       19351.0\n",
       "mean        0.5        63046.5       43.3      167422.3\n",
       "std         1.4       140827.3       12.6      102971.6\n",
       "min        -1.0       -18388.9        0.0       20667.3\n",
       "25%         0.0        -2747.4       33.0      103053.2\n",
       "50%         0.0        -1203.4       42.0      145017.9\n",
       "75%         1.0         -291.1       53.0      203435.1\n",
       "max        20.0       401755.4       75.0     2265604.0"
      ]
     },
     "execution_count": 4,
     "metadata": {},
     "output_type": "execute_result"
    }
   ],
   "source": [
    "columns_values =['children', 'days_employed', 'dob_years', 'total_income']\n",
    "\n",
    "columns_category = [\n",
    "    'education',\n",
    "    'education_id',\n",
    "    'family_status',\n",
    "    'family_status_id',\n",
    "    'gender',\n",
    "    'income_type',\n",
    "    'debt',\n",
    "    'purpose'\n",
    "]\n",
    "\n",
    "round(raw_df[columns_values].describe(), 1)"
   ]
  },
  {
   "attachments": {},
   "cell_type": "markdown",
   "metadata": {},
   "source": [
    "We're not very fortunate: we encounter children counts of -1 and 20, applicants from nursery groups (with an age of zero), as well as negative (and millennia-long(!)) work experience.\n",
    "\n",
    "Under normal circumstances, I would have many questions for the owner of this data. However, since this is an educational exercise, I will correct these artifacts based on a few assumptions:\n",
    "\n",
    "1. `children = -1` and `children = 20` - likely due to some error correction logic in the system. It seems that upon input error, the database records -1. And 20 is an upper limit (also confirmed by the absence of values between 5 and 20). We will replace them with the average value for the corresponding `income_type` group. For example, a retiree is more likely to have several children, while a student has none. This assumption is a stretch for `children = 20`, but given the tight deadlines, I have no other options.\n",
    "\n",
    "2. We will do the same for `dob_years`. It is unlikely that we will see 60-year-old students or 20-year-old retirees.\n",
    "\n",
    "3. `days_employed` is slightly more complicated. We have two issues here: negative values and millennia-long experiences. We can fix the negative values with the abs() function (possibly due to data import errors). I thought that millennia might represent work experience in hours, not days. Since this column will not be used in hypothesis testing, we will simply remove it.\n",
    "\n",
    "Let's run some checks and then carry out these adjustments."
   ]
  },
  {
   "cell_type": "code",
   "execution_count": 5,
   "metadata": {},
   "outputs": [
    {
     "name": "stdout",
     "output_type": "stream",
     "text": [
      "Column name: education\n",
      "Unique values:\n"
     ]
    },
    {
     "data": {
      "text/plain": [
       "среднее                13750\n",
       "высшее                  4718\n",
       "СРЕДНЕЕ                  772\n",
       "Среднее                  711\n",
       "неоконченное высшее      668\n",
       "ВЫСШЕЕ                   274\n",
       "Высшее                   268\n",
       "начальное                250\n",
       "Неоконченное высшее       47\n",
       "НЕОКОНЧЕННОЕ ВЫСШЕЕ       29\n",
       "НАЧАЛЬНОЕ                 17\n",
       "Начальное                 15\n",
       "ученая степень             4\n",
       "Ученая степень             1\n",
       "УЧЕНАЯ СТЕПЕНЬ             1\n",
       "Name: education, dtype: int64"
      ]
     },
     "metadata": {},
     "output_type": "display_data"
    },
    {
     "name": "stdout",
     "output_type": "stream",
     "text": [
      "--------------------------------------------------\n",
      "Column name: education_id\n",
      "Unique values:\n"
     ]
    },
    {
     "data": {
      "text/plain": [
       "1    15233\n",
       "0     5260\n",
       "2      744\n",
       "3      282\n",
       "4        6\n",
       "Name: education_id, dtype: int64"
      ]
     },
     "metadata": {},
     "output_type": "display_data"
    },
    {
     "name": "stdout",
     "output_type": "stream",
     "text": [
      "--------------------------------------------------\n",
      "Column name: family_status\n",
      "Unique values:\n"
     ]
    },
    {
     "data": {
      "text/plain": [
       "женат / замужем          12380\n",
       "гражданский брак          4177\n",
       "Не женат / не замужем     2813\n",
       "в разводе                 1195\n",
       "вдовец / вдова             960\n",
       "Name: family_status, dtype: int64"
      ]
     },
     "metadata": {},
     "output_type": "display_data"
    },
    {
     "name": "stdout",
     "output_type": "stream",
     "text": [
      "--------------------------------------------------\n",
      "Column name: family_status_id\n",
      "Unique values:\n"
     ]
    },
    {
     "data": {
      "text/plain": [
       "0    12380\n",
       "1     4177\n",
       "4     2813\n",
       "3     1195\n",
       "2      960\n",
       "Name: family_status_id, dtype: int64"
      ]
     },
     "metadata": {},
     "output_type": "display_data"
    },
    {
     "name": "stdout",
     "output_type": "stream",
     "text": [
      "--------------------------------------------------\n",
      "Column name: gender\n",
      "Unique values:\n"
     ]
    },
    {
     "data": {
      "text/plain": [
       "F      14236\n",
       "M       7288\n",
       "XNA        1\n",
       "Name: gender, dtype: int64"
      ]
     },
     "metadata": {},
     "output_type": "display_data"
    },
    {
     "name": "stdout",
     "output_type": "stream",
     "text": [
      "--------------------------------------------------\n",
      "Column name: income_type\n",
      "Unique values:\n"
     ]
    },
    {
     "data": {
      "text/plain": [
       "сотрудник          11119\n",
       "компаньон           5085\n",
       "пенсионер           3856\n",
       "госслужащий         1459\n",
       "безработный            2\n",
       "предприниматель        2\n",
       "студент                1\n",
       "в декрете              1\n",
       "Name: income_type, dtype: int64"
      ]
     },
     "metadata": {},
     "output_type": "display_data"
    },
    {
     "name": "stdout",
     "output_type": "stream",
     "text": [
      "--------------------------------------------------\n",
      "Column name: debt\n",
      "Unique values:\n"
     ]
    },
    {
     "data": {
      "text/plain": [
       "0    19784\n",
       "1     1741\n",
       "Name: debt, dtype: int64"
      ]
     },
     "metadata": {},
     "output_type": "display_data"
    },
    {
     "name": "stdout",
     "output_type": "stream",
     "text": [
      "--------------------------------------------------\n",
      "Column name: purpose\n",
      "Unique values:\n"
     ]
    },
    {
     "data": {
      "text/plain": [
       "свадьба                                   797\n",
       "на проведение свадьбы                     777\n",
       "сыграть свадьбу                           774\n",
       "операции с недвижимостью                  676\n",
       "покупка коммерческой недвижимости         664\n",
       "покупка жилья для сдачи                   653\n",
       "операции с жильем                         653\n",
       "операции с коммерческой недвижимостью     651\n",
       "покупка жилья                             647\n",
       "жилье                                     647\n",
       "покупка жилья для семьи                   641\n",
       "строительство собственной недвижимости    635\n",
       "недвижимость                              634\n",
       "операции со своей недвижимостью           630\n",
       "строительство жилой недвижимости          626\n",
       "покупка недвижимости                      624\n",
       "строительство недвижимости                620\n",
       "покупка своего жилья                      620\n",
       "ремонт жилью                              612\n",
       "покупка жилой недвижимости                607\n",
       "на покупку своего автомобиля              505\n",
       "заняться высшим образованием              496\n",
       "автомобиль                                495\n",
       "сделка с подержанным автомобилем          489\n",
       "свой автомобиль                           480\n",
       "на покупку подержанного автомобиля        479\n",
       "автомобили                                478\n",
       "на покупку автомобиля                     472\n",
       "дополнительное образование                462\n",
       "приобретение автомобиля                   462\n",
       "сделка с автомобилем                      455\n",
       "высшее образование                        453\n",
       "образование                               447\n",
       "получение дополнительного образования     447\n",
       "получение образования                     443\n",
       "профильное образование                    436\n",
       "получение высшего образования             426\n",
       "заняться образованием                     412\n",
       "Name: purpose, dtype: int64"
      ]
     },
     "metadata": {},
     "output_type": "display_data"
    },
    {
     "name": "stdout",
     "output_type": "stream",
     "text": [
      "--------------------------------------------------\n"
     ]
    }
   ],
   "source": [
    "for column in columns_category:\n",
    "    print('Column name:', column)\n",
    "    print('Unique values:')\n",
    "    display(raw_df[column].value_counts())\n",
    "    print('-' * 50)"
   ]
  },
  {
   "attachments": {},
   "cell_type": "markdown",
   "metadata": {},
   "source": [
    "We are in luck: we only encounter issues in the education and `family_status` columns (with varying letter cases), the `gender` column (which contains a strange value `XNA`), and the `purpose` column (where similar categories such as 'acquiring a car' and 'buying a car' exist). We will address these problems in the following sections."
   ]
  },
  {
   "attachments": {},
   "cell_type": "markdown",
   "metadata": {},
   "source": [
    "### Missing values in the columns\n",
    "\n",
    "Let's go next."
   ]
  },
  {
   "cell_type": "code",
   "execution_count": 6,
   "metadata": {},
   "outputs": [
    {
     "data": {
      "text/plain": [
       "children               0\n",
       "days_employed       2174\n",
       "dob_years              0\n",
       "education              0\n",
       "education_id           0\n",
       "family_status          0\n",
       "family_status_id       0\n",
       "gender                 0\n",
       "income_type            0\n",
       "debt                   0\n",
       "total_income        2174\n",
       "purpose                0\n",
       "dtype: int64"
      ]
     },
     "execution_count": 6,
     "metadata": {},
     "output_type": "execute_result"
    }
   ],
   "source": [
    "raw_df.isna().sum()"
   ]
  },
  {
   "attachments": {},
   "cell_type": "markdown",
   "metadata": {},
   "source": [
    "As we suspected, we have missing values in the `total_income` column. Let's see what proportion of the total number of rows they make up.\n",
    "\n",
    "The number of missing values is also 2,174, which means that in one row, values are missing in two columns. Thus, we can work with missing values on a row-by-row basis.\n",
    "\n",
    "Now, let's check the proportion of missing rows in the entire dataset."
   ]
  },
  {
   "cell_type": "code",
   "execution_count": 7,
   "metadata": {},
   "outputs": [
    {
     "name": "stdout",
     "output_type": "stream",
     "text": [
      "Empty rows in the dataset: 10.1 %\n"
     ]
    },
    {
     "data": {
      "text/html": [
       "<div>\n",
       "<style scoped>\n",
       "    .dataframe tbody tr th:only-of-type {\n",
       "        vertical-align: middle;\n",
       "    }\n",
       "\n",
       "    .dataframe tbody tr th {\n",
       "        vertical-align: top;\n",
       "    }\n",
       "\n",
       "    .dataframe thead th {\n",
       "        text-align: right;\n",
       "    }\n",
       "</style>\n",
       "<table border=\"1\" class=\"dataframe\">\n",
       "  <thead>\n",
       "    <tr style=\"text-align: right;\">\n",
       "      <th></th>\n",
       "      <th>children</th>\n",
       "      <th>days_employed</th>\n",
       "      <th>dob_years</th>\n",
       "      <th>education</th>\n",
       "      <th>education_id</th>\n",
       "      <th>family_status</th>\n",
       "      <th>family_status_id</th>\n",
       "      <th>gender</th>\n",
       "      <th>income_type</th>\n",
       "      <th>debt</th>\n",
       "      <th>total_income</th>\n",
       "      <th>purpose</th>\n",
       "    </tr>\n",
       "  </thead>\n",
       "  <tbody>\n",
       "    <tr>\n",
       "      <th>12</th>\n",
       "      <td>0</td>\n",
       "      <td>NaN</td>\n",
       "      <td>65</td>\n",
       "      <td>среднее</td>\n",
       "      <td>1</td>\n",
       "      <td>гражданский брак</td>\n",
       "      <td>1</td>\n",
       "      <td>M</td>\n",
       "      <td>пенсионер</td>\n",
       "      <td>0</td>\n",
       "      <td>NaN</td>\n",
       "      <td>сыграть свадьбу</td>\n",
       "    </tr>\n",
       "    <tr>\n",
       "      <th>26</th>\n",
       "      <td>0</td>\n",
       "      <td>NaN</td>\n",
       "      <td>41</td>\n",
       "      <td>среднее</td>\n",
       "      <td>1</td>\n",
       "      <td>женат / замужем</td>\n",
       "      <td>0</td>\n",
       "      <td>M</td>\n",
       "      <td>госслужащий</td>\n",
       "      <td>0</td>\n",
       "      <td>NaN</td>\n",
       "      <td>образование</td>\n",
       "    </tr>\n",
       "    <tr>\n",
       "      <th>29</th>\n",
       "      <td>0</td>\n",
       "      <td>NaN</td>\n",
       "      <td>63</td>\n",
       "      <td>среднее</td>\n",
       "      <td>1</td>\n",
       "      <td>Не женат / не замужем</td>\n",
       "      <td>4</td>\n",
       "      <td>F</td>\n",
       "      <td>пенсионер</td>\n",
       "      <td>0</td>\n",
       "      <td>NaN</td>\n",
       "      <td>строительство жилой недвижимости</td>\n",
       "    </tr>\n",
       "    <tr>\n",
       "      <th>41</th>\n",
       "      <td>0</td>\n",
       "      <td>NaN</td>\n",
       "      <td>50</td>\n",
       "      <td>среднее</td>\n",
       "      <td>1</td>\n",
       "      <td>женат / замужем</td>\n",
       "      <td>0</td>\n",
       "      <td>F</td>\n",
       "      <td>госслужащий</td>\n",
       "      <td>0</td>\n",
       "      <td>NaN</td>\n",
       "      <td>сделка с подержанным автомобилем</td>\n",
       "    </tr>\n",
       "    <tr>\n",
       "      <th>55</th>\n",
       "      <td>0</td>\n",
       "      <td>NaN</td>\n",
       "      <td>54</td>\n",
       "      <td>среднее</td>\n",
       "      <td>1</td>\n",
       "      <td>гражданский брак</td>\n",
       "      <td>1</td>\n",
       "      <td>F</td>\n",
       "      <td>пенсионер</td>\n",
       "      <td>1</td>\n",
       "      <td>NaN</td>\n",
       "      <td>сыграть свадьбу</td>\n",
       "    </tr>\n",
       "  </tbody>\n",
       "</table>\n",
       "</div>"
      ],
      "text/plain": [
       "    children  days_employed  dob_years education  education_id  \\\n",
       "12         0            NaN         65   среднее             1   \n",
       "26         0            NaN         41   среднее             1   \n",
       "29         0            NaN         63   среднее             1   \n",
       "41         0            NaN         50   среднее             1   \n",
       "55         0            NaN         54   среднее             1   \n",
       "\n",
       "            family_status  family_status_id gender  income_type  debt  \\\n",
       "12       гражданский брак                 1      M    пенсионер     0   \n",
       "26        женат / замужем                 0      M  госслужащий     0   \n",
       "29  Не женат / не замужем                 4      F    пенсионер     0   \n",
       "41        женат / замужем                 0      F  госслужащий     0   \n",
       "55       гражданский брак                 1      F    пенсионер     1   \n",
       "\n",
       "    total_income                           purpose  \n",
       "12           NaN                   сыграть свадьбу  \n",
       "26           NaN                       образование  \n",
       "29           NaN  строительство жилой недвижимости  \n",
       "41           NaN  сделка с подержанным автомобилем  \n",
       "55           NaN                   сыграть свадьбу  "
      ]
     },
     "metadata": {},
     "output_type": "display_data"
    }
   ],
   "source": [
    "print(\n",
    "    'Empty rows in the dataset:',\n",
    "    round(raw_df.total_income.isna().sum() / raw_df.children.count() * 100, 1), '%'\n",
    ")\n",
    "display(raw_df[raw_df.total_income.isna()].head())"
   ]
  },
  {
   "attachments": {},
   "cell_type": "markdown",
   "metadata": {},
   "source": [
    "Once again, we are fortunate: the number of missing values is relatively small. It seems that they are all random: it's unlikely that we would have a male civil servant with even an average education, without work experience and no income (see row 26). Therefore, we can replace these values with the mean within one employment type: this approach will not significantly distort the overall picture, considering that we may have a wide range of income values for different groups."
   ]
  },
  {
   "attachments": {},
   "cell_type": "markdown",
   "metadata": {},
   "source": [
    "### Duplicate rows, non-standard category names, and column data types\n",
    "\n",
    "It's time to look for possible duplicates. Since we don't have unique record identifiers in the dataset, I will approach the problem directly: if there are rows where all values are the same, we will consider them duplicates.\n",
    "\n",
    "In a new task, it's suggested to first standardize the case and data types. I propose to first remove duplicates and then proceed with standardization: firstly, `total_income` has many decimal places (perhaps the value was converted from one currency to another), which can increase the \"uniqueness\" of a row; secondly, if we assume that different cases in `income_type` are a result of manual data entry by a person, this will also help avoid deleting extra rows."
   ]
  },
  {
   "cell_type": "code",
   "execution_count": 8,
   "metadata": {},
   "outputs": [
    {
     "name": "stdout",
     "output_type": "stream",
     "text": [
      "Number of duplicate rows: 54\n"
     ]
    },
    {
     "data": {
      "text/html": [
       "<div>\n",
       "<style scoped>\n",
       "    .dataframe tbody tr th:only-of-type {\n",
       "        vertical-align: middle;\n",
       "    }\n",
       "\n",
       "    .dataframe tbody tr th {\n",
       "        vertical-align: top;\n",
       "    }\n",
       "\n",
       "    .dataframe thead th {\n",
       "        text-align: right;\n",
       "    }\n",
       "</style>\n",
       "<table border=\"1\" class=\"dataframe\">\n",
       "  <thead>\n",
       "    <tr style=\"text-align: right;\">\n",
       "      <th></th>\n",
       "      <th>children</th>\n",
       "      <th>days_employed</th>\n",
       "      <th>dob_years</th>\n",
       "      <th>education</th>\n",
       "      <th>education_id</th>\n",
       "      <th>family_status</th>\n",
       "      <th>family_status_id</th>\n",
       "      <th>gender</th>\n",
       "      <th>income_type</th>\n",
       "      <th>debt</th>\n",
       "      <th>total_income</th>\n",
       "      <th>purpose</th>\n",
       "    </tr>\n",
       "  </thead>\n",
       "  <tbody>\n",
       "    <tr>\n",
       "      <th>18349</th>\n",
       "      <td>1</td>\n",
       "      <td>NaN</td>\n",
       "      <td>30</td>\n",
       "      <td>высшее</td>\n",
       "      <td>0</td>\n",
       "      <td>женат / замужем</td>\n",
       "      <td>0</td>\n",
       "      <td>F</td>\n",
       "      <td>госслужащий</td>\n",
       "      <td>0</td>\n",
       "      <td>NaN</td>\n",
       "      <td>покупка жилья для семьи</td>\n",
       "    </tr>\n",
       "    <tr>\n",
       "      <th>14432</th>\n",
       "      <td>2</td>\n",
       "      <td>NaN</td>\n",
       "      <td>36</td>\n",
       "      <td>высшее</td>\n",
       "      <td>0</td>\n",
       "      <td>женат / замужем</td>\n",
       "      <td>0</td>\n",
       "      <td>F</td>\n",
       "      <td>госслужащий</td>\n",
       "      <td>0</td>\n",
       "      <td>NaN</td>\n",
       "      <td>получение образования</td>\n",
       "    </tr>\n",
       "    <tr>\n",
       "      <th>13878</th>\n",
       "      <td>1</td>\n",
       "      <td>NaN</td>\n",
       "      <td>31</td>\n",
       "      <td>среднее</td>\n",
       "      <td>1</td>\n",
       "      <td>женат / замужем</td>\n",
       "      <td>0</td>\n",
       "      <td>F</td>\n",
       "      <td>компаньон</td>\n",
       "      <td>0</td>\n",
       "      <td>NaN</td>\n",
       "      <td>покупка жилья</td>\n",
       "    </tr>\n",
       "    <tr>\n",
       "      <th>19387</th>\n",
       "      <td>0</td>\n",
       "      <td>NaN</td>\n",
       "      <td>38</td>\n",
       "      <td>высшее</td>\n",
       "      <td>0</td>\n",
       "      <td>гражданский брак</td>\n",
       "      <td>1</td>\n",
       "      <td>F</td>\n",
       "      <td>компаньон</td>\n",
       "      <td>0</td>\n",
       "      <td>NaN</td>\n",
       "      <td>на проведение свадьбы</td>\n",
       "    </tr>\n",
       "    <tr>\n",
       "      <th>10697</th>\n",
       "      <td>0</td>\n",
       "      <td>NaN</td>\n",
       "      <td>40</td>\n",
       "      <td>среднее</td>\n",
       "      <td>1</td>\n",
       "      <td>гражданский брак</td>\n",
       "      <td>1</td>\n",
       "      <td>F</td>\n",
       "      <td>компаньон</td>\n",
       "      <td>0</td>\n",
       "      <td>NaN</td>\n",
       "      <td>сыграть свадьбу</td>\n",
       "    </tr>\n",
       "  </tbody>\n",
       "</table>\n",
       "</div>"
      ],
      "text/plain": [
       "       children  days_employed  dob_years education  education_id  \\\n",
       "18349         1            NaN         30    высшее             0   \n",
       "14432         2            NaN         36    высшее             0   \n",
       "13878         1            NaN         31   среднее             1   \n",
       "19387         0            NaN         38    высшее             0   \n",
       "10697         0            NaN         40   среднее             1   \n",
       "\n",
       "          family_status  family_status_id gender  income_type  debt  \\\n",
       "18349   женат / замужем                 0      F  госслужащий     0   \n",
       "14432   женат / замужем                 0      F  госслужащий     0   \n",
       "13878   женат / замужем                 0      F    компаньон     0   \n",
       "19387  гражданский брак                 1      F    компаньон     0   \n",
       "10697  гражданский брак                 1      F    компаньон     0   \n",
       "\n",
       "       total_income                  purpose  \n",
       "18349           NaN  покупка жилья для семьи  \n",
       "14432           NaN    получение образования  \n",
       "13878           NaN            покупка жилья  \n",
       "19387           NaN    на проведение свадьбы  \n",
       "10697           NaN          сыграть свадьбу  "
      ]
     },
     "metadata": {},
     "output_type": "display_data"
    }
   ],
   "source": [
    "print('Number of duplicate rows:', raw_df.duplicated().sum())\n",
    "\n",
    "display(raw_df[raw_df.duplicated()].sort_values(by=['income_type', 'dob_years']).head())"
   ]
  },
  {
   "attachments": {},
   "cell_type": "markdown",
   "metadata": {},
   "source": [
    "It appears that all duplicate rows are coincidental: in these applications, the `total_income` values were not provided (hence, they are the same since we replaced them with the averages). As we don't know the meaning of NaN in this data's context (whether the value is unspecified due to omission or because it equals zero), a straightforward solution would be to remove these rows from the dataset.\n",
    "\n",
    "Let's create a clean version of the dataset `df` for analysis."
   ]
  },
  {
   "cell_type": "code",
   "execution_count": 9,
   "metadata": {},
   "outputs": [
    {
     "name": "stdout",
     "output_type": "stream",
     "text": [
      "<class 'pandas.core.frame.DataFrame'>\n",
      "Int64Index: 21453 entries, 0 to 21524\n",
      "Data columns (total 11 columns):\n",
      " #   Column            Non-Null Count  Dtype \n",
      "---  ------            --------------  ----- \n",
      " 0   children          21453 non-null  int64 \n",
      " 1   dob_years         21453 non-null  int64 \n",
      " 2   education         21453 non-null  object\n",
      " 3   education_id      21453 non-null  int64 \n",
      " 4   family_status     21453 non-null  object\n",
      " 5   family_status_id  21453 non-null  int64 \n",
      " 6   gender            21453 non-null  object\n",
      " 7   income_type       21453 non-null  object\n",
      " 8   debt              21453 non-null  int64 \n",
      " 9   total_income      21453 non-null  int64 \n",
      " 10  purpose           21453 non-null  object\n",
      "dtypes: int64(6), object(5)\n",
      "memory usage: 2.0+ MB\n"
     ]
    }
   ],
   "source": [
    "df = (\n",
    "    raw_df.copy()\n",
    "    .assign(\n",
    "        children=lambda df: round(\n",
    "            df.children\n",
    "            .replace({-1:np.nan, 20:np.nan})\n",
    "            .fillna(df.groupby('income_type').children.transform('mean'))\n",
    "            .astype('int64')\n",
    "        ),\n",
    "        dob_years=lambda df: (\n",
    "            df.dob_years\n",
    "            .replace(0, np.nan)\n",
    "            .fillna(df.groupby('income_type').dob_years.transform('mean'))\n",
    "            .astype('int64')\n",
    "        ),\n",
    "        total_income=lambda df: (\n",
    "            df.total_income\n",
    "            .fillna(df.groupby('income_type').total_income.transform('mean'))\n",
    "            .astype('int64')\n",
    "        ),\n",
    "        education=lambda df: df.education.str.lower(),\n",
    "        family_status=lambda df: df.family_status.str.lower()   \n",
    "    )\n",
    "    .loc[lambda df: df.gender != 'XNA']\n",
    "    .drop('days_employed', axis=1)\n",
    "    .drop_duplicates()\n",
    ")\n",
    " \n",
    "columns_values.remove('days_employed')\n",
    "\n",
    "df.info()"
   ]
  },
  {
   "attachments": {},
   "cell_type": "markdown",
   "metadata": {},
   "source": [
    "### Lookup tables\n",
    "\n",
    "In our dataset, there are two columns that can be used as keys - `education_id` and `family_status_id`. Let's extract them into lookup tables."
   ]
  },
  {
   "cell_type": "code",
   "execution_count": 10,
   "metadata": {},
   "outputs": [],
   "source": [
    "lut_education = df[['education_id', 'education']].drop_duplicates().reset_index(drop=True)\n",
    "\n",
    "lut_family_status = df[['family_status_id', 'family_status']].drop_duplicates().reset_index(drop=True)"
   ]
  },
  {
   "attachments": {},
   "cell_type": "markdown",
   "metadata": {},
   "source": [
    "### Classification of `total_income`\n",
    "\n",
    "Based on the ranges specified below, let's create a column `total_income_category` with the following categories:\n",
    "- **E**: 0 – 30,000\n",
    "- **D**: 30,001 – 50,000\n",
    "- **C**: 50,001 – 200,000\n",
    "- **B**: 200,001 – 1,000,000\n",
    "- **A**: 1,000,001 and above."
   ]
  },
  {
   "cell_type": "code",
   "execution_count": 11,
   "metadata": {},
   "outputs": [],
   "source": [
    "def fun_categorizer_total_income(value_for_categorization: float) -> object:\n",
    "    \"\"\"\n",
    "    This function allocates a category for a variable based on its value. \n",
    "\n",
    "    Args:\n",
    "        value_for_categorization ([float or int]): value for categorization\n",
    "\n",
    "    Returns:\n",
    "        - 'E' if value_for_categorization <= 30,000\n",
    "        - 'D' if value_for_categorization = [30,001 : 50,000]\n",
    "        - 'C' if value_for_categorization = [50,001 : 200,000]\n",
    "        - 'B' if value_for_categorization = [200,001 : 1,000,000]\n",
    "        - 'A' if value_for_categorization >= 1,000,001\n",
    "    \"\"\"\n",
    "    if value_for_categorization <= 30e3:\n",
    "        return 'E'\n",
    "    elif 30e3 < value_for_categorization <= 50e3:\n",
    "        return 'D'\n",
    "    elif 50e3 < value_for_categorization <= 200e3:\n",
    "        return 'C'\n",
    "    elif 200e3 < value_for_categorization <= 1e6:\n",
    "        return 'B'\n",
    "    else:\n",
    "        return 'A'"
   ]
  },
  {
   "cell_type": "code",
   "execution_count": 12,
   "metadata": {},
   "outputs": [],
   "source": [
    "df['total_income_category'] = df.total_income.apply(fun_categorizer_total_income)"
   ]
  },
  {
   "attachments": {},
   "cell_type": "markdown",
   "metadata": {},
   "source": [
    "### Classification of `purpose`\n",
    "\n",
    "Finally, it's time to add standardized categories to the `purpose` column."
   ]
  },
  {
   "cell_type": "code",
   "execution_count": 13,
   "metadata": {},
   "outputs": [],
   "source": [
    "def fun_categorizer_purpose(string_for_categorization: object) -> object:\n",
    "    \"\"\"\n",
    "    This function categorizes a string if a particular set of characters is present. \n",
    "\n",
    "    Args:\n",
    "        string_for_categorization [str]: string, where a set of characters is checked\n",
    "\n",
    "    Returns:\n",
    "        - 'car' if string contains 'авто'\n",
    "        - 'property' if string contains 'нед' or 'жил'\n",
    "        - 'wedding' if string contains 'свад'\n",
    "        - 'education' if string contains 'образ'\n",
    "    \"\"\"\n",
    "    if 'авто' in string_for_categorization:\n",
    "        return 'car'\n",
    "    elif 'свад' in string_for_categorization:\n",
    "        return 'wedding'\n",
    "    elif 'образ' in string_for_categorization:\n",
    "        return 'education'\n",
    "    else:\n",
    "        return 'property'"
   ]
  },
  {
   "cell_type": "code",
   "execution_count": 14,
   "metadata": {},
   "outputs": [],
   "source": [
    "df['purpose_category'] = df.purpose.apply(fun_categorizer_purpose)"
   ]
  },
  {
   "attachments": {},
   "cell_type": "markdown",
   "metadata": {},
   "source": [
    "At this point, we can wrap up the data preprocessing. Now it's time to move on to the analysis!"
   ]
  },
  {
   "attachments": {},
   "cell_type": "markdown",
   "metadata": {},
   "source": [
    "## Hypothesis Testing\n",
    "\n",
    "We need to test 4 hypotheses:\n",
    "\n",
    "1. Is there a relationship between having children and repaying a loan on time?\n",
    "2. Is there a relationship between marital status and repaying a loan on time?\n",
    "3. Is there a relationship between income level and repaying a loan on time?\n",
    "4. How do different loan purposes affect timely repayment?\n",
    "\n",
    "The hypothesis testing process will be straightforward: for each of these questions, we will create a pivot table. The rows of the table will correspond to the categories, and the columns will represent the total number of people in the category, the number of people who repaid the loan on time, and the number of people who did not repay the loan on time. Based on these columns, we will calculate the corresponding proportions and then draw conclusions.\n",
    "\n",
    "Let's assume that if the difference between categories is more than 3%, it is statistically significant, which means there is a dependency. Conversely, if the difference is less than or equal to 3%, there is no dependency. Although I do not have experience in statistics, I suspect that in a more serious exercise, the 3% threshold would be better justified."
   ]
  },
  {
   "cell_type": "code",
   "execution_count": 15,
   "metadata": {},
   "outputs": [],
   "source": [
    "def fun_get_summary(data: pd.DataFrame, rows: object) -> pd.DataFrame:\n",
    "    \"\"\"\n",
    "    Calculates the counts and percentages of people with and without debt based on the given data.\n",
    "\n",
    "    Args:\n",
    "        data (DataFrame): The input data containing information about individuals.\n",
    "        rows (str or list): The column(s) to be used as the row index(es) in the pivot table.\n",
    "\n",
    "    Returns:\n",
    "        DataFrame: A pivot table with counts and percentages of people with and without debt, sorted by 'people_with_debt_per' and 'people_total' columns.\n",
    "\n",
    "    Raises:\n",
    "        KeyError: If the specified columns 'gender' or 'debt' are not found in the data.\n",
    "    \"\"\"\n",
    "\n",
    "    pivot = (\n",
    "        pd.pivot_table(\n",
    "            data,\n",
    "            values='gender',\n",
    "            index=rows,\n",
    "            columns='debt',\n",
    "            aggfunc='count',\n",
    "            fill_value=0\n",
    "        )\n",
    "        .rename(\n",
    "            columns={0:'people_without_debt_no', 1:'people_with_debt_no'}, level=0\n",
    "        )\n",
    "        .assign(\n",
    "            people_total=lambda df: df.people_without_debt_no + df.people_with_debt_no,\n",
    "            people_without_debt_per=lambda df: round(df.people_without_debt_no / df.people_total * 100, 2),\n",
    "            people_with_debt_per=lambda df: round(df.people_with_debt_no / df.people_total * 100, 2)\n",
    "        )\n",
    "    )\n",
    "\n",
    "    return pivot.sort_values(by=['people_with_debt_per', 'people_total'])\n"
   ]
  },
  {
   "attachments": {},
   "cell_type": "markdown",
   "metadata": {},
   "source": [
    "### Dependency between having children and timely loan repayment\n",
    "\n",
    "Let's check what we have for the first hypothesis."
   ]
  },
  {
   "cell_type": "code",
   "execution_count": 16,
   "metadata": {},
   "outputs": [
    {
     "data": {
      "text/html": [
       "<div>\n",
       "<style scoped>\n",
       "    .dataframe tbody tr th:only-of-type {\n",
       "        vertical-align: middle;\n",
       "    }\n",
       "\n",
       "    .dataframe tbody tr th {\n",
       "        vertical-align: top;\n",
       "    }\n",
       "\n",
       "    .dataframe thead th {\n",
       "        text-align: right;\n",
       "    }\n",
       "</style>\n",
       "<table border=\"1\" class=\"dataframe\">\n",
       "  <thead>\n",
       "    <tr style=\"text-align: right;\">\n",
       "      <th>debt</th>\n",
       "      <th>people_without_debt_no</th>\n",
       "      <th>people_with_debt_no</th>\n",
       "      <th>people_total</th>\n",
       "      <th>people_without_debt_per</th>\n",
       "      <th>people_with_debt_per</th>\n",
       "    </tr>\n",
       "    <tr>\n",
       "      <th>children</th>\n",
       "      <th></th>\n",
       "      <th></th>\n",
       "      <th></th>\n",
       "      <th></th>\n",
       "      <th></th>\n",
       "    </tr>\n",
       "  </thead>\n",
       "  <tbody>\n",
       "    <tr>\n",
       "      <th>5</th>\n",
       "      <td>9</td>\n",
       "      <td>0</td>\n",
       "      <td>9</td>\n",
       "      <td>100.00</td>\n",
       "      <td>0.00</td>\n",
       "    </tr>\n",
       "    <tr>\n",
       "      <th>0</th>\n",
       "      <td>13141</td>\n",
       "      <td>1072</td>\n",
       "      <td>14213</td>\n",
       "      <td>92.46</td>\n",
       "      <td>7.54</td>\n",
       "    </tr>\n",
       "    <tr>\n",
       "      <th>3</th>\n",
       "      <td>303</td>\n",
       "      <td>27</td>\n",
       "      <td>330</td>\n",
       "      <td>91.82</td>\n",
       "      <td>8.18</td>\n",
       "    </tr>\n",
       "    <tr>\n",
       "      <th>1</th>\n",
       "      <td>4364</td>\n",
       "      <td>444</td>\n",
       "      <td>4808</td>\n",
       "      <td>90.77</td>\n",
       "      <td>9.23</td>\n",
       "    </tr>\n",
       "    <tr>\n",
       "      <th>2</th>\n",
       "      <td>1858</td>\n",
       "      <td>194</td>\n",
       "      <td>2052</td>\n",
       "      <td>90.55</td>\n",
       "      <td>9.45</td>\n",
       "    </tr>\n",
       "    <tr>\n",
       "      <th>4</th>\n",
       "      <td>37</td>\n",
       "      <td>4</td>\n",
       "      <td>41</td>\n",
       "      <td>90.24</td>\n",
       "      <td>9.76</td>\n",
       "    </tr>\n",
       "  </tbody>\n",
       "</table>\n",
       "</div>"
      ],
      "text/plain": [
       "debt      people_without_debt_no  people_with_debt_no  people_total  \\\n",
       "children                                                              \n",
       "5                              9                    0             9   \n",
       "0                          13141                 1072         14213   \n",
       "3                            303                   27           330   \n",
       "1                           4364                  444          4808   \n",
       "2                           1858                  194          2052   \n",
       "4                             37                    4            41   \n",
       "\n",
       "debt      people_without_debt_per  people_with_debt_per  \n",
       "children                                                 \n",
       "5                          100.00                  0.00  \n",
       "0                           92.46                  7.54  \n",
       "3                           91.82                  8.18  \n",
       "1                           90.77                  9.23  \n",
       "2                           90.55                  9.45  \n",
       "4                           90.24                  9.76  "
      ]
     },
     "metadata": {},
     "output_type": "display_data"
    }
   ],
   "source": [
    "display(fun_get_summary(df, 'children' ))"
   ]
  },
  {
   "attachments": {},
   "cell_type": "markdown",
   "metadata": {},
   "source": [
    "The first noticeable observation is that not all categories are sufficiently large to draw meaningful conclusions. For instance, there is a limited number of individuals with 3, 4, and 5 children, while there is a significantly larger number (almost 10 times more) of people with no children or 1 or 2 children.\n",
    "\n",
    "**Conclusion:** However, based on our criteria, it does not seem that there is a significant relationship between having children and timely loan repayment. The likelihood of repayment is approximately 90% across all categories."
   ]
  },
  {
   "attachments": {},
   "cell_type": "markdown",
   "metadata": {},
   "source": [
    "### Dependency between marital status and timely loan repayment\n",
    "\n",
    "Let's check what we have for the second hypothesis."
   ]
  },
  {
   "cell_type": "code",
   "execution_count": 17,
   "metadata": {},
   "outputs": [
    {
     "data": {
      "text/html": [
       "<div>\n",
       "<style scoped>\n",
       "    .dataframe tbody tr th:only-of-type {\n",
       "        vertical-align: middle;\n",
       "    }\n",
       "\n",
       "    .dataframe tbody tr th {\n",
       "        vertical-align: top;\n",
       "    }\n",
       "\n",
       "    .dataframe thead th {\n",
       "        text-align: right;\n",
       "    }\n",
       "</style>\n",
       "<table border=\"1\" class=\"dataframe\">\n",
       "  <thead>\n",
       "    <tr style=\"text-align: right;\">\n",
       "      <th>debt</th>\n",
       "      <th>people_without_debt_no</th>\n",
       "      <th>people_with_debt_no</th>\n",
       "      <th>people_total</th>\n",
       "      <th>people_without_debt_per</th>\n",
       "      <th>people_with_debt_per</th>\n",
       "    </tr>\n",
       "    <tr>\n",
       "      <th>family_status</th>\n",
       "      <th></th>\n",
       "      <th></th>\n",
       "      <th></th>\n",
       "      <th></th>\n",
       "      <th></th>\n",
       "    </tr>\n",
       "  </thead>\n",
       "  <tbody>\n",
       "    <tr>\n",
       "      <th>вдовец / вдова</th>\n",
       "      <td>896</td>\n",
       "      <td>63</td>\n",
       "      <td>959</td>\n",
       "      <td>93.43</td>\n",
       "      <td>6.57</td>\n",
       "    </tr>\n",
       "    <tr>\n",
       "      <th>в разводе</th>\n",
       "      <td>1110</td>\n",
       "      <td>85</td>\n",
       "      <td>1195</td>\n",
       "      <td>92.89</td>\n",
       "      <td>7.11</td>\n",
       "    </tr>\n",
       "    <tr>\n",
       "      <th>женат / замужем</th>\n",
       "      <td>11408</td>\n",
       "      <td>931</td>\n",
       "      <td>12339</td>\n",
       "      <td>92.45</td>\n",
       "      <td>7.55</td>\n",
       "    </tr>\n",
       "    <tr>\n",
       "      <th>гражданский брак</th>\n",
       "      <td>3762</td>\n",
       "      <td>388</td>\n",
       "      <td>4150</td>\n",
       "      <td>90.65</td>\n",
       "      <td>9.35</td>\n",
       "    </tr>\n",
       "    <tr>\n",
       "      <th>не женат / не замужем</th>\n",
       "      <td>2536</td>\n",
       "      <td>274</td>\n",
       "      <td>2810</td>\n",
       "      <td>90.25</td>\n",
       "      <td>9.75</td>\n",
       "    </tr>\n",
       "  </tbody>\n",
       "</table>\n",
       "</div>"
      ],
      "text/plain": [
       "debt                   people_without_debt_no  people_with_debt_no  \\\n",
       "family_status                                                        \n",
       "вдовец / вдова                            896                   63   \n",
       "в разводе                                1110                   85   \n",
       "женат / замужем                         11408                  931   \n",
       "гражданский брак                         3762                  388   \n",
       "не женат / не замужем                    2536                  274   \n",
       "\n",
       "debt                   people_total  people_without_debt_per  \\\n",
       "family_status                                                  \n",
       "вдовец / вдова                  959                    93.43   \n",
       "в разводе                      1195                    92.89   \n",
       "женат / замужем               12339                    92.45   \n",
       "гражданский брак               4150                    90.65   \n",
       "не женат / не замужем          2810                    90.25   \n",
       "\n",
       "debt                   people_with_debt_per  \n",
       "family_status                                \n",
       "вдовец / вдова                         6.57  \n",
       "в разводе                              7.11  \n",
       "женат / замужем                        7.55  \n",
       "гражданский брак                       9.35  \n",
       "не женат / не замужем                  9.75  "
      ]
     },
     "metadata": {},
     "output_type": "display_data"
    }
   ],
   "source": [
    "display(fun_get_summary(df, 'family_status'))"
   ]
  },
  {
   "attachments": {},
   "cell_type": "markdown",
   "metadata": {},
   "source": [
    "In this case, we have a more evenly distributed sample compared to the previous hypothesis. Therefore, let's examine all the categories.\n",
    "\n",
    "**Conclusion:** In this scenario, we observe a slightly more pronounced dependency. Being in a civil partnership or being single without a spouse clearly decreases the likelihood of loan repayment (although it still remains around 90%) compared to the other categories (with a repayment probability of around 93%). It is interesting to note that the most reliable category is widowed individuals, although this may be a result of the relatively small sample size."
   ]
  },
  {
   "attachments": {},
   "cell_type": "markdown",
   "metadata": {},
   "source": [
    "### Dependency between income level and timely loan repayment\n",
    "\n",
    "Let's check what we have for the third hypothesis."
   ]
  },
  {
   "cell_type": "code",
   "execution_count": 18,
   "metadata": {},
   "outputs": [
    {
     "data": {
      "text/html": [
       "<div>\n",
       "<style scoped>\n",
       "    .dataframe tbody tr th:only-of-type {\n",
       "        vertical-align: middle;\n",
       "    }\n",
       "\n",
       "    .dataframe tbody tr th {\n",
       "        vertical-align: top;\n",
       "    }\n",
       "\n",
       "    .dataframe thead th {\n",
       "        text-align: right;\n",
       "    }\n",
       "</style>\n",
       "<table border=\"1\" class=\"dataframe\">\n",
       "  <thead>\n",
       "    <tr style=\"text-align: right;\">\n",
       "      <th>debt</th>\n",
       "      <th>people_without_debt_no</th>\n",
       "      <th>people_with_debt_no</th>\n",
       "      <th>people_total</th>\n",
       "      <th>people_without_debt_per</th>\n",
       "      <th>people_with_debt_per</th>\n",
       "    </tr>\n",
       "    <tr>\n",
       "      <th>total_income_category</th>\n",
       "      <th></th>\n",
       "      <th></th>\n",
       "      <th></th>\n",
       "      <th></th>\n",
       "      <th></th>\n",
       "    </tr>\n",
       "  </thead>\n",
       "  <tbody>\n",
       "    <tr>\n",
       "      <th>D</th>\n",
       "      <td>329</td>\n",
       "      <td>21</td>\n",
       "      <td>350</td>\n",
       "      <td>94.00</td>\n",
       "      <td>6.00</td>\n",
       "    </tr>\n",
       "    <tr>\n",
       "      <th>B</th>\n",
       "      <td>5156</td>\n",
       "      <td>386</td>\n",
       "      <td>5542</td>\n",
       "      <td>93.04</td>\n",
       "      <td>6.96</td>\n",
       "    </tr>\n",
       "    <tr>\n",
       "      <th>A</th>\n",
       "      <td>23</td>\n",
       "      <td>2</td>\n",
       "      <td>25</td>\n",
       "      <td>92.00</td>\n",
       "      <td>8.00</td>\n",
       "    </tr>\n",
       "    <tr>\n",
       "      <th>C</th>\n",
       "      <td>14184</td>\n",
       "      <td>1330</td>\n",
       "      <td>15514</td>\n",
       "      <td>91.43</td>\n",
       "      <td>8.57</td>\n",
       "    </tr>\n",
       "    <tr>\n",
       "      <th>E</th>\n",
       "      <td>20</td>\n",
       "      <td>2</td>\n",
       "      <td>22</td>\n",
       "      <td>90.91</td>\n",
       "      <td>9.09</td>\n",
       "    </tr>\n",
       "  </tbody>\n",
       "</table>\n",
       "</div>"
      ],
      "text/plain": [
       "debt                   people_without_debt_no  people_with_debt_no  \\\n",
       "total_income_category                                                \n",
       "D                                         329                   21   \n",
       "B                                        5156                  386   \n",
       "A                                          23                    2   \n",
       "C                                       14184                 1330   \n",
       "E                                          20                    2   \n",
       "\n",
       "debt                   people_total  people_without_debt_per  \\\n",
       "total_income_category                                          \n",
       "D                               350                    94.00   \n",
       "B                              5542                    93.04   \n",
       "A                                25                    92.00   \n",
       "C                             15514                    91.43   \n",
       "E                                22                    90.91   \n",
       "\n",
       "debt                   people_with_debt_per  \n",
       "total_income_category                        \n",
       "D                                      6.00  \n",
       "B                                      6.96  \n",
       "A                                      8.00  \n",
       "C                                      8.57  \n",
       "E                                      9.09  "
      ]
     },
     "metadata": {},
     "output_type": "display_data"
    }
   ],
   "source": [
    "display(fun_get_summary(df, 'total_income_category'))"
   ]
  },
  {
   "attachments": {},
   "cell_type": "markdown",
   "metadata": {},
   "source": [
    "Once again, some categories have a very small sample size, with only 25 individuals in the 'A' income category (as expected).\n",
    "\n",
    "**Conclusion:** In this case, we also observe a dependency, although not exactly as anticipated. It is evident that individuals with the lowest income have the lowest likelihood of loan repayment (still around 90%). Conversely, higher income levels can significantly increase this probability (up to 93% in the case of category 'B'). Interestingly, category 'D' remains at the top position regardless of income levels."
   ]
  },
  {
   "attachments": {},
   "cell_type": "markdown",
   "metadata": {},
   "source": [
    "### Dependency between loan purposes and timely loan repayment\n",
    "\n",
    "Let's check what we have for the last hypothesis."
   ]
  },
  {
   "cell_type": "code",
   "execution_count": 19,
   "metadata": {},
   "outputs": [
    {
     "data": {
      "text/html": [
       "<div>\n",
       "<style scoped>\n",
       "    .dataframe tbody tr th:only-of-type {\n",
       "        vertical-align: middle;\n",
       "    }\n",
       "\n",
       "    .dataframe tbody tr th {\n",
       "        vertical-align: top;\n",
       "    }\n",
       "\n",
       "    .dataframe thead th {\n",
       "        text-align: right;\n",
       "    }\n",
       "</style>\n",
       "<table border=\"1\" class=\"dataframe\">\n",
       "  <thead>\n",
       "    <tr style=\"text-align: right;\">\n",
       "      <th>debt</th>\n",
       "      <th>people_without_debt_no</th>\n",
       "      <th>people_with_debt_no</th>\n",
       "      <th>people_total</th>\n",
       "      <th>people_without_debt_per</th>\n",
       "      <th>people_with_debt_per</th>\n",
       "    </tr>\n",
       "    <tr>\n",
       "      <th>purpose_category</th>\n",
       "      <th></th>\n",
       "      <th></th>\n",
       "      <th></th>\n",
       "      <th></th>\n",
       "      <th></th>\n",
       "    </tr>\n",
       "  </thead>\n",
       "  <tbody>\n",
       "    <tr>\n",
       "      <th>property</th>\n",
       "      <td>10028</td>\n",
       "      <td>782</td>\n",
       "      <td>10810</td>\n",
       "      <td>92.77</td>\n",
       "      <td>7.23</td>\n",
       "    </tr>\n",
       "    <tr>\n",
       "      <th>wedding</th>\n",
       "      <td>2138</td>\n",
       "      <td>186</td>\n",
       "      <td>2324</td>\n",
       "      <td>92.00</td>\n",
       "      <td>8.00</td>\n",
       "    </tr>\n",
       "    <tr>\n",
       "      <th>education</th>\n",
       "      <td>3643</td>\n",
       "      <td>370</td>\n",
       "      <td>4013</td>\n",
       "      <td>90.78</td>\n",
       "      <td>9.22</td>\n",
       "    </tr>\n",
       "    <tr>\n",
       "      <th>car</th>\n",
       "      <td>3903</td>\n",
       "      <td>403</td>\n",
       "      <td>4306</td>\n",
       "      <td>90.64</td>\n",
       "      <td>9.36</td>\n",
       "    </tr>\n",
       "  </tbody>\n",
       "</table>\n",
       "</div>"
      ],
      "text/plain": [
       "debt              people_without_debt_no  people_with_debt_no  people_total  \\\n",
       "purpose_category                                                              \n",
       "property                           10028                  782         10810   \n",
       "wedding                             2138                  186          2324   \n",
       "education                           3643                  370          4013   \n",
       "car                                 3903                  403          4306   \n",
       "\n",
       "debt              people_without_debt_per  people_with_debt_per  \n",
       "purpose_category                                                 \n",
       "property                            92.77                  7.23  \n",
       "wedding                             92.00                  8.00  \n",
       "education                           90.78                  9.22  \n",
       "car                                 90.64                  9.36  "
      ]
     },
     "metadata": {},
     "output_type": "display_data"
    }
   ],
   "source": [
    "display(fun_get_summary(df, 'purpose_category'))"
   ]
  },
  {
   "attachments": {},
   "cell_type": "markdown",
   "metadata": {},
   "source": [
    "Conclusion: This is an unexpected result. It appears that loans for real estate operations and wedding expenses have a lower repayment rate compared to loans for education and car-related operations. Although the difference is not significant (only around 2%), it is noticeable. It is also interesting to observe how each of the two categories relates to one another.\n",
    "\n",
    "## Conclusions\n",
    "\n",
    "In this project, I have completed the entire data analysis cycle, from data loading to hypothesis testing. In the first part, I performed data cleaning tasks, including standardizing the data, handling missing values, removing duplicates, and creating distinct categories. This was the most time-consuming aspect of the project. In the second part, I conducted a relatively straightforward analysis and compared the probability of timely loan repayment across different data segments.\n",
    "\n",
    "Ultimately, the following conclusions can be drawn from the analysis:\n",
    "\n",
    "- The number of children has a weak influence on the probability of loan repayment, with a slight trend indicating that a higher number of children corresponds to a lower repayment probability. This can be attributed to the additional financial responsibilities associated with raising children.\n",
    "\n",
    "- Marital status has a significant impact, as individuals in registered partnerships are more likely to repay their loans on time. This may be attributed to the increased sense of financial stability and commitment that comes with being in a formal relationship.\n",
    "\n",
    "- Income level also plays a role in loan repayment probability, with lower income levels generally associated with a lower likelihood of repayment. However, it is interesting to note that category 'D' stands out as the most reliable, despite the income grouping showing some uneven distribution among applicants.\n",
    "\n",
    "- Loan purposes also influence the repayment probability. Surprisingly, loans taken for wedding expenses tend to have a higher repayment rate compared to loans for education. This could be attributed to the shared responsibility and commitment involved in wedding-related expenses, whereas education loans are typically taken by individuals.\n",
    "\n",
    "By analyzing these factors, we gain insights into the dependencies between different variables and their impact on the likelihood of timely loan repayment. These findings can be valuable for financial institutions and lenders in assessing loan applications and managing credit risk."
   ]
  }
 ],
 "metadata": {
  "ExecuteTimeLog": [
   {
    "duration": 124,
    "start_time": "2022-02-15T16:59:00.743Z"
   },
   {
    "duration": 1929,
    "start_time": "2022-02-16T05:44:35.085Z"
   },
   {
    "duration": 3324,
    "start_time": "2022-02-16T08:44:40.717Z"
   },
   {
    "duration": -897,
    "start_time": "2022-02-16T08:44:44.942Z"
   },
   {
    "duration": -906,
    "start_time": "2022-02-16T08:44:44.952Z"
   },
   {
    "duration": -909,
    "start_time": "2022-02-16T08:44:44.958Z"
   },
   {
    "duration": -910,
    "start_time": "2022-02-16T08:44:44.961Z"
   },
   {
    "duration": -910,
    "start_time": "2022-02-16T08:44:44.963Z"
   },
   {
    "duration": -911,
    "start_time": "2022-02-16T08:44:44.966Z"
   },
   {
    "duration": -916,
    "start_time": "2022-02-16T08:44:44.973Z"
   },
   {
    "duration": -916,
    "start_time": "2022-02-16T08:44:44.975Z"
   },
   {
    "duration": -918,
    "start_time": "2022-02-16T08:44:44.979Z"
   },
   {
    "duration": -920,
    "start_time": "2022-02-16T08:44:44.982Z"
   },
   {
    "duration": -926,
    "start_time": "2022-02-16T08:44:44.990Z"
   },
   {
    "duration": -926,
    "start_time": "2022-02-16T08:44:44.992Z"
   },
   {
    "duration": -928,
    "start_time": "2022-02-16T08:44:44.995Z"
   },
   {
    "duration": -929,
    "start_time": "2022-02-16T08:44:44.997Z"
   },
   {
    "duration": -932,
    "start_time": "2022-02-16T08:44:45.002Z"
   },
   {
    "duration": -937,
    "start_time": "2022-02-16T08:44:45.009Z"
   },
   {
    "duration": -938,
    "start_time": "2022-02-16T08:44:45.011Z"
   },
   {
    "duration": 330,
    "start_time": "2022-02-16T08:44:59.572Z"
   },
   {
    "duration": 3747,
    "start_time": "2022-02-16T08:45:29.606Z"
   },
   {
    "duration": -980,
    "start_time": "2022-02-16T08:45:34.337Z"
   },
   {
    "duration": -981,
    "start_time": "2022-02-16T08:45:34.340Z"
   },
   {
    "duration": -983,
    "start_time": "2022-02-16T08:45:34.343Z"
   },
   {
    "duration": -984,
    "start_time": "2022-02-16T08:45:34.346Z"
   },
   {
    "duration": -983,
    "start_time": "2022-02-16T08:45:34.351Z"
   },
   {
    "duration": -984,
    "start_time": "2022-02-16T08:45:34.354Z"
   },
   {
    "duration": -984,
    "start_time": "2022-02-16T08:45:34.356Z"
   },
   {
    "duration": -984,
    "start_time": "2022-02-16T08:45:34.358Z"
   },
   {
    "duration": -984,
    "start_time": "2022-02-16T08:45:34.360Z"
   },
   {
    "duration": -985,
    "start_time": "2022-02-16T08:45:34.362Z"
   },
   {
    "duration": -985,
    "start_time": "2022-02-16T08:45:34.364Z"
   },
   {
    "duration": -986,
    "start_time": "2022-02-16T08:45:34.367Z"
   },
   {
    "duration": -987,
    "start_time": "2022-02-16T08:45:34.370Z"
   },
   {
    "duration": -988,
    "start_time": "2022-02-16T08:45:34.372Z"
   },
   {
    "duration": -988,
    "start_time": "2022-02-16T08:45:34.374Z"
   },
   {
    "duration": -987,
    "start_time": "2022-02-16T08:45:34.375Z"
   },
   {
    "duration": -987,
    "start_time": "2022-02-16T08:45:34.377Z"
   },
   {
    "duration": 92,
    "start_time": "2022-02-16T08:49:31.111Z"
   },
   {
    "duration": 70,
    "start_time": "2022-02-16T08:49:35.363Z"
   },
   {
    "duration": 21,
    "start_time": "2022-02-16T08:49:37.742Z"
   },
   {
    "duration": 78,
    "start_time": "2022-02-16T08:49:44.271Z"
   },
   {
    "duration": 21,
    "start_time": "2022-02-16T08:49:44.353Z"
   },
   {
    "duration": 34,
    "start_time": "2022-02-16T08:49:44.378Z"
   },
   {
    "duration": 66,
    "start_time": "2022-02-16T08:49:44.415Z"
   },
   {
    "duration": 73,
    "start_time": "2022-02-16T08:49:44.484Z"
   },
   {
    "duration": 99,
    "start_time": "2022-02-16T08:49:44.560Z"
   },
   {
    "duration": 10,
    "start_time": "2022-02-16T08:49:44.661Z"
   },
   {
    "duration": 25,
    "start_time": "2022-02-16T08:49:44.674Z"
   },
   {
    "duration": 48,
    "start_time": "2022-02-16T08:49:44.702Z"
   },
   {
    "duration": 9,
    "start_time": "2022-02-16T08:49:44.753Z"
   },
   {
    "duration": 89,
    "start_time": "2022-02-16T08:49:44.765Z"
   },
   {
    "duration": 69,
    "start_time": "2022-02-16T08:49:44.857Z"
   },
   {
    "duration": 35,
    "start_time": "2022-02-16T08:49:44.929Z"
   },
   {
    "duration": 21,
    "start_time": "2022-02-16T08:49:44.967Z"
   },
   {
    "duration": 16,
    "start_time": "2022-02-16T08:49:44.990Z"
   },
   {
    "duration": 78,
    "start_time": "2022-02-16T08:49:45.009Z"
   },
   {
    "duration": 38,
    "start_time": "2022-02-16T08:49:45.090Z"
   },
   {
    "duration": 63,
    "start_time": "2022-02-16T08:49:45.132Z"
   },
   {
    "duration": 210,
    "start_time": "2022-02-16T19:42:30.667Z"
   },
   {
    "duration": 642,
    "start_time": "2022-02-16T19:42:39.274Z"
   },
   {
    "duration": 11,
    "start_time": "2022-02-16T19:42:39.918Z"
   },
   {
    "duration": 26,
    "start_time": "2022-02-16T19:42:39.931Z"
   },
   {
    "duration": 54,
    "start_time": "2022-02-16T19:42:39.960Z"
   },
   {
    "duration": 37,
    "start_time": "2022-02-16T19:42:40.017Z"
   },
   {
    "duration": 38,
    "start_time": "2022-02-16T19:42:40.056Z"
   },
   {
    "duration": 6,
    "start_time": "2022-02-16T19:42:40.096Z"
   },
   {
    "duration": 20,
    "start_time": "2022-02-16T19:42:40.104Z"
   },
   {
    "duration": 47,
    "start_time": "2022-02-16T19:42:40.126Z"
   },
   {
    "duration": 13,
    "start_time": "2022-02-16T19:42:40.175Z"
   },
   {
    "duration": 53,
    "start_time": "2022-02-16T19:42:40.190Z"
   },
   {
    "duration": 42,
    "start_time": "2022-02-16T19:42:40.245Z"
   },
   {
    "duration": 16,
    "start_time": "2022-02-16T19:42:40.289Z"
   },
   {
    "duration": 13,
    "start_time": "2022-02-16T19:42:40.306Z"
   },
   {
    "duration": 17,
    "start_time": "2022-02-16T19:42:40.320Z"
   },
   {
    "duration": 21,
    "start_time": "2022-02-16T19:42:40.339Z"
   },
   {
    "duration": 35,
    "start_time": "2022-02-16T19:42:40.362Z"
   },
   {
    "duration": 27,
    "start_time": "2022-02-16T19:42:40.398Z"
   },
   {
    "duration": 56,
    "start_time": "2022-02-16T19:42:40.427Z"
   },
   {
    "duration": 5,
    "start_time": "2022-02-16T19:42:58.073Z"
   },
   {
    "duration": 56,
    "start_time": "2022-02-16T19:43:15.967Z"
   },
   {
    "duration": 225,
    "start_time": "2022-02-16T19:44:38.779Z"
   },
   {
    "duration": 12,
    "start_time": "2022-02-16T19:44:51.322Z"
   },
   {
    "duration": 19,
    "start_time": "2022-02-16T19:45:03.883Z"
   },
   {
    "duration": 10,
    "start_time": "2022-02-16T19:45:20.332Z"
   },
   {
    "duration": 4,
    "start_time": "2022-02-16T19:48:47.452Z"
   },
   {
    "duration": 4,
    "start_time": "2022-02-16T19:48:54.730Z"
   },
   {
    "duration": 3,
    "start_time": "2022-02-16T19:49:07.227Z"
   },
   {
    "duration": 21,
    "start_time": "2022-02-16T19:52:10.833Z"
   },
   {
    "duration": 8,
    "start_time": "2022-02-16T19:56:42.347Z"
   },
   {
    "duration": 65,
    "start_time": "2022-02-16T19:58:40.627Z"
   },
   {
    "duration": 65,
    "start_time": "2022-02-16T19:58:44.635Z"
   },
   {
    "duration": 3,
    "start_time": "2022-02-16T19:58:46.788Z"
   },
   {
    "duration": 10,
    "start_time": "2022-02-16T19:59:24.852Z"
   },
   {
    "duration": -101,
    "start_time": "2022-02-16T20:00:26.762Z"
   },
   {
    "duration": 4140,
    "start_time": "2022-02-16T20:00:34.522Z"
   },
   {
    "duration": 174,
    "start_time": "2022-02-16T20:00:57.587Z"
   },
   {
    "duration": 22,
    "start_time": "2022-02-16T20:01:17.626Z"
   },
   {
    "duration": 58,
    "start_time": "2022-02-16T20:03:27.035Z"
   },
   {
    "duration": 24,
    "start_time": "2022-02-16T20:03:30.522Z"
   },
   {
    "duration": 165,
    "start_time": "2022-02-16T20:03:56.219Z"
   },
   {
    "duration": 221,
    "start_time": "2022-02-16T20:04:37.964Z"
   },
   {
    "duration": 13,
    "start_time": "2022-02-16T20:05:03.276Z"
   },
   {
    "duration": 10,
    "start_time": "2022-02-16T20:05:20.954Z"
   },
   {
    "duration": 12,
    "start_time": "2022-02-16T20:05:30.699Z"
   },
   {
    "duration": 18,
    "start_time": "2022-02-16T20:05:42.027Z"
   },
   {
    "duration": 37,
    "start_time": "2022-02-16T20:08:16.499Z"
   }
  ],
  "kernelspec": {
   "display_name": "Python 3",
   "language": "python",
   "name": "python3"
  },
  "language_info": {
   "codemirror_mode": {
    "name": "ipython",
    "version": 3
   },
   "file_extension": ".py",
   "mimetype": "text/x-python",
   "name": "python",
   "nbconvert_exporter": "python",
   "pygments_lexer": "ipython3",
   "version": "3.9.7"
  },
  "toc": {
   "base_numbering": 1,
   "nav_menu": {},
   "number_sections": true,
   "sideBar": true,
   "skip_h1_title": true,
   "title_cell": "Table of Contents",
   "title_sidebar": "Contents",
   "toc_cell": false,
   "toc_position": {},
   "toc_section_display": true,
   "toc_window_display": false
  }
 },
 "nbformat": 4,
 "nbformat_minor": 1
}
