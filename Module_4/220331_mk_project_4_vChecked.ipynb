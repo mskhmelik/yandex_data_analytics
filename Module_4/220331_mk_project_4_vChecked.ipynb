{
 "cells": [
  {
   "cell_type": "markdown",
   "metadata": {},
   "source": [
    "<div style=\"border: 3px solid green; padding: 15px\"><font color='green' size=5 ><b> Итоговый комментарий:)</b></font> \n",
    "\n",
    "Михаил, привет! Я рад, что ты понял и разобрался! У тебя хорошая работа. Не подумай, что было много придирок) Просто к хорошим работам всегда сильные требования.\n",
    "   \n",
    "Ничего страшного, что ошибался. Пока учишься - ошибаться нужно и можно)\n",
    " Про merge, я тоже рад, что понял. Иногда самый лучший способ - это самый простой. Советую на будущее поэкспериментировать с объединением таблиц, чтобы освежить в памяти как работают различные способы объединения. В следующих спринтах и проектах это пригодится 100%. И на выпускном проекте тоже) \n",
    "В общем, я с радостью принимаю твой проект. Удачи тебе в обучении) Верю, что все получится. У тебя большой потенциал)\n",
    "</div>"
   ]
  },
  {
   "cell_type": "markdown",
   "metadata": {},
   "source": [
    "<div style=\"border: 3px solid green; padding: 15px\"><font color='green' size=5 ><b>Комментарий ревьюера v3</b></font> \n",
    "\n",
    "Михаил, привет! Смотри, я тебе написал комментарии и привел примеры по мб и гб и по функции расчета выручки. Посмотри пожалуйста. Я готов принять твою работу, но мне важно, чтобы ты понял, где ты ошибался и мы вместе разобрались) Поэтому отправляю тебе работу и жду твоих вопросов если они будут у тебя)\n",
    "    \n",
    " Мои комментарии будут в таких блоках)\n",
    "</div>"
   ]
  },
  {
   "cell_type": "markdown",
   "metadata": {},
   "source": [
    "<div class=\"alert alert-block alert-info\">\n",
    "<b>Комментарий студента </b> \n",
    "\n",
    "Да, теперь понятно. Окргулять надо было после того, как свели в месячную таблицу, а не до. Так мы округляем суммарный трафик за месяц (а не за сессию). Ну сам дурак ¯\\_(ツ)_/¯\n",
    "    \n",
    "Про `merge` понял. Я сгенерировал таблицу с пользователями через цикл, потому что был у меня опыт, когда в таблицах с данными не было всех пользователей...Через мой метод видно всех пользователей, но потом может оказаться много пустых строк, если данные для них отсутствуют. Но это ты уже видел. :)\n",
    "    \n",
    "В любом случае - спасибо, так теперь понятно.\n",
    "\n",
    "</div>"
   ]
  },
  {
   "cell_type": "markdown",
   "metadata": {},
   "source": [
    "<div style=\"border: 3px solid green; padding: 15px\"><font color='green' size=5 ><b>Комментарий ревьюера v2</b></font> \n",
    "\n",
    "Михаил, привет! Спасибо тебе за доработку проекта.Сейчас посмотрим) Мои комментарии будут в таких рамках. Итоговый будет в конце)\n",
    "</div>\n"
   ]
  },
  {
   "cell_type": "markdown",
   "metadata": {},
   "source": [
    "Привет, Михаил! Меня зовут Антон Соловьев и я буду проверять твой проект. Предлагаю общаться на «ты», если это не вызывает никаких проблем.\n",
    "Моя цель не указать на твои ошибки, а помочь тебе научиться и стать крутым аналитиком данных.\n",
    "\n",
    "\n",
    "----\n",
    "\n",
    "Далее по тексту ты найдешь мои комментарии. Комментарии будут в <font color='green'>зеленой</font>, <font color='orange'>желтой</font> или <font color='red'>красной</font> рамках:\n",
    "\n",
    "<div class=\"alert alert-block alert-success\">\n",
    "<b> 👍 Успех:</b> Все сделано отлично\n",
    "</div>\n",
    "\n",
    "<div class=\"alert alert-block alert-warning\">\n",
    "<b> ⚠️ Совет: </b> Есть что улучшить в твоем коде или выводах\n",
    "</div>\n",
    "\n",
    "<div class=\"alert alert-block alert-danger\">\n",
    "<b> ❌ Нужно исправить:</b> Требуется исправление. Работа не может быть принята с красными комментариями.\n",
    "</div>\n",
    "\n",
    "Пожалуйста не удаляй мои комментарии. Так как они повышают качество повторного ревью. \n",
    "Если ты исправляешь что-то в проекте — пожалуйста комментируй. По возможности выделяй свои комментарии, например, вот так:\n",
    "\n",
    "<div class=\"alert alert-block alert-info\">\n",
    "<b>Комментарий студента </b> \n",
    "</div>\n",
    "\n",
    "Поехали!"
   ]
  },
  {
   "cell_type": "markdown",
   "metadata": {},
   "source": [
    "# Проект 4 - Исследование тарифных планов оператора сотовой связи"
   ]
  },
  {
   "cell_type": "markdown",
   "metadata": {},
   "source": [
    "## Введение\n",
    "\n",
    "**Описание проекта**\n",
    "\n",
    "Вы аналитик компании «Мегалайн» — федерального оператора сотовой связи. Клиентам предлагают два тарифных плана: «Смарт» и «Ультра». Чтобы скорректировать рекламный бюджет, коммерческий департамент хочет понять, какой тариф приносит больше денег.\n",
    "\n",
    "В вашем распоряжении данные 500 пользователей «Мегалайна»: кто они, откуда, каким тарифом пользуются, сколько звонков и сообщений каждый отправил за 2018 год.\n",
    "\n",
    "Нам надо описать поведение клиентов оператора, исходя из выборки и проверить две гипотезы:\n",
    "1. Средняя выручка пользователей тарифов «Ультра» и «Смарт» различаются.\n",
    "2. Средняя выручка пользователи из Москвы отличается от выручки пользователей из других регионов.\n",
    "\n",
    "**Описание тарифов**\n",
    "\n",
    "1. Тариф «Смарт»:\n",
    "    - Ежемесячная плата: 550 рублей.\n",
    "    - Включено 500 минут разговора, 50 сообщений и 15 Гб интернет-трафика/\n",
    "    - Стоимость услуг сверх тарифного пакета:\n",
    "        - минута разговора: 3 рубля,\n",
    "        - сообщение: 3 рубля,\n",
    "        - 1 Гб интернет-трафика: 200 рублей.\n",
    "2. Тариф «Ультра»:\n",
    "    - Ежемесячная плата: 1950 рублей.\n",
    "    - Включено 3000 минут разговора, 1000 сообщений и 30 Гб интернет-трафика.\n",
    "    - Стоимость услуг сверх тарифного пакета:\n",
    "        - минута разговора: 1 рубль,\n",
    "        - сообщение: 1 рубль,\n",
    "        - 1 Гб интернет-трафика: 150 рублей."
   ]
  },
  {
   "cell_type": "markdown",
   "metadata": {},
   "source": [
    "**Описание данных**\n",
    "\n",
    "1. Таблица `users` (информация о пользователях):\n",
    "    1. `user_id` — уникальный идентификатор пользователя.\n",
    "    2. `first_name` — имя пользователя.\n",
    "    3. `last_name` — фамилия пользователя.\n",
    "    4. `age` — возраст пользователя (годы).\n",
    "    5. `reg_date` — дата подключения тарифа (день, месяц, год).\n",
    "    6. `churn_date` — дата прекращения пользования тарифом (если значение пропущено, то тариф ещё действовал на момент выгрузки данных).\n",
    "    7. `city` — город проживания пользователя.\n",
    "    8. `tarif` — название тарифного плана.\n",
    "2. Таблица `calls` (информация о звонках):\n",
    "    1. `id` — уникальный номер звонка.\n",
    "    2. `call_date` — дата звонка.\n",
    "    3. `duration` — длительность звонка в минутах.\n",
    "    4. `user_id` — идентификатор пользователя, сделавшего звонок.\n",
    "3. Таблица `messages` (информация о сообщениях):\n",
    "    1. `id` — уникальный номер сообщения\n",
    "    2. `message_date` — дата сообщения\n",
    "    3. `user_id` — идентификатор пользователя, отправившего сообщение\n",
    "4. Таблица `internet` (информация об интернет-сессиях):\n",
    "    1. `id` — уникальный номер сессии\n",
    "    2. `mb_used` — объём потраченного за сессию интернет-трафика (в мегабайтах)\n",
    "    3. `session_date` — дата интернет-сессии\n",
    "    4. `user_id` — идентификатор пользователя\n",
    "5. Таблица `tariffs` (информация о тарифах):\n",
    "    1. `tariff_name` — название тарифа\n",
    "    2. `rub_monthly_fee` — ежемесячная абонентская плата в рублях\n",
    "    3. `minutes_included` — количество минут разговора в месяц, включённых в абонентскую плату\n",
    "    4. `messages_included` — количество сообщений в месяц, включённых в абонентскую плату\n",
    "    5. `mb_per_month_included` — объём интернет-трафика, включённого в абонентскую плату (в мегабайтах)\n",
    "    6. `rub_per_minute` — стоимость минуты разговора сверх тарифного пакета (например, если в тарифе 100 минут разговора в месяц, то со 101 минуты будет взиматься плата)\n",
    "    7. `rub_per_message` — стоимость отправки сообщения сверх тарифного пакета\n",
    "    8. `rub_per_gb` — стоимость дополнительного гигабайта интернет-трафика сверх тарифного пакета (1 гигабайт = 1024 мегабайта)"
   ]
  },
  {
   "cell_type": "markdown",
   "metadata": {},
   "source": [
    "<div class=\"alert alert-block alert-success\">\n",
    "<b> 👍 Успех:</b> Спасибо за вводную часть. Это действительно важно. Человек, который будет читать твой проект сразу будет в курсе о чем он)\n",
    "</div>"
   ]
  },
  {
   "cell_type": "markdown",
   "metadata": {},
   "source": [
    "## Предобработка данных\n",
    "\n",
    "Для начала проверим какие данные нам достались. Нас интересуют:\n",
    "\n",
    "1. Простые артефакты\n",
    "2. Пропущенные значения и типы данных\n",
    "3. Дополнительные параметры\n",
    "\n",
    "Пойдем по порядку."
   ]
  },
  {
   "cell_type": "code",
   "execution_count": 1,
   "metadata": {},
   "outputs": [
    {
     "name": "stdout",
     "output_type": "stream",
     "text": [
      "Не могу загрузить локальный путь. Загрузим из облака.\n",
      "--------------------------------------------------\n",
      "<class 'pandas.core.frame.DataFrame'>\n",
      "RangeIndex: 202607 entries, 0 to 202606\n",
      "Data columns (total 4 columns):\n",
      " #   Column     Non-Null Count   Dtype  \n",
      "---  ------     --------------   -----  \n",
      " 0   id         202607 non-null  object \n",
      " 1   call_date  202607 non-null  object \n",
      " 2   duration   202607 non-null  float64\n",
      " 3   user_id    202607 non-null  int64  \n",
      "dtypes: float64(1), int64(1), object(2)\n",
      "memory usage: 6.2+ MB\n",
      "--------------------------------------------------\n",
      "<class 'pandas.core.frame.DataFrame'>\n",
      "RangeIndex: 149396 entries, 0 to 149395\n",
      "Data columns (total 5 columns):\n",
      " #   Column        Non-Null Count   Dtype  \n",
      "---  ------        --------------   -----  \n",
      " 0   Unnamed: 0    149396 non-null  int64  \n",
      " 1   id            149396 non-null  object \n",
      " 2   mb_used       149396 non-null  float64\n",
      " 3   session_date  149396 non-null  object \n",
      " 4   user_id       149396 non-null  int64  \n",
      "dtypes: float64(1), int64(2), object(2)\n",
      "memory usage: 5.7+ MB\n",
      "--------------------------------------------------\n",
      "<class 'pandas.core.frame.DataFrame'>\n",
      "RangeIndex: 123036 entries, 0 to 123035\n",
      "Data columns (total 3 columns):\n",
      " #   Column        Non-Null Count   Dtype \n",
      "---  ------        --------------   ----- \n",
      " 0   id            123036 non-null  object\n",
      " 1   message_date  123036 non-null  object\n",
      " 2   user_id       123036 non-null  int64 \n",
      "dtypes: int64(1), object(2)\n",
      "memory usage: 2.8+ MB\n",
      "--------------------------------------------------\n",
      "<class 'pandas.core.frame.DataFrame'>\n",
      "RangeIndex: 500 entries, 0 to 499\n",
      "Data columns (total 8 columns):\n",
      " #   Column      Non-Null Count  Dtype \n",
      "---  ------      --------------  ----- \n",
      " 0   user_id     500 non-null    int64 \n",
      " 1   age         500 non-null    int64 \n",
      " 2   churn_date  38 non-null     object\n",
      " 3   city        500 non-null    object\n",
      " 4   first_name  500 non-null    object\n",
      " 5   last_name   500 non-null    object\n",
      " 6   reg_date    500 non-null    object\n",
      " 7   tariff      500 non-null    object\n",
      "dtypes: int64(2), object(6)\n",
      "memory usage: 31.4+ KB\n",
      "--------------------------------------------------\n"
     ]
    }
   ],
   "source": [
    "import pandas as pd\n",
    "import matplotlib.pyplot as plt\n",
    "import seaborn as sns\n",
    "import numpy as np\n",
    "import math\n",
    "from scipy import stats as st\n",
    "from IPython.display import display\n",
    "\n",
    "plt.style.use('default')\n",
    "\n",
    "# Я привык сохранять исходный датасет, чтобы можно было проследить какие преобразования были совершены.\n",
    "try:\n",
    "    raw_calls = pd.read_csv('calls.csv')\n",
    "    raw_internet = pd.read_csv('internet.csv')\n",
    "    raw_messages = pd.read_csv('messages.csv')\n",
    "    raw_tariffs = pd.read_csv('tariffs.csv')\n",
    "    raw_users = pd.read_csv('users.csv')\n",
    "except:\n",
    "    print('Не могу загрузить локальный путь. Загрузим из облака.')\n",
    "    print('-' * 50)\n",
    "    raw_calls = pd.read_csv('/datasets/calls.csv')\n",
    "    raw_internet = pd.read_csv('/datasets/internet.csv')\n",
    "    raw_messages = pd.read_csv('/datasets/messages.csv')\n",
    "    raw_tariffs = pd.read_csv('/datasets/tariffs.csv')\n",
    "    raw_users = pd.read_csv('/datasets/users.csv')\n",
    "    \n",
    "# Проверим, что внутри каждого датасета.\n",
    "# raw_tarrifs можно проверить глазами, поэтому его опустим\n",
    "for data in [raw_calls, raw_internet, raw_messages, raw_users]:\n",
    "    data.info()\n",
    "    print('-' * 50)"
   ]
  },
  {
   "cell_type": "markdown",
   "metadata": {},
   "source": [
    "<s><div class=\"alert alert-block alert-danger\">\n",
    "<b> ❌ Нужно исправить:</b> Смотри, твой код здесь не рабочий. По всей видимости ты делал локально свой проект. И пути к файлу у тебя локальные. В таких случаях лучше всего предусмотреть открытие файла из разных мест. Для этого можно пользоваться конструкцией try...except... Представь, что на твоей будущей работе, кто-то будет смотреть твой проект локально, а кто то по url-адресу. Ты же не будешь заставлять человека менять код в проекте? Поэтому можно предусмотреть варианты возможной загрузки датасетов. Сейчас я не хочу возвращать тебе сразу проект, потому что не читается датасет, но на будущее имей ввиду, что тебе могут сразу вернуть проект без проверки. Исправь пожалуйста)\n",
    "</div>"
   ]
  },
  {
   "cell_type": "markdown",
   "metadata": {},
   "source": [
    "<div class=\"alert alert-block alert-info\">\n",
    "<b>Комментарий студента </b> \n",
    "\n",
    "Привет, давай на ты. Спасибо, что не вернул! Поправил.\n",
    "\n",
    "</div>"
   ]
  },
  {
   "cell_type": "markdown",
   "metadata": {},
   "source": [
    "<div style=\"border: 3px solid green; padding: 15px\"><font color='green' size=5 ><b>Комментарий ревьюера v2</b></font> \n",
    "\n",
    "Все ок)\n"
   ]
  },
  {
   "cell_type": "code",
   "execution_count": 2,
   "metadata": {},
   "outputs": [],
   "source": [
    "# ### КОД РЕВЬЮЕРА\n",
    "# import pandas as pd\n",
    "# import matplotlib.pyplot as plt\n",
    "# import seaborn as sns\n",
    "# import numpy as np\n",
    "# from scipy import stats as st\n",
    "# from IPython.display import display\n",
    "# plt.style.use('default')\n",
    "\n",
    "# # Я привык сохранять исходный датасет, чтобы можно было проследить какие преобразования были совершены.\n",
    "# raw_calls = pd.read_csv('/datasets/calls.csv')\n",
    "# raw_internet = pd.read_csv('/datasets/internet.csv')\n",
    "# raw_messages = pd.read_csv('/datasets/messages.csv')\n",
    "# raw_tariffs = pd.read_csv('/datasets/tariffs.csv')\n",
    "# raw_users = pd.read_csv('/datasets/users.csv')\n",
    "\n",
    "# # Проверим, что внутри каждого датасета.\n",
    "# # raw_tarrifs можно проверить глазами, поэтому его опустим\n",
    "# for data in [raw_calls, raw_internet, raw_messages, raw_users]:\n",
    "#     data.info()\n",
    "#     print('-' * 50)"
   ]
  },
  {
   "cell_type": "markdown",
   "metadata": {},
   "source": [
    "<div class=\"alert alert-block alert-success\">\n",
    "<b> 👍 Успех:</b> Отлично! Посмотрели на данные, нашли особенности)\n",
    "</div>"
   ]
  },
  {
   "cell_type": "markdown",
   "metadata": {},
   "source": [
    "Хорошие новости: все датафреймы относительно простые и содержат по одному \"смысловому\" параметру. У нас также нет пропущенных строк, кроме столбца `churn_date` в датасете `raw_users`. Но для этой колонки, пропущенные строки, скорей всего, означают, что пользователь все еще пользуется нашими услугами.\n",
    "\n",
    "У нас есть какая-то странная колонка `Unnamed: 0` в датасете `raw_internet`. Похоже, что она дублирует колонку `index`. Убьем ее за ненадобностью.\n",
    "\n",
    "Также, нам надо будет правильно задать типы данных в этих датасетах.\n",
    "\n",
    "Посмотрим, как распределны значения в этих датасетах."
   ]
  },
  {
   "cell_type": "code",
   "execution_count": 3,
   "metadata": {},
   "outputs": [
    {
     "data": {
      "text/html": [
       "<div>\n",
       "<style scoped>\n",
       "    .dataframe tbody tr th:only-of-type {\n",
       "        vertical-align: middle;\n",
       "    }\n",
       "\n",
       "    .dataframe tbody tr th {\n",
       "        vertical-align: top;\n",
       "    }\n",
       "\n",
       "    .dataframe thead th {\n",
       "        text-align: right;\n",
       "    }\n",
       "</style>\n",
       "<table border=\"1\" class=\"dataframe\">\n",
       "  <thead>\n",
       "    <tr style=\"text-align: right;\">\n",
       "      <th></th>\n",
       "      <th>duration</th>\n",
       "      <th>user_id</th>\n",
       "    </tr>\n",
       "  </thead>\n",
       "  <tbody>\n",
       "    <tr>\n",
       "      <th>count</th>\n",
       "      <td>202607.0</td>\n",
       "      <td>202607.0</td>\n",
       "    </tr>\n",
       "    <tr>\n",
       "      <th>mean</th>\n",
       "      <td>7.0</td>\n",
       "      <td>1254.0</td>\n",
       "    </tr>\n",
       "    <tr>\n",
       "      <th>std</th>\n",
       "      <td>6.0</td>\n",
       "      <td>145.0</td>\n",
       "    </tr>\n",
       "    <tr>\n",
       "      <th>min</th>\n",
       "      <td>0.0</td>\n",
       "      <td>1000.0</td>\n",
       "    </tr>\n",
       "    <tr>\n",
       "      <th>25%</th>\n",
       "      <td>1.0</td>\n",
       "      <td>1126.0</td>\n",
       "    </tr>\n",
       "    <tr>\n",
       "      <th>50%</th>\n",
       "      <td>6.0</td>\n",
       "      <td>1260.0</td>\n",
       "    </tr>\n",
       "    <tr>\n",
       "      <th>75%</th>\n",
       "      <td>11.0</td>\n",
       "      <td>1379.0</td>\n",
       "    </tr>\n",
       "    <tr>\n",
       "      <th>max</th>\n",
       "      <td>38.0</td>\n",
       "      <td>1499.0</td>\n",
       "    </tr>\n",
       "  </tbody>\n",
       "</table>\n",
       "</div>"
      ],
      "text/plain": [
       "       duration   user_id\n",
       "count  202607.0  202607.0\n",
       "mean        7.0    1254.0\n",
       "std         6.0     145.0\n",
       "min         0.0    1000.0\n",
       "25%         1.0    1126.0\n",
       "50%         6.0    1260.0\n",
       "75%        11.0    1379.0\n",
       "max        38.0    1499.0"
      ]
     },
     "metadata": {},
     "output_type": "display_data"
    },
    {
     "name": "stdout",
     "output_type": "stream",
     "text": [
      "--------------------------------------------------\n"
     ]
    },
    {
     "data": {
      "text/html": [
       "<div>\n",
       "<style scoped>\n",
       "    .dataframe tbody tr th:only-of-type {\n",
       "        vertical-align: middle;\n",
       "    }\n",
       "\n",
       "    .dataframe tbody tr th {\n",
       "        vertical-align: top;\n",
       "    }\n",
       "\n",
       "    .dataframe thead th {\n",
       "        text-align: right;\n",
       "    }\n",
       "</style>\n",
       "<table border=\"1\" class=\"dataframe\">\n",
       "  <thead>\n",
       "    <tr style=\"text-align: right;\">\n",
       "      <th></th>\n",
       "      <th>Unnamed: 0</th>\n",
       "      <th>mb_used</th>\n",
       "      <th>user_id</th>\n",
       "    </tr>\n",
       "  </thead>\n",
       "  <tbody>\n",
       "    <tr>\n",
       "      <th>count</th>\n",
       "      <td>149396.0</td>\n",
       "      <td>149396.0</td>\n",
       "      <td>149396.0</td>\n",
       "    </tr>\n",
       "    <tr>\n",
       "      <th>mean</th>\n",
       "      <td>74698.0</td>\n",
       "      <td>370.0</td>\n",
       "      <td>1252.0</td>\n",
       "    </tr>\n",
       "    <tr>\n",
       "      <th>std</th>\n",
       "      <td>43127.0</td>\n",
       "      <td>278.0</td>\n",
       "      <td>144.0</td>\n",
       "    </tr>\n",
       "    <tr>\n",
       "      <th>min</th>\n",
       "      <td>0.0</td>\n",
       "      <td>0.0</td>\n",
       "      <td>1000.0</td>\n",
       "    </tr>\n",
       "    <tr>\n",
       "      <th>25%</th>\n",
       "      <td>37349.0</td>\n",
       "      <td>138.0</td>\n",
       "      <td>1130.0</td>\n",
       "    </tr>\n",
       "    <tr>\n",
       "      <th>50%</th>\n",
       "      <td>74698.0</td>\n",
       "      <td>348.0</td>\n",
       "      <td>1251.0</td>\n",
       "    </tr>\n",
       "    <tr>\n",
       "      <th>75%</th>\n",
       "      <td>112046.0</td>\n",
       "      <td>560.0</td>\n",
       "      <td>1380.0</td>\n",
       "    </tr>\n",
       "    <tr>\n",
       "      <th>max</th>\n",
       "      <td>149395.0</td>\n",
       "      <td>1725.0</td>\n",
       "      <td>1499.0</td>\n",
       "    </tr>\n",
       "  </tbody>\n",
       "</table>\n",
       "</div>"
      ],
      "text/plain": [
       "       Unnamed: 0   mb_used   user_id\n",
       "count    149396.0  149396.0  149396.0\n",
       "mean      74698.0     370.0    1252.0\n",
       "std       43127.0     278.0     144.0\n",
       "min           0.0       0.0    1000.0\n",
       "25%       37349.0     138.0    1130.0\n",
       "50%       74698.0     348.0    1251.0\n",
       "75%      112046.0     560.0    1380.0\n",
       "max      149395.0    1725.0    1499.0"
      ]
     },
     "metadata": {},
     "output_type": "display_data"
    },
    {
     "name": "stdout",
     "output_type": "stream",
     "text": [
      "--------------------------------------------------\n"
     ]
    },
    {
     "data": {
      "text/html": [
       "<div>\n",
       "<style scoped>\n",
       "    .dataframe tbody tr th:only-of-type {\n",
       "        vertical-align: middle;\n",
       "    }\n",
       "\n",
       "    .dataframe tbody tr th {\n",
       "        vertical-align: top;\n",
       "    }\n",
       "\n",
       "    .dataframe thead th {\n",
       "        text-align: right;\n",
       "    }\n",
       "</style>\n",
       "<table border=\"1\" class=\"dataframe\">\n",
       "  <thead>\n",
       "    <tr style=\"text-align: right;\">\n",
       "      <th></th>\n",
       "      <th>user_id</th>\n",
       "      <th>age</th>\n",
       "    </tr>\n",
       "  </thead>\n",
       "  <tbody>\n",
       "    <tr>\n",
       "      <th>count</th>\n",
       "      <td>500.0</td>\n",
       "      <td>500.0</td>\n",
       "    </tr>\n",
       "    <tr>\n",
       "      <th>mean</th>\n",
       "      <td>1250.0</td>\n",
       "      <td>47.0</td>\n",
       "    </tr>\n",
       "    <tr>\n",
       "      <th>std</th>\n",
       "      <td>144.0</td>\n",
       "      <td>17.0</td>\n",
       "    </tr>\n",
       "    <tr>\n",
       "      <th>min</th>\n",
       "      <td>1000.0</td>\n",
       "      <td>18.0</td>\n",
       "    </tr>\n",
       "    <tr>\n",
       "      <th>25%</th>\n",
       "      <td>1125.0</td>\n",
       "      <td>32.0</td>\n",
       "    </tr>\n",
       "    <tr>\n",
       "      <th>50%</th>\n",
       "      <td>1250.0</td>\n",
       "      <td>46.0</td>\n",
       "    </tr>\n",
       "    <tr>\n",
       "      <th>75%</th>\n",
       "      <td>1374.0</td>\n",
       "      <td>62.0</td>\n",
       "    </tr>\n",
       "    <tr>\n",
       "      <th>max</th>\n",
       "      <td>1499.0</td>\n",
       "      <td>75.0</td>\n",
       "    </tr>\n",
       "  </tbody>\n",
       "</table>\n",
       "</div>"
      ],
      "text/plain": [
       "       user_id    age\n",
       "count    500.0  500.0\n",
       "mean    1250.0   47.0\n",
       "std      144.0   17.0\n",
       "min     1000.0   18.0\n",
       "25%     1125.0   32.0\n",
       "50%     1250.0   46.0\n",
       "75%     1374.0   62.0\n",
       "max     1499.0   75.0"
      ]
     },
     "metadata": {},
     "output_type": "display_data"
    },
    {
     "name": "stdout",
     "output_type": "stream",
     "text": [
      "--------------------------------------------------\n"
     ]
    }
   ],
   "source": [
    "# Проверим, что внутри каждого датасета.\n",
    "# raw_messages также опустим, потому что там просто перечисление всех отправленных пользователем сообщений.\n",
    "for data in [raw_calls, raw_internet, raw_users]:\n",
    "    display(round(data.describe()))\n",
    "    print('-' * 50)"
   ]
  },
  {
   "cell_type": "markdown",
   "metadata": {},
   "source": [
    "<div class=\"alert alert-block alert-success\">\n",
    "<b> 👍 Успех:</b> Согласен, двигаемся дальше)\n",
    "</div>"
   ]
  },
  {
   "cell_type": "markdown",
   "metadata": {},
   "source": [
    "В целом, все значения выглядят адекватно: пользователи разговаривают адекватное количество времени, используют нормальное количество трафика, а также в целом выглядят правдоподобными (возраст от 18 до 75 лет)."
   ]
  },
  {
   "cell_type": "code",
   "execution_count": 4,
   "metadata": {},
   "outputs": [],
   "source": [
    "# Уберем колонку\n",
    "raw_internet.drop('Unnamed: 0', axis=1, inplace=True)\n",
    "\n",
    "# Причешем типы данных\n",
    "raw_calls = raw_calls.astype({'id': 'object',\n",
    "                              'call_date': 'datetime64',\n",
    "                              'duration': 'float64',\n",
    "                              'user_id': 'object'})\n",
    "\n",
    "raw_internet = raw_internet.astype({'id': 'object',\n",
    "                                    'mb_used': 'float64',\n",
    "                                    'session_date': 'datetime64',\n",
    "                                    'user_id': 'object'})\n",
    "\n",
    "raw_messages = raw_messages.astype({'id': 'object',\n",
    "                                    'message_date': 'datetime64',\n",
    "                                    'user_id': 'object'})\n",
    "\n",
    "raw_tariffs = raw_tariffs.astype({'messages_included': 'int64',\n",
    "                                  'mb_per_month_included': 'int64',\n",
    "                                  'minutes_included': 'int64',\n",
    "                                  'rub_monthly_fee': 'int64',\n",
    "                                  'rub_per_gb': 'int64',\n",
    "                                  'rub_per_message': 'int64',\n",
    "                                  'rub_per_minute': 'int64',\n",
    "                                  'tariff_name': 'object'})\n",
    "\n",
    "raw_users = raw_users.astype({'user_id': 'object',\n",
    "                              'age': 'int64',\n",
    "                              'churn_date': 'datetime64',\n",
    "                              'city': 'object',\n",
    "                              'first_name': 'object',\n",
    "                              'last_name': 'object',\n",
    "                              'reg_date': 'datetime64',\n",
    "                              'tariff': 'object'})"
   ]
  },
  {
   "cell_type": "code",
   "execution_count": 5,
   "metadata": {},
   "outputs": [
    {
     "data": {
      "text/html": [
       "<div>\n",
       "<style scoped>\n",
       "    .dataframe tbody tr th:only-of-type {\n",
       "        vertical-align: middle;\n",
       "    }\n",
       "\n",
       "    .dataframe tbody tr th {\n",
       "        vertical-align: top;\n",
       "    }\n",
       "\n",
       "    .dataframe thead th {\n",
       "        text-align: right;\n",
       "    }\n",
       "</style>\n",
       "<table border=\"1\" class=\"dataframe\">\n",
       "  <thead>\n",
       "    <tr style=\"text-align: right;\">\n",
       "      <th></th>\n",
       "      <th>id</th>\n",
       "      <th>mb_used</th>\n",
       "      <th>session_date</th>\n",
       "      <th>user_id</th>\n",
       "    </tr>\n",
       "  </thead>\n",
       "  <tbody>\n",
       "    <tr>\n",
       "      <th>0</th>\n",
       "      <td>1000_0</td>\n",
       "      <td>112.95</td>\n",
       "      <td>2018-11-25</td>\n",
       "      <td>1000</td>\n",
       "    </tr>\n",
       "    <tr>\n",
       "      <th>1</th>\n",
       "      <td>1000_1</td>\n",
       "      <td>1052.81</td>\n",
       "      <td>2018-09-07</td>\n",
       "      <td>1000</td>\n",
       "    </tr>\n",
       "    <tr>\n",
       "      <th>2</th>\n",
       "      <td>1000_2</td>\n",
       "      <td>1197.26</td>\n",
       "      <td>2018-06-25</td>\n",
       "      <td>1000</td>\n",
       "    </tr>\n",
       "    <tr>\n",
       "      <th>3</th>\n",
       "      <td>1000_3</td>\n",
       "      <td>550.27</td>\n",
       "      <td>2018-08-22</td>\n",
       "      <td>1000</td>\n",
       "    </tr>\n",
       "    <tr>\n",
       "      <th>4</th>\n",
       "      <td>1000_4</td>\n",
       "      <td>302.56</td>\n",
       "      <td>2018-09-24</td>\n",
       "      <td>1000</td>\n",
       "    </tr>\n",
       "    <tr>\n",
       "      <th>...</th>\n",
       "      <td>...</td>\n",
       "      <td>...</td>\n",
       "      <td>...</td>\n",
       "      <td>...</td>\n",
       "    </tr>\n",
       "    <tr>\n",
       "      <th>149391</th>\n",
       "      <td>1499_152</td>\n",
       "      <td>318.90</td>\n",
       "      <td>2018-10-03</td>\n",
       "      <td>1499</td>\n",
       "    </tr>\n",
       "    <tr>\n",
       "      <th>149392</th>\n",
       "      <td>1499_153</td>\n",
       "      <td>490.13</td>\n",
       "      <td>2018-12-14</td>\n",
       "      <td>1499</td>\n",
       "    </tr>\n",
       "    <tr>\n",
       "      <th>149393</th>\n",
       "      <td>1499_154</td>\n",
       "      <td>0.00</td>\n",
       "      <td>2018-10-27</td>\n",
       "      <td>1499</td>\n",
       "    </tr>\n",
       "    <tr>\n",
       "      <th>149394</th>\n",
       "      <td>1499_155</td>\n",
       "      <td>1246.32</td>\n",
       "      <td>2018-11-26</td>\n",
       "      <td>1499</td>\n",
       "    </tr>\n",
       "    <tr>\n",
       "      <th>149395</th>\n",
       "      <td>1499_156</td>\n",
       "      <td>544.37</td>\n",
       "      <td>2018-10-26</td>\n",
       "      <td>1499</td>\n",
       "    </tr>\n",
       "  </tbody>\n",
       "</table>\n",
       "<p>149396 rows × 4 columns</p>\n",
       "</div>"
      ],
      "text/plain": [
       "              id  mb_used session_date user_id\n",
       "0         1000_0   112.95   2018-11-25    1000\n",
       "1         1000_1  1052.81   2018-09-07    1000\n",
       "2         1000_2  1197.26   2018-06-25    1000\n",
       "3         1000_3   550.27   2018-08-22    1000\n",
       "4         1000_4   302.56   2018-09-24    1000\n",
       "...          ...      ...          ...     ...\n",
       "149391  1499_152   318.90   2018-10-03    1499\n",
       "149392  1499_153   490.13   2018-12-14    1499\n",
       "149393  1499_154     0.00   2018-10-27    1499\n",
       "149394  1499_155  1246.32   2018-11-26    1499\n",
       "149395  1499_156   544.37   2018-10-26    1499\n",
       "\n",
       "[149396 rows x 4 columns]"
      ]
     },
     "execution_count": 5,
     "metadata": {},
     "output_type": "execute_result"
    }
   ],
   "source": [
    "###КОД РЕВЬЮЕРА ДО ОКРУГЛЕНИЯ\n",
    "raw_internet"
   ]
  },
  {
   "cell_type": "code",
   "execution_count": 6,
   "metadata": {},
   "outputs": [],
   "source": [
    "# Окргулим значения вверх по условиям проекта: секунды до минут, Мб до Гб.\n",
    "raw_calls['duration'] = raw_calls.duration.apply(np.ceil)\n",
    "raw_internet['mb_used'] = raw_internet.mb_used.div(1024).apply(np.ceil).mul(1024)"
   ]
  },
  {
   "cell_type": "markdown",
   "metadata": {},
   "source": [
    "<div class=\"alert alert-block alert-danger\">\n",
    "<b> ❌ Нужно исправить:</b> По условию проекта, наши звонки округляются вверх до минут. Даже если это звонок длился 1 секунду. По всей видимости ты упустил этот момент)\n",
    "</div>"
   ]
  },
  {
   "cell_type": "markdown",
   "metadata": {},
   "source": [
    "<div style=\"border: 3px solid red; padding: 15px\"><font color='red' size=5 ><b>Комментарий ревьюера v2</b></font> \n",
    "\n",
    "А вот сессии в МБ округлять не надо) с ними вообще ничего не надо делать) Потому что это может привести потом к неправильным расчетам. По заданию у нас округляются суммарные ГБ)\n",
    "  \n",
    " А по твоему коду, вообще получаются какие то огромные числа в МБ. Такого быть точно не должно) Могу предположить почему. Ты ты переводишь МБ в ГБ, округляешь и потом еще умножаешь на 1024 и у тебя становится просто огромные числа. \n",
    "    "
   ]
  },
  {
   "cell_type": "markdown",
   "metadata": {},
   "source": [
    "<div class=\"alert alert-block alert-info\">\n",
    "<b>Комментарий студента </b> \n",
    "\n",
    "Кажется, надо - я что-то не понимаю?\n",
    "    \n",
    "Я перевожу МБ в ГБ делением на 1024, а потом обратно из ГБ в МБ умножением на 1024. В таблице потом видно, что `mb_used` кратны 1024 - либо 1024, либо 2048, либо больше.\n",
    "\n",
    "--------\n",
    "    \n",
    "Примечание:\n",
    "«Мегалайн» всегда округляет секунды до минут, а мегабайты — до гигабайт. Каждый звонок округляется отдельно: даже если он длился всего 1 секунду, будет засчитан как 1 минута.\n",
    "\n",
    "Для веб-трафика отдельные сессии не считаются. Вместо этого общая сумма за месяц округляется в бо́льшую сторону. Если абонент использует 1025 мегабайт в этом месяце, с него возьмут плату за 2 гигабайта.\n",
    "\n",
    "</div>"
   ]
  },
  {
   "cell_type": "markdown",
   "metadata": {},
   "source": [
    "<div style=\"border: 3px solid red; padding: 15px\"><font color='red' size=5 ><b>Комментарий ревьюера v3</b></font> \n",
    "\n",
    "Смотри) Вот где ключевое предложение: \"<b>Для веб-трафика отдельные сессии не считаются. Вместо этого общая сумма за месяц округляется в бо́льшую сторону</b>. Если абонент использует 1025 мегабайт в этом месяце, с него возьмут плату за 2 гигабайта.\" \n",
    "    \n",
    "То есть не сессия округляется, а суммарное потребление трафика за месяц округляется. По твоим расчетам пользователю  начисляются лишние ГБ) смотри как это происходит у тебя в коде:\n",
    "    Берем сессию 112.95 МБ -> делим на 1024 -> 0.0938 ГБ -> округляем вверх -> 1 ГБ -> уможаем на 1024 -> 1024 МБ\n",
    "    \n",
    "    \n",
    " Представь для абонента 112 МБ превратилось в 1024 МБ) А твоя формула все будет завышать, даже 1МБ превратится в 1ГБ. Очень нечестный тариф у оператора)))То есть пользователь запустил просто какой нибудь мессенджер, а у не летят гигабайты трафика) Если ты хочешь каждую сессию в ГБ перевести то можно было просто поделить на 1024 и все, без округлений.\n",
    "    В общем сессии ни в коем случае нельзя округлять, особенно в ГБ)\n",
    "</div>"
   ]
  },
  {
   "cell_type": "code",
   "execution_count": 7,
   "metadata": {},
   "outputs": [
    {
     "data": {
      "text/html": [
       "<div>\n",
       "<style scoped>\n",
       "    .dataframe tbody tr th:only-of-type {\n",
       "        vertical-align: middle;\n",
       "    }\n",
       "\n",
       "    .dataframe tbody tr th {\n",
       "        vertical-align: top;\n",
       "    }\n",
       "\n",
       "    .dataframe thead th {\n",
       "        text-align: right;\n",
       "    }\n",
       "</style>\n",
       "<table border=\"1\" class=\"dataframe\">\n",
       "  <thead>\n",
       "    <tr style=\"text-align: right;\">\n",
       "      <th></th>\n",
       "      <th>id</th>\n",
       "      <th>mb_used</th>\n",
       "      <th>session_date</th>\n",
       "      <th>user_id</th>\n",
       "    </tr>\n",
       "  </thead>\n",
       "  <tbody>\n",
       "    <tr>\n",
       "      <th>0</th>\n",
       "      <td>1000_0</td>\n",
       "      <td>1024.0</td>\n",
       "      <td>2018-11-25</td>\n",
       "      <td>1000</td>\n",
       "    </tr>\n",
       "    <tr>\n",
       "      <th>1</th>\n",
       "      <td>1000_1</td>\n",
       "      <td>2048.0</td>\n",
       "      <td>2018-09-07</td>\n",
       "      <td>1000</td>\n",
       "    </tr>\n",
       "    <tr>\n",
       "      <th>2</th>\n",
       "      <td>1000_2</td>\n",
       "      <td>2048.0</td>\n",
       "      <td>2018-06-25</td>\n",
       "      <td>1000</td>\n",
       "    </tr>\n",
       "    <tr>\n",
       "      <th>3</th>\n",
       "      <td>1000_3</td>\n",
       "      <td>1024.0</td>\n",
       "      <td>2018-08-22</td>\n",
       "      <td>1000</td>\n",
       "    </tr>\n",
       "    <tr>\n",
       "      <th>4</th>\n",
       "      <td>1000_4</td>\n",
       "      <td>1024.0</td>\n",
       "      <td>2018-09-24</td>\n",
       "      <td>1000</td>\n",
       "    </tr>\n",
       "    <tr>\n",
       "      <th>...</th>\n",
       "      <td>...</td>\n",
       "      <td>...</td>\n",
       "      <td>...</td>\n",
       "      <td>...</td>\n",
       "    </tr>\n",
       "    <tr>\n",
       "      <th>149391</th>\n",
       "      <td>1499_152</td>\n",
       "      <td>1024.0</td>\n",
       "      <td>2018-10-03</td>\n",
       "      <td>1499</td>\n",
       "    </tr>\n",
       "    <tr>\n",
       "      <th>149392</th>\n",
       "      <td>1499_153</td>\n",
       "      <td>1024.0</td>\n",
       "      <td>2018-12-14</td>\n",
       "      <td>1499</td>\n",
       "    </tr>\n",
       "    <tr>\n",
       "      <th>149393</th>\n",
       "      <td>1499_154</td>\n",
       "      <td>0.0</td>\n",
       "      <td>2018-10-27</td>\n",
       "      <td>1499</td>\n",
       "    </tr>\n",
       "    <tr>\n",
       "      <th>149394</th>\n",
       "      <td>1499_155</td>\n",
       "      <td>2048.0</td>\n",
       "      <td>2018-11-26</td>\n",
       "      <td>1499</td>\n",
       "    </tr>\n",
       "    <tr>\n",
       "      <th>149395</th>\n",
       "      <td>1499_156</td>\n",
       "      <td>1024.0</td>\n",
       "      <td>2018-10-26</td>\n",
       "      <td>1499</td>\n",
       "    </tr>\n",
       "  </tbody>\n",
       "</table>\n",
       "<p>149396 rows × 4 columns</p>\n",
       "</div>"
      ],
      "text/plain": [
       "              id  mb_used session_date user_id\n",
       "0         1000_0   1024.0   2018-11-25    1000\n",
       "1         1000_1   2048.0   2018-09-07    1000\n",
       "2         1000_2   2048.0   2018-06-25    1000\n",
       "3         1000_3   1024.0   2018-08-22    1000\n",
       "4         1000_4   1024.0   2018-09-24    1000\n",
       "...          ...      ...          ...     ...\n",
       "149391  1499_152   1024.0   2018-10-03    1499\n",
       "149392  1499_153   1024.0   2018-12-14    1499\n",
       "149393  1499_154      0.0   2018-10-27    1499\n",
       "149394  1499_155   2048.0   2018-11-26    1499\n",
       "149395  1499_156   1024.0   2018-10-26    1499\n",
       "\n",
       "[149396 rows x 4 columns]"
      ]
     },
     "execution_count": 7,
     "metadata": {},
     "output_type": "execute_result"
    }
   ],
   "source": [
    "###КОД РЕВЬЮЕРА ПОСЛЕ ОКРУГЛЕНИЯ\n",
    "raw_internet"
   ]
  },
  {
   "cell_type": "markdown",
   "metadata": {},
   "source": [
    "<div class=\"alert alert-block alert-info\">\n",
    "<b>Комментарий студента </b> \n",
    "\n",
    "Поправил\n",
    "\n",
    "</div>"
   ]
  },
  {
   "cell_type": "markdown",
   "metadata": {},
   "source": [
    "Последним шагом создадим нужный нам датасет из уже существующих. Для этого воспользуемся сводными таблицами и функцией `join` / `merge`. Наша цель - получить основные показатели (например, количество потраченных минут в месяц) для каждого пользователя - `user_id` и каждого месяца 2018 года."
   ]
  },
  {
   "cell_type": "code",
   "execution_count": 8,
   "metadata": {},
   "outputs": [],
   "source": [
    "# Добавим колонку с месяцем к каждому датасету\n",
    "raw_calls['month'] = raw_calls.call_date.dt.month\n",
    "raw_messages['month'] = raw_messages.message_date.dt.month\n",
    "raw_internet['month'] = raw_internet.session_date.dt.month\n",
    "\n",
    "# Сделаем датасет, к которому будем приклеивать колонки по month и user_id\n",
    "# Возьмем raw_users за основу нашего будущего df_user_statistics.\n",
    "# Сразу уберем из списка тех пользователей, которые уже не пользуются нашими услугами.\n",
    "df_user_statistics = pd.DataFrame()\n",
    "for month in range(1, 13):\n",
    "    data = raw_users.loc[ :, ['user_id', 'tariff', 'city'] ]\n",
    "    data['month'] = month\n",
    "    df_user_statistics = pd.concat([df_user_statistics, data])\n",
    "    \n",
    "# Приклеим новые колонки\n",
    "# Сумма израсходованных минут и количетсво звонков\n",
    "df_user_statistics = df_user_statistics.merge(\n",
    "    pd.pivot_table(raw_calls, \n",
    "                   values='duration',\n",
    "                   index=['user_id', 'month'],\n",
    "                   aggfunc=['sum', 'count']).droplevel(level=1, axis=1), \n",
    "    on=['user_id', 'month'],\n",
    "    how='left')\n",
    "\n",
    "# Количество сообщений\n",
    "df_user_statistics = df_user_statistics.merge(\n",
    "    pd.pivot_table(raw_messages,\n",
    "                   values='id',\n",
    "                   index=['user_id', 'month'],\n",
    "                   aggfunc='count'), \n",
    "    on=['user_id', 'month'],\n",
    "    how='left')\n",
    "\n",
    "# Объем израсходованного трафика\n",
    "df_user_statistics = df_user_statistics.merge(\n",
    "    pd.pivot_table(raw_internet,\n",
    "                   values='mb_used',\n",
    "                   index=['user_id', 'month'],\n",
    "                   aggfunc='sum'), \n",
    "    on=['user_id', 'month'],\n",
    "    how='left')\n",
    "\n",
    "# Зададим правильные названия колонок\n",
    "df_user_statistics.columns = ['user_id',\n",
    "                              'tariff',\n",
    "                              'city',\n",
    "                              'month',\n",
    "                              'calls_duration',\n",
    "                              'calls_count',\n",
    "                              'messages_count',\n",
    "                              'mb_used_total']"
   ]
  },
  {
   "cell_type": "markdown",
   "metadata": {},
   "source": [
    "<div class=\"alert alert-block alert-danger\">\n",
    "<b> ❌ Нужно исправить:</b> Интересный подход к получению общей таблицы) Но мне кажется можно было сделать проще. Смотри, что ты упустил:\n",
    "    1. Не стоило удалять абонентов, которые перестали пользоваться услугами оператора. В исследовании мы не оцениваем абонентов текущих. Мы оцениваем общую картину трат пользователей. Абонент же может прекратить пользоваться по разным причинам ( не только из-за качества): он может уехать, переехать, сменить тариф и т.д. Поэтому рекомендую здесь оставить всех абонентов\n",
    "    2. Когда, ты используешь merge и не задаешь параметр how, по умолчанию берется inner. Inner это означает, что будут браться строки в которых есть совпадение в обоих датафреймах. Тем самым, мы можем потерять часть абонентов, которые например, не пользовались какой то услугой. Твое первое соединение со звонками. А вдруг у нас есть пользователь, который не звонил? А только пользовался интернетом? Тем самым при объединении этот пользователь выпадет. Я попрошу тебя провести соединение таблиц выбрав другое значение параметр how\n",
    "  \n",
    "Как бы я рекомендовал тебе упростить твой код: 1) Построить три сводных или сгруппированных таблицы по месяцу и пользователю. 2) сохранить их в отдельные датафреймы. 3) Произвести merge 2-3 строчками кода. Обязательно соединяем по юзеру и месяцу. Тип how - подумай какой лучше использовать, чтобы не потерялись данные.\n",
    "    \n",
    "Смотри, я ниже привел тебе пример, как у тебя потерялись данные при объединении. Даже если убрать ушедших абонентов. Все равно, до объединения у тебя было 462 пользователя. После стало 390. 72 абонента потерялись)\n",
    "</div>"
   ]
  },
  {
   "cell_type": "markdown",
   "metadata": {},
   "source": [
    "<div class=\"alert alert-block alert-info\">\n",
    "<b>Комментарий студента </b> \n",
    "\n",
    "1. Хорошо, убедил.\n",
    "    \n",
    "2. Почему-то думал, что `left` это величина по умолчанию. Поправил!\n",
    "    \n",
    "3. Предложение выглядит разумно. Код вверху повторяет такой подход: таблицы склеены из сводных из других датасетов. Новые переменные не вводил сознательно, чтобы не порождать сущностей. Я пользуюсь VS Code и длинный список болтающихся переменных вводит в уныние...\n",
    "    \n",
    "4. Теперь всех посчитали!\n",
    "\n",
    "</div>"
   ]
  },
  {
   "cell_type": "markdown",
   "metadata": {},
   "source": [
    "<div style=\"border: 3px solid green; padding: 15px\"><font color='green' size=5 ><b>Комментарий ревьюера v2</b></font> \n",
    "\n",
    "Давай посмотрим, что у нас получилось. У тебя немного нестандартный способ объединения) Я бы сделал так:\n",
    "    1) сделал бы три сгруппированных таблицы (смс, минуты, трафик) \n",
    "    2) соединил бы их методом outer\n",
    "    3) присоединил бы к получившейся таблицы методо left исходную таблицу пользователей(которая на 500 строк)\n",
    "    \n",
    "Здесь может почитать про принципы объединения)\n",
    "    https://medium.com/swlh/merging-dataframes-with-pandas-pd-merge-7764c7e2d46d\n",
    "\n",
    " "
   ]
  },
  {
   "cell_type": "markdown",
   "metadata": {},
   "source": [
    "<div class=\"alert alert-block alert-info\">\n",
    "<b>Комментарий студента </b> \n",
    "\n",
    "Так, вот это тоже непонятно... Исходную таблицу пользователей можно использовать, если нам не нужны показатели по месяцам (например, суммарные `mb_used` за год). Либо если мы делаем месячные значения в колонках таблицы, а потом делаем unpivot. \n",
    "\n",
    "По заданию просят сделать по месяцам?...Я так и сделал. :/\n",
    "\n",
    "----\n",
    "    \n",
    "Посчитайте для каждого пользователя:\n",
    "1. количество сделанных звонков и израсходованных минут разговора по месяцам;\n",
    "2. количество отправленных сообщений по месяцам;\n",
    "3. объем израсходованного интернет-трафика по месяцам;\n",
    "4. помесячную выручку с каждого пользователя (вычтите бесплатный лимит из суммарного количества звонков, сообщений и интернет-трафика; остаток умножьте на значение из тарифного плана; прибавьте абонентскую плату, соответствующую тарифному плану).\n",
    " \n",
    "\n",
    "</div>"
   ]
  },
  {
   "cell_type": "markdown",
   "metadata": {},
   "source": [
    "<div style=\"border: 3px solid green; padding: 15px\"><font color='green' size=5 ><b>Комментарий ревьюера v3</b></font> \n",
    "\n",
    "Я тебе здесь не делаю замечание) твой подход рабочий и я его принял. Я просто посоветовал как тебе облегчить можно было твой код. Без pd.concat и лишних циклов. И я не призывал тебя не группировать по месяцам) В общем смотри как бы сделал я) Исходную таблицу можно использвать если выбрать правильный тип соединения. Посмотри на код ниже:)\n",
    "    \n",
    "    calls = raw_calls.groupby(['user_id','month'])['duration'].agg(['sum','count']).reset_index()\n",
    "    calls.columns = ['user_id', 'month', 'calls_count', 'calls_duration']\n",
    "    sms = raw_messages.groupby(['user_id','month'])['id'].count().reset_index()\n",
    "    sms.columns = ['user_id', 'month', 'messages']\n",
    "    internet = raw_internet.groupby(['user_id','month'])['mb_used'].sum().reset_index()\n",
    "    internet.columns = ['user_id', 'month', 'mb_used']\n",
    "\n",
    "    full_data = calls.merge(sms, on=['user_id','month'], how='outer').merge(internet,on=['user_id','month'], how='outer')\n",
    "    full_data = full_data.merge(raw_users,on='user_id', how='left')\n",
    " \n",
    " Но твой способ тоже рабочий) \n",
    " \n",
    "    \n",
    "    "
   ]
  },
  {
   "cell_type": "code",
   "execution_count": null,
   "metadata": {},
   "outputs": [],
   "source": []
  },
  {
   "cell_type": "code",
   "execution_count": 9,
   "metadata": {},
   "outputs": [
    {
     "name": "stdout",
     "output_type": "stream",
     "text": [
      "500\n",
      "462\n"
     ]
    }
   ],
   "source": [
    "### КОД_РЕВЬЮЕРА\n",
    "print(len(df_user_statistics['user_id'].unique()))\n",
    "print(len(raw_users[raw_users['churn_date'].isna()]['user_id'].unique()))"
   ]
  },
  {
   "cell_type": "code",
   "execution_count": 10,
   "metadata": {},
   "outputs": [
    {
     "name": "stdout",
     "output_type": "stream",
     "text": [
      "500\n",
      "500\n"
     ]
    }
   ],
   "source": [
    "print(len(df_user_statistics.user_id.unique()))\n",
    "print(len(raw_users.user_id.unique()))"
   ]
  },
  {
   "cell_type": "code",
   "execution_count": 11,
   "metadata": {},
   "outputs": [
    {
     "data": {
      "text/html": [
       "<div>\n",
       "<style scoped>\n",
       "    .dataframe tbody tr th:only-of-type {\n",
       "        vertical-align: middle;\n",
       "    }\n",
       "\n",
       "    .dataframe tbody tr th {\n",
       "        vertical-align: top;\n",
       "    }\n",
       "\n",
       "    .dataframe thead th {\n",
       "        text-align: right;\n",
       "    }\n",
       "</style>\n",
       "<table border=\"1\" class=\"dataframe\">\n",
       "  <thead>\n",
       "    <tr style=\"text-align: right;\">\n",
       "      <th></th>\n",
       "      <th>user_id</th>\n",
       "      <th>tariff</th>\n",
       "      <th>city</th>\n",
       "      <th>month</th>\n",
       "      <th>calls_duration</th>\n",
       "      <th>calls_count</th>\n",
       "      <th>messages_count</th>\n",
       "      <th>mb_used_total</th>\n",
       "    </tr>\n",
       "  </thead>\n",
       "  <tbody>\n",
       "    <tr>\n",
       "      <th>0</th>\n",
       "      <td>1000</td>\n",
       "      <td>ultra</td>\n",
       "      <td>Краснодар</td>\n",
       "      <td>1</td>\n",
       "      <td>NaN</td>\n",
       "      <td>NaN</td>\n",
       "      <td>NaN</td>\n",
       "      <td>NaN</td>\n",
       "    </tr>\n",
       "    <tr>\n",
       "      <th>1</th>\n",
       "      <td>1001</td>\n",
       "      <td>smart</td>\n",
       "      <td>Москва</td>\n",
       "      <td>1</td>\n",
       "      <td>NaN</td>\n",
       "      <td>NaN</td>\n",
       "      <td>NaN</td>\n",
       "      <td>NaN</td>\n",
       "    </tr>\n",
       "    <tr>\n",
       "      <th>2</th>\n",
       "      <td>1002</td>\n",
       "      <td>smart</td>\n",
       "      <td>Стерлитамак</td>\n",
       "      <td>1</td>\n",
       "      <td>NaN</td>\n",
       "      <td>NaN</td>\n",
       "      <td>NaN</td>\n",
       "      <td>NaN</td>\n",
       "    </tr>\n",
       "    <tr>\n",
       "      <th>3</th>\n",
       "      <td>1003</td>\n",
       "      <td>ultra</td>\n",
       "      <td>Москва</td>\n",
       "      <td>1</td>\n",
       "      <td>NaN</td>\n",
       "      <td>NaN</td>\n",
       "      <td>NaN</td>\n",
       "      <td>NaN</td>\n",
       "    </tr>\n",
       "    <tr>\n",
       "      <th>4</th>\n",
       "      <td>1004</td>\n",
       "      <td>ultra</td>\n",
       "      <td>Новокузнецк</td>\n",
       "      <td>1</td>\n",
       "      <td>NaN</td>\n",
       "      <td>NaN</td>\n",
       "      <td>NaN</td>\n",
       "      <td>NaN</td>\n",
       "    </tr>\n",
       "    <tr>\n",
       "      <th>...</th>\n",
       "      <td>...</td>\n",
       "      <td>...</td>\n",
       "      <td>...</td>\n",
       "      <td>...</td>\n",
       "      <td>...</td>\n",
       "      <td>...</td>\n",
       "      <td>...</td>\n",
       "      <td>...</td>\n",
       "    </tr>\n",
       "    <tr>\n",
       "      <th>5995</th>\n",
       "      <td>1495</td>\n",
       "      <td>ultra</td>\n",
       "      <td>Иркутск</td>\n",
       "      <td>12</td>\n",
       "      <td>1031.0</td>\n",
       "      <td>155.0</td>\n",
       "      <td>84.0</td>\n",
       "      <td>48128.0</td>\n",
       "    </tr>\n",
       "    <tr>\n",
       "      <th>5996</th>\n",
       "      <td>1496</td>\n",
       "      <td>smart</td>\n",
       "      <td>Вологда</td>\n",
       "      <td>12</td>\n",
       "      <td>518.0</td>\n",
       "      <td>80.0</td>\n",
       "      <td>51.0</td>\n",
       "      <td>56320.0</td>\n",
       "    </tr>\n",
       "    <tr>\n",
       "      <th>5997</th>\n",
       "      <td>1497</td>\n",
       "      <td>smart</td>\n",
       "      <td>Челябинск</td>\n",
       "      <td>12</td>\n",
       "      <td>545.0</td>\n",
       "      <td>71.0</td>\n",
       "      <td>17.0</td>\n",
       "      <td>43008.0</td>\n",
       "    </tr>\n",
       "    <tr>\n",
       "      <th>5998</th>\n",
       "      <td>1498</td>\n",
       "      <td>smart</td>\n",
       "      <td>Владикавказ</td>\n",
       "      <td>12</td>\n",
       "      <td>NaN</td>\n",
       "      <td>NaN</td>\n",
       "      <td>NaN</td>\n",
       "      <td>NaN</td>\n",
       "    </tr>\n",
       "    <tr>\n",
       "      <th>5999</th>\n",
       "      <td>1499</td>\n",
       "      <td>smart</td>\n",
       "      <td>Пермь</td>\n",
       "      <td>12</td>\n",
       "      <td>492.0</td>\n",
       "      <td>69.0</td>\n",
       "      <td>66.0</td>\n",
       "      <td>40960.0</td>\n",
       "    </tr>\n",
       "  </tbody>\n",
       "</table>\n",
       "<p>6000 rows × 8 columns</p>\n",
       "</div>"
      ],
      "text/plain": [
       "     user_id tariff         city  month  calls_duration  calls_count  \\\n",
       "0       1000  ultra    Краснодар      1             NaN          NaN   \n",
       "1       1001  smart       Москва      1             NaN          NaN   \n",
       "2       1002  smart  Стерлитамак      1             NaN          NaN   \n",
       "3       1003  ultra       Москва      1             NaN          NaN   \n",
       "4       1004  ultra  Новокузнецк      1             NaN          NaN   \n",
       "...      ...    ...          ...    ...             ...          ...   \n",
       "5995    1495  ultra      Иркутск     12          1031.0        155.0   \n",
       "5996    1496  smart      Вологда     12           518.0         80.0   \n",
       "5997    1497  smart    Челябинск     12           545.0         71.0   \n",
       "5998    1498  smart  Владикавказ     12             NaN          NaN   \n",
       "5999    1499  smart        Пермь     12           492.0         69.0   \n",
       "\n",
       "      messages_count  mb_used_total  \n",
       "0                NaN            NaN  \n",
       "1                NaN            NaN  \n",
       "2                NaN            NaN  \n",
       "3                NaN            NaN  \n",
       "4                NaN            NaN  \n",
       "...              ...            ...  \n",
       "5995            84.0        48128.0  \n",
       "5996            51.0        56320.0  \n",
       "5997            17.0        43008.0  \n",
       "5998             NaN            NaN  \n",
       "5999            66.0        40960.0  \n",
       "\n",
       "[6000 rows x 8 columns]"
      ]
     },
     "execution_count": 11,
     "metadata": {},
     "output_type": "execute_result"
    }
   ],
   "source": [
    "df_user_statistics"
   ]
  },
  {
   "cell_type": "markdown",
   "metadata": {},
   "source": [
    "<div style=\"border: 3px solid red; padding: 15px\"><font color='red' size=5 ><b>Комментарий ревьюера v2</b></font> \n",
    "\n",
    "Когда мы соединили таблицы, то у нас появились пропуски. Скорее всего в какой то месяц пользователь не пользовался какой нибудь из услуг. Я предлагаю эти пропуски заполнить нулями) Так как они потом понадобятся в дальнейших исследованиях)\n"
   ]
  },
  {
   "cell_type": "code",
   "execution_count": 12,
   "metadata": {},
   "outputs": [
    {
     "data": {
      "text/html": [
       "<div>\n",
       "<style scoped>\n",
       "    .dataframe tbody tr th:only-of-type {\n",
       "        vertical-align: middle;\n",
       "    }\n",
       "\n",
       "    .dataframe tbody tr th {\n",
       "        vertical-align: top;\n",
       "    }\n",
       "\n",
       "    .dataframe thead th {\n",
       "        text-align: right;\n",
       "    }\n",
       "</style>\n",
       "<table border=\"1\" class=\"dataframe\">\n",
       "  <thead>\n",
       "    <tr style=\"text-align: right;\">\n",
       "      <th></th>\n",
       "      <th>user_id</th>\n",
       "      <th>tariff</th>\n",
       "      <th>city</th>\n",
       "      <th>month</th>\n",
       "      <th>calls_duration</th>\n",
       "      <th>calls_count</th>\n",
       "      <th>messages_count</th>\n",
       "      <th>mb_used_total</th>\n",
       "    </tr>\n",
       "  </thead>\n",
       "  <tbody>\n",
       "    <tr>\n",
       "      <th>0</th>\n",
       "      <td>1000</td>\n",
       "      <td>ultra</td>\n",
       "      <td>Краснодар</td>\n",
       "      <td>1</td>\n",
       "      <td>0.0</td>\n",
       "      <td>0.0</td>\n",
       "      <td>0.0</td>\n",
       "      <td>0.0</td>\n",
       "    </tr>\n",
       "    <tr>\n",
       "      <th>1</th>\n",
       "      <td>1001</td>\n",
       "      <td>smart</td>\n",
       "      <td>Москва</td>\n",
       "      <td>1</td>\n",
       "      <td>0.0</td>\n",
       "      <td>0.0</td>\n",
       "      <td>0.0</td>\n",
       "      <td>0.0</td>\n",
       "    </tr>\n",
       "    <tr>\n",
       "      <th>2</th>\n",
       "      <td>1002</td>\n",
       "      <td>smart</td>\n",
       "      <td>Стерлитамак</td>\n",
       "      <td>1</td>\n",
       "      <td>0.0</td>\n",
       "      <td>0.0</td>\n",
       "      <td>0.0</td>\n",
       "      <td>0.0</td>\n",
       "    </tr>\n",
       "    <tr>\n",
       "      <th>3</th>\n",
       "      <td>1003</td>\n",
       "      <td>ultra</td>\n",
       "      <td>Москва</td>\n",
       "      <td>1</td>\n",
       "      <td>0.0</td>\n",
       "      <td>0.0</td>\n",
       "      <td>0.0</td>\n",
       "      <td>0.0</td>\n",
       "    </tr>\n",
       "    <tr>\n",
       "      <th>4</th>\n",
       "      <td>1004</td>\n",
       "      <td>ultra</td>\n",
       "      <td>Новокузнецк</td>\n",
       "      <td>1</td>\n",
       "      <td>0.0</td>\n",
       "      <td>0.0</td>\n",
       "      <td>0.0</td>\n",
       "      <td>0.0</td>\n",
       "    </tr>\n",
       "  </tbody>\n",
       "</table>\n",
       "</div>"
      ],
      "text/plain": [
       "  user_id tariff         city  month  calls_duration  calls_count  \\\n",
       "0    1000  ultra    Краснодар      1             0.0          0.0   \n",
       "1    1001  smart       Москва      1             0.0          0.0   \n",
       "2    1002  smart  Стерлитамак      1             0.0          0.0   \n",
       "3    1003  ultra       Москва      1             0.0          0.0   \n",
       "4    1004  ultra  Новокузнецк      1             0.0          0.0   \n",
       "\n",
       "   messages_count  mb_used_total  \n",
       "0             0.0            0.0  \n",
       "1             0.0            0.0  \n",
       "2             0.0            0.0  \n",
       "3             0.0            0.0  \n",
       "4             0.0            0.0  "
      ]
     },
     "metadata": {},
     "output_type": "display_data"
    }
   ],
   "source": [
    "# Заполним пропуски в новом датафрейме\n",
    "df_user_statistics[['calls_duration', 'calls_count', 'messages_count', 'mb_used_total']] = df_user_statistics[['calls_duration', 'calls_count', 'messages_count', 'mb_used_total']].fillna(0)\n",
    "\n",
    "# Проверим\n",
    "display(df_user_statistics.head())"
   ]
  },
  {
   "cell_type": "markdown",
   "metadata": {},
   "source": [
    "Последним шагом добавим новую колонку с месячной выручкой с каждого пользователя."
   ]
  },
  {
   "cell_type": "code",
   "execution_count": 13,
   "metadata": {},
   "outputs": [
    {
     "name": "stdout",
     "output_type": "stream",
     "text": [
      "5 строк нового датасета\n"
     ]
    },
    {
     "data": {
      "text/html": [
       "<div>\n",
       "<style scoped>\n",
       "    .dataframe tbody tr th:only-of-type {\n",
       "        vertical-align: middle;\n",
       "    }\n",
       "\n",
       "    .dataframe tbody tr th {\n",
       "        vertical-align: top;\n",
       "    }\n",
       "\n",
       "    .dataframe thead th {\n",
       "        text-align: right;\n",
       "    }\n",
       "</style>\n",
       "<table border=\"1\" class=\"dataframe\">\n",
       "  <thead>\n",
       "    <tr style=\"text-align: right;\">\n",
       "      <th></th>\n",
       "      <th>user_id</th>\n",
       "      <th>tariff</th>\n",
       "      <th>city</th>\n",
       "      <th>month</th>\n",
       "      <th>calls_duration</th>\n",
       "      <th>calls_count</th>\n",
       "      <th>messages_count</th>\n",
       "      <th>mb_used_total</th>\n",
       "      <th>revenue</th>\n",
       "    </tr>\n",
       "  </thead>\n",
       "  <tbody>\n",
       "    <tr>\n",
       "      <th>5995</th>\n",
       "      <td>1495</td>\n",
       "      <td>ultra</td>\n",
       "      <td>Иркутск</td>\n",
       "      <td>12</td>\n",
       "      <td>1031.0</td>\n",
       "      <td>155.0</td>\n",
       "      <td>84.0</td>\n",
       "      <td>48128.0</td>\n",
       "      <td>4500.0</td>\n",
       "    </tr>\n",
       "    <tr>\n",
       "      <th>5996</th>\n",
       "      <td>1496</td>\n",
       "      <td>smart</td>\n",
       "      <td>Вологда</td>\n",
       "      <td>12</td>\n",
       "      <td>518.0</td>\n",
       "      <td>80.0</td>\n",
       "      <td>51.0</td>\n",
       "      <td>56320.0</td>\n",
       "      <td>8607.0</td>\n",
       "    </tr>\n",
       "    <tr>\n",
       "      <th>5997</th>\n",
       "      <td>1497</td>\n",
       "      <td>smart</td>\n",
       "      <td>Челябинск</td>\n",
       "      <td>12</td>\n",
       "      <td>545.0</td>\n",
       "      <td>71.0</td>\n",
       "      <td>17.0</td>\n",
       "      <td>43008.0</td>\n",
       "      <td>6085.0</td>\n",
       "    </tr>\n",
       "    <tr>\n",
       "      <th>5998</th>\n",
       "      <td>1498</td>\n",
       "      <td>smart</td>\n",
       "      <td>Владикавказ</td>\n",
       "      <td>12</td>\n",
       "      <td>0.0</td>\n",
       "      <td>0.0</td>\n",
       "      <td>0.0</td>\n",
       "      <td>0.0</td>\n",
       "      <td>550.0</td>\n",
       "    </tr>\n",
       "    <tr>\n",
       "      <th>5999</th>\n",
       "      <td>1499</td>\n",
       "      <td>smart</td>\n",
       "      <td>Пермь</td>\n",
       "      <td>12</td>\n",
       "      <td>492.0</td>\n",
       "      <td>69.0</td>\n",
       "      <td>66.0</td>\n",
       "      <td>40960.0</td>\n",
       "      <td>5598.0</td>\n",
       "    </tr>\n",
       "  </tbody>\n",
       "</table>\n",
       "</div>"
      ],
      "text/plain": [
       "     user_id tariff         city  month  calls_duration  calls_count  \\\n",
       "5995    1495  ultra      Иркутск     12          1031.0        155.0   \n",
       "5996    1496  smart      Вологда     12           518.0         80.0   \n",
       "5997    1497  smart    Челябинск     12           545.0         71.0   \n",
       "5998    1498  smart  Владикавказ     12             0.0          0.0   \n",
       "5999    1499  smart        Пермь     12           492.0         69.0   \n",
       "\n",
       "      messages_count  mb_used_total  revenue  \n",
       "5995            84.0        48128.0   4500.0  \n",
       "5996            51.0        56320.0   8607.0  \n",
       "5997            17.0        43008.0   6085.0  \n",
       "5998             0.0            0.0    550.0  \n",
       "5999            66.0        40960.0   5598.0  "
      ]
     },
     "metadata": {},
     "output_type": "display_data"
    },
    {
     "name": "stdout",
     "output_type": "stream",
     "text": [
      "Статистика по всем пользователям\n"
     ]
    },
    {
     "data": {
      "text/html": [
       "<div>\n",
       "<style scoped>\n",
       "    .dataframe tbody tr th:only-of-type {\n",
       "        vertical-align: middle;\n",
       "    }\n",
       "\n",
       "    .dataframe tbody tr th {\n",
       "        vertical-align: top;\n",
       "    }\n",
       "\n",
       "    .dataframe thead th {\n",
       "        text-align: right;\n",
       "    }\n",
       "</style>\n",
       "<table border=\"1\" class=\"dataframe\">\n",
       "  <thead>\n",
       "    <tr style=\"text-align: right;\">\n",
       "      <th></th>\n",
       "      <th>month</th>\n",
       "      <th>calls_duration</th>\n",
       "      <th>calls_count</th>\n",
       "      <th>messages_count</th>\n",
       "      <th>mb_used_total</th>\n",
       "      <th>revenue</th>\n",
       "    </tr>\n",
       "  </thead>\n",
       "  <tbody>\n",
       "    <tr>\n",
       "      <th>count</th>\n",
       "      <td>6000.0</td>\n",
       "      <td>6000.0</td>\n",
       "      <td>6000.0</td>\n",
       "      <td>6000.0</td>\n",
       "      <td>6000.0</td>\n",
       "      <td>6000.0</td>\n",
       "    </tr>\n",
       "    <tr>\n",
       "      <th>mean</th>\n",
       "      <td>6.0</td>\n",
       "      <td>242.0</td>\n",
       "      <td>34.0</td>\n",
       "      <td>21.0</td>\n",
       "      <td>22552.0</td>\n",
       "      <td>3395.0</td>\n",
       "    </tr>\n",
       "    <tr>\n",
       "      <th>std</th>\n",
       "      <td>3.0</td>\n",
       "      <td>286.0</td>\n",
       "      <td>40.0</td>\n",
       "      <td>33.0</td>\n",
       "      <td>24411.0</td>\n",
       "      <td>3145.0</td>\n",
       "    </tr>\n",
       "    <tr>\n",
       "      <th>min</th>\n",
       "      <td>1.0</td>\n",
       "      <td>0.0</td>\n",
       "      <td>0.0</td>\n",
       "      <td>0.0</td>\n",
       "      <td>0.0</td>\n",
       "      <td>550.0</td>\n",
       "    </tr>\n",
       "    <tr>\n",
       "      <th>25%</th>\n",
       "      <td>4.0</td>\n",
       "      <td>0.0</td>\n",
       "      <td>0.0</td>\n",
       "      <td>0.0</td>\n",
       "      <td>0.0</td>\n",
       "      <td>550.0</td>\n",
       "    </tr>\n",
       "    <tr>\n",
       "      <th>50%</th>\n",
       "      <td>6.0</td>\n",
       "      <td>98.0</td>\n",
       "      <td>14.0</td>\n",
       "      <td>0.0</td>\n",
       "      <td>13824.0</td>\n",
       "      <td>1950.0</td>\n",
       "    </tr>\n",
       "    <tr>\n",
       "      <th>75%</th>\n",
       "      <td>9.0</td>\n",
       "      <td>460.0</td>\n",
       "      <td>65.0</td>\n",
       "      <td>33.0</td>\n",
       "      <td>44032.0</td>\n",
       "      <td>5750.0</td>\n",
       "    </tr>\n",
       "    <tr>\n",
       "      <th>max</th>\n",
       "      <td>12.0</td>\n",
       "      <td>1673.0</td>\n",
       "      <td>244.0</td>\n",
       "      <td>224.0</td>\n",
       "      <td>103424.0</td>\n",
       "      <td>19370.0</td>\n",
       "    </tr>\n",
       "  </tbody>\n",
       "</table>\n",
       "</div>"
      ],
      "text/plain": [
       "        month  calls_duration  calls_count  messages_count  mb_used_total  \\\n",
       "count  6000.0          6000.0       6000.0          6000.0         6000.0   \n",
       "mean      6.0           242.0         34.0            21.0        22552.0   \n",
       "std       3.0           286.0         40.0            33.0        24411.0   \n",
       "min       1.0             0.0          0.0             0.0            0.0   \n",
       "25%       4.0             0.0          0.0             0.0            0.0   \n",
       "50%       6.0            98.0         14.0             0.0        13824.0   \n",
       "75%       9.0           460.0         65.0            33.0        44032.0   \n",
       "max      12.0          1673.0        244.0           224.0       103424.0   \n",
       "\n",
       "       revenue  \n",
       "count   6000.0  \n",
       "mean    3395.0  \n",
       "std     3145.0  \n",
       "min      550.0  \n",
       "25%      550.0  \n",
       "50%     1950.0  \n",
       "75%     5750.0  \n",
       "max    19370.0  "
      ]
     },
     "metadata": {},
     "output_type": "display_data"
    }
   ],
   "source": [
    "def fun_revenue_per_user(df, monthly_payment: int, limits: list, prices: list) -> float:\n",
    "    \"\"\"\n",
    "    This function calculates a monthly revenue per user based on monthly subscription fee,\n",
    "    limits included in the subsription and prices for services above limits.\n",
    "\n",
    "    Args:\n",
    "        df (DataFrame): a dataframe with user data.\n",
    "        monthly_payment (int64): monthly payment fee. Depends on tariff.\n",
    "        limits (list): A list with 3 values: [max mins for minutes, max messages, max mb of data] per month.\n",
    "        prices (list): A list with 3 values: [price for extra minutes, price for extra message, price for mb of data].\n",
    "\n",
    "    Returns:\n",
    "        revenue = monthly_payment + \n",
    "                  max(calls_duration - limit_min, 0) * price_min +\n",
    "                  max(messages_count - limit_message, 0) * price_message + \n",
    "                  max(mb_used_total - limit_mb, 0) * price_mb\n",
    "    \"\"\"\n",
    "    # limits per tariff\n",
    "    limit_min, limit_message, limit_mb = limits[0], limits[1], limits[2]\n",
    "    \n",
    "    # Prices for extra servcies\n",
    "    price_min, price_message, price_mb = prices[0], prices[1], prices[2]\n",
    "            \n",
    "    # Revenue calculation per tariff\n",
    "    revenue = monthly_payment + \\\n",
    "                max(df.calls_duration - limit_min, 0) * price_min + \\\n",
    "                max(df.messages_count - limit_message, 0) * price_message + \\\n",
    "                max(df.mb_used_total - limit_mb, 0) * price_mb\n",
    "    return revenue\n",
    "\n",
    "# Зададим revenue для двух тарифов\n",
    "df_user_statistics \\\n",
    "    .loc[df_user_statistics.tariff == 'smart', 'revenue'] = \\\n",
    "        df_user_statistics.apply(fun_revenue_per_user,\n",
    "                                 args=(550,\n",
    "                                       [500, 50, 15 * 1024],\n",
    "                                       [3, 3, 200 / 1024]),\n",
    "                                 axis=1)\n",
    "\n",
    "df_user_statistics \\\n",
    "    .loc[df_user_statistics.tariff == 'ultra', 'revenue'] = \\\n",
    "        df_user_statistics.apply(fun_revenue_per_user,\n",
    "                                 args=(1950,\n",
    "                                       [3e3, 1e3, 30 * 1024],\n",
    "                                       [1, 1, 150 / 1024]),\n",
    "                                 axis=1)\n",
    "\n",
    "# Посмотрим, что получилось\n",
    "print('5 строк нового датасета')\n",
    "display(df_user_statistics.tail())\n",
    "print('Статистика по всем пользователям')\n",
    "display(round(df_user_statistics.describe()))"
   ]
  },
  {
   "cell_type": "markdown",
   "metadata": {},
   "source": [
    "<div class=\"alert alert-block alert-danger\">\n",
    "<b> ❌ Нужно исправить:</b> Смотри, сейчас сложно оценить общую выручку по абонентам, когда у тебя часть абонентов утеряна. Но сразу какие замечания в функции: \n",
    "\n",
    "1) Ты забыл округлить суммарные ГБ. Это важно) \n",
    "\n",
    "2) Помни про округление каждой сессии звонка \n",
    "\n",
    "3) Это не замечание, скорее рекомендация: в функции ты в ручную забиваешь значения тарифов. Это нехорошо) потому что может привести к ошибке. А также представь, что у тебя 10 тарифов? В ручную 10 тарифов уже будет тяжело забить. Это не критичная ошибка в данном проекте, но если будет время подумай над способом исправить это \n",
    "</div>"
   ]
  },
  {
   "cell_type": "markdown",
   "metadata": {},
   "source": [
    "Похоже, шалость удалась! Теперь можно приступить к следующей главе."
   ]
  },
  {
   "cell_type": "markdown",
   "metadata": {},
   "source": [
    "<div class=\"alert alert-block alert-danger\">\n",
    "<b> ❌ Нужно исправить:</b> Давай исправим критичные ошибки в объединении и расчете выручки) и тогда шалость удастся)\n",
    "</div>"
   ]
  },
  {
   "cell_type": "markdown",
   "metadata": {},
   "source": [
    "<div class=\"alert alert-block alert-info\">\n",
    "<b>Комментарий студента </b> \n",
    "\n",
    "1. Поправил.\n",
    "2. Это тоже поправил.\n",
    "3. Хм. Это можно было бы сделать через словари. Например `{'smart': [], [], []}`. Внутри функции проходить по каждому ключу и записывать данные тарифа в локальные переменные. Так можно было бы передавать много разных тарифов. Но все равно пришлось бы напечатать вводные. Можно я только забатонюсь и не буду переписывать функцию?...\n",
    "\n",
    "</div>"
   ]
  },
  {
   "cell_type": "markdown",
   "metadata": {},
   "source": [
    "<div style=\"border: 3px solid red; padding: 15px\"><font color='red' size=5 ><b>Комментарий ревьюера v2</b></font> \n",
    "\n",
    "Да функцию можно не переписывать) но у тебя получились очень большие выручки. Скорее всего, это из твоих операций с МБ в начале. Как понять что получились не правильные выручки? Можно просто сделать срез по пользователю посмотреть его суммарные потребления по всем услугам и посчитать в ручную выручку)\n",
    "    \n",
    "    Давай еще раз по порядку, что нам нужно сделать:\n",
    "    1. Не трогаем столбец с МБ в начале)\n",
    "    2. В функции суммарные МБ делим на 1024 и округляем\n",
    "    3. Умножаем получившиеся ГБ на стоимость за один ГБ\n"
   ]
  },
  {
   "cell_type": "markdown",
   "metadata": {},
   "source": [
    "<div class=\"alert alert-block alert-info\">\n",
    "<b>Комментарий студента </b> \n",
    "\n",
    "Поправил? Но МБ исправлены в самой таблице, а не в функции. Не знаю, так хорошо или плохо. Наверное, для наших целей неважно, потому что по условиям счиатем цену за МБ. Но в нормальной жизни, наверное, не надо переписывать количество реальных МБ, которые использовал пользователь.\n",
    "\n",
    "</div>"
   ]
  },
  {
   "cell_type": "markdown",
   "metadata": {},
   "source": [
    "<div style=\"border: 3px solid green; padding: 15px\"><font color='green' size=5 ><b>Комментарий ревьюера v3</b></font> \n",
    "\n",
    "Смотри, как можно было сделать твою функцию. Что для этого нужно\n",
    "    \n",
    "   1) Эта строчка в начале проекта `raw_internet['mb_used'] = raw_internet.mb_used.div(1024).apply(np.ceil).mul(1024)` нужно удалить.Потому, что мы уже выяснили, что у нас перерасход идет. \n",
    "    \n",
    "   2) Дальше я модифицировал твою функцию. Посмотри как она приведена ниже. То есть там я сразу суммарные мб делю на 1024 и округляюю вверх) Без предварительных переводов сессий и т.д."
   ]
  },
  {
   "cell_type": "code",
   "execution_count": 14,
   "metadata": {},
   "outputs": [
    {
     "name": "stdout",
     "output_type": "stream",
     "text": [
      "5 строк нового датасета\n"
     ]
    },
    {
     "data": {
      "text/html": [
       "<div>\n",
       "<style scoped>\n",
       "    .dataframe tbody tr th:only-of-type {\n",
       "        vertical-align: middle;\n",
       "    }\n",
       "\n",
       "    .dataframe tbody tr th {\n",
       "        vertical-align: top;\n",
       "    }\n",
       "\n",
       "    .dataframe thead th {\n",
       "        text-align: right;\n",
       "    }\n",
       "</style>\n",
       "<table border=\"1\" class=\"dataframe\">\n",
       "  <thead>\n",
       "    <tr style=\"text-align: right;\">\n",
       "      <th></th>\n",
       "      <th>user_id</th>\n",
       "      <th>tariff</th>\n",
       "      <th>city</th>\n",
       "      <th>month</th>\n",
       "      <th>calls_duration</th>\n",
       "      <th>calls_count</th>\n",
       "      <th>messages_count</th>\n",
       "      <th>mb_used_total</th>\n",
       "      <th>revenue</th>\n",
       "    </tr>\n",
       "  </thead>\n",
       "  <tbody>\n",
       "    <tr>\n",
       "      <th>5995</th>\n",
       "      <td>1495</td>\n",
       "      <td>ultra</td>\n",
       "      <td>Иркутск</td>\n",
       "      <td>12</td>\n",
       "      <td>1031.0</td>\n",
       "      <td>155.0</td>\n",
       "      <td>84.0</td>\n",
       "      <td>48128.0</td>\n",
       "      <td>4500.0</td>\n",
       "    </tr>\n",
       "    <tr>\n",
       "      <th>5996</th>\n",
       "      <td>1496</td>\n",
       "      <td>smart</td>\n",
       "      <td>Вологда</td>\n",
       "      <td>12</td>\n",
       "      <td>518.0</td>\n",
       "      <td>80.0</td>\n",
       "      <td>51.0</td>\n",
       "      <td>56320.0</td>\n",
       "      <td>8607.0</td>\n",
       "    </tr>\n",
       "    <tr>\n",
       "      <th>5997</th>\n",
       "      <td>1497</td>\n",
       "      <td>smart</td>\n",
       "      <td>Челябинск</td>\n",
       "      <td>12</td>\n",
       "      <td>545.0</td>\n",
       "      <td>71.0</td>\n",
       "      <td>17.0</td>\n",
       "      <td>43008.0</td>\n",
       "      <td>6085.0</td>\n",
       "    </tr>\n",
       "    <tr>\n",
       "      <th>5998</th>\n",
       "      <td>1498</td>\n",
       "      <td>smart</td>\n",
       "      <td>Владикавказ</td>\n",
       "      <td>12</td>\n",
       "      <td>0.0</td>\n",
       "      <td>0.0</td>\n",
       "      <td>0.0</td>\n",
       "      <td>0.0</td>\n",
       "      <td>550.0</td>\n",
       "    </tr>\n",
       "    <tr>\n",
       "      <th>5999</th>\n",
       "      <td>1499</td>\n",
       "      <td>smart</td>\n",
       "      <td>Пермь</td>\n",
       "      <td>12</td>\n",
       "      <td>492.0</td>\n",
       "      <td>69.0</td>\n",
       "      <td>66.0</td>\n",
       "      <td>40960.0</td>\n",
       "      <td>5598.0</td>\n",
       "    </tr>\n",
       "  </tbody>\n",
       "</table>\n",
       "</div>"
      ],
      "text/plain": [
       "     user_id tariff         city  month  calls_duration  calls_count  \\\n",
       "5995    1495  ultra      Иркутск     12          1031.0        155.0   \n",
       "5996    1496  smart      Вологда     12           518.0         80.0   \n",
       "5997    1497  smart    Челябинск     12           545.0         71.0   \n",
       "5998    1498  smart  Владикавказ     12             0.0          0.0   \n",
       "5999    1499  smart        Пермь     12           492.0         69.0   \n",
       "\n",
       "      messages_count  mb_used_total  revenue  \n",
       "5995            84.0        48128.0   4500.0  \n",
       "5996            51.0        56320.0   8607.0  \n",
       "5997            17.0        43008.0   6085.0  \n",
       "5998             0.0            0.0    550.0  \n",
       "5999            66.0        40960.0   5598.0  "
      ]
     },
     "metadata": {},
     "output_type": "display_data"
    },
    {
     "name": "stdout",
     "output_type": "stream",
     "text": [
      "Статистика по всем пользователям\n"
     ]
    },
    {
     "data": {
      "text/html": [
       "<div>\n",
       "<style scoped>\n",
       "    .dataframe tbody tr th:only-of-type {\n",
       "        vertical-align: middle;\n",
       "    }\n",
       "\n",
       "    .dataframe tbody tr th {\n",
       "        vertical-align: top;\n",
       "    }\n",
       "\n",
       "    .dataframe thead th {\n",
       "        text-align: right;\n",
       "    }\n",
       "</style>\n",
       "<table border=\"1\" class=\"dataframe\">\n",
       "  <thead>\n",
       "    <tr style=\"text-align: right;\">\n",
       "      <th></th>\n",
       "      <th>month</th>\n",
       "      <th>calls_duration</th>\n",
       "      <th>calls_count</th>\n",
       "      <th>messages_count</th>\n",
       "      <th>mb_used_total</th>\n",
       "      <th>revenue</th>\n",
       "    </tr>\n",
       "  </thead>\n",
       "  <tbody>\n",
       "    <tr>\n",
       "      <th>count</th>\n",
       "      <td>6000.0</td>\n",
       "      <td>6000.0</td>\n",
       "      <td>6000.0</td>\n",
       "      <td>6000.0</td>\n",
       "      <td>6000.0</td>\n",
       "      <td>6000.0</td>\n",
       "    </tr>\n",
       "    <tr>\n",
       "      <th>mean</th>\n",
       "      <td>6.0</td>\n",
       "      <td>242.0</td>\n",
       "      <td>34.0</td>\n",
       "      <td>21.0</td>\n",
       "      <td>22552.0</td>\n",
       "      <td>3395.0</td>\n",
       "    </tr>\n",
       "    <tr>\n",
       "      <th>std</th>\n",
       "      <td>3.0</td>\n",
       "      <td>286.0</td>\n",
       "      <td>40.0</td>\n",
       "      <td>33.0</td>\n",
       "      <td>24411.0</td>\n",
       "      <td>3145.0</td>\n",
       "    </tr>\n",
       "    <tr>\n",
       "      <th>min</th>\n",
       "      <td>1.0</td>\n",
       "      <td>0.0</td>\n",
       "      <td>0.0</td>\n",
       "      <td>0.0</td>\n",
       "      <td>0.0</td>\n",
       "      <td>550.0</td>\n",
       "    </tr>\n",
       "    <tr>\n",
       "      <th>25%</th>\n",
       "      <td>4.0</td>\n",
       "      <td>0.0</td>\n",
       "      <td>0.0</td>\n",
       "      <td>0.0</td>\n",
       "      <td>0.0</td>\n",
       "      <td>550.0</td>\n",
       "    </tr>\n",
       "    <tr>\n",
       "      <th>50%</th>\n",
       "      <td>6.0</td>\n",
       "      <td>98.0</td>\n",
       "      <td>14.0</td>\n",
       "      <td>0.0</td>\n",
       "      <td>13824.0</td>\n",
       "      <td>1950.0</td>\n",
       "    </tr>\n",
       "    <tr>\n",
       "      <th>75%</th>\n",
       "      <td>9.0</td>\n",
       "      <td>460.0</td>\n",
       "      <td>65.0</td>\n",
       "      <td>33.0</td>\n",
       "      <td>44032.0</td>\n",
       "      <td>5750.0</td>\n",
       "    </tr>\n",
       "    <tr>\n",
       "      <th>max</th>\n",
       "      <td>12.0</td>\n",
       "      <td>1673.0</td>\n",
       "      <td>244.0</td>\n",
       "      <td>224.0</td>\n",
       "      <td>103424.0</td>\n",
       "      <td>19370.0</td>\n",
       "    </tr>\n",
       "  </tbody>\n",
       "</table>\n",
       "</div>"
      ],
      "text/plain": [
       "        month  calls_duration  calls_count  messages_count  mb_used_total  \\\n",
       "count  6000.0          6000.0       6000.0          6000.0         6000.0   \n",
       "mean      6.0           242.0         34.0            21.0        22552.0   \n",
       "std       3.0           286.0         40.0            33.0        24411.0   \n",
       "min       1.0             0.0          0.0             0.0            0.0   \n",
       "25%       4.0             0.0          0.0             0.0            0.0   \n",
       "50%       6.0            98.0         14.0             0.0        13824.0   \n",
       "75%       9.0           460.0         65.0            33.0        44032.0   \n",
       "max      12.0          1673.0        244.0           224.0       103424.0   \n",
       "\n",
       "       revenue  \n",
       "count   6000.0  \n",
       "mean    3395.0  \n",
       "std     3145.0  \n",
       "min      550.0  \n",
       "25%      550.0  \n",
       "50%     1950.0  \n",
       "75%     5750.0  \n",
       "max    19370.0  "
      ]
     },
     "metadata": {},
     "output_type": "display_data"
    }
   ],
   "source": [
    "#### КОД РЕВЬЮЕРА\n",
    "\n",
    "def fun_revenue_per_user(df, monthly_payment: int, limits: list, prices: list) -> float:\n",
    "\n",
    "    # limits per tariff\n",
    "    limit_min, limit_message, limit_mb = limits[0], limits[1], limits[2]\n",
    "    \n",
    "    # Prices for extra servcies\n",
    "    price_min, price_message, price_mb = prices[0], prices[1], prices[2]\n",
    "            \n",
    "    # Revenue calculation per tariff\n",
    "    revenue = monthly_payment + \\\n",
    "                max(df.calls_duration - limit_min, 0) * price_min + \\\n",
    "                max(df.messages_count - limit_message, 0) * price_message + \\\n",
    "                max(np.ceil(df.mb_used_total/1024) - limit_mb, 0) * price_mb #### СУММАРНЫЕ МБ ПЕРЕВОДИМ В ГБ И ОКРУГЛЯЕМ\n",
    "    return revenue\n",
    "\n",
    "# Зададим revenue для двух тарифов\n",
    "df_user_statistics \\\n",
    "    .loc[df_user_statistics.tariff == 'smart', 'revenue'] = \\\n",
    "        df_user_statistics.apply(fun_revenue_per_user,\n",
    "                                 args=(550,\n",
    "                                       [500, 50, 15 ],### УБИРАЕМ ВСЕ ДЕЛЕНИЯ НА 1024\n",
    "                                       [3, 3, 200]),\n",
    "                                 axis=1)\n",
    "\n",
    "df_user_statistics \\\n",
    "    .loc[df_user_statistics.tariff == 'ultra', 'revenue'] = \\\n",
    "        df_user_statistics.apply(fun_revenue_per_user,\n",
    "                                 args=(1950,\n",
    "                                       [3e3, 1e3, 30],### И ЗДЕСЬ ТОЖЕ:)\n",
    "                                       [1, 1, 150 ]),\n",
    "                                 axis=1)\n",
    "\n",
    "# Посмотрим, что получилось\n",
    "print('5 строк нового датасета')\n",
    "display(df_user_statistics.tail())\n",
    "print('Статистика по всем пользователям')\n",
    "display(round(df_user_statistics.describe()))"
   ]
  },
  {
   "cell_type": "markdown",
   "metadata": {},
   "source": [
    "## Исследовательский анализ данных\n",
    "\n",
    "Посмотрим, как клиенты разных тарифов себя ведут: в каком объеме пользуются услугами и когда."
   ]
  },
  {
   "cell_type": "code",
   "execution_count": 15,
   "metadata": {},
   "outputs": [
    {
     "name": "stdout",
     "output_type": "stream",
     "text": [
      "Статистика по пользователям, которые используют тариф smart\n"
     ]
    },
    {
     "data": {
      "text/html": [
       "<div>\n",
       "<style scoped>\n",
       "    .dataframe tbody tr th:only-of-type {\n",
       "        vertical-align: middle;\n",
       "    }\n",
       "\n",
       "    .dataframe tbody tr th {\n",
       "        vertical-align: top;\n",
       "    }\n",
       "\n",
       "    .dataframe thead th {\n",
       "        text-align: right;\n",
       "    }\n",
       "</style>\n",
       "<table border=\"1\" class=\"dataframe\">\n",
       "  <thead>\n",
       "    <tr style=\"text-align: right;\">\n",
       "      <th></th>\n",
       "      <th>month</th>\n",
       "      <th>calls_duration</th>\n",
       "      <th>calls_count</th>\n",
       "      <th>messages_count</th>\n",
       "      <th>mb_used_total</th>\n",
       "      <th>revenue</th>\n",
       "    </tr>\n",
       "  </thead>\n",
       "  <tbody>\n",
       "    <tr>\n",
       "      <th>count</th>\n",
       "      <td>4212.0</td>\n",
       "      <td>4212.0</td>\n",
       "      <td>4212.0</td>\n",
       "      <td>4212.0</td>\n",
       "      <td>4212.0</td>\n",
       "      <td>4212.0</td>\n",
       "    </tr>\n",
       "    <tr>\n",
       "      <th>mean</th>\n",
       "      <td>6.0</td>\n",
       "      <td>221.0</td>\n",
       "      <td>31.0</td>\n",
       "      <td>18.0</td>\n",
       "      <td>22987.0</td>\n",
       "      <td>3565.0</td>\n",
       "    </tr>\n",
       "    <tr>\n",
       "      <th>std</th>\n",
       "      <td>3.0</td>\n",
       "      <td>250.0</td>\n",
       "      <td>35.0</td>\n",
       "      <td>26.0</td>\n",
       "      <td>24373.0</td>\n",
       "      <td>3538.0</td>\n",
       "    </tr>\n",
       "    <tr>\n",
       "      <th>min</th>\n",
       "      <td>1.0</td>\n",
       "      <td>0.0</td>\n",
       "      <td>0.0</td>\n",
       "      <td>0.0</td>\n",
       "      <td>0.0</td>\n",
       "      <td>550.0</td>\n",
       "    </tr>\n",
       "    <tr>\n",
       "      <th>25%</th>\n",
       "      <td>4.0</td>\n",
       "      <td>0.0</td>\n",
       "      <td>0.0</td>\n",
       "      <td>0.0</td>\n",
       "      <td>0.0</td>\n",
       "      <td>550.0</td>\n",
       "    </tr>\n",
       "    <tr>\n",
       "      <th>50%</th>\n",
       "      <td>6.0</td>\n",
       "      <td>106.0</td>\n",
       "      <td>15.0</td>\n",
       "      <td>0.0</td>\n",
       "      <td>16384.0</td>\n",
       "      <td>921.0</td>\n",
       "    </tr>\n",
       "    <tr>\n",
       "      <th>75%</th>\n",
       "      <td>9.0</td>\n",
       "      <td>437.0</td>\n",
       "      <td>62.0</td>\n",
       "      <td>30.0</td>\n",
       "      <td>45056.0</td>\n",
       "      <td>6550.0</td>\n",
       "    </tr>\n",
       "    <tr>\n",
       "      <th>max</th>\n",
       "      <td>12.0</td>\n",
       "      <td>1435.0</td>\n",
       "      <td>198.0</td>\n",
       "      <td>143.0</td>\n",
       "      <td>103424.0</td>\n",
       "      <td>19370.0</td>\n",
       "    </tr>\n",
       "  </tbody>\n",
       "</table>\n",
       "</div>"
      ],
      "text/plain": [
       "        month  calls_duration  calls_count  messages_count  mb_used_total  \\\n",
       "count  4212.0          4212.0       4212.0          4212.0         4212.0   \n",
       "mean      6.0           221.0         31.0            18.0        22987.0   \n",
       "std       3.0           250.0         35.0            26.0        24373.0   \n",
       "min       1.0             0.0          0.0             0.0            0.0   \n",
       "25%       4.0             0.0          0.0             0.0            0.0   \n",
       "50%       6.0           106.0         15.0             0.0        16384.0   \n",
       "75%       9.0           437.0         62.0            30.0        45056.0   \n",
       "max      12.0          1435.0        198.0           143.0       103424.0   \n",
       "\n",
       "       revenue  \n",
       "count   4212.0  \n",
       "mean    3565.0  \n",
       "std     3538.0  \n",
       "min      550.0  \n",
       "25%      550.0  \n",
       "50%      921.0  \n",
       "75%     6550.0  \n",
       "max    19370.0  "
      ]
     },
     "metadata": {},
     "output_type": "display_data"
    },
    {
     "name": "stdout",
     "output_type": "stream",
     "text": [
      "Дисперсия:\n",
      "month                     9.0\n",
      "calls_duration        62500.0\n",
      "calls_count            1225.0\n",
      "messages_count          676.0\n",
      "mb_used_total     594043129.0\n",
      "revenue            12517444.0\n",
      "Name: std, dtype: float64\n",
      "Статистика по пользователям, которые используют тариф ultra\n"
     ]
    },
    {
     "data": {
      "text/html": [
       "<div>\n",
       "<style scoped>\n",
       "    .dataframe tbody tr th:only-of-type {\n",
       "        vertical-align: middle;\n",
       "    }\n",
       "\n",
       "    .dataframe tbody tr th {\n",
       "        vertical-align: top;\n",
       "    }\n",
       "\n",
       "    .dataframe thead th {\n",
       "        text-align: right;\n",
       "    }\n",
       "</style>\n",
       "<table border=\"1\" class=\"dataframe\">\n",
       "  <thead>\n",
       "    <tr style=\"text-align: right;\">\n",
       "      <th></th>\n",
       "      <th>month</th>\n",
       "      <th>calls_duration</th>\n",
       "      <th>calls_count</th>\n",
       "      <th>messages_count</th>\n",
       "      <th>mb_used_total</th>\n",
       "      <th>revenue</th>\n",
       "    </tr>\n",
       "  </thead>\n",
       "  <tbody>\n",
       "    <tr>\n",
       "      <th>count</th>\n",
       "      <td>1788.0</td>\n",
       "      <td>1788.0</td>\n",
       "      <td>1788.0</td>\n",
       "      <td>1788.0</td>\n",
       "      <td>1788.0</td>\n",
       "      <td>1788.0</td>\n",
       "    </tr>\n",
       "    <tr>\n",
       "      <th>mean</th>\n",
       "      <td>6.0</td>\n",
       "      <td>290.0</td>\n",
       "      <td>40.0</td>\n",
       "      <td>27.0</td>\n",
       "      <td>21529.0</td>\n",
       "      <td>2994.0</td>\n",
       "    </tr>\n",
       "    <tr>\n",
       "      <th>std</th>\n",
       "      <td>3.0</td>\n",
       "      <td>352.0</td>\n",
       "      <td>49.0</td>\n",
       "      <td>43.0</td>\n",
       "      <td>24476.0</td>\n",
       "      <td>1863.0</td>\n",
       "    </tr>\n",
       "    <tr>\n",
       "      <th>min</th>\n",
       "      <td>1.0</td>\n",
       "      <td>0.0</td>\n",
       "      <td>0.0</td>\n",
       "      <td>0.0</td>\n",
       "      <td>0.0</td>\n",
       "      <td>1950.0</td>\n",
       "    </tr>\n",
       "    <tr>\n",
       "      <th>25%</th>\n",
       "      <td>4.0</td>\n",
       "      <td>0.0</td>\n",
       "      <td>0.0</td>\n",
       "      <td>0.0</td>\n",
       "      <td>0.0</td>\n",
       "      <td>1950.0</td>\n",
       "    </tr>\n",
       "    <tr>\n",
       "      <th>50%</th>\n",
       "      <td>6.0</td>\n",
       "      <td>92.0</td>\n",
       "      <td>12.0</td>\n",
       "      <td>0.0</td>\n",
       "      <td>11264.0</td>\n",
       "      <td>1950.0</td>\n",
       "    </tr>\n",
       "    <tr>\n",
       "      <th>75%</th>\n",
       "      <td>9.0</td>\n",
       "      <td>553.0</td>\n",
       "      <td>78.0</td>\n",
       "      <td>44.0</td>\n",
       "      <td>40960.0</td>\n",
       "      <td>3450.0</td>\n",
       "    </tr>\n",
       "    <tr>\n",
       "      <th>max</th>\n",
       "      <td>12.0</td>\n",
       "      <td>1673.0</td>\n",
       "      <td>244.0</td>\n",
       "      <td>224.0</td>\n",
       "      <td>100352.0</td>\n",
       "      <td>12150.0</td>\n",
       "    </tr>\n",
       "  </tbody>\n",
       "</table>\n",
       "</div>"
      ],
      "text/plain": [
       "        month  calls_duration  calls_count  messages_count  mb_used_total  \\\n",
       "count  1788.0          1788.0       1788.0          1788.0         1788.0   \n",
       "mean      6.0           290.0         40.0            27.0        21529.0   \n",
       "std       3.0           352.0         49.0            43.0        24476.0   \n",
       "min       1.0             0.0          0.0             0.0            0.0   \n",
       "25%       4.0             0.0          0.0             0.0            0.0   \n",
       "50%       6.0            92.0         12.0             0.0        11264.0   \n",
       "75%       9.0           553.0         78.0            44.0        40960.0   \n",
       "max      12.0          1673.0        244.0           224.0       100352.0   \n",
       "\n",
       "       revenue  \n",
       "count   1788.0  \n",
       "mean    2994.0  \n",
       "std     1863.0  \n",
       "min     1950.0  \n",
       "25%     1950.0  \n",
       "50%     1950.0  \n",
       "75%     3450.0  \n",
       "max    12150.0  "
      ]
     },
     "metadata": {},
     "output_type": "display_data"
    },
    {
     "name": "stdout",
     "output_type": "stream",
     "text": [
      "Дисперсия:\n",
      "month                     9.0\n",
      "calls_duration       123904.0\n",
      "calls_count            2401.0\n",
      "messages_count         1849.0\n",
      "mb_used_total     599074576.0\n",
      "revenue             3470769.0\n",
      "Name: std, dtype: float64\n"
     ]
    }
   ],
   "source": [
    "# Статистика по пользователям, которые используют тариф smart\n",
    "print('Статистика по пользователям, которые используют тариф smart')\n",
    "display(round(df_user_statistics[df_user_statistics.tariff == 'smart'].describe()))\n",
    "print('Дисперсия:')\n",
    "print(round(df_user_statistics[df_user_statistics.tariff == 'smart'].describe().iloc[2, :]) ** 2 )\n",
    "\n",
    "# Статистика по пользователям, которые используют тариф ultra\n",
    "print('Статистика по пользователям, которые используют тариф ultra')\n",
    "display(round(df_user_statistics[df_user_statistics.tariff == 'ultra'].describe()))\n",
    "print('Дисперсия:')\n",
    "print(round(df_user_statistics[df_user_statistics.tariff == 'ultra'].describe().iloc[2, :]) ** 2 )"
   ]
  },
  {
   "cell_type": "markdown",
   "metadata": {},
   "source": [
    "Как ожидалось, поведение пользователей различается. На тарифе смарт пользователей больше (1817 vs 711), но в среднем они меньше (401 vs 532 минуты) и реже звонят (59 vs 79 звонков), отправляют сообщения (39 vs 62 сообщений) и используют интернет (16K МБ vs 20К МБ). Это делает среднюю выручку с пользователя ниже, чем на тарифе ультра."
   ]
  },
  {
   "cell_type": "markdown",
   "metadata": {},
   "source": [
    "<s><div class=\"alert alert-block alert-danger\">\n",
    "<b> ❌ Нужно исправить:</b> Здорово, что посчитал среднее и стандартное отклонение) Но нужно еще посчитать дисперсию)\n",
    "</div>"
   ]
  },
  {
   "cell_type": "markdown",
   "metadata": {},
   "source": [
    "<div class=\"alert alert-block alert-info\">\n",
    "<b>Комментарий студента </b> \n",
    "\n",
    "Поправил. \\sigma = std ** 2\n",
    "\n",
    "</div>"
   ]
  },
  {
   "cell_type": "code",
   "execution_count": 16,
   "metadata": {},
   "outputs": [
    {
     "data": {
      "image/png": "[encoded data removed]",
      "text/plain": [
       "<Figure size 640x480 with 1 Axes>"
      ]
     },
     "metadata": {},
     "output_type": "display_data"
    },
    {
     "data": {
      "image/png": "[encoded data removed]",
      "text/plain": [
       "<Figure size 640x480 with 1 Axes>"
      ]
     },
     "metadata": {},
     "output_type": "display_data"
    },
    {
     "data": {
      "image/png": "[encoded data removed]",
      "text/plain": [
       "<Figure size 640x480 with 1 Axes>"
      ]
     },
     "metadata": {},
     "output_type": "display_data"
    },
    {
     "data": {
      "image/png": "[encoded data removed]",
      "text/plain": [
       "<Figure size 640x480 with 1 Axes>"
      ]
     },
     "metadata": {},
     "output_type": "display_data"
    },
    {
     "data": {
      "image/png": "[encoded data removed]",
      "text/plain": [
       "<Figure size 640x480 with 1 Axes>"
      ]
     },
     "metadata": {},
     "output_type": "display_data"
    }
   ],
   "source": [
    "# Гистограммы для тарифов smart и ultra.\n",
    "units_of_measure = ['сек', 'шт', 'шт', 'МБ', 'рублей']\n",
    "for count, column in enumerate(['calls_duration', 'calls_count', 'messages_count', 'mb_used_total', 'revenue']):\n",
    "    plt.hist(df_user_statistics.loc[df_user_statistics.tariff == 'smart', column],\n",
    "             bins=50,\n",
    "             alpha=0.5,\n",
    "             label='smart');\n",
    "    plt.hist(df_user_statistics.loc[df_user_statistics.tariff == 'ultra', column],\n",
    "             bins=50,\n",
    "             alpha=0.5,\n",
    "             label='ultra');\n",
    "    plt.legend(loc='upper right')\n",
    "    plt.xlabel(', '.join(['Значение переменной', units_of_measure[count]]))\n",
    "    plt.ylabel('Количество значений в датасете')\n",
    "    plt.title(' '.join(['Гистограмма', column]))\n",
    "    plt.show()"
   ]
  },
  {
   "cell_type": "markdown",
   "metadata": {},
   "source": [
    "<s><div class=\"alert alert-block alert-danger\">\n",
    "<b> ❌ Нужно исправить:</b> Смотри, давай будем использовать общепринятые правила построения графиков:\n",
    "    1. Графику нужно название. Представь, что твой отчет будет смотреть другой человек. Он смотрит на график, видит гистограмму. А это гистограмма чего? Какие данные мы на ней смотрим?\n",
    "    2. Подписи осей+ единицы измерения.  Обязательно подписывай оси. Давай посмотрим на ось Х на твоих графиках — что они показывают? Какие единицы измерения там?) Это нам с тобой понятно, но правила хорошего тона всегда предполагают подписывать оси на графиках)\n",
    "    Дополни пожалуйста, <b>все</b> свои графики\n",
    "</div>"
   ]
  },
  {
   "cell_type": "markdown",
   "metadata": {},
   "source": [
    "<div class=\"alert alert-block alert-info\">\n",
    "<b>Комментарий студента </b> \n",
    "\n",
    "Поправил.\n",
    "\n",
    "</div>"
   ]
  },
  {
   "cell_type": "markdown",
   "metadata": {},
   "source": [
    "<div style=\"border: 3px solid green; padding: 15px\"><font color='green' size=5 ><b>Комментарий ревьюера v2</b></font> \n",
    "\n",
    "Принимаю) но гистограммы немного поменяются, когда ты пересчитаешь выручку)\n",
    "\n",
    " "
   ]
  },
  {
   "cell_type": "code",
   "execution_count": 17,
   "metadata": {},
   "outputs": [],
   "source": [
    "# # Гистограммы для тарифа ultra\n",
    "# df_user_statistics \\\n",
    "#     .loc[df_user_statistics.tariff == 'smart', \n",
    "#          ['calls_duration', 'calls_count', 'messages_count', 'mb_used_total', 'revenue']] \\\n",
    "#     .hist(bins=50, figsize=(10, 12));\n",
    "\n",
    "# df_user_statistics \\\n",
    "#     .loc[df_user_statistics.tariff == 'ultra', \n",
    "#          ['calls_duration', 'calls_count', 'messages_count', 'mb_used_total', 'revenue']] \\\n",
    "#     .hist(bins=50, figsize=(10, 12));\n",
    "\n",
    "# plt.tight_layout()"
   ]
  },
  {
   "cell_type": "markdown",
   "metadata": {},
   "source": [
    "\n",
    "<div class=\"alert alert-block alert-warning\">\n",
    "<b> ⚠️ Совет: </b> Здорово, что умеешь в цикле строить графики. Но советую распологать оба тарифа на одном графике. Так будет нагляднее)\n",
    "</div>"
   ]
  },
  {
   "cell_type": "markdown",
   "metadata": {},
   "source": [
    "Первое, что бросается в глаза - распределения для разных тарифов разные! Для тарифа `smart` все распределения выглядит близкими к нормальным. Вероятно, это связано с количеством пользователей: их больше, поэтому и распределение стремится к нормальному.\n",
    "\n",
    "Два распределения составляют исключения: `messages_count` явно ассиметричное. Пользователи чаще посылают меньше 50 сообщений в месяц. `revenue` также ассимитричное: большое количество пользователей укладываются в тарифные лимиты и не платят за дополнительные услуги."
   ]
  },
  {
   "cell_type": "markdown",
   "metadata": {},
   "source": [
    "<s><div class=\"alert alert-block alert-danger\">\n",
    "<b> ❌ Нужно исправить:</b> Забыл про описание)\n",
    "</div>"
   ]
  },
  {
   "cell_type": "markdown",
   "metadata": {},
   "source": [
    "## Проверка гипотез\n",
    "\n",
    "Перейдем к проверке гипотез. С точки зрения статистики, первая гипотеза может может быть записано как:\n",
    "\n",
    "> Нулевая гипотеза: средня выручка пользователей тарифов смарт и ультра одинаковая.\n",
    "\n",
    "> Альтернативная гипотеза: средняя выручка пользователей таривов смарт и ультра различается.\n",
    "\n",
    "Это проверть просто (и мы это уже сделали), т.к. средее для обоих датасетов можно посчитать напрямую. Но в качестве упражнения, интересно, что покажут статистические методы."
   ]
  },
  {
   "cell_type": "code",
   "execution_count": 18,
   "metadata": {},
   "outputs": [
    {
     "name": "stdout",
     "output_type": "stream",
     "text": [
      "Средняя выручка в месяц с пользователя на тарифе смарт: 3564\n",
      "Средняя выручка в месяц с пользователя на тарифе ультра: 2993\n"
     ]
    }
   ],
   "source": [
    "# Вычислим среднее по каждой выборке и выведем на экран\n",
    "print('Средняя выручка в месяц с пользователя на тарифе смарт:', \n",
    "      int(df_user_statistics[df_user_statistics.tariff == 'smart'].revenue.mean()))\n",
    "print('Средняя выручка в месяц с пользователя на тарифе ультра:', \n",
    "      int(df_user_statistics[df_user_statistics.tariff == 'ultra'].revenue.mean()))"
   ]
  },
  {
   "cell_type": "code",
   "execution_count": 19,
   "metadata": {},
   "outputs": [
    {
     "name": "stdout",
     "output_type": "stream",
     "text": [
      "p-значение: 0.0\n",
      "Отвергаем нулевую гипотезу\n"
     ]
    }
   ],
   "source": [
    "# То же самое но с помощью scipy.\n",
    "# t-тест\n",
    "results = st.ttest_ind(\n",
    "    df_user_statistics[df_user_statistics.tariff == 'smart'].revenue, \n",
    "    df_user_statistics[df_user_statistics.tariff == 'ultra'].revenue)\n",
    "\n",
    "print('p-значение:', round(results.pvalue, 3))\n",
    "\n",
    "if results.pvalue < .05:\n",
    "    print(\"Отвергаем нулевую гипотезу\")\n",
    "else:\n",
    "    print(\"Не получилось отвергнуть нулевую гипотезу\")"
   ]
  },
  {
   "cell_type": "markdown",
   "metadata": {},
   "source": [
    "Средняя выручка действительно сильно разная. Принимаем альтернативную гипотезу: средняя выручка пользователей таривов смарт и ультра различается."
   ]
  },
  {
   "cell_type": "markdown",
   "metadata": {},
   "source": [
    "<s><div class=\"alert alert-block alert-danger\">\n",
    "<b> ❌ Нужно исправить:</b> В статистике гипотезу подтвердить невозможно. Мы только делаем вывод: принимаем нулевую гипотезу или отвергаем ее.  То есть в данном случае уместно было написать, например, вот так:«мы отвергаем предположение об отсутствии различий выручек у двух тарифов» . Переформулируй выводы пожалуйста)\n",
    "</div>"
   ]
  },
  {
   "cell_type": "markdown",
   "metadata": {},
   "source": [
    "<div class=\"alert alert-block alert-info\">\n",
    "<b>Комментарий студента </b> \n",
    "\n",
    "Поправил.\n",
    "\n",
    "</div>"
   ]
  },
  {
   "cell_type": "markdown",
   "metadata": {},
   "source": [
    "<div style=\"border: 3px solid green; padding: 15px\"><font color='green' size=5 ><b>Комментарий ревьюера v2</b></font> \n",
    "\n",
    "Принимаю)\n",
    " "
   ]
  },
  {
   "cell_type": "markdown",
   "metadata": {},
   "source": [
    "Посмотрим теперь на вторую гипотезу. Ее можно записать:\n",
    "\n",
    "> Нулевая гипотеза: средняя выручка пользователей из Москвы и других регионов одинаковая.\n",
    "\n",
    "> Альтернативная гипотеза: средняя выручка пользователей из Москвы и других регионов разная.\n",
    "\n",
    "Эту гипотезу тоже можно проверить напрямую: датасеты достаточно маленькие. Но чтобы удволетворить любопытсво, проверим ее статистическими методами тоже."
   ]
  },
  {
   "cell_type": "code",
   "execution_count": 20,
   "metadata": {},
   "outputs": [
    {
     "name": "stdout",
     "output_type": "stream",
     "text": [
      "Средняя выручка в месяц с пользователя в Москве: 3230\n",
      "Средняя выручка в месяц с пользователя не в Москве: 3435\n"
     ]
    }
   ],
   "source": [
    "# Вычислим среднее по каждой выборке и выведем на экран\n",
    "print('Средняя выручка в месяц с пользователя в Москве:', \n",
    "      int(df_user_statistics[df_user_statistics.city == 'Москва'].revenue.mean()))\n",
    "print('Средняя выручка в месяц с пользователя не в Москве:', \n",
    "      int(df_user_statistics[df_user_statistics.city != 'Москва'].revenue.mean()))"
   ]
  },
  {
   "cell_type": "code",
   "execution_count": 21,
   "metadata": {},
   "outputs": [
    {
     "name": "stdout",
     "output_type": "stream",
     "text": [
      "p-значение: 0.044\n",
      "Отвергаем нулевую гипотезу\n"
     ]
    }
   ],
   "source": [
    "# То же самое но с помощью scipy.\n",
    "# t-тест\n",
    "results = st.ttest_ind(\n",
    "    df_user_statistics[df_user_statistics.city == 'Москва'].revenue, \n",
    "    df_user_statistics[df_user_statistics.city != 'Москва'].revenue)\n",
    "\n",
    "print('p-значение:', round(results.pvalue, 3))\n",
    "\n",
    "if results.pvalue < .05:\n",
    "    print(\"Отвергаем нулевую гипотезу\")\n",
    "else:\n",
    "    print(\"Не получилось отвергнуть нулевую гипотезу\")"
   ]
  },
  {
   "cell_type": "markdown",
   "metadata": {},
   "source": [
    "Здесь средняя выручка тоже разная, хотя разница не такая существенная, как в предыдушем упражнении. Т-тест показывает это ярче: p-value совсем недалеко от границы в 5%. Тем не менее, выручка разная - принимаем альтернативную гипотезу."
   ]
  },
  {
   "cell_type": "markdown",
   "metadata": {},
   "source": [
    "<s><div class=\"alert alert-block alert-danger\">\n",
    "<b> ❌ Нужно исправить:</b>Здесь тоже самое)\n",
    "</div>\n",
    "\n",
    "<div class=\"alert alert-block alert-info\">\n",
    "<b>Комментарий студента </b> \n",
    "\n",
    "Поправил.\n",
    "\n",
    "</div>"
   ]
  },
  {
   "cell_type": "markdown",
   "metadata": {},
   "source": [
    "## Выводы\n",
    "\n",
    "В этом проекте больший фокус был сделан на приготовление датасета для приключений и проверки гипотез. Методами `merge` `pivot_table` мы сначала свели данные из 4 разных таблиц в одну. Хотя data models в Экселе пользволяют делать то же самое быстрее (и без потери гранулярности), решение получилось довольно безболезненное.\n",
    "\n",
    "Проверка обоих гипотез оказалось также относительно простой: датасеты достаточно малы, чтобы вычислить средние напрямую. Но было интересно применить статистические методы. Так, в первой гипотезе, средние получились сильно (почти на 50%) разные и p-value было много меньше 1%. Во второй гипотезе среднее достаточно близко друг к другу и p-value получилось почти на границе статистической значимости `alpha`. Если бы мы выбрали `alpha` менее, чем 5%, то результаты могли бы быть совершенно другими.\n",
    "\n",
    "Это показывает, что во время сереьезных вычислений, надо хорошо понимать, что за данные анализируем и какую статистическую значимость выбираем."
   ]
  },
  {
   "cell_type": "markdown",
   "metadata": {},
   "source": [
    " <font color='red' size=4>Итоговый комментарий</font> \n",
    "\n",
    "По проекту видно, что ты очень старался. Видно, что ты понимаешь как кодить и делать выводы. Но есть ряд критичных замечаний, которые нужно поправить\n",
    "\n",
    "Давай посмотрим самое важное:\n",
    "1. **Поработать над графиками**\n",
    "2. **Поработать над выводами и формулировками гипотез.**\n",
    "3. **Не забыть про округление звонков**\n",
    "4. **Округлить суммарные ГБ**\n",
    "5. **Провести правильное соединение таблиц**\n",
    "6. **Пересчитать выручку для всех абонентов**\n",
    "7. **Подумай, стоит ли удалять абонентов, которые ушли от оператора**.\n",
    " \n",
    "---\n",
    "Желтые комментарии необзяательно исправлять. Это советы на будущее. \n",
    "\n",
    "---\n",
    "Если у тебя возникнут вопросы в ходе исправлений - смело пиши)\n",
    "Исправляй замечания и отправляй на проверку. Жду:)\n",
    "\n",
    "</div>"
   ]
  },
  {
   "cell_type": "markdown",
   "metadata": {},
   "source": [
    " <font color='red' size=4>Итоговый комментарий 2</font> \n",
    "\n",
    "Все отлично! Большую часть замечаний ты исправил) Осталось разобраться с выручкой и проект будет готов. Не торопись и не спиши при расчетах. Если сомневаешься в правильности, возьми одного пользователя и посчитай по нему в ручную. Сейчас у тебя очень большие числа получаются. Давай попробуем исправить?\n",
    "\n",
    "Жду твоих правок) Если что-то не будет получаться пиши)\n",
    "\n",
    "</div>"
   ]
  },
  {
   "cell_type": "code",
   "execution_count": null,
   "metadata": {},
   "outputs": [],
   "source": []
  }
 ],
 "metadata": {
  "ExecuteTimeLog": [
   {
    "duration": 1339,
    "start_time": "2022-03-28T07:19:34.990Z"
   },
   {
    "duration": 8,
    "start_time": "2022-03-28T07:19:36.445Z"
   },
   {
    "duration": 47,
    "start_time": "2022-03-28T07:19:46.134Z"
   },
   {
    "duration": 8,
    "start_time": "2022-03-28T07:20:04.479Z"
   },
   {
    "duration": 422,
    "start_time": "2022-03-28T07:21:03.183Z"
   },
   {
    "duration": 77,
    "start_time": "2022-03-28T07:21:05.592Z"
   },
   {
    "duration": 128,
    "start_time": "2022-03-28T07:21:06.822Z"
   },
   {
    "duration": 203,
    "start_time": "2022-03-28T07:21:09.166Z"
   },
   {
    "duration": 144,
    "start_time": "2022-03-28T07:21:11.472Z"
   },
   {
    "duration": 16,
    "start_time": "2022-03-28T07:21:32.799Z"
   },
   {
    "duration": 16,
    "start_time": "2022-03-28T07:21:50.624Z"
   },
   {
    "duration": 423,
    "start_time": "2022-03-28T07:41:53.039Z"
   },
   {
    "duration": 70,
    "start_time": "2022-03-28T07:48:14.975Z"
   },
   {
    "duration": 67,
    "start_time": "2022-03-28T07:48:34.078Z"
   },
   {
    "duration": 120,
    "start_time": "2022-03-28T07:48:56.030Z"
   },
   {
    "duration": 297,
    "start_time": "2022-03-28T07:53:25.721Z"
   },
   {
    "duration": 17,
    "start_time": "2022-03-28T07:53:28.002Z"
   },
   {
    "duration": 11,
    "start_time": "2022-03-28T07:57:19.355Z"
   },
   {
    "duration": 17,
    "start_time": "2022-03-28T08:00:18.750Z"
   },
   {
    "duration": 5,
    "start_time": "2022-03-28T08:00:34.136Z"
   },
   {
    "duration": 3,
    "start_time": "2022-03-28T08:00:39.239Z"
   },
   {
    "duration": 4,
    "start_time": "2022-03-28T08:08:23.659Z"
   },
   {
    "duration": 4,
    "start_time": "2022-03-28T08:08:59.339Z"
   },
   {
    "duration": 11,
    "start_time": "2022-03-28T08:09:59.307Z"
   },
   {
    "duration": 5,
    "start_time": "2022-03-28T08:10:04.895Z"
   },
   {
    "duration": 139,
    "start_time": "2022-03-28T08:10:51.305Z"
   },
   {
    "duration": 5,
    "start_time": "2022-03-28T08:11:04.932Z"
   },
   {
    "duration": 52,
    "start_time": "2022-03-28T08:16:58.414Z"
   },
   {
    "duration": 1250,
    "start_time": "2022-03-28T08:16:59.995Z"
   },
   {
    "duration": 1147,
    "start_time": "2022-03-28T08:17:01.247Z"
   },
   {
    "duration": 121,
    "start_time": "2022-03-28T20:19:11.743Z"
   },
   {
    "duration": 1843,
    "start_time": "2022-03-28T20:19:17.180Z"
   },
   {
    "duration": 504,
    "start_time": "2022-03-28T20:20:58.980Z"
   },
   {
    "duration": 523,
    "start_time": "2022-03-28T20:21:13.883Z"
   },
   {
    "duration": 503,
    "start_time": "2022-03-28T20:27:21.737Z"
   },
   {
    "duration": 220,
    "start_time": "2022-03-28T20:28:22.873Z"
   },
   {
    "duration": 21,
    "start_time": "2022-03-28T20:40:10.569Z"
   },
   {
    "duration": 17,
    "start_time": "2022-03-28T20:40:15.420Z"
   },
   {
    "duration": 1670,
    "start_time": "2022-03-28T20:40:22.268Z"
   },
   {
    "duration": 3,
    "start_time": "2022-03-28T20:40:23.940Z"
   },
   {
    "duration": 96,
    "start_time": "2022-03-28T20:40:23.944Z"
   },
   {
    "duration": 156,
    "start_time": "2022-03-28T20:40:24.042Z"
   },
   {
    "duration": 212,
    "start_time": "2022-03-28T20:40:24.200Z"
   },
   {
    "duration": 5,
    "start_time": "2022-03-28T20:40:24.414Z"
   },
   {
    "duration": 167,
    "start_time": "2022-03-28T20:40:24.421Z"
   },
   {
    "duration": 89,
    "start_time": "2022-03-28T20:40:24.590Z"
   },
   {
    "duration": 1257,
    "start_time": "2022-03-28T20:40:24.681Z"
   },
   {
    "duration": 1198,
    "start_time": "2022-03-28T20:40:25.942Z"
   },
   {
    "duration": 11,
    "start_time": "2022-03-28T20:40:27.143Z"
   },
   {
    "duration": 24,
    "start_time": "2022-03-28T20:40:27.156Z"
   },
   {
    "duration": 9,
    "start_time": "2022-03-28T20:40:27.182Z"
   },
   {
    "duration": 8,
    "start_time": "2022-03-28T20:40:27.193Z"
   },
   {
    "duration": 106,
    "start_time": "2022-03-28T20:40:52.566Z"
   },
   {
    "duration": 16,
    "start_time": "2022-03-28T20:41:07.751Z"
   },
   {
    "duration": 1703,
    "start_time": "2022-03-28T20:41:14.139Z"
   },
   {
    "duration": 3,
    "start_time": "2022-03-28T20:41:15.844Z"
   },
   {
    "duration": 106,
    "start_time": "2022-03-28T20:41:15.848Z"
   },
   {
    "duration": 140,
    "start_time": "2022-03-28T20:41:15.956Z"
   },
   {
    "duration": 212,
    "start_time": "2022-03-28T20:41:16.097Z"
   },
   {
    "duration": 5,
    "start_time": "2022-03-28T20:41:16.311Z"
   },
   {
    "duration": 165,
    "start_time": "2022-03-28T20:41:16.318Z"
   },
   {
    "duration": 71,
    "start_time": "2022-03-28T20:41:16.484Z"
   },
   {
    "duration": 1190,
    "start_time": "2022-03-28T20:41:16.556Z"
   },
   {
    "duration": 1122,
    "start_time": "2022-03-28T20:41:17.750Z"
   },
   {
    "duration": 7,
    "start_time": "2022-03-28T20:41:18.874Z"
   },
   {
    "duration": 20,
    "start_time": "2022-03-28T20:41:18.883Z"
   },
   {
    "duration": 11,
    "start_time": "2022-03-28T20:41:18.905Z"
   },
   {
    "duration": 19,
    "start_time": "2022-03-28T20:41:18.918Z"
   },
   {
    "duration": 19,
    "start_time": "2022-03-28T20:41:35.276Z"
   },
   {
    "duration": 556,
    "start_time": "2022-03-28T20:43:16.746Z"
   },
   {
    "duration": 15,
    "start_time": "2022-03-28T20:45:31.946Z"
   },
   {
    "duration": 7,
    "start_time": "2022-03-28T20:46:03.265Z"
   },
   {
    "duration": 21,
    "start_time": "2022-03-28T20:46:16.730Z"
   },
   {
    "duration": 1676,
    "start_time": "2022-03-28T20:46:28.409Z"
   },
   {
    "duration": 3,
    "start_time": "2022-03-28T20:46:30.087Z"
   },
   {
    "duration": 93,
    "start_time": "2022-03-28T20:46:30.092Z"
   },
   {
    "duration": 144,
    "start_time": "2022-03-28T20:46:30.187Z"
   },
   {
    "duration": 21,
    "start_time": "2022-03-28T20:46:30.333Z"
   },
   {
    "duration": 225,
    "start_time": "2022-03-28T20:46:30.356Z"
   },
   {
    "duration": 6,
    "start_time": "2022-03-28T20:46:30.582Z"
   },
   {
    "duration": 169,
    "start_time": "2022-03-28T20:46:30.590Z"
   },
   {
    "duration": 54,
    "start_time": "2022-03-28T20:46:30.761Z"
   },
   {
    "duration": 1152,
    "start_time": "2022-03-28T20:46:30.818Z"
   },
   {
    "duration": 1118,
    "start_time": "2022-03-28T20:46:31.972Z"
   },
   {
    "duration": 7,
    "start_time": "2022-03-28T20:46:33.091Z"
   },
   {
    "duration": 16,
    "start_time": "2022-03-28T20:46:33.100Z"
   },
   {
    "duration": 12,
    "start_time": "2022-03-28T20:46:33.118Z"
   },
   {
    "duration": 13,
    "start_time": "2022-03-28T20:46:33.132Z"
   },
   {
    "duration": 6,
    "start_time": "2022-03-28T20:47:03.209Z"
   },
   {
    "duration": 5,
    "start_time": "2022-03-28T20:48:53.609Z"
   },
   {
    "duration": 4,
    "start_time": "2022-03-28T20:57:38.738Z"
   },
   {
    "duration": 1670,
    "start_time": "2022-03-28T20:58:27.458Z"
   },
   {
    "duration": 3,
    "start_time": "2022-03-28T20:58:29.130Z"
   },
   {
    "duration": 93,
    "start_time": "2022-03-28T20:58:29.134Z"
   },
   {
    "duration": 134,
    "start_time": "2022-03-28T20:58:29.228Z"
   },
   {
    "duration": 7,
    "start_time": "2022-03-28T20:58:29.365Z"
   },
   {
    "duration": 205,
    "start_time": "2022-03-28T20:58:29.373Z"
   },
   {
    "duration": 5,
    "start_time": "2022-03-28T20:58:29.579Z"
   },
   {
    "duration": 22,
    "start_time": "2022-03-28T20:58:29.586Z"
   },
   {
    "duration": 109,
    "start_time": "2022-03-28T20:58:29.609Z"
   },
   {
    "duration": 1,
    "start_time": "2022-03-28T20:58:29.719Z"
   },
   {
    "duration": 0,
    "start_time": "2022-03-28T20:58:29.720Z"
   },
   {
    "duration": 0,
    "start_time": "2022-03-28T20:58:29.721Z"
   },
   {
    "duration": 0,
    "start_time": "2022-03-28T20:58:29.722Z"
   },
   {
    "duration": 0,
    "start_time": "2022-03-28T20:58:29.723Z"
   },
   {
    "duration": 0,
    "start_time": "2022-03-28T20:58:29.723Z"
   },
   {
    "duration": 0,
    "start_time": "2022-03-28T20:58:29.724Z"
   },
   {
    "duration": 23,
    "start_time": "2022-03-28T21:01:38.605Z"
   },
   {
    "duration": 1751,
    "start_time": "2022-03-28T21:01:46.230Z"
   },
   {
    "duration": 3,
    "start_time": "2022-03-28T21:01:47.983Z"
   },
   {
    "duration": 85,
    "start_time": "2022-03-28T21:01:47.988Z"
   },
   {
    "duration": 164,
    "start_time": "2022-03-28T21:01:48.075Z"
   },
   {
    "duration": 9,
    "start_time": "2022-03-28T21:01:48.241Z"
   },
   {
    "duration": 223,
    "start_time": "2022-03-28T21:01:48.252Z"
   },
   {
    "duration": 6,
    "start_time": "2022-03-28T21:01:48.477Z"
   },
   {
    "duration": 8,
    "start_time": "2022-03-28T21:01:48.484Z"
   },
   {
    "duration": 126,
    "start_time": "2022-03-28T21:01:48.494Z"
   },
   {
    "duration": 0,
    "start_time": "2022-03-28T21:01:48.622Z"
   },
   {
    "duration": 0,
    "start_time": "2022-03-28T21:01:48.623Z"
   },
   {
    "duration": 0,
    "start_time": "2022-03-28T21:01:48.624Z"
   },
   {
    "duration": 0,
    "start_time": "2022-03-28T21:01:48.625Z"
   },
   {
    "duration": 0,
    "start_time": "2022-03-28T21:01:48.626Z"
   },
   {
    "duration": 0,
    "start_time": "2022-03-28T21:01:48.627Z"
   },
   {
    "duration": 0,
    "start_time": "2022-03-28T21:01:48.628Z"
   },
   {
    "duration": 22,
    "start_time": "2022-03-28T21:02:18.735Z"
   },
   {
    "duration": 22,
    "start_time": "2022-03-28T21:02:21.670Z"
   },
   {
    "duration": 267,
    "start_time": "2022-03-28T21:02:35.559Z"
   },
   {
    "duration": 1732,
    "start_time": "2022-03-28T21:02:59.762Z"
   },
   {
    "duration": 2,
    "start_time": "2022-03-28T21:03:01.497Z"
   },
   {
    "duration": 123,
    "start_time": "2022-03-28T21:03:01.501Z"
   },
   {
    "duration": 168,
    "start_time": "2022-03-28T21:03:01.626Z"
   },
   {
    "duration": 11,
    "start_time": "2022-03-28T21:03:01.796Z"
   },
   {
    "duration": 233,
    "start_time": "2022-03-28T21:03:01.809Z"
   },
   {
    "duration": 6,
    "start_time": "2022-03-28T21:03:02.044Z"
   },
   {
    "duration": 18,
    "start_time": "2022-03-28T21:03:02.052Z"
   },
   {
    "duration": 291,
    "start_time": "2022-03-28T21:03:02.072Z"
   },
   {
    "duration": 74,
    "start_time": "2022-03-28T21:03:02.365Z"
   },
   {
    "duration": 1141,
    "start_time": "2022-03-28T21:03:02.441Z"
   },
   {
    "duration": 1162,
    "start_time": "2022-03-28T21:03:03.585Z"
   },
   {
    "duration": 9,
    "start_time": "2022-03-28T21:03:04.749Z"
   },
   {
    "duration": 14,
    "start_time": "2022-03-28T21:03:04.760Z"
   },
   {
    "duration": 17,
    "start_time": "2022-03-28T21:03:04.776Z"
   },
   {
    "duration": 11,
    "start_time": "2022-03-28T21:03:04.795Z"
   },
   {
    "duration": 274,
    "start_time": "2022-03-28T21:03:13.120Z"
   },
   {
    "duration": 270,
    "start_time": "2022-03-28T21:03:22.418Z"
   },
   {
    "duration": 9,
    "start_time": "2022-03-28T21:08:30.349Z"
   },
   {
    "duration": 17,
    "start_time": "2022-03-28T21:08:40.030Z"
   },
   {
    "duration": 17,
    "start_time": "2022-03-28T21:08:57.693Z"
   },
   {
    "duration": 8,
    "start_time": "2022-03-28T21:09:22.733Z"
   },
   {
    "duration": 1695,
    "start_time": "2022-03-28T21:09:41.349Z"
   },
   {
    "duration": 2,
    "start_time": "2022-03-28T21:09:43.047Z"
   },
   {
    "duration": 91,
    "start_time": "2022-03-28T21:09:43.051Z"
   },
   {
    "duration": 155,
    "start_time": "2022-03-28T21:09:43.144Z"
   },
   {
    "duration": 8,
    "start_time": "2022-03-28T21:09:43.301Z"
   },
   {
    "duration": 212,
    "start_time": "2022-03-28T21:09:43.310Z"
   },
   {
    "duration": 6,
    "start_time": "2022-03-28T21:09:43.524Z"
   },
   {
    "duration": 109,
    "start_time": "2022-03-28T21:09:43.537Z"
   },
   {
    "duration": 0,
    "start_time": "2022-03-28T21:09:43.648Z"
   },
   {
    "duration": 0,
    "start_time": "2022-03-28T21:09:43.649Z"
   },
   {
    "duration": 0,
    "start_time": "2022-03-28T21:09:43.650Z"
   },
   {
    "duration": 0,
    "start_time": "2022-03-28T21:09:43.651Z"
   },
   {
    "duration": 0,
    "start_time": "2022-03-28T21:09:43.652Z"
   },
   {
    "duration": 0,
    "start_time": "2022-03-28T21:09:43.653Z"
   },
   {
    "duration": 0,
    "start_time": "2022-03-28T21:09:43.654Z"
   },
   {
    "duration": 0,
    "start_time": "2022-03-28T21:09:43.655Z"
   },
   {
    "duration": 12,
    "start_time": "2022-03-28T21:09:54.933Z"
   },
   {
    "duration": 7,
    "start_time": "2022-03-28T21:10:16.324Z"
   },
   {
    "duration": 5,
    "start_time": "2022-03-28T21:10:35.161Z"
   },
   {
    "duration": 1707,
    "start_time": "2022-03-28T21:11:00.889Z"
   },
   {
    "duration": 3,
    "start_time": "2022-03-28T21:11:02.598Z"
   },
   {
    "duration": 84,
    "start_time": "2022-03-28T21:11:02.603Z"
   },
   {
    "duration": 159,
    "start_time": "2022-03-28T21:11:02.689Z"
   },
   {
    "duration": 9,
    "start_time": "2022-03-28T21:11:02.850Z"
   },
   {
    "duration": 218,
    "start_time": "2022-03-28T21:11:02.861Z"
   },
   {
    "duration": 6,
    "start_time": "2022-03-28T21:11:03.081Z"
   },
   {
    "duration": 20,
    "start_time": "2022-03-28T21:11:03.088Z"
   },
   {
    "duration": 298,
    "start_time": "2022-03-28T21:11:03.110Z"
   },
   {
    "duration": 76,
    "start_time": "2022-03-28T21:11:03.409Z"
   },
   {
    "duration": 1163,
    "start_time": "2022-03-28T21:11:03.487Z"
   },
   {
    "duration": 1107,
    "start_time": "2022-03-28T21:11:04.652Z"
   },
   {
    "duration": 10,
    "start_time": "2022-03-28T21:11:05.760Z"
   },
   {
    "duration": 9,
    "start_time": "2022-03-28T21:11:05.772Z"
   },
   {
    "duration": 15,
    "start_time": "2022-03-28T21:11:05.782Z"
   },
   {
    "duration": 8,
    "start_time": "2022-03-28T21:11:05.798Z"
   },
   {
    "duration": 5,
    "start_time": "2022-03-28T21:11:23.567Z"
   },
   {
    "duration": 268,
    "start_time": "2022-03-28T21:11:35.158Z"
   },
   {
    "duration": 114,
    "start_time": "2022-03-28T21:29:27.540Z"
   },
   {
    "duration": 112,
    "start_time": "2022-03-28T21:29:44.266Z"
   },
   {
    "duration": 108,
    "start_time": "2022-03-28T21:29:49.816Z"
   },
   {
    "duration": 146,
    "start_time": "2022-03-28T21:29:59.161Z"
   },
   {
    "duration": 63,
    "start_time": "2022-03-28T21:30:08.219Z"
   },
   {
    "duration": 114,
    "start_time": "2022-03-28T21:30:14.014Z"
   },
   {
    "duration": 202,
    "start_time": "2022-03-28T21:30:17.307Z"
   },
   {
    "duration": 83,
    "start_time": "2022-03-28T21:30:26.698Z"
   },
   {
    "duration": 85,
    "start_time": "2022-03-28T21:30:43.561Z"
   },
   {
    "duration": 77,
    "start_time": "2022-03-28T21:30:57.241Z"
   },
   {
    "duration": 146,
    "start_time": "2022-03-28T21:31:11.513Z"
   },
   {
    "duration": 42,
    "start_time": "2022-03-28T21:31:26.233Z"
   },
   {
    "duration": 74,
    "start_time": "2022-03-28T21:31:31.937Z"
   },
   {
    "duration": 72,
    "start_time": "2022-03-28T21:31:51.578Z"
   },
   {
    "duration": 75,
    "start_time": "2022-03-28T21:31:58.529Z"
   },
   {
    "duration": 72,
    "start_time": "2022-03-28T21:32:12.922Z"
   },
   {
    "duration": 5,
    "start_time": "2022-03-28T21:32:43.057Z"
   },
   {
    "duration": 72,
    "start_time": "2022-03-28T21:32:48.489Z"
   },
   {
    "duration": 74,
    "start_time": "2022-03-28T21:33:26.481Z"
   },
   {
    "duration": 102,
    "start_time": "2022-03-28T21:33:55.345Z"
   },
   {
    "duration": 2043,
    "start_time": "2022-03-28T21:36:29.971Z"
   },
   {
    "duration": 1060,
    "start_time": "2022-03-28T21:36:43.841Z"
   },
   {
    "duration": 397,
    "start_time": "2022-03-28T21:51:54.601Z"
   },
   {
    "duration": 719,
    "start_time": "2022-03-28T21:52:04.054Z"
   },
   {
    "duration": 302,
    "start_time": "2022-03-28T21:53:33.249Z"
   },
   {
    "duration": 350,
    "start_time": "2022-03-28T21:54:15.880Z"
   },
   {
    "duration": 419,
    "start_time": "2022-03-28T21:54:57.103Z"
   },
   {
    "duration": 243,
    "start_time": "2022-03-28T21:55:09.649Z"
   },
   {
    "duration": 427,
    "start_time": "2022-03-28T21:55:14.818Z"
   },
   {
    "duration": 509,
    "start_time": "2022-03-28T21:55:44.761Z"
   },
   {
    "duration": 261,
    "start_time": "2022-03-28T21:55:56.842Z"
   },
   {
    "duration": 508,
    "start_time": "2022-03-28T21:56:09.549Z"
   },
   {
    "duration": 640,
    "start_time": "2022-03-28T21:57:14.374Z"
   },
   {
    "duration": 523,
    "start_time": "2022-03-28T21:57:50.044Z"
   },
   {
    "duration": 1487,
    "start_time": "2022-03-28T21:59:29.152Z"
   },
   {
    "duration": 295,
    "start_time": "2022-03-28T22:01:13.698Z"
   },
   {
    "duration": 1397,
    "start_time": "2022-03-28T22:01:58.033Z"
   },
   {
    "duration": 411,
    "start_time": "2022-03-28T22:02:20.894Z"
   },
   {
    "duration": 1365,
    "start_time": "2022-03-28T22:05:46.369Z"
   },
   {
    "duration": 399,
    "start_time": "2022-03-28T22:07:10.615Z"
   },
   {
    "duration": 285,
    "start_time": "2022-03-28T22:07:28.134Z"
   },
   {
    "duration": 1477,
    "start_time": "2022-03-28T22:08:09.054Z"
   },
   {
    "duration": 1409,
    "start_time": "2022-03-28T22:08:17.403Z"
   },
   {
    "duration": 1478,
    "start_time": "2022-03-28T22:08:31.827Z"
   },
   {
    "duration": 93,
    "start_time": "2022-03-28T22:11:57.083Z"
   },
   {
    "duration": 114,
    "start_time": "2022-03-28T22:12:04.132Z"
   },
   {
    "duration": 1361,
    "start_time": "2022-03-28T22:12:06.795Z"
   },
   {
    "duration": 1489,
    "start_time": "2022-03-28T22:12:17.619Z"
   },
   {
    "duration": 1479,
    "start_time": "2022-03-28T22:12:50.176Z"
   },
   {
    "duration": 3,
    "start_time": "2022-03-28T22:13:45.887Z"
   },
   {
    "duration": 1549,
    "start_time": "2022-03-29T10:38:28.620Z"
   },
   {
    "duration": 3,
    "start_time": "2022-03-29T10:39:28.203Z"
   },
   {
    "duration": 62,
    "start_time": "2022-03-29T10:39:29.226Z"
   },
   {
    "duration": 123,
    "start_time": "2022-03-29T10:39:31.672Z"
   },
   {
    "duration": 11,
    "start_time": "2022-03-29T10:39:41.688Z"
   },
   {
    "duration": 182,
    "start_time": "2022-03-29T10:40:54.621Z"
   },
   {
    "duration": 5,
    "start_time": "2022-03-29T10:40:57.006Z"
   },
   {
    "duration": 4,
    "start_time": "2022-03-29T10:40:57.911Z"
   },
   {
    "duration": 14,
    "start_time": "2022-03-29T10:42:54.146Z"
   },
   {
    "duration": 6,
    "start_time": "2022-03-29T10:43:04.419Z"
   },
   {
    "duration": 12,
    "start_time": "2022-03-29T10:43:06.089Z"
   },
   {
    "duration": 12,
    "start_time": "2022-03-29T10:43:52.456Z"
   },
   {
    "duration": 14,
    "start_time": "2022-03-29T10:44:02.758Z"
   },
   {
    "duration": 188,
    "start_time": "2022-03-29T10:45:07.070Z"
   },
   {
    "duration": 6,
    "start_time": "2022-03-29T10:45:12.413Z"
   },
   {
    "duration": 4,
    "start_time": "2022-03-29T10:45:13.299Z"
   },
   {
    "duration": 15,
    "start_time": "2022-03-29T10:45:32.877Z"
   },
   {
    "duration": 255,
    "start_time": "2022-03-29T10:46:44.425Z"
   },
   {
    "duration": 272,
    "start_time": "2022-03-29T10:46:50.609Z"
   },
   {
    "duration": 19,
    "start_time": "2022-03-29T10:50:37.570Z"
   },
   {
    "duration": 19,
    "start_time": "2022-03-29T10:51:46.468Z"
   },
   {
    "duration": 10,
    "start_time": "2022-03-29T10:51:55.984Z"
   },
   {
    "duration": 102,
    "start_time": "2022-03-29T10:55:19.341Z"
   },
   {
    "duration": 33,
    "start_time": "2022-03-29T10:55:22.711Z"
   },
   {
    "duration": 3277,
    "start_time": "2022-03-29T10:55:28.099Z"
   },
   {
    "duration": 1660,
    "start_time": "2022-03-29T10:56:42.525Z"
   },
   {
    "duration": 3,
    "start_time": "2022-03-29T10:56:44.187Z"
   },
   {
    "duration": 67,
    "start_time": "2022-03-29T10:56:44.191Z"
   },
   {
    "duration": 130,
    "start_time": "2022-03-29T10:56:44.260Z"
   },
   {
    "duration": 7,
    "start_time": "2022-03-29T10:56:44.391Z"
   },
   {
    "duration": 183,
    "start_time": "2022-03-29T10:56:44.399Z"
   },
   {
    "duration": 4,
    "start_time": "2022-03-29T10:56:44.584Z"
   },
   {
    "duration": 8,
    "start_time": "2022-03-29T10:56:44.590Z"
   },
   {
    "duration": 23,
    "start_time": "2022-03-29T10:56:44.599Z"
   },
   {
    "duration": 267,
    "start_time": "2022-03-29T10:56:44.624Z"
   },
   {
    "duration": 88,
    "start_time": "2022-03-29T10:56:44.893Z"
   },
   {
    "duration": 1279,
    "start_time": "2022-03-29T10:56:44.982Z"
   },
   {
    "duration": 534,
    "start_time": "2022-03-29T11:14:35.725Z"
   },
   {
    "duration": 3,
    "start_time": "2022-03-29T11:14:40.973Z"
   },
   {
    "duration": 57,
    "start_time": "2022-03-29T11:14:42.007Z"
   },
   {
    "duration": 113,
    "start_time": "2022-03-29T11:14:43.382Z"
   },
   {
    "duration": 11,
    "start_time": "2022-03-29T11:14:58.008Z"
   },
   {
    "duration": 6,
    "start_time": "2022-03-29T11:15:31.863Z"
   },
   {
    "duration": 12,
    "start_time": "2022-03-29T11:15:40.074Z"
   },
   {
    "duration": 517,
    "start_time": "2022-03-29T11:17:39.987Z"
   },
   {
    "duration": 2,
    "start_time": "2022-03-29T11:17:40.507Z"
   },
   {
    "duration": 71,
    "start_time": "2022-03-29T11:17:40.510Z"
   },
   {
    "duration": 116,
    "start_time": "2022-03-29T11:17:40.583Z"
   },
   {
    "duration": 94,
    "start_time": "2022-03-29T11:17:41.536Z"
   },
   {
    "duration": 1604,
    "start_time": "2022-03-29T11:17:50.639Z"
   },
   {
    "duration": 2,
    "start_time": "2022-03-29T11:17:52.245Z"
   },
   {
    "duration": 70,
    "start_time": "2022-03-29T11:17:52.249Z"
   },
   {
    "duration": 134,
    "start_time": "2022-03-29T11:17:52.321Z"
   },
   {
    "duration": 96,
    "start_time": "2022-03-29T11:17:54.472Z"
   },
   {
    "duration": 516,
    "start_time": "2022-03-29T11:17:59.881Z"
   },
   {
    "duration": 2,
    "start_time": "2022-03-29T11:18:00.399Z"
   },
   {
    "duration": 80,
    "start_time": "2022-03-29T11:18:00.403Z"
   },
   {
    "duration": 115,
    "start_time": "2022-03-29T11:18:00.485Z"
   },
   {
    "duration": 12,
    "start_time": "2022-03-29T11:18:02.703Z"
   },
   {
    "duration": 12,
    "start_time": "2022-03-29T11:18:06.984Z"
   },
   {
    "duration": 10,
    "start_time": "2022-03-29T11:18:07.568Z"
   },
   {
    "duration": 12,
    "start_time": "2022-03-29T11:18:19.417Z"
   },
   {
    "duration": 525,
    "start_time": "2022-03-29T11:19:32.266Z"
   },
   {
    "duration": 2,
    "start_time": "2022-03-29T11:19:32.793Z"
   },
   {
    "duration": 58,
    "start_time": "2022-03-29T11:19:32.797Z"
   },
   {
    "duration": 124,
    "start_time": "2022-03-29T11:19:32.857Z"
   },
   {
    "duration": 11,
    "start_time": "2022-03-29T11:19:32.983Z"
   },
   {
    "duration": 5,
    "start_time": "2022-03-29T11:19:34.496Z"
   },
   {
    "duration": 11,
    "start_time": "2022-03-29T11:19:36.314Z"
   },
   {
    "duration": 522,
    "start_time": "2022-03-29T11:20:28.400Z"
   },
   {
    "duration": 2,
    "start_time": "2022-03-29T11:20:28.924Z"
   },
   {
    "duration": 67,
    "start_time": "2022-03-29T11:20:28.928Z"
   },
   {
    "duration": 121,
    "start_time": "2022-03-29T11:20:28.997Z"
   },
   {
    "duration": 11,
    "start_time": "2022-03-29T11:20:29.120Z"
   },
   {
    "duration": 13,
    "start_time": "2022-03-29T11:20:29.132Z"
   },
   {
    "duration": 11,
    "start_time": "2022-03-29T11:20:30.193Z"
   },
   {
    "duration": 180,
    "start_time": "2022-03-29T11:20:31.514Z"
   },
   {
    "duration": 5,
    "start_time": "2022-03-29T11:20:35.530Z"
   },
   {
    "duration": 4,
    "start_time": "2022-03-29T11:20:36.242Z"
   },
   {
    "duration": 14,
    "start_time": "2022-03-29T11:20:36.971Z"
   },
   {
    "duration": 69,
    "start_time": "2022-03-29T11:23:11.820Z"
   },
   {
    "duration": 4346,
    "start_time": "2022-03-29T11:23:15.293Z"
   },
   {
    "duration": 1695,
    "start_time": "2022-03-29T11:26:42.295Z"
   },
   {
    "duration": 3,
    "start_time": "2022-03-29T11:26:43.992Z"
   },
   {
    "duration": 71,
    "start_time": "2022-03-29T11:26:43.997Z"
   },
   {
    "duration": 128,
    "start_time": "2022-03-29T11:26:44.070Z"
   },
   {
    "duration": 11,
    "start_time": "2022-03-29T11:26:44.201Z"
   },
   {
    "duration": 12,
    "start_time": "2022-03-29T11:26:44.213Z"
   },
   {
    "duration": 10,
    "start_time": "2022-03-29T11:26:44.227Z"
   },
   {
    "duration": 196,
    "start_time": "2022-03-29T11:26:44.239Z"
   },
   {
    "duration": 5,
    "start_time": "2022-03-29T11:26:44.437Z"
   },
   {
    "duration": 8,
    "start_time": "2022-03-29T11:26:44.444Z"
   },
   {
    "duration": 16,
    "start_time": "2022-03-29T11:26:44.454Z"
   },
   {
    "duration": 269,
    "start_time": "2022-03-29T11:26:44.472Z"
   },
   {
    "duration": 87,
    "start_time": "2022-03-29T11:26:44.743Z"
   },
   {
    "duration": 1302,
    "start_time": "2022-03-29T11:26:44.833Z"
   },
   {
    "duration": 3,
    "start_time": "2022-03-29T11:26:46.137Z"
   },
   {
    "duration": 9,
    "start_time": "2022-03-29T11:26:46.141Z"
   },
   {
    "duration": 7,
    "start_time": "2022-03-29T11:26:46.151Z"
   },
   {
    "duration": 28,
    "start_time": "2022-03-29T11:26:46.159Z"
   },
   {
    "duration": 7,
    "start_time": "2022-03-29T11:26:46.188Z"
   },
   {
    "duration": 69,
    "start_time": "2022-03-29T22:03:13.797Z"
   },
   {
    "duration": 2509,
    "start_time": "2022-03-29T22:03:22.077Z"
   },
   {
    "duration": 5,
    "start_time": "2022-03-29T22:03:24.590Z"
   },
   {
    "duration": 123,
    "start_time": "2022-03-29T22:03:24.597Z"
   },
   {
    "duration": 224,
    "start_time": "2022-03-29T22:03:24.723Z"
   },
   {
    "duration": 33,
    "start_time": "2022-03-29T22:03:24.951Z"
   },
   {
    "duration": 14,
    "start_time": "2022-03-29T22:03:24.986Z"
   },
   {
    "duration": 29,
    "start_time": "2022-03-29T22:03:25.003Z"
   },
   {
    "duration": 356,
    "start_time": "2022-03-29T22:03:25.035Z"
   },
   {
    "duration": 7,
    "start_time": "2022-03-29T22:03:25.393Z"
   },
   {
    "duration": 11,
    "start_time": "2022-03-29T22:03:25.402Z"
   },
   {
    "duration": 28,
    "start_time": "2022-03-29T22:03:25.415Z"
   },
   {
    "duration": 2067,
    "start_time": "2022-03-29T22:03:25.446Z"
   },
   {
    "duration": 0,
    "start_time": "2022-03-29T22:03:27.516Z"
   },
   {
    "duration": 0,
    "start_time": "2022-03-29T22:03:27.518Z"
   },
   {
    "duration": 0,
    "start_time": "2022-03-29T22:03:27.519Z"
   },
   {
    "duration": 0,
    "start_time": "2022-03-29T22:03:27.521Z"
   },
   {
    "duration": 0,
    "start_time": "2022-03-29T22:03:27.522Z"
   },
   {
    "duration": 1,
    "start_time": "2022-03-29T22:03:27.523Z"
   },
   {
    "duration": 0,
    "start_time": "2022-03-29T22:03:27.525Z"
   },
   {
    "duration": 0,
    "start_time": "2022-03-29T22:03:27.526Z"
   },
   {
    "duration": 8,
    "start_time": "2022-03-29T22:04:05.458Z"
   },
   {
    "duration": 7,
    "start_time": "2022-03-29T22:04:23.387Z"
   },
   {
    "duration": 21,
    "start_time": "2022-03-29T22:04:39.145Z"
   },
   {
    "duration": 20,
    "start_time": "2022-03-29T22:04:44.194Z"
   },
   {
    "duration": 2378,
    "start_time": "2022-03-30T06:30:58.883Z"
   },
   {
    "duration": 4,
    "start_time": "2022-03-30T06:31:02.469Z"
   },
   {
    "duration": 115,
    "start_time": "2022-03-30T06:31:03.070Z"
   },
   {
    "duration": 201,
    "start_time": "2022-03-30T06:31:03.749Z"
   },
   {
    "duration": 23,
    "start_time": "2022-03-30T06:31:03.963Z"
   },
   {
    "duration": 135,
    "start_time": "2022-03-30T06:36:40.255Z"
   },
   {
    "duration": 6,
    "start_time": "2022-03-30T06:36:56.164Z"
   },
   {
    "duration": 5,
    "start_time": "2022-03-30T06:37:09.889Z"
   },
   {
    "duration": 8,
    "start_time": "2022-03-30T06:37:13.560Z"
   },
   {
    "duration": 5,
    "start_time": "2022-03-30T06:37:49.536Z"
   },
   {
    "duration": 5,
    "start_time": "2022-03-30T06:39:05.330Z"
   },
   {
    "duration": 6,
    "start_time": "2022-03-30T06:39:14.897Z"
   },
   {
    "duration": 313,
    "start_time": "2022-03-30T06:45:57.157Z"
   },
   {
    "duration": 20,
    "start_time": "2022-03-30T06:49:01.487Z"
   },
   {
    "duration": 40,
    "start_time": "2022-03-30T06:50:04.177Z"
   },
   {
    "duration": 22,
    "start_time": "2022-03-30T06:50:09.688Z"
   },
   {
    "duration": 15,
    "start_time": "2022-03-30T06:50:37.832Z"
   },
   {
    "duration": 13,
    "start_time": "2022-03-30T06:50:45.354Z"
   },
   {
    "duration": 38,
    "start_time": "2022-03-30T06:51:01.879Z"
   },
   {
    "duration": 25,
    "start_time": "2022-03-30T06:51:03.850Z"
   },
   {
    "duration": 15,
    "start_time": "2022-03-30T06:51:24.849Z"
   },
   {
    "duration": 10,
    "start_time": "2022-03-30T06:51:28.946Z"
   },
   {
    "duration": 611,
    "start_time": "2022-03-30T06:52:27.680Z"
   },
   {
    "duration": 39,
    "start_time": "2022-03-30T06:52:31.167Z"
   },
   {
    "duration": 592,
    "start_time": "2022-03-30T06:52:31.720Z"
   },
   {
    "duration": 73,
    "start_time": "2022-03-30T06:53:26.457Z"
   },
   {
    "duration": 15,
    "start_time": "2022-03-30T06:53:28.192Z"
   },
   {
    "duration": 64,
    "start_time": "2022-03-30T06:53:44.305Z"
   },
   {
    "duration": 15,
    "start_time": "2022-03-30T06:53:44.839Z"
   },
   {
    "duration": 84,
    "start_time": "2022-03-30T06:54:56.508Z"
   },
   {
    "duration": 15,
    "start_time": "2022-03-30T06:55:00.096Z"
   },
   {
    "duration": 36,
    "start_time": "2022-03-30T06:55:37.963Z"
   },
   {
    "duration": 95,
    "start_time": "2022-03-30T06:55:54.490Z"
   },
   {
    "duration": 29,
    "start_time": "2022-03-30T06:55:59.321Z"
   },
   {
    "duration": 13,
    "start_time": "2022-03-30T06:56:22.739Z"
   },
   {
    "duration": 34,
    "start_time": "2022-03-30T06:56:24.918Z"
   },
   {
    "duration": 172,
    "start_time": "2022-03-30T06:56:41.368Z"
   },
   {
    "duration": 34,
    "start_time": "2022-03-30T06:56:42.116Z"
   },
   {
    "duration": 53,
    "start_time": "2022-03-30T06:56:47.163Z"
   },
   {
    "duration": 8,
    "start_time": "2022-03-30T06:58:23.165Z"
   },
   {
    "duration": 7,
    "start_time": "2022-03-30T06:58:23.510Z"
   },
   {
    "duration": 22,
    "start_time": "2022-03-30T06:58:24.389Z"
   },
   {
    "duration": 20,
    "start_time": "2022-03-30T06:58:32.284Z"
   },
   {
    "duration": 469,
    "start_time": "2022-03-30T06:58:33.178Z"
   },
   {
    "duration": 23,
    "start_time": "2022-03-30T06:59:10.163Z"
   },
   {
    "duration": 26,
    "start_time": "2022-03-30T06:59:31.789Z"
   },
   {
    "duration": 24,
    "start_time": "2022-03-30T07:00:16.179Z"
   },
   {
    "duration": 5,
    "start_time": "2022-03-30T07:00:31.662Z"
   },
   {
    "duration": 622,
    "start_time": "2022-03-30T07:01:48.162Z"
   },
   {
    "duration": 3,
    "start_time": "2022-03-30T07:01:48.787Z"
   },
   {
    "duration": 114,
    "start_time": "2022-03-30T07:01:48.792Z"
   },
   {
    "duration": 207,
    "start_time": "2022-03-30T07:01:48.909Z"
   },
   {
    "duration": 19,
    "start_time": "2022-03-30T07:01:49.118Z"
   },
   {
    "duration": 7,
    "start_time": "2022-03-30T07:01:49.139Z"
   },
   {
    "duration": 40,
    "start_time": "2022-03-30T07:01:49.148Z"
   },
   {
    "duration": 271,
    "start_time": "2022-03-30T07:01:49.190Z"
   },
   {
    "duration": 8,
    "start_time": "2022-03-30T07:01:49.463Z"
   },
   {
    "duration": 5,
    "start_time": "2022-03-30T07:01:49.482Z"
   },
   {
    "duration": 27,
    "start_time": "2022-03-30T07:01:49.489Z"
   },
   {
    "duration": 28,
    "start_time": "2022-03-30T07:01:49.518Z"
   },
   {
    "duration": 897,
    "start_time": "2022-03-30T07:02:11.974Z"
   },
   {
    "duration": 36,
    "start_time": "2022-03-30T07:02:12.989Z"
   },
   {
    "duration": 34,
    "start_time": "2022-03-30T07:02:17.454Z"
   },
   {
    "duration": 529,
    "start_time": "2022-03-30T07:03:06.286Z"
   },
   {
    "duration": 26,
    "start_time": "2022-03-30T07:03:10.136Z"
   },
   {
    "duration": 24,
    "start_time": "2022-03-30T07:03:25.870Z"
   },
   {
    "duration": 591,
    "start_time": "2022-03-30T07:04:04.020Z"
   },
   {
    "duration": 24,
    "start_time": "2022-03-30T07:04:05.745Z"
   },
   {
    "duration": 24,
    "start_time": "2022-03-30T07:04:09.656Z"
   },
   {
    "duration": 487,
    "start_time": "2022-03-30T07:05:07.304Z"
   },
   {
    "duration": 2066,
    "start_time": "2022-03-30T07:06:45.403Z"
   },
   {
    "duration": 13,
    "start_time": "2022-03-30T07:06:47.472Z"
   },
   {
    "duration": 116,
    "start_time": "2022-03-30T07:06:47.488Z"
   },
   {
    "duration": 198,
    "start_time": "2022-03-30T07:06:47.607Z"
   },
   {
    "duration": 19,
    "start_time": "2022-03-30T07:06:47.808Z"
   },
   {
    "duration": 12,
    "start_time": "2022-03-30T07:06:50.774Z"
   },
   {
    "duration": 147,
    "start_time": "2022-03-30T07:09:29.722Z"
   },
   {
    "duration": 17,
    "start_time": "2022-03-30T07:15:07.764Z"
   },
   {
    "duration": 2540,
    "start_time": "2022-03-30T21:16:43.076Z"
   },
   {
    "duration": 4,
    "start_time": "2022-03-30T21:16:45.619Z"
   },
   {
    "duration": 122,
    "start_time": "2022-03-30T21:16:45.625Z"
   },
   {
    "duration": 227,
    "start_time": "2022-03-30T21:16:45.750Z"
   },
   {
    "duration": 30,
    "start_time": "2022-03-30T21:16:45.980Z"
   },
   {
    "duration": 16,
    "start_time": "2022-03-30T21:16:46.013Z"
   },
   {
    "duration": 20,
    "start_time": "2022-03-30T21:16:46.032Z"
   },
   {
    "duration": 348,
    "start_time": "2022-03-30T21:16:46.055Z"
   },
   {
    "duration": 7,
    "start_time": "2022-03-30T21:16:46.405Z"
   },
   {
    "duration": 14,
    "start_time": "2022-03-30T21:16:46.415Z"
   },
   {
    "duration": 26,
    "start_time": "2022-03-30T21:16:46.432Z"
   },
   {
    "duration": 43,
    "start_time": "2022-03-30T21:16:46.460Z"
   },
   {
    "duration": 535,
    "start_time": "2022-03-30T21:16:46.506Z"
   },
   {
    "duration": 624,
    "start_time": "2022-03-30T21:16:47.044Z"
   },
   {
    "duration": 178,
    "start_time": "2022-03-30T21:16:47.671Z"
   },
   {
    "duration": 2895,
    "start_time": "2022-03-30T21:16:47.851Z"
   },
   {
    "duration": 3,
    "start_time": "2022-03-30T21:16:50.749Z"
   },
   {
    "duration": 41,
    "start_time": "2022-03-30T21:16:50.754Z"
   },
   {
    "duration": 13,
    "start_time": "2022-03-30T21:16:50.797Z"
   },
   {
    "duration": 15,
    "start_time": "2022-03-30T21:16:50.812Z"
   },
   {
    "duration": 12,
    "start_time": "2022-03-30T21:16:50.829Z"
   }
  ],
  "interpreter": {
   "hash": "c569099d5e7f0db5f9fcc2183008bad2c27fe67e16d11dc78c3419bb9f995cf1"
  },
  "kernelspec": {
   "display_name": "Python 3 (ipykernel)",
   "language": "python",
   "name": "python3"
  },
  "language_info": {
   "codemirror_mode": {
    "name": "ipython",
    "version": 3
   },
   "file_extension": ".py",
   "mimetype": "text/x-python",
   "name": "python",
   "nbconvert_exporter": "python",
   "pygments_lexer": "ipython3",
   "version": "3.9.5"
  },
  "toc": {
   "base_numbering": 1,
   "nav_menu": {},
   "number_sections": true,
   "sideBar": true,
   "skip_h1_title": true,
   "title_cell": "Table of Contents",
   "title_sidebar": "Contents",
   "toc_cell": false,
   "toc_position": {},
   "toc_section_display": true,
   "toc_window_display": false
  }
 },
 "nbformat": 4,
 "nbformat_minor": 2
}
