{
 "cells": [
  {
   "cell_type": "markdown",
   "metadata": {
    "id": "E0vqbgi9ay0H"
   },
   "source": [
    "# Music of big cities"
   ]
  },
  {
   "cell_type": "markdown",
   "metadata": {
    "id": "VUC88oWjTJw2"
   },
   "source": [
    "**Comparison of Moscow and St. Petersburg: myths and analysis**\n",
    "\n",
    "For example:\n",
    "1. Moscow is a metropolis driven by the intense rhythm of the workweek.  \n",
    "2. St. Petersburg is the cultural capital, with its distinct tastes.  \n",
    "\n",
    "Using data from Yandex.Music, you will analyze user behavior in these two cities.\n",
    "\n",
    "**Research goal**\n",
    "Test the following hypotheses:  \n",
    "1. User activity depends on the day of the week, and this pattern differs between Moscow and St. Petersburg.  \n",
    "2. On Monday mornings, different music genres dominate in Moscow compared to St. Petersburg. Similarly, on Friday evenings, genre preferences vary by city.  \n",
    "3. Moscow and St. Petersburg have distinct genre preferences: pop music is more popular in Moscow, while Russian rap is more common in St. Petersburg.  \n",
    "\n",
    "**Research process**  \n",
    "\n",
    "User behavior data will be sourced from the file `yandex_music_project.csv`. The quality of the data is unknown, so an initial data overview will be necessary.  \n",
    "\n",
    "You will:  \n",
    "1. Review the data for errors and assess their impact on the research.  \n",
    "2. During preprocessing, correct the most critical data issues if possible.  \n",
    "\n",
    "**Research steps**  \n",
    "1. Data overview.  \n",
    "2. Data preprocessing.  \n",
    "3. Hypotheses testing."
   ]
  },
  {
   "cell_type": "markdown",
   "metadata": {},
   "source": [
    "Load libraries:"
   ]
  },
  {
   "cell_type": "code",
   "execution_count": 47,
   "metadata": {},
   "outputs": [],
   "source": [
    "import pandas as pd\n",
    "import plotly.express as px\n",
    "\n",
    "from caseconverter import snakecase\n",
    "from collections import defaultdict\n",
    "from IPython.display import display"
   ]
  },
  {
   "cell_type": "code",
   "execution_count": 8,
   "metadata": {},
   "outputs": [],
   "source": [
    "FIG_WIDTH = 10 * 100\n",
    "FIG_HEIGHT = 5 * 100"
   ]
  },
  {
   "cell_type": "code",
   "execution_count": 71,
   "metadata": {},
   "outputs": [],
   "source": [
    "def get_statistics(df: pd.DataFrame) -> pd.DataFrame:\n",
    "    \"\"\"\n",
    "    Generate summary statistics for each column in a DataFrame.\n",
    "\n",
    "    Args:\n",
    "        df (pd.DataFrame): Input DataFrame.\n",
    "\n",
    "    Returns:\n",
    "        pd.DataFrame: DataFrame with column statistics, including column name, data type,\n",
    "                      count of unique values, a sample of unique values, null count, and\n",
    "                      percentage of null values.\n",
    "    \"\"\"\n",
    "    rows_total = len(df)\n",
    "    \n",
    "    stats_list = [\n",
    "        {\n",
    "            'column_name': f\"'{column}'\",\n",
    "            'data_type': str(df[column].dtype),\n",
    "            'count_unique': df[column].nunique(),\n",
    "            'sample_values': (\n",
    "                pd.Series(df[column].dropna().unique())\n",
    "                .sample(min(5, len(df[column].dropna().unique())))\n",
    "                .apply(lambda x: round(x, 2) if pd.api.types.is_numeric_dtype(df[column]) else x)\n",
    "                .tolist()\n",
    "            ),\n",
    "            'count_null': df[column].isnull().sum(),\n",
    "            'pct_null': round((df[column].isnull().sum() / rows_total) * 100, 0),\n",
    "        }\n",
    "        for column in df.columns\n",
    "    ]\n",
    "\n",
    "    # Convert the list of statistics to a DataFrame\n",
    "    print(f\"Dataframe size: {df.shape[0]} rows x {df.shape[1]} columns\")\n",
    "    print(f\"Full duplicate rows: {df.duplicated().sum()}\")\n",
    "    return pd.DataFrame(stats_list)"
   ]
  },
  {
   "cell_type": "code",
   "execution_count": 93,
   "metadata": {},
   "outputs": [],
   "source": [
    "def plot_unique_counts(df: pd.DataFrame, columns: list, n_cols: int = 1, fig_size: tuple = (800, 600)):\n",
    "    \"\"\"\n",
    "    Generate a Plotly bar chart for unique value counts in selected columns, \n",
    "    arranged in a grid with configurable rows and columns.\n",
    "\n",
    "    Args:\n",
    "        df (pd.DataFrame): Input DataFrame.\n",
    "        columns (list): List of column names to analyze for unique counts.\n",
    "        n_cols (int): Number of columns in the facet grid. Defaults to 1.\n",
    "        fig_size (tuple): Size of the figure (width, height). Defaults to (800, 600).\n",
    "\n",
    "    Returns:\n",
    "        None: Displays the Plotly bar chart.\n",
    "    \"\"\"\n",
    "    # Prepare data for plotting\n",
    "    data_list = []\n",
    "    for column in columns:\n",
    "        df_temp = (\n",
    "            df[column]\n",
    "            .value_counts()\n",
    "            .reset_index()\n",
    "            .set_axis(['values', 'ucount'], axis=1)\n",
    "            .assign(column=column)\n",
    "        )\n",
    "        data_list.append(df_temp)\n",
    "    \n",
    "    df_combined = pd.concat(data_list, ignore_index=True)\n",
    "\n",
    "    # Create the bar chart\n",
    "    fig = px.bar(\n",
    "        df_combined.sort_values('ucount', ascending=True),\n",
    "        x='ucount',\n",
    "        y='values',\n",
    "        color='column',\n",
    "        facet_col='column',\n",
    "        title='Unique counts of values in selected columns',\n",
    "        template='plotly_white',\n",
    "        width=fig_size[0], height=fig_size[1],\n",
    "        facet_col_wrap=n_cols\n",
    "    )\n",
    "\n",
    "    # Set Y-axis scale to be specific for each facet\n",
    "    fig.update_layout(\n",
    "        xaxis_title='Unique count',\n",
    "        yaxis_title='Values',\n",
    "        showlegend=False\n",
    "    )\n",
    "    \n",
    "    # Make the Y-axis independent for each facet\n",
    "    fig.for_each_yaxis(lambda axis: axis.update(matches=None))\n",
    "\n",
    "    fig.show()"
   ]
  },
  {
   "cell_type": "code",
   "execution_count": 74,
   "metadata": {},
   "outputs": [],
   "source": [
    "try:\n",
    "    raw_music = pd.read_csv('yandex_music_project.csv')\n",
    "except:\n",
    "    raw_music = pd.read_csv('/datasets/yandex_music_project.csv')"
   ]
  },
  {
   "cell_type": "markdown",
   "metadata": {
    "id": "Ml1hmfXC_Zcs"
   },
   "source": [
    "## Data overview\n",
    "\n",
    "Let's get an initial understanding of the Yandex.Music data."
   ]
  },
  {
   "cell_type": "code",
   "execution_count": 75,
   "metadata": {},
   "outputs": [
    {
     "data": {
      "text/html": [
       "<div>\n",
       "<style scoped>\n",
       "    .dataframe tbody tr th:only-of-type {\n",
       "        vertical-align: middle;\n",
       "    }\n",
       "\n",
       "    .dataframe tbody tr th {\n",
       "        vertical-align: top;\n",
       "    }\n",
       "\n",
       "    .dataframe thead th {\n",
       "        text-align: right;\n",
       "    }\n",
       "</style>\n",
       "<table border=\"1\" class=\"dataframe\">\n",
       "  <thead>\n",
       "    <tr style=\"text-align: right;\">\n",
       "      <th></th>\n",
       "      <th>userID</th>\n",
       "      <th>Track</th>\n",
       "      <th>artist</th>\n",
       "      <th>genre</th>\n",
       "      <th>City</th>\n",
       "      <th>time</th>\n",
       "      <th>Day</th>\n",
       "    </tr>\n",
       "  </thead>\n",
       "  <tbody>\n",
       "    <tr>\n",
       "      <th>0</th>\n",
       "      <td>FFB692EC</td>\n",
       "      <td>Kamigata To Boots</td>\n",
       "      <td>The Mass Missile</td>\n",
       "      <td>rock</td>\n",
       "      <td>Saint-Petersburg</td>\n",
       "      <td>20:28:33</td>\n",
       "      <td>Wednesday</td>\n",
       "    </tr>\n",
       "    <tr>\n",
       "      <th>1</th>\n",
       "      <td>55204538</td>\n",
       "      <td>Delayed Because of Accident</td>\n",
       "      <td>Andreas Rönnberg</td>\n",
       "      <td>rock</td>\n",
       "      <td>Moscow</td>\n",
       "      <td>14:07:09</td>\n",
       "      <td>Friday</td>\n",
       "    </tr>\n",
       "    <tr>\n",
       "      <th>2</th>\n",
       "      <td>20EC38</td>\n",
       "      <td>Funiculì funiculà</td>\n",
       "      <td>Mario Lanza</td>\n",
       "      <td>pop</td>\n",
       "      <td>Saint-Petersburg</td>\n",
       "      <td>20:58:07</td>\n",
       "      <td>Wednesday</td>\n",
       "    </tr>\n",
       "    <tr>\n",
       "      <th>3</th>\n",
       "      <td>A3DD03C9</td>\n",
       "      <td>Dragons in the Sunset</td>\n",
       "      <td>Fire + Ice</td>\n",
       "      <td>folk</td>\n",
       "      <td>Saint-Petersburg</td>\n",
       "      <td>08:37:09</td>\n",
       "      <td>Monday</td>\n",
       "    </tr>\n",
       "    <tr>\n",
       "      <th>4</th>\n",
       "      <td>E2DC1FAE</td>\n",
       "      <td>Soul People</td>\n",
       "      <td>Space Echo</td>\n",
       "      <td>dance</td>\n",
       "      <td>Moscow</td>\n",
       "      <td>08:34:34</td>\n",
       "      <td>Monday</td>\n",
       "    </tr>\n",
       "  </tbody>\n",
       "</table>\n",
       "</div>"
      ],
      "text/plain": [
       "     userID                        Track            artist  genre  \\\n",
       "0  FFB692EC            Kamigata To Boots  The Mass Missile   rock   \n",
       "1  55204538  Delayed Because of Accident  Andreas Rönnberg   rock   \n",
       "2    20EC38            Funiculì funiculà       Mario Lanza    pop   \n",
       "3  A3DD03C9        Dragons in the Sunset        Fire + Ice   folk   \n",
       "4  E2DC1FAE                  Soul People        Space Echo  dance   \n",
       "\n",
       "             City        time        Day  \n",
       "0  Saint-Petersburg  20:28:33  Wednesday  \n",
       "1            Moscow  14:07:09     Friday  \n",
       "2  Saint-Petersburg  20:58:07  Wednesday  \n",
       "3  Saint-Petersburg  08:37:09     Monday  \n",
       "4            Moscow  08:34:34     Monday  "
      ]
     },
     "metadata": {},
     "output_type": "display_data"
    }
   ],
   "source": [
    "display(raw_music.head(5))"
   ]
  },
  {
   "cell_type": "code",
   "execution_count": 42,
   "metadata": {
    "id": "fFVu7vqh_Zct"
   },
   "outputs": [
    {
     "name": "stdout",
     "output_type": "stream",
     "text": [
      "Dataframe size: 65079 rows x 7 columns\n",
      "Full duplicate rows: 3826\n"
     ]
    },
    {
     "data": {
      "text/html": [
       "<div>\n",
       "<style scoped>\n",
       "    .dataframe tbody tr th:only-of-type {\n",
       "        vertical-align: middle;\n",
       "    }\n",
       "\n",
       "    .dataframe tbody tr th {\n",
       "        vertical-align: top;\n",
       "    }\n",
       "\n",
       "    .dataframe thead th {\n",
       "        text-align: right;\n",
       "    }\n",
       "</style>\n",
       "<table border=\"1\" class=\"dataframe\">\n",
       "  <thead>\n",
       "    <tr style=\"text-align: right;\">\n",
       "      <th></th>\n",
       "      <th>column_name</th>\n",
       "      <th>data_type</th>\n",
       "      <th>count_unique</th>\n",
       "      <th>sample_values</th>\n",
       "      <th>count_null</th>\n",
       "      <th>pct_null</th>\n",
       "    </tr>\n",
       "  </thead>\n",
       "  <tbody>\n",
       "    <tr>\n",
       "      <th>0</th>\n",
       "      <td>'  userID'</td>\n",
       "      <td>object</td>\n",
       "      <td>41748</td>\n",
       "      <td>[6929C205, CC89C9A7, 2B1212DE, 77F8C592, 12692...</td>\n",
       "      <td>0</td>\n",
       "      <td>0.0</td>\n",
       "    </tr>\n",
       "    <tr>\n",
       "      <th>1</th>\n",
       "      <td>'Track'</td>\n",
       "      <td>object</td>\n",
       "      <td>47245</td>\n",
       "      <td>[Where The Wind Blows, Ak Kaen &amp; Ой то не вече...</td>\n",
       "      <td>1231</td>\n",
       "      <td>2.0</td>\n",
       "    </tr>\n",
       "    <tr>\n",
       "      <th>2</th>\n",
       "      <td>'artist'</td>\n",
       "      <td>object</td>\n",
       "      <td>43605</td>\n",
       "      <td>[Just Go feat. НэВ, Rain Diary, Jonny Craig, B...</td>\n",
       "      <td>7203</td>\n",
       "      <td>11.0</td>\n",
       "    </tr>\n",
       "    <tr>\n",
       "      <th>3</th>\n",
       "      <td>'genre'</td>\n",
       "      <td>object</td>\n",
       "      <td>289</td>\n",
       "      <td>[southern, lovers, dirty, salsa, popdance]</td>\n",
       "      <td>1198</td>\n",
       "      <td>2.0</td>\n",
       "    </tr>\n",
       "    <tr>\n",
       "      <th>4</th>\n",
       "      <td>'  City  '</td>\n",
       "      <td>object</td>\n",
       "      <td>2</td>\n",
       "      <td>[Moscow, Saint-Petersburg]</td>\n",
       "      <td>0</td>\n",
       "      <td>0.0</td>\n",
       "    </tr>\n",
       "    <tr>\n",
       "      <th>5</th>\n",
       "      <td>'time'</td>\n",
       "      <td>object</td>\n",
       "      <td>20392</td>\n",
       "      <td>[08:15:34, 08:06:05, 13:08:22, 20:14:41, 21:27...</td>\n",
       "      <td>0</td>\n",
       "      <td>0.0</td>\n",
       "    </tr>\n",
       "    <tr>\n",
       "      <th>6</th>\n",
       "      <td>'Day'</td>\n",
       "      <td>object</td>\n",
       "      <td>3</td>\n",
       "      <td>[Monday, Wednesday, Friday]</td>\n",
       "      <td>0</td>\n",
       "      <td>0.0</td>\n",
       "    </tr>\n",
       "  </tbody>\n",
       "</table>\n",
       "</div>"
      ],
      "text/plain": [
       "  column_name data_type  count_unique  \\\n",
       "0  '  userID'    object         41748   \n",
       "1     'Track'    object         47245   \n",
       "2    'artist'    object         43605   \n",
       "3     'genre'    object           289   \n",
       "4  '  City  '    object             2   \n",
       "5      'time'    object         20392   \n",
       "6       'Day'    object             3   \n",
       "\n",
       "                                       sample_values  count_null  pct_null  \n",
       "0  [6929C205, CC89C9A7, 2B1212DE, 77F8C592, 12692...           0       0.0  \n",
       "1  [Where The Wind Blows, Ak Kaen & Ой то не вече...        1231       2.0  \n",
       "2  [Just Go feat. НэВ, Rain Diary, Jonny Craig, B...        7203      11.0  \n",
       "3         [southern, lovers, dirty, salsa, popdance]        1198       2.0  \n",
       "4                         [Moscow, Saint-Petersburg]           0       0.0  \n",
       "5  [08:15:34, 08:06:05, 13:08:22, 20:14:41, 21:27...           0       0.0  \n",
       "6                        [Monday, Wednesday, Friday]           0       0.0  "
      ]
     },
     "execution_count": 42,
     "metadata": {},
     "output_type": "execute_result"
    }
   ],
   "source": [
    "get_statistics(raw_music)"
   ]
  },
  {
   "cell_type": "code",
   "execution_count": null,
   "metadata": {},
   "outputs": [],
   "source": [
    "raw_music.columns"
   ]
  },
  {
   "cell_type": "code",
   "execution_count": 98,
   "metadata": {},
   "outputs": [
    {
     "data": {
      "application/vnd.plotly.v1+json": {
       "config": {
        "plotlyServerURL": "https://plot.ly"
       },
       "data": [
        {
         "alignmentgroup": "True",
         "hovertemplate": "column=genre<br>ucount=%{x}<br>values=%{y}<extra></extra>",
         "legendgroup": "genre",
         "marker": {
          "color": "#636efa",
          "pattern": {
           "shape": ""
          }
         },
         "name": "genre",
         "offsetgroup": "genre",
         "orientation": "h",
         "showlegend": true,
         "textposition": "auto",
         "type": "bar",
         "x": [
          1,
          1,
          1,
          1,
          1,
          1,
          1,
          1,
          1,
          1,
          1,
          1,
          1,
          1,
          1,
          1,
          1,
          1,
          1,
          1,
          1,
          1,
          1,
          1,
          1,
          1,
          1,
          1,
          1,
          1,
          1,
          1,
          1,
          1,
          1,
          1,
          1,
          1,
          1,
          1,
          1,
          1,
          1,
          1,
          1,
          1,
          1,
          1,
          1,
          1,
          1,
          1,
          1,
          1,
          1,
          1,
          1,
          1,
          1,
          1,
          1,
          2,
          2,
          2,
          2,
          2,
          2,
          2,
          2,
          2,
          2,
          2,
          2,
          2,
          2,
          2,
          2,
          2,
          2,
          2,
          2,
          2,
          2,
          2,
          2,
          2,
          2,
          3,
          3,
          3,
          3,
          3,
          3,
          3,
          3,
          3,
          3,
          3,
          3,
          3,
          3,
          3,
          3,
          3,
          4,
          4,
          4,
          4,
          4,
          4,
          4,
          4,
          5,
          5,
          5,
          5,
          5,
          5,
          5,
          5,
          5,
          5,
          6,
          6,
          6,
          6,
          6,
          7,
          7,
          7,
          7,
          7,
          7,
          7,
          8,
          8,
          8,
          8,
          9,
          9,
          9,
          9,
          9,
          9,
          9,
          9,
          9,
          9,
          10,
          10,
          10,
          10,
          10,
          10,
          11,
          11,
          11,
          12,
          12,
          12,
          12,
          13,
          13,
          13,
          14,
          15,
          15,
          15,
          16,
          16,
          16,
          17,
          18,
          18,
          18,
          18,
          18,
          19,
          19,
          19,
          21,
          21,
          22,
          22,
          23,
          25,
          25,
          26,
          27,
          27,
          27,
          29,
          32,
          32,
          33,
          34,
          35,
          38,
          41,
          42,
          43,
          45,
          48,
          52,
          53,
          54,
          55,
          56,
          57,
          59,
          59,
          61,
          61,
          63,
          68,
          73,
          77,
          77,
          78,
          79,
          80,
          81,
          82,
          84,
          85,
          85,
          92,
          93,
          95,
          95,
          95,
          96,
          97,
          99,
          100,
          101,
          106,
          113,
          113,
          113,
          120,
          123,
          123,
          135,
          139,
          139,
          150,
          159,
          179,
          186,
          206,
          214,
          231,
          245,
          245,
          256,
          262,
          263,
          298,
          316,
          320,
          352,
          374,
          391,
          437,
          509,
          521,
          551,
          598,
          643,
          656,
          667,
          899,
          983,
          1015,
          1036,
          1189,
          1274,
          1579,
          1843,
          2018,
          2069,
          2166,
          2396,
          3148,
          5852,
          6192,
          6761,
          8850
         ],
         "xaxis": "x3",
         "y": [
          "hip-hop",
          "indipop",
          "jungle",
          "fado",
          "showtunes",
          "top",
          "metalcore",
          "roots",
          "neue",
          "arena",
          "irish",
          "scenic",
          "horror",
          "mandopop",
          "axé",
          "forró",
          "jam",
          "rave",
          "specialty",
          "quebecois",
          "popdance",
          "französisch",
          "poprussian",
          "teen",
          "synthpop",
          "dirty",
          "punjabi",
          "regional",
          "independent",
          "hop",
          "kayokyoku",
          "entehno",
          "tanzorchester",
          "acid",
          "popelectronic",
          "loungeelectronic",
          "ghazal",
          "baile",
          "synthrock",
          "historisch",
          "bossa",
          "sängerportrait",
          "taraftar",
          "marschmusik",
          "tribal",
          "электроника",
          "shoegazing",
          "soft",
          "karadeniz",
          "folktronica",
          "gitarre",
          "frankreich",
          "ïîï",
          "laiko",
          "author",
          "documentary",
          "rockother",
          "popeurodance",
          "lovers",
          "sound",
          "podcasts",
          "soulful",
          "oceania",
          "hardtechno",
          "latino",
          "ram",
          "hardstyle",
          "art",
          "grunge",
          "rockindie",
          "worldbeat",
          "mediterranean",
          "malaysian",
          "handsup",
          "rockalternative",
          "cantautori",
          "skarock",
          "deutschspr",
          "hymn",
          "cantopop",
          "ragga",
          "alternativepunk",
          "triphop",
          "mood",
          "colombian",
          "rockabilly",
          "arabic",
          "native",
          "neoklassik",
          "dark",
          "animated",
          "cuban",
          "speech",
          "gypsy",
          "orchestral",
          "choral",
          "canzone",
          "japanese",
          "vi",
          "nujazz",
          "trip",
          "idm",
          "caribbean",
          "slow",
          "korean",
          "action",
          "power",
          "mexican",
          "rancheras",
          "afrikaans",
          "thrash",
          "sertanejo",
          "traditional",
          "emo",
          "surf",
          "retro",
          "türk",
          "samba",
          "chamber",
          "leftfield",
          "downbeat",
          "bollywood",
          "garage",
          "rhythm",
          "tango",
          "grime",
          "acoustic",
          "folklore",
          "bluegrass",
          "lounge",
          "audiobook",
          "muslim",
          "piano",
          "reggaeton",
          "americana",
          "breaks",
          "deutschrock",
          "tradjazz",
          "mpb",
          "self",
          "dnb",
          "newwave",
          "breakbeat",
          "middle",
          "smooth",
          "salsa",
          "post",
          "arabesk",
          "inspirational",
          "southern",
          "gangsta",
          "electropop",
          "contemporary",
          "sport",
          "meditative",
          "swing",
          "balkan",
          "club",
          "tropical",
          "german",
          "flamenco",
          "european",
          "glitch",
          "death",
          "ethnic",
          "bigroom",
          "broadway",
          "gothic",
          "chinese",
          "international",
          "rnr",
          "africa",
          "dancepop",
          "eastern",
          "eurofolk",
          "indian",
          "celtic",
          "newage",
          "nu",
          "beats",
          "christmas",
          "karaoke",
          "future",
          "black",
          "brazilian",
          "comedy",
          "türkçe",
          "argentinetango",
          "adult",
          "ukrrock",
          "dub",
          "old",
          "opera",
          "tech",
          "uzbek",
          "jewish",
          "fitness",
          "romance",
          "variété",
          "schlager",
          "dancehall",
          "downtempo",
          "modern",
          "other",
          "gospel",
          "ska",
          "experimental",
          "stonerrock",
          "minimal",
          "avantgarde",
          "relax",
          "jpop",
          "folkrock",
          "disco",
          "epicmetal",
          "tatar",
          "postrock",
          "classicmetal",
          "funk",
          "conjazz",
          "religious",
          "industrial",
          "chanson",
          "melodic",
          "folkmetal",
          "hiphop",
          "french",
          "progmetal",
          "numetal",
          "christian",
          "soul",
          "russian",
          "k-pop",
          "vocal",
          "drum",
          "fairytail",
          "western",
          "chill",
          "anime",
          "estrada",
          "caucasian",
          "trance",
          "videogame",
          "hardcore",
          "deep",
          "hard'n'heavy",
          "progressive",
          "techno",
          "spiritual",
          "dubstep",
          "posthardcore",
          "singer",
          "instrumental",
          "holiday",
          "urban",
          "shanson",
          "ambient",
          "extrememetal",
          "easy",
          "house",
          "psychedelic",
          "miscellaneous",
          "local",
          "film",
          "punk",
          "country",
          "blues",
          "children",
          "new",
          "reggae",
          "rusrock",
          "indie",
          "rap",
          "latin",
          "rnb",
          "folk",
          "soundtrack",
          "metal",
          "jazz",
          "rusrap",
          "ruspop",
          "world",
          "alternative",
          "classical",
          "hip",
          "electronic",
          "rock",
          "dance",
          "pop"
         ],
         "yaxis": "y3"
        },
        {
         "alignmentgroup": "True",
         "hovertemplate": "column=day<br>ucount=%{x}<br>values=%{y}<extra></extra>",
         "legendgroup": "day",
         "marker": {
          "color": "#EF553B",
          "pattern": {
           "shape": ""
          }
         },
         "name": "day",
         "offsetgroup": "day",
         "orientation": "h",
         "showlegend": true,
         "textposition": "auto",
         "type": "bar",
         "x": [
          19233,
          22697,
          23149
         ],
         "xaxis": "x2",
         "y": [
          "Wednesday",
          "Monday",
          "Friday"
         ],
         "yaxis": "y2"
        },
        {
         "alignmentgroup": "True",
         "hovertemplate": "column=city<br>ucount=%{x}<br>values=%{y}<extra></extra>",
         "legendgroup": "city",
         "marker": {
          "color": "#00cc96",
          "pattern": {
           "shape": ""
          }
         },
         "name": "city",
         "offsetgroup": "city",
         "orientation": "h",
         "showlegend": true,
         "textposition": "auto",
         "type": "bar",
         "x": [
          19719,
          45360
         ],
         "xaxis": "x",
         "y": [
          "Saint-Petersburg",
          "Moscow"
         ],
         "yaxis": "y"
        }
       ],
       "layout": {
        "annotations": [
         {
          "font": {},
          "showarrow": false,
          "text": "column=city",
          "x": 0.5,
          "xanchor": "center",
          "xref": "paper",
          "y": 0.2866666666666666,
          "yanchor": "bottom",
          "yref": "paper"
         },
         {
          "font": {},
          "showarrow": false,
          "text": "column=day",
          "x": 0.5,
          "xanchor": "center",
          "xref": "paper",
          "y": 0.6433333333333333,
          "yanchor": "bottom",
          "yref": "paper"
         },
         {
          "font": {},
          "showarrow": false,
          "text": "column=genre",
          "x": 0.5,
          "xanchor": "center",
          "xref": "paper",
          "y": 0.9999999999999999,
          "yanchor": "bottom",
          "yref": "paper"
         }
        ],
        "barmode": "relative",
        "height": 500,
        "legend": {
         "title": {
          "text": "column"
         },
         "tracegroupgap": 0
        },
        "showlegend": false,
        "template": {
         "data": {
          "bar": [
           {
            "error_x": {
             "color": "#2a3f5f"
            },
            "error_y": {
             "color": "#2a3f5f"
            },
            "marker": {
             "line": {
              "color": "white",
              "width": 0.5
             },
             "pattern": {
              "fillmode": "overlay",
              "size": 10,
              "solidity": 0.2
             }
            },
            "type": "bar"
           }
          ],
          "barpolar": [
           {
            "marker": {
             "line": {
              "color": "white",
              "width": 0.5
             },
             "pattern": {
              "fillmode": "overlay",
              "size": 10,
              "solidity": 0.2
             }
            },
            "type": "barpolar"
           }
          ],
          "carpet": [
           {
            "aaxis": {
             "endlinecolor": "#2a3f5f",
             "gridcolor": "#C8D4E3",
             "linecolor": "#C8D4E3",
             "minorgridcolor": "#C8D4E3",
             "startlinecolor": "#2a3f5f"
            },
            "baxis": {
             "endlinecolor": "#2a3f5f",
             "gridcolor": "#C8D4E3",
             "linecolor": "#C8D4E3",
             "minorgridcolor": "#C8D4E3",
             "startlinecolor": "#2a3f5f"
            },
            "type": "carpet"
           }
          ],
          "choropleth": [
           {
            "colorbar": {
             "outlinewidth": 0,
             "ticks": ""
            },
            "type": "choropleth"
           }
          ],
          "contour": [
           {
            "colorbar": {
             "outlinewidth": 0,
             "ticks": ""
            },
            "colorscale": [
             [
              0,
              "#0d0887"
             ],
             [
              0.1111111111111111,
              "#46039f"
             ],
             [
              0.2222222222222222,
              "#7201a8"
             ],
             [
              0.3333333333333333,
              "#9c179e"
             ],
             [
              0.4444444444444444,
              "#bd3786"
             ],
             [
              0.5555555555555556,
              "#d8576b"
             ],
             [
              0.6666666666666666,
              "#ed7953"
             ],
             [
              0.7777777777777778,
              "#fb9f3a"
             ],
             [
              0.8888888888888888,
              "#fdca26"
             ],
             [
              1,
              "#f0f921"
             ]
            ],
            "type": "contour"
           }
          ],
          "contourcarpet": [
           {
            "colorbar": {
             "outlinewidth": 0,
             "ticks": ""
            },
            "type": "contourcarpet"
           }
          ],
          "heatmap": [
           {
            "colorbar": {
             "outlinewidth": 0,
             "ticks": ""
            },
            "colorscale": [
             [
              0,
              "#0d0887"
             ],
             [
              0.1111111111111111,
              "#46039f"
             ],
             [
              0.2222222222222222,
              "#7201a8"
             ],
             [
              0.3333333333333333,
              "#9c179e"
             ],
             [
              0.4444444444444444,
              "#bd3786"
             ],
             [
              0.5555555555555556,
              "#d8576b"
             ],
             [
              0.6666666666666666,
              "#ed7953"
             ],
             [
              0.7777777777777778,
              "#fb9f3a"
             ],
             [
              0.8888888888888888,
              "#fdca26"
             ],
             [
              1,
              "#f0f921"
             ]
            ],
            "type": "heatmap"
           }
          ],
          "heatmapgl": [
           {
            "colorbar": {
             "outlinewidth": 0,
             "ticks": ""
            },
            "colorscale": [
             [
              0,
              "#0d0887"
             ],
             [
              0.1111111111111111,
              "#46039f"
             ],
             [
              0.2222222222222222,
              "#7201a8"
             ],
             [
              0.3333333333333333,
              "#9c179e"
             ],
             [
              0.4444444444444444,
              "#bd3786"
             ],
             [
              0.5555555555555556,
              "#d8576b"
             ],
             [
              0.6666666666666666,
              "#ed7953"
             ],
             [
              0.7777777777777778,
              "#fb9f3a"
             ],
             [
              0.8888888888888888,
              "#fdca26"
             ],
             [
              1,
              "#f0f921"
             ]
            ],
            "type": "heatmapgl"
           }
          ],
          "histogram": [
           {
            "marker": {
             "pattern": {
              "fillmode": "overlay",
              "size": 10,
              "solidity": 0.2
             }
            },
            "type": "histogram"
           }
          ],
          "histogram2d": [
           {
            "colorbar": {
             "outlinewidth": 0,
             "ticks": ""
            },
            "colorscale": [
             [
              0,
              "#0d0887"
             ],
             [
              0.1111111111111111,
              "#46039f"
             ],
             [
              0.2222222222222222,
              "#7201a8"
             ],
             [
              0.3333333333333333,
              "#9c179e"
             ],
             [
              0.4444444444444444,
              "#bd3786"
             ],
             [
              0.5555555555555556,
              "#d8576b"
             ],
             [
              0.6666666666666666,
              "#ed7953"
             ],
             [
              0.7777777777777778,
              "#fb9f3a"
             ],
             [
              0.8888888888888888,
              "#fdca26"
             ],
             [
              1,
              "#f0f921"
             ]
            ],
            "type": "histogram2d"
           }
          ],
          "histogram2dcontour": [
           {
            "colorbar": {
             "outlinewidth": 0,
             "ticks": ""
            },
            "colorscale": [
             [
              0,
              "#0d0887"
             ],
             [
              0.1111111111111111,
              "#46039f"
             ],
             [
              0.2222222222222222,
              "#7201a8"
             ],
             [
              0.3333333333333333,
              "#9c179e"
             ],
             [
              0.4444444444444444,
              "#bd3786"
             ],
             [
              0.5555555555555556,
              "#d8576b"
             ],
             [
              0.6666666666666666,
              "#ed7953"
             ],
             [
              0.7777777777777778,
              "#fb9f3a"
             ],
             [
              0.8888888888888888,
              "#fdca26"
             ],
             [
              1,
              "#f0f921"
             ]
            ],
            "type": "histogram2dcontour"
           }
          ],
          "mesh3d": [
           {
            "colorbar": {
             "outlinewidth": 0,
             "ticks": ""
            },
            "type": "mesh3d"
           }
          ],
          "parcoords": [
           {
            "line": {
             "colorbar": {
              "outlinewidth": 0,
              "ticks": ""
             }
            },
            "type": "parcoords"
           }
          ],
          "pie": [
           {
            "automargin": true,
            "type": "pie"
           }
          ],
          "scatter": [
           {
            "fillpattern": {
             "fillmode": "overlay",
             "size": 10,
             "solidity": 0.2
            },
            "type": "scatter"
           }
          ],
          "scatter3d": [
           {
            "line": {
             "colorbar": {
              "outlinewidth": 0,
              "ticks": ""
             }
            },
            "marker": {
             "colorbar": {
              "outlinewidth": 0,
              "ticks": ""
             }
            },
            "type": "scatter3d"
           }
          ],
          "scattercarpet": [
           {
            "marker": {
             "colorbar": {
              "outlinewidth": 0,
              "ticks": ""
             }
            },
            "type": "scattercarpet"
           }
          ],
          "scattergeo": [
           {
            "marker": {
             "colorbar": {
              "outlinewidth": 0,
              "ticks": ""
             }
            },
            "type": "scattergeo"
           }
          ],
          "scattergl": [
           {
            "marker": {
             "colorbar": {
              "outlinewidth": 0,
              "ticks": ""
             }
            },
            "type": "scattergl"
           }
          ],
          "scattermapbox": [
           {
            "marker": {
             "colorbar": {
              "outlinewidth": 0,
              "ticks": ""
             }
            },
            "type": "scattermapbox"
           }
          ],
          "scatterpolar": [
           {
            "marker": {
             "colorbar": {
              "outlinewidth": 0,
              "ticks": ""
             }
            },
            "type": "scatterpolar"
           }
          ],
          "scatterpolargl": [
           {
            "marker": {
             "colorbar": {
              "outlinewidth": 0,
              "ticks": ""
             }
            },
            "type": "scatterpolargl"
           }
          ],
          "scatterternary": [
           {
            "marker": {
             "colorbar": {
              "outlinewidth": 0,
              "ticks": ""
             }
            },
            "type": "scatterternary"
           }
          ],
          "surface": [
           {
            "colorbar": {
             "outlinewidth": 0,
             "ticks": ""
            },
            "colorscale": [
             [
              0,
              "#0d0887"
             ],
             [
              0.1111111111111111,
              "#46039f"
             ],
             [
              0.2222222222222222,
              "#7201a8"
             ],
             [
              0.3333333333333333,
              "#9c179e"
             ],
             [
              0.4444444444444444,
              "#bd3786"
             ],
             [
              0.5555555555555556,
              "#d8576b"
             ],
             [
              0.6666666666666666,
              "#ed7953"
             ],
             [
              0.7777777777777778,
              "#fb9f3a"
             ],
             [
              0.8888888888888888,
              "#fdca26"
             ],
             [
              1,
              "#f0f921"
             ]
            ],
            "type": "surface"
           }
          ],
          "table": [
           {
            "cells": {
             "fill": {
              "color": "#EBF0F8"
             },
             "line": {
              "color": "white"
             }
            },
            "header": {
             "fill": {
              "color": "#C8D4E3"
             },
             "line": {
              "color": "white"
             }
            },
            "type": "table"
           }
          ]
         },
         "layout": {
          "annotationdefaults": {
           "arrowcolor": "#2a3f5f",
           "arrowhead": 0,
           "arrowwidth": 1
          },
          "autotypenumbers": "strict",
          "coloraxis": {
           "colorbar": {
            "outlinewidth": 0,
            "ticks": ""
           }
          },
          "colorscale": {
           "diverging": [
            [
             0,
             "#8e0152"
            ],
            [
             0.1,
             "#c51b7d"
            ],
            [
             0.2,
             "#de77ae"
            ],
            [
             0.3,
             "#f1b6da"
            ],
            [
             0.4,
             "#fde0ef"
            ],
            [
             0.5,
             "#f7f7f7"
            ],
            [
             0.6,
             "#e6f5d0"
            ],
            [
             0.7,
             "#b8e186"
            ],
            [
             0.8,
             "#7fbc41"
            ],
            [
             0.9,
             "#4d9221"
            ],
            [
             1,
             "#276419"
            ]
           ],
           "sequential": [
            [
             0,
             "#0d0887"
            ],
            [
             0.1111111111111111,
             "#46039f"
            ],
            [
             0.2222222222222222,
             "#7201a8"
            ],
            [
             0.3333333333333333,
             "#9c179e"
            ],
            [
             0.4444444444444444,
             "#bd3786"
            ],
            [
             0.5555555555555556,
             "#d8576b"
            ],
            [
             0.6666666666666666,
             "#ed7953"
            ],
            [
             0.7777777777777778,
             "#fb9f3a"
            ],
            [
             0.8888888888888888,
             "#fdca26"
            ],
            [
             1,
             "#f0f921"
            ]
           ],
           "sequentialminus": [
            [
             0,
             "#0d0887"
            ],
            [
             0.1111111111111111,
             "#46039f"
            ],
            [
             0.2222222222222222,
             "#7201a8"
            ],
            [
             0.3333333333333333,
             "#9c179e"
            ],
            [
             0.4444444444444444,
             "#bd3786"
            ],
            [
             0.5555555555555556,
             "#d8576b"
            ],
            [
             0.6666666666666666,
             "#ed7953"
            ],
            [
             0.7777777777777778,
             "#fb9f3a"
            ],
            [
             0.8888888888888888,
             "#fdca26"
            ],
            [
             1,
             "#f0f921"
            ]
           ]
          },
          "colorway": [
           "#636efa",
           "#EF553B",
           "#00cc96",
           "#ab63fa",
           "#FFA15A",
           "#19d3f3",
           "#FF6692",
           "#B6E880",
           "#FF97FF",
           "#FECB52"
          ],
          "font": {
           "color": "#2a3f5f"
          },
          "geo": {
           "bgcolor": "white",
           "lakecolor": "white",
           "landcolor": "white",
           "showlakes": true,
           "showland": true,
           "subunitcolor": "#C8D4E3"
          },
          "hoverlabel": {
           "align": "left"
          },
          "hovermode": "closest",
          "mapbox": {
           "style": "light"
          },
          "paper_bgcolor": "white",
          "plot_bgcolor": "white",
          "polar": {
           "angularaxis": {
            "gridcolor": "#EBF0F8",
            "linecolor": "#EBF0F8",
            "ticks": ""
           },
           "bgcolor": "white",
           "radialaxis": {
            "gridcolor": "#EBF0F8",
            "linecolor": "#EBF0F8",
            "ticks": ""
           }
          },
          "scene": {
           "xaxis": {
            "backgroundcolor": "white",
            "gridcolor": "#DFE8F3",
            "gridwidth": 2,
            "linecolor": "#EBF0F8",
            "showbackground": true,
            "ticks": "",
            "zerolinecolor": "#EBF0F8"
           },
           "yaxis": {
            "backgroundcolor": "white",
            "gridcolor": "#DFE8F3",
            "gridwidth": 2,
            "linecolor": "#EBF0F8",
            "showbackground": true,
            "ticks": "",
            "zerolinecolor": "#EBF0F8"
           },
           "zaxis": {
            "backgroundcolor": "white",
            "gridcolor": "#DFE8F3",
            "gridwidth": 2,
            "linecolor": "#EBF0F8",
            "showbackground": true,
            "ticks": "",
            "zerolinecolor": "#EBF0F8"
           }
          },
          "shapedefaults": {
           "line": {
            "color": "#2a3f5f"
           }
          },
          "ternary": {
           "aaxis": {
            "gridcolor": "#DFE8F3",
            "linecolor": "#A2B1C6",
            "ticks": ""
           },
           "baxis": {
            "gridcolor": "#DFE8F3",
            "linecolor": "#A2B1C6",
            "ticks": ""
           },
           "bgcolor": "white",
           "caxis": {
            "gridcolor": "#DFE8F3",
            "linecolor": "#A2B1C6",
            "ticks": ""
           }
          },
          "title": {
           "x": 0.05
          },
          "xaxis": {
           "automargin": true,
           "gridcolor": "#EBF0F8",
           "linecolor": "#EBF0F8",
           "ticks": "",
           "title": {
            "standoff": 15
           },
           "zerolinecolor": "#EBF0F8",
           "zerolinewidth": 2
          },
          "yaxis": {
           "automargin": true,
           "gridcolor": "#EBF0F8",
           "linecolor": "#EBF0F8",
           "ticks": "",
           "title": {
            "standoff": 15
           },
           "zerolinecolor": "#EBF0F8",
           "zerolinewidth": 2
          }
         }
        },
        "title": {
         "text": "Unique counts of values in selected columns"
        },
        "width": 1000,
        "xaxis": {
         "anchor": "y",
         "domain": [
          0,
          1
         ],
         "title": {
          "text": "Unique count"
         }
        },
        "xaxis2": {
         "anchor": "y2",
         "domain": [
          0,
          1
         ],
         "matches": "x",
         "showticklabels": false
        },
        "xaxis3": {
         "anchor": "y3",
         "domain": [
          0,
          1
         ],
         "matches": "x",
         "showticklabels": false
        },
        "yaxis": {
         "anchor": "x",
         "domain": [
          0,
          0.2866666666666666
         ],
         "title": {
          "text": "Values"
         }
        },
        "yaxis2": {
         "anchor": "x2",
         "domain": [
          0.35666666666666663,
          0.6433333333333333
         ],
         "title": {
          "text": "values"
         }
        },
        "yaxis3": {
         "anchor": "x3",
         "domain": [
          0.7133333333333333,
          0.9999999999999999
         ],
         "title": {
          "text": "values"
         }
        }
       }
      }
     },
     "metadata": {},
     "output_type": "display_data"
    }
   ],
   "source": [
    "plot_unique_counts(\n",
    "    raw_music.rename(columns=snakecase), \n",
    "    ['genre', 'day', 'city'],\n",
    "    n_cols=1,\n",
    "    fig_size=(FIG_WIDTH, FIG_HEIGHT)\n",
    ")"
   ]
  },
  {
   "cell_type": "code",
   "execution_count": 70,
   "metadata": {},
   "outputs": [
    {
     "name": "stderr",
     "output_type": "stream",
     "text": [
      "C:\\Users\\micha\\AppData\\Local\\Temp/ipykernel_38980/2718652864.py:2: FutureWarning:\n",
      "\n",
      "In a future version of pandas all arguments of DataFrame.set_axis except for the argument 'labels' will be keyword-only.\n",
      "\n"
     ]
    },
    {
     "data": {
      "text/html": [
       "<div>\n",
       "<style scoped>\n",
       "    .dataframe tbody tr th:only-of-type {\n",
       "        vertical-align: middle;\n",
       "    }\n",
       "\n",
       "    .dataframe tbody tr th {\n",
       "        vertical-align: top;\n",
       "    }\n",
       "\n",
       "    .dataframe thead th {\n",
       "        text-align: right;\n",
       "    }\n",
       "</style>\n",
       "<table border=\"1\" class=\"dataframe\">\n",
       "  <thead>\n",
       "    <tr style=\"text-align: right;\">\n",
       "      <th></th>\n",
       "      <th>values</th>\n",
       "      <th>ucount</th>\n",
       "      <th>column</th>\n",
       "    </tr>\n",
       "  </thead>\n",
       "  <tbody>\n",
       "    <tr>\n",
       "      <th>0</th>\n",
       "      <td>pop</td>\n",
       "      <td>8850</td>\n",
       "      <td>genre</td>\n",
       "    </tr>\n",
       "    <tr>\n",
       "      <th>1</th>\n",
       "      <td>dance</td>\n",
       "      <td>6761</td>\n",
       "      <td>genre</td>\n",
       "    </tr>\n",
       "    <tr>\n",
       "      <th>2</th>\n",
       "      <td>rock</td>\n",
       "      <td>6192</td>\n",
       "      <td>genre</td>\n",
       "    </tr>\n",
       "    <tr>\n",
       "      <th>3</th>\n",
       "      <td>electronic</td>\n",
       "      <td>5852</td>\n",
       "      <td>genre</td>\n",
       "    </tr>\n",
       "    <tr>\n",
       "      <th>4</th>\n",
       "      <td>hip</td>\n",
       "      <td>3148</td>\n",
       "      <td>genre</td>\n",
       "    </tr>\n",
       "  </tbody>\n",
       "</table>\n",
       "</div>"
      ],
      "text/plain": [
       "       values  ucount column\n",
       "0         pop    8850  genre\n",
       "1       dance    6761  genre\n",
       "2        rock    6192  genre\n",
       "3  electronic    5852  genre\n",
       "4         hip    3148  genre"
      ]
     },
     "metadata": {},
     "output_type": "display_data"
    },
    {
     "data": {
      "application/vnd.plotly.v1+json": {
       "config": {
        "plotlyServerURL": "https://plot.ly"
       },
       "data": [
        {
         "alignmentgroup": "True",
         "hovertemplate": "ucount=%{x}<br>values=%{y}<extra></extra>",
         "legendgroup": "",
         "marker": {
          "color": "#636efa",
          "pattern": {
           "shape": ""
          }
         },
         "name": "",
         "offsetgroup": "",
         "orientation": "h",
         "showlegend": false,
         "textposition": "auto",
         "type": "bar",
         "x": [
          1,
          1,
          1,
          1,
          1,
          1,
          1,
          1,
          1,
          1,
          1,
          1,
          1,
          1,
          1,
          1,
          1,
          1,
          1,
          1,
          1,
          1,
          1,
          1,
          1,
          1,
          1,
          1,
          1,
          1,
          1,
          1,
          1,
          1,
          1,
          1,
          1,
          1,
          1,
          1,
          1,
          1,
          1,
          1,
          1,
          1,
          1,
          1,
          1,
          1,
          1,
          1,
          1,
          1,
          1,
          1,
          1,
          1,
          1,
          1,
          1,
          2,
          2,
          2,
          2,
          2,
          2,
          2,
          2,
          2,
          2,
          2,
          2,
          2,
          2,
          2,
          2,
          2,
          2,
          2,
          2,
          2,
          2,
          2,
          2,
          2,
          2,
          3,
          3,
          3,
          3,
          3,
          3,
          3,
          3,
          3,
          3,
          3,
          3,
          3,
          3,
          3,
          3,
          3,
          4,
          4,
          4,
          4,
          4,
          4,
          4,
          4,
          5,
          5,
          5,
          5,
          5,
          5,
          5,
          5,
          5,
          5,
          6,
          6,
          6,
          6,
          6,
          7,
          7,
          7,
          7,
          7,
          7,
          7,
          8,
          8,
          8,
          8,
          9,
          9,
          9,
          9,
          9,
          9,
          9,
          9,
          9,
          9,
          10,
          10,
          10,
          10,
          10,
          10,
          11,
          11,
          11,
          12,
          12,
          12,
          12,
          13,
          13,
          13,
          14,
          15,
          15,
          15,
          16,
          16,
          16,
          17,
          18,
          18,
          18,
          18,
          18,
          19,
          19,
          19,
          21,
          21,
          22,
          22,
          23,
          25,
          25,
          26,
          27,
          27,
          27,
          29,
          32,
          32,
          33,
          34,
          35,
          38,
          41,
          42,
          43,
          45,
          48,
          52,
          53,
          54,
          55,
          56,
          57,
          59,
          59,
          61,
          61,
          63,
          68,
          73,
          77,
          77,
          78,
          79,
          80,
          81,
          82,
          84,
          85,
          85,
          92,
          93,
          95,
          95,
          95,
          96,
          97,
          99,
          100,
          101,
          106,
          113,
          113,
          113,
          120,
          123,
          123,
          135,
          139,
          139,
          150,
          159,
          179,
          186,
          206,
          214,
          231,
          245,
          245,
          256,
          262,
          263,
          298,
          316,
          320,
          352,
          374,
          391,
          437,
          509,
          521,
          551,
          598,
          643,
          656,
          667,
          899,
          983,
          1015,
          1036,
          1189,
          1274,
          1579,
          1843,
          2018,
          2069,
          2166,
          2396,
          3148,
          5852,
          6192,
          6761,
          8850
         ],
         "xaxis": "x",
         "y": [
          "regional",
          "independent",
          "indipop",
          "jungle",
          "fado",
          "showtunes",
          "top",
          "metalcore",
          "roots",
          "neue",
          "arena",
          "irish",
          "scenic",
          "horror",
          "mandopop",
          "axé",
          "forró",
          "jam",
          "rave",
          "specialty",
          "quebecois",
          "popdance",
          "französisch",
          "poprussian",
          "teen",
          "synthpop",
          "dirty",
          "punjabi",
          "hop",
          "tanzorchester",
          "hip-hop",
          "karadeniz",
          "entehno",
          "kayokyoku",
          "acid",
          "popelectronic",
          "loungeelectronic",
          "ghazal",
          "baile",
          "synthrock",
          "historisch",
          "shoegazing",
          "sängerportrait",
          "taraftar",
          "marschmusik",
          "tribal",
          "bossa",
          "folktronica",
          "author",
          "электроника",
          "frankreich",
          "ïîï",
          "laiko",
          "podcasts",
          "gitarre",
          "rockother",
          "popeurodance",
          "lovers",
          "sound",
          "soft",
          "documentary",
          "soulful",
          "oceania",
          "hardtechno",
          "latino",
          "ram",
          "hardstyle",
          "art",
          "grunge",
          "rockindie",
          "worldbeat",
          "mediterranean",
          "malaysian",
          "cantautori",
          "handsup",
          "colombian",
          "rockabilly",
          "mood",
          "triphop",
          "alternativepunk",
          "rockalternative",
          "cantopop",
          "hymn",
          "deutschspr",
          "skarock",
          "arabic",
          "ragga",
          "orchestral",
          "cuban",
          "gypsy",
          "dark",
          "neoklassik",
          "native",
          "speech",
          "slow",
          "idm",
          "japanese",
          "vi",
          "nujazz",
          "choral",
          "trip",
          "animated",
          "caribbean",
          "canzone",
          "korean",
          "power",
          "sertanejo",
          "action",
          "rancheras",
          "afrikaans",
          "thrash",
          "mexican",
          "emo",
          "downbeat",
          "leftfield",
          "chamber",
          "samba",
          "türk",
          "bollywood",
          "surf",
          "retro",
          "traditional",
          "grime",
          "acoustic",
          "rhythm",
          "garage",
          "tango",
          "lounge",
          "piano",
          "muslim",
          "audiobook",
          "reggaeton",
          "bluegrass",
          "folklore",
          "tradjazz",
          "americana",
          "breaks",
          "deutschrock",
          "mpb",
          "self",
          "dnb",
          "newwave",
          "smooth",
          "breakbeat",
          "middle",
          "post",
          "arabesk",
          "salsa",
          "gangsta",
          "contemporary",
          "southern",
          "inspirational",
          "electropop",
          "sport",
          "meditative",
          "balkan",
          "swing",
          "club",
          "tropical",
          "german",
          "flamenco",
          "european",
          "glitch",
          "death",
          "ethnic",
          "gothic",
          "bigroom",
          "broadway",
          "international",
          "chinese",
          "rnr",
          "africa",
          "dancepop",
          "eastern",
          "eurofolk",
          "indian",
          "celtic",
          "beats",
          "newage",
          "nu",
          "karaoke",
          "christmas",
          "future",
          "black",
          "brazilian",
          "türkçe",
          "comedy",
          "argentinetango",
          "ukrrock",
          "dub",
          "adult",
          "old",
          "opera",
          "tech",
          "uzbek",
          "jewish",
          "fitness",
          "romance",
          "variété",
          "schlager",
          "dancehall",
          "downtempo",
          "modern",
          "other",
          "gospel",
          "ska",
          "experimental",
          "stonerrock",
          "minimal",
          "avantgarde",
          "relax",
          "jpop",
          "folkrock",
          "disco",
          "epicmetal",
          "tatar",
          "classicmetal",
          "postrock",
          "funk",
          "conjazz",
          "religious",
          "industrial",
          "chanson",
          "melodic",
          "folkmetal",
          "hiphop",
          "french",
          "progmetal",
          "numetal",
          "christian",
          "soul",
          "russian",
          "k-pop",
          "vocal",
          "drum",
          "fairytail",
          "western",
          "estrada",
          "chill",
          "anime",
          "caucasian",
          "videogame",
          "trance",
          "hardcore",
          "deep",
          "hard'n'heavy",
          "progressive",
          "techno",
          "spiritual",
          "dubstep",
          "posthardcore",
          "singer",
          "instrumental",
          "holiday",
          "urban",
          "shanson",
          "ambient",
          "extrememetal",
          "easy",
          "house",
          "psychedelic",
          "miscellaneous",
          "local",
          "film",
          "punk",
          "country",
          "blues",
          "children",
          "new",
          "reggae",
          "rusrock",
          "indie",
          "rap",
          "latin",
          "rnb",
          "folk",
          "soundtrack",
          "metal",
          "jazz",
          "rusrap",
          "ruspop",
          "world",
          "alternative",
          "classical",
          "hip",
          "electronic",
          "rock",
          "dance",
          "pop"
         ],
         "yaxis": "y"
        }
       ],
       "layout": {
        "barmode": "relative",
        "legend": {
         "tracegroupgap": 0
        },
        "template": {
         "data": {
          "bar": [
           {
            "error_x": {
             "color": "#2a3f5f"
            },
            "error_y": {
             "color": "#2a3f5f"
            },
            "marker": {
             "line": {
              "color": "white",
              "width": 0.5
             },
             "pattern": {
              "fillmode": "overlay",
              "size": 10,
              "solidity": 0.2
             }
            },
            "type": "bar"
           }
          ],
          "barpolar": [
           {
            "marker": {
             "line": {
              "color": "white",
              "width": 0.5
             },
             "pattern": {
              "fillmode": "overlay",
              "size": 10,
              "solidity": 0.2
             }
            },
            "type": "barpolar"
           }
          ],
          "carpet": [
           {
            "aaxis": {
             "endlinecolor": "#2a3f5f",
             "gridcolor": "#C8D4E3",
             "linecolor": "#C8D4E3",
             "minorgridcolor": "#C8D4E3",
             "startlinecolor": "#2a3f5f"
            },
            "baxis": {
             "endlinecolor": "#2a3f5f",
             "gridcolor": "#C8D4E3",
             "linecolor": "#C8D4E3",
             "minorgridcolor": "#C8D4E3",
             "startlinecolor": "#2a3f5f"
            },
            "type": "carpet"
           }
          ],
          "choropleth": [
           {
            "colorbar": {
             "outlinewidth": 0,
             "ticks": ""
            },
            "type": "choropleth"
           }
          ],
          "contour": [
           {
            "colorbar": {
             "outlinewidth": 0,
             "ticks": ""
            },
            "colorscale": [
             [
              0,
              "#0d0887"
             ],
             [
              0.1111111111111111,
              "#46039f"
             ],
             [
              0.2222222222222222,
              "#7201a8"
             ],
             [
              0.3333333333333333,
              "#9c179e"
             ],
             [
              0.4444444444444444,
              "#bd3786"
             ],
             [
              0.5555555555555556,
              "#d8576b"
             ],
             [
              0.6666666666666666,
              "#ed7953"
             ],
             [
              0.7777777777777778,
              "#fb9f3a"
             ],
             [
              0.8888888888888888,
              "#fdca26"
             ],
             [
              1,
              "#f0f921"
             ]
            ],
            "type": "contour"
           }
          ],
          "contourcarpet": [
           {
            "colorbar": {
             "outlinewidth": 0,
             "ticks": ""
            },
            "type": "contourcarpet"
           }
          ],
          "heatmap": [
           {
            "colorbar": {
             "outlinewidth": 0,
             "ticks": ""
            },
            "colorscale": [
             [
              0,
              "#0d0887"
             ],
             [
              0.1111111111111111,
              "#46039f"
             ],
             [
              0.2222222222222222,
              "#7201a8"
             ],
             [
              0.3333333333333333,
              "#9c179e"
             ],
             [
              0.4444444444444444,
              "#bd3786"
             ],
             [
              0.5555555555555556,
              "#d8576b"
             ],
             [
              0.6666666666666666,
              "#ed7953"
             ],
             [
              0.7777777777777778,
              "#fb9f3a"
             ],
             [
              0.8888888888888888,
              "#fdca26"
             ],
             [
              1,
              "#f0f921"
             ]
            ],
            "type": "heatmap"
           }
          ],
          "heatmapgl": [
           {
            "colorbar": {
             "outlinewidth": 0,
             "ticks": ""
            },
            "colorscale": [
             [
              0,
              "#0d0887"
             ],
             [
              0.1111111111111111,
              "#46039f"
             ],
             [
              0.2222222222222222,
              "#7201a8"
             ],
             [
              0.3333333333333333,
              "#9c179e"
             ],
             [
              0.4444444444444444,
              "#bd3786"
             ],
             [
              0.5555555555555556,
              "#d8576b"
             ],
             [
              0.6666666666666666,
              "#ed7953"
             ],
             [
              0.7777777777777778,
              "#fb9f3a"
             ],
             [
              0.8888888888888888,
              "#fdca26"
             ],
             [
              1,
              "#f0f921"
             ]
            ],
            "type": "heatmapgl"
           }
          ],
          "histogram": [
           {
            "marker": {
             "pattern": {
              "fillmode": "overlay",
              "size": 10,
              "solidity": 0.2
             }
            },
            "type": "histogram"
           }
          ],
          "histogram2d": [
           {
            "colorbar": {
             "outlinewidth": 0,
             "ticks": ""
            },
            "colorscale": [
             [
              0,
              "#0d0887"
             ],
             [
              0.1111111111111111,
              "#46039f"
             ],
             [
              0.2222222222222222,
              "#7201a8"
             ],
             [
              0.3333333333333333,
              "#9c179e"
             ],
             [
              0.4444444444444444,
              "#bd3786"
             ],
             [
              0.5555555555555556,
              "#d8576b"
             ],
             [
              0.6666666666666666,
              "#ed7953"
             ],
             [
              0.7777777777777778,
              "#fb9f3a"
             ],
             [
              0.8888888888888888,
              "#fdca26"
             ],
             [
              1,
              "#f0f921"
             ]
            ],
            "type": "histogram2d"
           }
          ],
          "histogram2dcontour": [
           {
            "colorbar": {
             "outlinewidth": 0,
             "ticks": ""
            },
            "colorscale": [
             [
              0,
              "#0d0887"
             ],
             [
              0.1111111111111111,
              "#46039f"
             ],
             [
              0.2222222222222222,
              "#7201a8"
             ],
             [
              0.3333333333333333,
              "#9c179e"
             ],
             [
              0.4444444444444444,
              "#bd3786"
             ],
             [
              0.5555555555555556,
              "#d8576b"
             ],
             [
              0.6666666666666666,
              "#ed7953"
             ],
             [
              0.7777777777777778,
              "#fb9f3a"
             ],
             [
              0.8888888888888888,
              "#fdca26"
             ],
             [
              1,
              "#f0f921"
             ]
            ],
            "type": "histogram2dcontour"
           }
          ],
          "mesh3d": [
           {
            "colorbar": {
             "outlinewidth": 0,
             "ticks": ""
            },
            "type": "mesh3d"
           }
          ],
          "parcoords": [
           {
            "line": {
             "colorbar": {
              "outlinewidth": 0,
              "ticks": ""
             }
            },
            "type": "parcoords"
           }
          ],
          "pie": [
           {
            "automargin": true,
            "type": "pie"
           }
          ],
          "scatter": [
           {
            "fillpattern": {
             "fillmode": "overlay",
             "size": 10,
             "solidity": 0.2
            },
            "type": "scatter"
           }
          ],
          "scatter3d": [
           {
            "line": {
             "colorbar": {
              "outlinewidth": 0,
              "ticks": ""
             }
            },
            "marker": {
             "colorbar": {
              "outlinewidth": 0,
              "ticks": ""
             }
            },
            "type": "scatter3d"
           }
          ],
          "scattercarpet": [
           {
            "marker": {
             "colorbar": {
              "outlinewidth": 0,
              "ticks": ""
             }
            },
            "type": "scattercarpet"
           }
          ],
          "scattergeo": [
           {
            "marker": {
             "colorbar": {
              "outlinewidth": 0,
              "ticks": ""
             }
            },
            "type": "scattergeo"
           }
          ],
          "scattergl": [
           {
            "marker": {
             "colorbar": {
              "outlinewidth": 0,
              "ticks": ""
             }
            },
            "type": "scattergl"
           }
          ],
          "scattermapbox": [
           {
            "marker": {
             "colorbar": {
              "outlinewidth": 0,
              "ticks": ""
             }
            },
            "type": "scattermapbox"
           }
          ],
          "scatterpolar": [
           {
            "marker": {
             "colorbar": {
              "outlinewidth": 0,
              "ticks": ""
             }
            },
            "type": "scatterpolar"
           }
          ],
          "scatterpolargl": [
           {
            "marker": {
             "colorbar": {
              "outlinewidth": 0,
              "ticks": ""
             }
            },
            "type": "scatterpolargl"
           }
          ],
          "scatterternary": [
           {
            "marker": {
             "colorbar": {
              "outlinewidth": 0,
              "ticks": ""
             }
            },
            "type": "scatterternary"
           }
          ],
          "surface": [
           {
            "colorbar": {
             "outlinewidth": 0,
             "ticks": ""
            },
            "colorscale": [
             [
              0,
              "#0d0887"
             ],
             [
              0.1111111111111111,
              "#46039f"
             ],
             [
              0.2222222222222222,
              "#7201a8"
             ],
             [
              0.3333333333333333,
              "#9c179e"
             ],
             [
              0.4444444444444444,
              "#bd3786"
             ],
             [
              0.5555555555555556,
              "#d8576b"
             ],
             [
              0.6666666666666666,
              "#ed7953"
             ],
             [
              0.7777777777777778,
              "#fb9f3a"
             ],
             [
              0.8888888888888888,
              "#fdca26"
             ],
             [
              1,
              "#f0f921"
             ]
            ],
            "type": "surface"
           }
          ],
          "table": [
           {
            "cells": {
             "fill": {
              "color": "#EBF0F8"
             },
             "line": {
              "color": "white"
             }
            },
            "header": {
             "fill": {
              "color": "#C8D4E3"
             },
             "line": {
              "color": "white"
             }
            },
            "type": "table"
           }
          ]
         },
         "layout": {
          "annotationdefaults": {
           "arrowcolor": "#2a3f5f",
           "arrowhead": 0,
           "arrowwidth": 1
          },
          "autotypenumbers": "strict",
          "coloraxis": {
           "colorbar": {
            "outlinewidth": 0,
            "ticks": ""
           }
          },
          "colorscale": {
           "diverging": [
            [
             0,
             "#8e0152"
            ],
            [
             0.1,
             "#c51b7d"
            ],
            [
             0.2,
             "#de77ae"
            ],
            [
             0.3,
             "#f1b6da"
            ],
            [
             0.4,
             "#fde0ef"
            ],
            [
             0.5,
             "#f7f7f7"
            ],
            [
             0.6,
             "#e6f5d0"
            ],
            [
             0.7,
             "#b8e186"
            ],
            [
             0.8,
             "#7fbc41"
            ],
            [
             0.9,
             "#4d9221"
            ],
            [
             1,
             "#276419"
            ]
           ],
           "sequential": [
            [
             0,
             "#0d0887"
            ],
            [
             0.1111111111111111,
             "#46039f"
            ],
            [
             0.2222222222222222,
             "#7201a8"
            ],
            [
             0.3333333333333333,
             "#9c179e"
            ],
            [
             0.4444444444444444,
             "#bd3786"
            ],
            [
             0.5555555555555556,
             "#d8576b"
            ],
            [
             0.6666666666666666,
             "#ed7953"
            ],
            [
             0.7777777777777778,
             "#fb9f3a"
            ],
            [
             0.8888888888888888,
             "#fdca26"
            ],
            [
             1,
             "#f0f921"
            ]
           ],
           "sequentialminus": [
            [
             0,
             "#0d0887"
            ],
            [
             0.1111111111111111,
             "#46039f"
            ],
            [
             0.2222222222222222,
             "#7201a8"
            ],
            [
             0.3333333333333333,
             "#9c179e"
            ],
            [
             0.4444444444444444,
             "#bd3786"
            ],
            [
             0.5555555555555556,
             "#d8576b"
            ],
            [
             0.6666666666666666,
             "#ed7953"
            ],
            [
             0.7777777777777778,
             "#fb9f3a"
            ],
            [
             0.8888888888888888,
             "#fdca26"
            ],
            [
             1,
             "#f0f921"
            ]
           ]
          },
          "colorway": [
           "#636efa",
           "#EF553B",
           "#00cc96",
           "#ab63fa",
           "#FFA15A",
           "#19d3f3",
           "#FF6692",
           "#B6E880",
           "#FF97FF",
           "#FECB52"
          ],
          "font": {
           "color": "#2a3f5f"
          },
          "geo": {
           "bgcolor": "white",
           "lakecolor": "white",
           "landcolor": "white",
           "showlakes": true,
           "showland": true,
           "subunitcolor": "#C8D4E3"
          },
          "hoverlabel": {
           "align": "left"
          },
          "hovermode": "closest",
          "mapbox": {
           "style": "light"
          },
          "paper_bgcolor": "white",
          "plot_bgcolor": "white",
          "polar": {
           "angularaxis": {
            "gridcolor": "#EBF0F8",
            "linecolor": "#EBF0F8",
            "ticks": ""
           },
           "bgcolor": "white",
           "radialaxis": {
            "gridcolor": "#EBF0F8",
            "linecolor": "#EBF0F8",
            "ticks": ""
           }
          },
          "scene": {
           "xaxis": {
            "backgroundcolor": "white",
            "gridcolor": "#DFE8F3",
            "gridwidth": 2,
            "linecolor": "#EBF0F8",
            "showbackground": true,
            "ticks": "",
            "zerolinecolor": "#EBF0F8"
           },
           "yaxis": {
            "backgroundcolor": "white",
            "gridcolor": "#DFE8F3",
            "gridwidth": 2,
            "linecolor": "#EBF0F8",
            "showbackground": true,
            "ticks": "",
            "zerolinecolor": "#EBF0F8"
           },
           "zaxis": {
            "backgroundcolor": "white",
            "gridcolor": "#DFE8F3",
            "gridwidth": 2,
            "linecolor": "#EBF0F8",
            "showbackground": true,
            "ticks": "",
            "zerolinecolor": "#EBF0F8"
           }
          },
          "shapedefaults": {
           "line": {
            "color": "#2a3f5f"
           }
          },
          "ternary": {
           "aaxis": {
            "gridcolor": "#DFE8F3",
            "linecolor": "#A2B1C6",
            "ticks": ""
           },
           "baxis": {
            "gridcolor": "#DFE8F3",
            "linecolor": "#A2B1C6",
            "ticks": ""
           },
           "bgcolor": "white",
           "caxis": {
            "gridcolor": "#DFE8F3",
            "linecolor": "#A2B1C6",
            "ticks": ""
           }
          },
          "title": {
           "x": 0.05
          },
          "xaxis": {
           "automargin": true,
           "gridcolor": "#EBF0F8",
           "linecolor": "#EBF0F8",
           "ticks": "",
           "title": {
            "standoff": 15
           },
           "zerolinecolor": "#EBF0F8",
           "zerolinewidth": 2
          },
          "yaxis": {
           "automargin": true,
           "gridcolor": "#EBF0F8",
           "linecolor": "#EBF0F8",
           "ticks": "",
           "title": {
            "standoff": 15
           },
           "zerolinecolor": "#EBF0F8",
           "zerolinewidth": 2
          }
         }
        },
        "title": {
         "text": "Unique Counts of Selected Columns"
        },
        "xaxis": {
         "anchor": "y",
         "domain": [
          0,
          1
         ],
         "title": {
          "text": "ucount"
         }
        },
        "yaxis": {
         "anchor": "x",
         "domain": [
          0,
          1
         ],
         "title": {
          "text": "values"
         }
        }
       }
      }
     },
     "metadata": {},
     "output_type": "display_data"
    }
   ],
   "source": [
    "df_temp = (\n",
    "    raw_music.genre\n",
    "    .value_counts()\n",
    "    .reset_index()\n",
    "    .set_axis(['values', 'ucount'], 'columns')\n",
    "    .assign(column='genre')\n",
    ")\n",
    "\n",
    "display(df_temp.head(5))\n",
    "\n",
    "fig = px.bar(df_temp.sort_values('ucount', ascending=True), x='ucount', y='values', title='Unique Counts of Selected Columns', template='plotly_white').show()"
   ]
  },
  {
   "cell_type": "markdown",
   "metadata": {
    "id": "TaQ2Iwbr_Zct"
   },
   "source": [
    "The table contains seven columns, all with the `object` data type.\n",
    "\n",
    "According to the data documentation:\n",
    "- `userID` — user identifier;\n",
    "- `Track` — track title;\n",
    "- `artist` — artist name;\n",
    "- `genre` — genre name;\n",
    "- `City` — user's city;\n",
    "- `time` — listening start time;\n",
    "- `Day` — day of the week.\n",
    "\n",
    "Three style issues are noticeable in the column names:\n",
    "1. Lowercase and uppercase letters are mixed.\n",
    "2. Spaces are present.\n",
    "3. Identify another issue with the column names and describe it in this point.\n",
    "\n",
    "The number of values in the columns varies, indicating there are missing values in the data. There are also full duplicates and inconsistent content in several columns.\n",
    "\n",
    "**Conclusions**\n",
    "\n",
    "Each row in the table contains data about a listened track. Some columns describe the track itself, including the title, artist, and genre. The other columns provide information about the user, such as their city and the time they listened to the music.\n",
    "\n",
    "Preliminary analysis suggests that the data is sufficient to test the hypotheses. However, there are missing values, and the column names do not adhere to good style conventions.\n",
    "\n",
    "To proceed, these data issues need to be addressed."
   ]
  },
  {
   "cell_type": "code",
   "execution_count": 33,
   "metadata": {},
   "outputs": [],
   "source": [
    "df_music = (\n",
    "    raw_music.copy()\n",
    "    .rename(columns=snakecase)\n",
    "    .fillna('unknown')\n",
    "    .drop_duplicates()\n",
    ")"
   ]
  },
  {
   "cell_type": "code",
   "execution_count": 34,
   "metadata": {},
   "outputs": [
    {
     "name": "stdout",
     "output_type": "stream",
     "text": [
      "Dataframe length: 61253\n",
      "Full duplicate rows: 0\n"
     ]
    },
    {
     "data": {
      "text/html": [
       "<div>\n",
       "<style scoped>\n",
       "    .dataframe tbody tr th:only-of-type {\n",
       "        vertical-align: middle;\n",
       "    }\n",
       "\n",
       "    .dataframe tbody tr th {\n",
       "        vertical-align: top;\n",
       "    }\n",
       "\n",
       "    .dataframe thead th {\n",
       "        text-align: right;\n",
       "    }\n",
       "</style>\n",
       "<table border=\"1\" class=\"dataframe\">\n",
       "  <thead>\n",
       "    <tr style=\"text-align: right;\">\n",
       "      <th></th>\n",
       "      <th>column_name</th>\n",
       "      <th>data_type</th>\n",
       "      <th>count_unique</th>\n",
       "      <th>sample_values</th>\n",
       "      <th>count_null</th>\n",
       "      <th>pct_null</th>\n",
       "    </tr>\n",
       "  </thead>\n",
       "  <tbody>\n",
       "    <tr>\n",
       "      <th>0</th>\n",
       "      <td>'user_id'</td>\n",
       "      <td>object</td>\n",
       "      <td>41748</td>\n",
       "      <td>[6CFB4754, E75AB6B3, 9488F837, 321D0506, 667A0...</td>\n",
       "      <td>0</td>\n",
       "      <td>0.0</td>\n",
       "    </tr>\n",
       "    <tr>\n",
       "      <th>1</th>\n",
       "      <td>'track'</td>\n",
       "      <td>object</td>\n",
       "      <td>47246</td>\n",
       "      <td>[I'm In The House, Our Place, Parvaneh ha(The ...</td>\n",
       "      <td>0</td>\n",
       "      <td>0.0</td>\n",
       "    </tr>\n",
       "    <tr>\n",
       "      <th>2</th>\n",
       "      <td>'artist'</td>\n",
       "      <td>object</td>\n",
       "      <td>43606</td>\n",
       "      <td>[Beggars Ball, Amel Bent, Earl Okin, Lounge De...</td>\n",
       "      <td>0</td>\n",
       "      <td>0.0</td>\n",
       "    </tr>\n",
       "    <tr>\n",
       "      <th>3</th>\n",
       "      <td>'genre'</td>\n",
       "      <td>object</td>\n",
       "      <td>290</td>\n",
       "      <td>[mandopop, oceania, fitness, rave, techno]</td>\n",
       "      <td>0</td>\n",
       "      <td>0.0</td>\n",
       "    </tr>\n",
       "    <tr>\n",
       "      <th>4</th>\n",
       "      <td>'city'</td>\n",
       "      <td>object</td>\n",
       "      <td>2</td>\n",
       "      <td>[Moscow, Saint-Petersburg]</td>\n",
       "      <td>0</td>\n",
       "      <td>0.0</td>\n",
       "    </tr>\n",
       "    <tr>\n",
       "      <th>5</th>\n",
       "      <td>'time'</td>\n",
       "      <td>object</td>\n",
       "      <td>20392</td>\n",
       "      <td>[13:12:45, 20:58:21, 20:12:25, 14:54:35, 13:56...</td>\n",
       "      <td>0</td>\n",
       "      <td>0.0</td>\n",
       "    </tr>\n",
       "    <tr>\n",
       "      <th>6</th>\n",
       "      <td>'day'</td>\n",
       "      <td>object</td>\n",
       "      <td>3</td>\n",
       "      <td>[Monday, Wednesday, Friday]</td>\n",
       "      <td>0</td>\n",
       "      <td>0.0</td>\n",
       "    </tr>\n",
       "  </tbody>\n",
       "</table>\n",
       "</div>"
      ],
      "text/plain": [
       "  column_name data_type  count_unique  \\\n",
       "0   'user_id'    object         41748   \n",
       "1     'track'    object         47246   \n",
       "2    'artist'    object         43606   \n",
       "3     'genre'    object           290   \n",
       "4      'city'    object             2   \n",
       "5      'time'    object         20392   \n",
       "6       'day'    object             3   \n",
       "\n",
       "                                       sample_values  count_null  pct_null  \n",
       "0  [6CFB4754, E75AB6B3, 9488F837, 321D0506, 667A0...           0       0.0  \n",
       "1  [I'm In The House, Our Place, Parvaneh ha(The ...           0       0.0  \n",
       "2  [Beggars Ball, Amel Bent, Earl Okin, Lounge De...           0       0.0  \n",
       "3         [mandopop, oceania, fitness, rave, techno]           0       0.0  \n",
       "4                         [Moscow, Saint-Petersburg]           0       0.0  \n",
       "5  [13:12:45, 20:58:21, 20:12:25, 14:54:35, 13:56...           0       0.0  \n",
       "6                        [Monday, Wednesday, Friday]           0       0.0  "
      ]
     },
     "execution_count": 34,
     "metadata": {},
     "output_type": "execute_result"
    }
   ],
   "source": [
    "get_statistics(df_music)"
   ]
  },
  {
   "cell_type": "markdown",
   "metadata": {
    "id": "Im2YwBEG_Zct"
   },
   "source": [
    "Ещё раз посчитайте явные дубликаты в таблице — убедитесь, что полностью от них избавились:"
   ]
  },
  {
   "cell_type": "markdown",
   "metadata": {
    "id": "QlFBsxAr_Zct"
   },
   "source": [
    "Теперь избавьтесь от неявных дубликатов в колонке `genre`. Например, название одного и того же жанра может быть записано немного по-разному. Такие ошибки тоже повлияют на результат исследования."
   ]
  },
  {
   "cell_type": "markdown",
   "metadata": {
    "id": "eSjWwsOh_Zct"
   },
   "source": [
    "Выведите на экран список уникальных названий жанров, отсортированный в алфавитном порядке. Для этого:\n",
    "* извлеките нужный столбец датафрейма, \n",
    "* примените к нему метод сортировки,\n",
    "* для отсортированного столбца вызовите метод, который вернёт уникальные значения из столбца."
   ]
  },
  {
   "cell_type": "code",
   "execution_count": 16,
   "metadata": {
    "id": "JIUcqzZN_Zct"
   },
   "outputs": [
    {
     "ename": "NameError",
     "evalue": "name 'df' is not defined",
     "output_type": "error",
     "traceback": [
      "\u001b[1;31m---------------------------------------------------------------------------\u001b[0m",
      "\u001b[1;31mNameError\u001b[0m                                 Traceback (most recent call last)",
      "\u001b[1;32m<ipython-input-16-47c5cc3bbc85>\u001b[0m in \u001b[0;36m<module>\u001b[1;34m\u001b[0m\n\u001b[0;32m      1\u001b[0m \u001b[1;31m# Просмотр уникальных названий жанров\u001b[0m\u001b[1;33m\u001b[0m\u001b[1;33m\u001b[0m\u001b[1;33m\u001b[0m\u001b[0m\n\u001b[1;32m----> 2\u001b[1;33m \u001b[0mdf\u001b[0m\u001b[1;33m.\u001b[0m\u001b[0mgenre\u001b[0m\u001b[1;33m.\u001b[0m\u001b[0msort_values\u001b[0m\u001b[1;33m(\u001b[0m\u001b[1;33m)\u001b[0m\u001b[1;33m.\u001b[0m\u001b[0munique\u001b[0m\u001b[1;33m(\u001b[0m\u001b[1;33m)\u001b[0m\u001b[1;33m\u001b[0m\u001b[1;33m\u001b[0m\u001b[0m\n\u001b[0m",
      "\u001b[1;31mNameError\u001b[0m: name 'df' is not defined"
     ]
    }
   ],
   "source": [
    "# Просмотр уникальных названий жанров\n",
    "df.genre.sort_values().unique()"
   ]
  },
  {
   "cell_type": "markdown",
   "metadata": {
    "id": "qej-Qmuo_Zct"
   },
   "source": [
    "Просмотрите список и найдите неявные дубликаты названия `hiphop`. Это могут быть названия с ошибками или альтернативные названия того же жанра.\n",
    "\n",
    "Вы увидите следующие неявные дубликаты:\n",
    "* *hip*,\n",
    "* *hop*,\n",
    "* *hip-hop*.\n",
    "\n",
    "Чтобы очистить от них таблицу, напишите функцию `replace_wrong_genres()` с двумя параметрами: \n",
    "* `wrong_genres` — список дубликатов,\n",
    "* `correct_genre` — строка с правильным значением.\n",
    "\n",
    "Функция должна исправить колонку `genre` в таблице `df`: заменить каждое значение из списка `wrong_genres` на значение из `correct_genre`."
   ]
  },
  {
   "cell_type": "code",
   "execution_count": 17,
   "metadata": {
    "id": "ErNDkmns_Zct"
   },
   "outputs": [],
   "source": [
    "# Функция для замены неявных дубликатов\n",
    "def replace_wrong_genres( wrong_genres, correct_genres ):\n",
    "    for counter in range( len( wrong_genres ) ):\n",
    "        df.genre = df.genre.replace( wrong_genres[counter], correct_genres[counter] )"
   ]
  },
  {
   "cell_type": "markdown",
   "metadata": {
    "id": "aDoBJxbA_Zct"
   },
   "source": [
    "Вызовите `replace_wrong_genres()` и передайте ей такие аргументы, чтобы она устранила неявные дубликаты: вместо `hip`, `hop` и `hip-hop` в таблице должно быть значение `hiphop`:"
   ]
  },
  {
   "cell_type": "code",
   "execution_count": 18,
   "metadata": {
    "id": "YN5i2hpmSo09"
   },
   "outputs": [
    {
     "ename": "NameError",
     "evalue": "name 'df' is not defined",
     "output_type": "error",
     "traceback": [
      "\u001b[1;31m---------------------------------------------------------------------------\u001b[0m",
      "\u001b[1;31mNameError\u001b[0m                                 Traceback (most recent call last)",
      "\u001b[1;32m<ipython-input-18-054ada500406>\u001b[0m in \u001b[0;36m<module>\u001b[1;34m\u001b[0m\n\u001b[0;32m      1\u001b[0m \u001b[1;31m# Устранение неявных дубликатов\u001b[0m\u001b[1;33m\u001b[0m\u001b[1;33m\u001b[0m\u001b[1;33m\u001b[0m\u001b[0m\n\u001b[1;32m----> 2\u001b[1;33m \u001b[0mreplace_wrong_genres\u001b[0m\u001b[1;33m(\u001b[0m \u001b[1;33m[\u001b[0m\u001b[1;34m'hip'\u001b[0m\u001b[1;33m,\u001b[0m \u001b[1;34m'hop'\u001b[0m\u001b[1;33m,\u001b[0m \u001b[1;34m'hip-hop'\u001b[0m\u001b[1;33m]\u001b[0m\u001b[1;33m,\u001b[0m \u001b[1;33m[\u001b[0m\u001b[1;34m'hiphop'\u001b[0m\u001b[1;33m,\u001b[0m \u001b[1;34m'hiphop'\u001b[0m\u001b[1;33m,\u001b[0m \u001b[1;34m'hiphop'\u001b[0m\u001b[1;33m]\u001b[0m \u001b[1;33m)\u001b[0m\u001b[1;33m\u001b[0m\u001b[1;33m\u001b[0m\u001b[0m\n\u001b[0m",
      "\u001b[1;32m<ipython-input-17-a1335f6091be>\u001b[0m in \u001b[0;36mreplace_wrong_genres\u001b[1;34m(wrong_genres, correct_genres)\u001b[0m\n\u001b[0;32m      2\u001b[0m \u001b[1;32mdef\u001b[0m \u001b[0mreplace_wrong_genres\u001b[0m\u001b[1;33m(\u001b[0m \u001b[0mwrong_genres\u001b[0m\u001b[1;33m,\u001b[0m \u001b[0mcorrect_genres\u001b[0m \u001b[1;33m)\u001b[0m\u001b[1;33m:\u001b[0m\u001b[1;33m\u001b[0m\u001b[1;33m\u001b[0m\u001b[0m\n\u001b[0;32m      3\u001b[0m     \u001b[1;32mfor\u001b[0m \u001b[0mcounter\u001b[0m \u001b[1;32min\u001b[0m \u001b[0mrange\u001b[0m\u001b[1;33m(\u001b[0m \u001b[0mlen\u001b[0m\u001b[1;33m(\u001b[0m \u001b[0mwrong_genres\u001b[0m \u001b[1;33m)\u001b[0m \u001b[1;33m)\u001b[0m\u001b[1;33m:\u001b[0m\u001b[1;33m\u001b[0m\u001b[1;33m\u001b[0m\u001b[0m\n\u001b[1;32m----> 4\u001b[1;33m         \u001b[0mdf\u001b[0m\u001b[1;33m.\u001b[0m\u001b[0mgenre\u001b[0m \u001b[1;33m=\u001b[0m \u001b[0mdf\u001b[0m\u001b[1;33m.\u001b[0m\u001b[0mgenre\u001b[0m\u001b[1;33m.\u001b[0m\u001b[0mreplace\u001b[0m\u001b[1;33m(\u001b[0m \u001b[0mwrong_genres\u001b[0m\u001b[1;33m[\u001b[0m\u001b[0mcounter\u001b[0m\u001b[1;33m]\u001b[0m\u001b[1;33m,\u001b[0m \u001b[0mcorrect_genres\u001b[0m\u001b[1;33m[\u001b[0m\u001b[0mcounter\u001b[0m\u001b[1;33m]\u001b[0m \u001b[1;33m)\u001b[0m\u001b[1;33m\u001b[0m\u001b[1;33m\u001b[0m\u001b[0m\n\u001b[0m",
      "\u001b[1;31mNameError\u001b[0m: name 'df' is not defined"
     ]
    }
   ],
   "source": [
    "# Устранение неявных дубликатов\n",
    "replace_wrong_genres( ['hip', 'hop', 'hip-hop'], ['hiphop', 'hiphop', 'hiphop'] )"
   ]
  },
  {
   "cell_type": "markdown",
   "metadata": {
    "id": "zQKF16_RG15m"
   },
   "source": [
    "Проверьте, что заменили неправильные названия:\n",
    "\n",
    "*   hip\n",
    "*   hop\n",
    "*   hip-hop\n",
    "\n",
    "Выведите отсортированный список уникальных значений столбца `genre`:"
   ]
  },
  {
   "cell_type": "code",
   "execution_count": 19,
   "metadata": {
    "id": "wvixALnFG15m"
   },
   "outputs": [
    {
     "ename": "NameError",
     "evalue": "name 'df' is not defined",
     "output_type": "error",
     "traceback": [
      "\u001b[1;31m---------------------------------------------------------------------------\u001b[0m",
      "\u001b[1;31mNameError\u001b[0m                                 Traceback (most recent call last)",
      "\u001b[1;32m<ipython-input-19-cac1d5df5957>\u001b[0m in \u001b[0;36m<module>\u001b[1;34m\u001b[0m\n\u001b[0;32m      1\u001b[0m \u001b[1;31m# Проверка на неявные дубликаты\u001b[0m\u001b[1;33m\u001b[0m\u001b[1;33m\u001b[0m\u001b[1;33m\u001b[0m\u001b[0m\n\u001b[1;32m----> 2\u001b[1;33m \u001b[0mdf\u001b[0m\u001b[1;33m.\u001b[0m\u001b[0mgenre\u001b[0m\u001b[1;33m.\u001b[0m\u001b[0msort_values\u001b[0m\u001b[1;33m(\u001b[0m\u001b[1;33m)\u001b[0m\u001b[1;33m.\u001b[0m\u001b[0munique\u001b[0m\u001b[1;33m(\u001b[0m\u001b[1;33m)\u001b[0m\u001b[1;33m\u001b[0m\u001b[1;33m\u001b[0m\u001b[0m\n\u001b[0m",
      "\u001b[1;31mNameError\u001b[0m: name 'df' is not defined"
     ]
    }
   ],
   "source": [
    "# Проверка на неявные дубликаты\n",
    "df.genre.sort_values().unique()"
   ]
  },
  {
   "cell_type": "markdown",
   "metadata": {
    "id": "jz6a9-7HQUDd"
   },
   "source": [
    "**Выводы**\n",
    "\n",
    "Предобработка обнаружила три проблемы в данных:\n",
    "\n",
    "- нарушения в стиле заголовков,\n",
    "- пропущенные значения,\n",
    "- дубликаты — явные и неявные.\n",
    "\n",
    "Вы исправили заголовки, чтобы упростить работу с таблицей. Без дубликатов исследование станет более точным.\n",
    "\n",
    "Пропущенные значения вы заменили на `'unknown'`. Ещё предстоит увидеть, не повредят ли исследованию пропуски в колонке `genre`.\n",
    "\n",
    "Теперь можно перейти к проверке гипотез. "
   ]
  },
  {
   "cell_type": "markdown",
   "metadata": {
    "id": "WttZHXH0SqKk"
   },
   "source": [
    "## Проверка гипотез"
   ]
  },
  {
   "cell_type": "markdown",
   "metadata": {
    "id": "Im936VVi_Zcu"
   },
   "source": [
    "### Сравнение поведения пользователей двух столиц"
   ]
  },
  {
   "cell_type": "markdown",
   "metadata": {
    "id": "nwt_MuaL_Zcu"
   },
   "source": [
    "Первая гипотеза утверждает, что пользователи по-разному слушают музыку в Москве и Санкт-Петербурге. Проверьте это предположение по данным о трёх днях недели — понедельнике, среде и пятнице. Для этого:\n",
    "\n",
    "* Разделите пользователей Москвы и Санкт-Петербурга\n",
    "* Сравните, сколько треков послушала каждая группа пользователей в понедельник, среду и пятницу.\n"
   ]
  },
  {
   "cell_type": "markdown",
   "metadata": {
    "id": "8Dw_YMmT_Zcu"
   },
   "source": [
    "Для тренировки сначала выполните каждый из расчётов по отдельности. \n",
    "\n",
    "Оцените активность пользователей в каждом городе. Сгруппируйте данные по городу и посчитайте прослушивания в каждой группе.\n",
    "\n"
   ]
  },
  {
   "cell_type": "code",
   "execution_count": 20,
   "metadata": {
    "id": "0_Qs96oh_Zcu",
    "scrolled": true
   },
   "outputs": [
    {
     "ename": "NameError",
     "evalue": "name 'df' is not defined",
     "output_type": "error",
     "traceback": [
      "\u001b[1;31m---------------------------------------------------------------------------\u001b[0m",
      "\u001b[1;31mNameError\u001b[0m                                 Traceback (most recent call last)",
      "\u001b[1;32m<ipython-input-20-12ce70442346>\u001b[0m in \u001b[0;36m<module>\u001b[1;34m\u001b[0m\n\u001b[0;32m      1\u001b[0m \u001b[1;31m# Подсчёт прослушиваний в каждом городе\u001b[0m\u001b[1;33m\u001b[0m\u001b[1;33m\u001b[0m\u001b[1;33m\u001b[0m\u001b[0m\n\u001b[1;32m----> 2\u001b[1;33m \u001b[0mdf\u001b[0m\u001b[1;33m.\u001b[0m\u001b[0mgroupby\u001b[0m\u001b[1;33m(\u001b[0m \u001b[1;34m'city'\u001b[0m \u001b[1;33m)\u001b[0m\u001b[1;33m.\u001b[0m\u001b[0muser_id\u001b[0m\u001b[1;33m.\u001b[0m\u001b[0mcount\u001b[0m\u001b[1;33m(\u001b[0m\u001b[1;33m)\u001b[0m\u001b[1;33m\u001b[0m\u001b[1;33m\u001b[0m\u001b[0m\n\u001b[0m",
      "\u001b[1;31mNameError\u001b[0m: name 'df' is not defined"
     ]
    }
   ],
   "source": [
    "# Подсчёт прослушиваний в каждом городе\n",
    "df.groupby( 'city' ).user_id.count()"
   ]
  },
  {
   "cell_type": "markdown",
   "metadata": {
    "id": "dzli3w8o_Zcu"
   },
   "source": [
    "В Москве прослушиваний больше, чем в Петербурге. Из этого не следует, что московские пользователи чаще слушают музыку. Просто самих пользователей в Москве больше.\n",
    "\n",
    "Теперь сгруппируйте данные по дню недели и подсчитайте прослушивания в понедельник, среду и пятницу. Учтите, что в данных есть информация только о прослушиваниях только за эти дни.\n"
   ]
  },
  {
   "cell_type": "code",
   "execution_count": 21,
   "metadata": {
    "id": "uZMKjiJz_Zcu"
   },
   "outputs": [
    {
     "ename": "NameError",
     "evalue": "name 'df' is not defined",
     "output_type": "error",
     "traceback": [
      "\u001b[1;31m---------------------------------------------------------------------------\u001b[0m",
      "\u001b[1;31mNameError\u001b[0m                                 Traceback (most recent call last)",
      "\u001b[1;32m<ipython-input-21-12f7e423e69e>\u001b[0m in \u001b[0;36m<module>\u001b[1;34m\u001b[0m\n\u001b[0;32m      1\u001b[0m \u001b[1;31m# Подсчёт прослушиваний в каждый из трёх дней\u001b[0m\u001b[1;33m\u001b[0m\u001b[1;33m\u001b[0m\u001b[1;33m\u001b[0m\u001b[0m\n\u001b[1;32m----> 2\u001b[1;33m \u001b[0mdf\u001b[0m\u001b[1;33m.\u001b[0m\u001b[0mgroupby\u001b[0m\u001b[1;33m(\u001b[0m \u001b[1;34m'day'\u001b[0m \u001b[1;33m)\u001b[0m\u001b[1;33m.\u001b[0m\u001b[0muser_id\u001b[0m\u001b[1;33m.\u001b[0m\u001b[0mcount\u001b[0m\u001b[1;33m(\u001b[0m\u001b[1;33m)\u001b[0m\u001b[1;33m\u001b[0m\u001b[1;33m\u001b[0m\u001b[0m\n\u001b[0m",
      "\u001b[1;31mNameError\u001b[0m: name 'df' is not defined"
     ]
    }
   ],
   "source": [
    "# Подсчёт прослушиваний в каждый из трёх дней\n",
    "df.groupby( 'day' ).user_id.count()"
   ]
  },
  {
   "cell_type": "markdown",
   "metadata": {
    "id": "cC2tNrlL_Zcu"
   },
   "source": [
    "В среднем пользователи из двух городов менее активны по средам. Но картина может измениться, если рассмотреть каждый город в отдельности."
   ]
  },
  {
   "cell_type": "markdown",
   "metadata": {
    "id": "POzs8bGa_Zcu"
   },
   "source": [
    "Вы видели, как работает группировка по городу и по дням недели. Теперь напишите функцию, которая объединит два эти расчёта.\n",
    "\n",
    "Создайте функцию `number_tracks()`, которая посчитает прослушивания для заданного дня и города. Ей понадобятся два параметра:\n",
    "* день недели,\n",
    "* название города.\n",
    "\n",
    "В функции сохраните в переменную строки исходной таблицы, у которых значение:\n",
    "  * в колонке `day` равно параметру `day`,\n",
    "  * в колонке `city` равно параметру `city`.\n",
    "\n",
    "Для этого примените последовательную фильтрацию с логической индексацией.\n",
    "\n",
    "Затем посчитайте значения в столбце `user_id` получившейся таблицы. Результат сохраните в новую переменную. Верните эту переменную из функции."
   ]
  },
  {
   "cell_type": "code",
   "execution_count": 22,
   "metadata": {
    "id": "Nz3GdQB1_Zcu"
   },
   "outputs": [],
   "source": [
    "# <создание функции number_tracks()>\n",
    "# Функция для подсчёта прослушиваний для конкретного города и дня.\n",
    "# С помощью последовательной фильтрации с логической индексацией она \n",
    "# сначала получит из исходной таблицы строки с нужным днём,\n",
    "# затем из результата отфильтрует строки с нужным городом,\n",
    "# методом count() посчитает количество значений в колонке user_id. \n",
    "# Это количество функция вернёт в качестве результата\n",
    "\n",
    "# Объявляется функция с двумя параметрами: day, city.\n",
    "def number_tracks( day, city ):\n",
    "    # В переменной track_list сохраняются те строки таблицы df, для которых \n",
    "    # значение в столбце 'day' равно параметру day и одновременно значение\n",
    "    # в столбце 'city' равно параметру city (используйте последовательную фильтрацию\n",
    "    # с помощью логической индексации).\n",
    "    track_list = df[ (df.day == day) & (df.city == city) ]\n",
    "    \n",
    "    # В переменной track_list_count сохраняется число значений столбца 'user_id',\n",
    "    # рассчитанное методом count() для таблицы track_list.\n",
    "    # Функция возвращает число - значение track_list_count.\n",
    "    track_list_count = track_list.user_id.count()\n",
    "    \n",
    "    return track_list_count"
   ]
  },
  {
   "cell_type": "markdown",
   "metadata": {
    "id": "ytf7xFrFJQ2r"
   },
   "source": [
    "Вызовите `number_tracks()` шесть раз, меняя значение параметров — так, чтобы получить данные для каждого города в каждый из трёх дней."
   ]
  },
  {
   "cell_type": "code",
   "execution_count": 23,
   "metadata": {
    "id": "rJcRATNQ_Zcu"
   },
   "outputs": [
    {
     "ename": "NameError",
     "evalue": "name 'df' is not defined",
     "output_type": "error",
     "traceback": [
      "\u001b[1;31m---------------------------------------------------------------------------\u001b[0m",
      "\u001b[1;31mNameError\u001b[0m                                 Traceback (most recent call last)",
      "\u001b[1;32m<ipython-input-23-788cdbb177b2>\u001b[0m in \u001b[0;36m<module>\u001b[1;34m\u001b[0m\n\u001b[0;32m      1\u001b[0m \u001b[1;31m# количество прослушиваний в Москве по понедельникам\u001b[0m\u001b[1;33m\u001b[0m\u001b[1;33m\u001b[0m\u001b[1;33m\u001b[0m\u001b[0m\n\u001b[1;32m----> 2\u001b[1;33m \u001b[0mnumber_tracks\u001b[0m\u001b[1;33m(\u001b[0m \u001b[1;34m'Monday'\u001b[0m\u001b[1;33m,\u001b[0m \u001b[1;34m'Moscow'\u001b[0m \u001b[1;33m)\u001b[0m\u001b[1;33m\u001b[0m\u001b[1;33m\u001b[0m\u001b[0m\n\u001b[0m",
      "\u001b[1;32m<ipython-input-22-80da125e150f>\u001b[0m in \u001b[0;36mnumber_tracks\u001b[1;34m(day, city)\u001b[0m\n\u001b[0;32m     13\u001b[0m     \u001b[1;31m# в столбце 'city' равно параметру city (используйте последовательную фильтрацию\u001b[0m\u001b[1;33m\u001b[0m\u001b[1;33m\u001b[0m\u001b[1;33m\u001b[0m\u001b[0m\n\u001b[0;32m     14\u001b[0m     \u001b[1;31m# с помощью логической индексации).\u001b[0m\u001b[1;33m\u001b[0m\u001b[1;33m\u001b[0m\u001b[1;33m\u001b[0m\u001b[0m\n\u001b[1;32m---> 15\u001b[1;33m     \u001b[0mtrack_list\u001b[0m \u001b[1;33m=\u001b[0m \u001b[0mdf\u001b[0m\u001b[1;33m[\u001b[0m \u001b[1;33m(\u001b[0m\u001b[0mdf\u001b[0m\u001b[1;33m.\u001b[0m\u001b[0mday\u001b[0m \u001b[1;33m==\u001b[0m \u001b[0mday\u001b[0m\u001b[1;33m)\u001b[0m \u001b[1;33m&\u001b[0m \u001b[1;33m(\u001b[0m\u001b[0mdf\u001b[0m\u001b[1;33m.\u001b[0m\u001b[0mcity\u001b[0m \u001b[1;33m==\u001b[0m \u001b[0mcity\u001b[0m\u001b[1;33m)\u001b[0m \u001b[1;33m]\u001b[0m\u001b[1;33m\u001b[0m\u001b[1;33m\u001b[0m\u001b[0m\n\u001b[0m\u001b[0;32m     16\u001b[0m \u001b[1;33m\u001b[0m\u001b[0m\n\u001b[0;32m     17\u001b[0m     \u001b[1;31m# В переменной track_list_count сохраняется число значений столбца 'user_id',\u001b[0m\u001b[1;33m\u001b[0m\u001b[1;33m\u001b[0m\u001b[1;33m\u001b[0m\u001b[0m\n",
      "\u001b[1;31mNameError\u001b[0m: name 'df' is not defined"
     ]
    }
   ],
   "source": [
    "# количество прослушиваний в Москве по понедельникам\n",
    "number_tracks( 'Monday', 'Moscow' )"
   ]
  },
  {
   "cell_type": "code",
   "execution_count": 24,
   "metadata": {
    "id": "hq_ncZ5T_Zcu"
   },
   "outputs": [
    {
     "ename": "NameError",
     "evalue": "name 'df' is not defined",
     "output_type": "error",
     "traceback": [
      "\u001b[1;31m---------------------------------------------------------------------------\u001b[0m",
      "\u001b[1;31mNameError\u001b[0m                                 Traceback (most recent call last)",
      "\u001b[1;32m<ipython-input-24-6d03bbd2ac12>\u001b[0m in \u001b[0;36m<module>\u001b[1;34m\u001b[0m\n\u001b[0;32m      1\u001b[0m \u001b[1;31m# количество прослушиваний в Санкт-Петербурге по понедельникам\u001b[0m\u001b[1;33m\u001b[0m\u001b[1;33m\u001b[0m\u001b[1;33m\u001b[0m\u001b[0m\n\u001b[1;32m----> 2\u001b[1;33m \u001b[0mnumber_tracks\u001b[0m\u001b[1;33m(\u001b[0m \u001b[1;34m'Monday'\u001b[0m\u001b[1;33m,\u001b[0m \u001b[1;34m'Saint-Petersburg'\u001b[0m \u001b[1;33m)\u001b[0m\u001b[1;33m\u001b[0m\u001b[1;33m\u001b[0m\u001b[0m\n\u001b[0m",
      "\u001b[1;32m<ipython-input-22-80da125e150f>\u001b[0m in \u001b[0;36mnumber_tracks\u001b[1;34m(day, city)\u001b[0m\n\u001b[0;32m     13\u001b[0m     \u001b[1;31m# в столбце 'city' равно параметру city (используйте последовательную фильтрацию\u001b[0m\u001b[1;33m\u001b[0m\u001b[1;33m\u001b[0m\u001b[1;33m\u001b[0m\u001b[0m\n\u001b[0;32m     14\u001b[0m     \u001b[1;31m# с помощью логической индексации).\u001b[0m\u001b[1;33m\u001b[0m\u001b[1;33m\u001b[0m\u001b[1;33m\u001b[0m\u001b[0m\n\u001b[1;32m---> 15\u001b[1;33m     \u001b[0mtrack_list\u001b[0m \u001b[1;33m=\u001b[0m \u001b[0mdf\u001b[0m\u001b[1;33m[\u001b[0m \u001b[1;33m(\u001b[0m\u001b[0mdf\u001b[0m\u001b[1;33m.\u001b[0m\u001b[0mday\u001b[0m \u001b[1;33m==\u001b[0m \u001b[0mday\u001b[0m\u001b[1;33m)\u001b[0m \u001b[1;33m&\u001b[0m \u001b[1;33m(\u001b[0m\u001b[0mdf\u001b[0m\u001b[1;33m.\u001b[0m\u001b[0mcity\u001b[0m \u001b[1;33m==\u001b[0m \u001b[0mcity\u001b[0m\u001b[1;33m)\u001b[0m \u001b[1;33m]\u001b[0m\u001b[1;33m\u001b[0m\u001b[1;33m\u001b[0m\u001b[0m\n\u001b[0m\u001b[0;32m     16\u001b[0m \u001b[1;33m\u001b[0m\u001b[0m\n\u001b[0;32m     17\u001b[0m     \u001b[1;31m# В переменной track_list_count сохраняется число значений столбца 'user_id',\u001b[0m\u001b[1;33m\u001b[0m\u001b[1;33m\u001b[0m\u001b[1;33m\u001b[0m\u001b[0m\n",
      "\u001b[1;31mNameError\u001b[0m: name 'df' is not defined"
     ]
    }
   ],
   "source": [
    "# количество прослушиваний в Санкт-Петербурге по понедельникам\n",
    "number_tracks( 'Monday', 'Saint-Petersburg' )"
   ]
  },
  {
   "cell_type": "code",
   "execution_count": 25,
   "metadata": {
    "id": "_NTy2VPU_Zcu"
   },
   "outputs": [
    {
     "ename": "NameError",
     "evalue": "name 'df' is not defined",
     "output_type": "error",
     "traceback": [
      "\u001b[1;31m---------------------------------------------------------------------------\u001b[0m",
      "\u001b[1;31mNameError\u001b[0m                                 Traceback (most recent call last)",
      "\u001b[1;32m<ipython-input-25-4e50101b5de5>\u001b[0m in \u001b[0;36m<module>\u001b[1;34m\u001b[0m\n\u001b[0;32m      1\u001b[0m \u001b[1;31m# количество прослушиваний в Москве по средам\u001b[0m\u001b[1;33m\u001b[0m\u001b[1;33m\u001b[0m\u001b[1;33m\u001b[0m\u001b[0m\n\u001b[1;32m----> 2\u001b[1;33m \u001b[0mnumber_tracks\u001b[0m\u001b[1;33m(\u001b[0m \u001b[1;34m'Wednesday'\u001b[0m\u001b[1;33m,\u001b[0m \u001b[1;34m'Moscow'\u001b[0m \u001b[1;33m)\u001b[0m\u001b[1;33m\u001b[0m\u001b[1;33m\u001b[0m\u001b[0m\n\u001b[0m",
      "\u001b[1;32m<ipython-input-22-80da125e150f>\u001b[0m in \u001b[0;36mnumber_tracks\u001b[1;34m(day, city)\u001b[0m\n\u001b[0;32m     13\u001b[0m     \u001b[1;31m# в столбце 'city' равно параметру city (используйте последовательную фильтрацию\u001b[0m\u001b[1;33m\u001b[0m\u001b[1;33m\u001b[0m\u001b[1;33m\u001b[0m\u001b[0m\n\u001b[0;32m     14\u001b[0m     \u001b[1;31m# с помощью логической индексации).\u001b[0m\u001b[1;33m\u001b[0m\u001b[1;33m\u001b[0m\u001b[1;33m\u001b[0m\u001b[0m\n\u001b[1;32m---> 15\u001b[1;33m     \u001b[0mtrack_list\u001b[0m \u001b[1;33m=\u001b[0m \u001b[0mdf\u001b[0m\u001b[1;33m[\u001b[0m \u001b[1;33m(\u001b[0m\u001b[0mdf\u001b[0m\u001b[1;33m.\u001b[0m\u001b[0mday\u001b[0m \u001b[1;33m==\u001b[0m \u001b[0mday\u001b[0m\u001b[1;33m)\u001b[0m \u001b[1;33m&\u001b[0m \u001b[1;33m(\u001b[0m\u001b[0mdf\u001b[0m\u001b[1;33m.\u001b[0m\u001b[0mcity\u001b[0m \u001b[1;33m==\u001b[0m \u001b[0mcity\u001b[0m\u001b[1;33m)\u001b[0m \u001b[1;33m]\u001b[0m\u001b[1;33m\u001b[0m\u001b[1;33m\u001b[0m\u001b[0m\n\u001b[0m\u001b[0;32m     16\u001b[0m \u001b[1;33m\u001b[0m\u001b[0m\n\u001b[0;32m     17\u001b[0m     \u001b[1;31m# В переменной track_list_count сохраняется число значений столбца 'user_id',\u001b[0m\u001b[1;33m\u001b[0m\u001b[1;33m\u001b[0m\u001b[1;33m\u001b[0m\u001b[0m\n",
      "\u001b[1;31mNameError\u001b[0m: name 'df' is not defined"
     ]
    }
   ],
   "source": [
    "# количество прослушиваний в Москве по средам\n",
    "number_tracks( 'Wednesday', 'Moscow' )"
   ]
  },
  {
   "cell_type": "code",
   "execution_count": 26,
   "metadata": {
    "id": "j2y3TAwo_Zcu"
   },
   "outputs": [
    {
     "ename": "NameError",
     "evalue": "name 'df' is not defined",
     "output_type": "error",
     "traceback": [
      "\u001b[1;31m---------------------------------------------------------------------------\u001b[0m",
      "\u001b[1;31mNameError\u001b[0m                                 Traceback (most recent call last)",
      "\u001b[1;32m<ipython-input-26-dd46109d5f79>\u001b[0m in \u001b[0;36m<module>\u001b[1;34m\u001b[0m\n\u001b[0;32m      1\u001b[0m \u001b[1;31m# количество прослушиваний в Санкт-Петербурге по средам\u001b[0m\u001b[1;33m\u001b[0m\u001b[1;33m\u001b[0m\u001b[1;33m\u001b[0m\u001b[0m\n\u001b[1;32m----> 2\u001b[1;33m \u001b[0mnumber_tracks\u001b[0m\u001b[1;33m(\u001b[0m \u001b[1;34m'Wednesday'\u001b[0m\u001b[1;33m,\u001b[0m \u001b[1;34m'Saint-Petersburg'\u001b[0m \u001b[1;33m)\u001b[0m\u001b[1;33m\u001b[0m\u001b[1;33m\u001b[0m\u001b[0m\n\u001b[0m",
      "\u001b[1;32m<ipython-input-22-80da125e150f>\u001b[0m in \u001b[0;36mnumber_tracks\u001b[1;34m(day, city)\u001b[0m\n\u001b[0;32m     13\u001b[0m     \u001b[1;31m# в столбце 'city' равно параметру city (используйте последовательную фильтрацию\u001b[0m\u001b[1;33m\u001b[0m\u001b[1;33m\u001b[0m\u001b[1;33m\u001b[0m\u001b[0m\n\u001b[0;32m     14\u001b[0m     \u001b[1;31m# с помощью логической индексации).\u001b[0m\u001b[1;33m\u001b[0m\u001b[1;33m\u001b[0m\u001b[1;33m\u001b[0m\u001b[0m\n\u001b[1;32m---> 15\u001b[1;33m     \u001b[0mtrack_list\u001b[0m \u001b[1;33m=\u001b[0m \u001b[0mdf\u001b[0m\u001b[1;33m[\u001b[0m \u001b[1;33m(\u001b[0m\u001b[0mdf\u001b[0m\u001b[1;33m.\u001b[0m\u001b[0mday\u001b[0m \u001b[1;33m==\u001b[0m \u001b[0mday\u001b[0m\u001b[1;33m)\u001b[0m \u001b[1;33m&\u001b[0m \u001b[1;33m(\u001b[0m\u001b[0mdf\u001b[0m\u001b[1;33m.\u001b[0m\u001b[0mcity\u001b[0m \u001b[1;33m==\u001b[0m \u001b[0mcity\u001b[0m\u001b[1;33m)\u001b[0m \u001b[1;33m]\u001b[0m\u001b[1;33m\u001b[0m\u001b[1;33m\u001b[0m\u001b[0m\n\u001b[0m\u001b[0;32m     16\u001b[0m \u001b[1;33m\u001b[0m\u001b[0m\n\u001b[0;32m     17\u001b[0m     \u001b[1;31m# В переменной track_list_count сохраняется число значений столбца 'user_id',\u001b[0m\u001b[1;33m\u001b[0m\u001b[1;33m\u001b[0m\u001b[1;33m\u001b[0m\u001b[0m\n",
      "\u001b[1;31mNameError\u001b[0m: name 'df' is not defined"
     ]
    }
   ],
   "source": [
    "# количество прослушиваний в Санкт-Петербурге по средам\n",
    "number_tracks( 'Wednesday', 'Saint-Petersburg' )"
   ]
  },
  {
   "cell_type": "code",
   "execution_count": 27,
   "metadata": {
    "id": "vYDw5u_K_Zcu"
   },
   "outputs": [
    {
     "ename": "NameError",
     "evalue": "name 'df' is not defined",
     "output_type": "error",
     "traceback": [
      "\u001b[1;31m---------------------------------------------------------------------------\u001b[0m",
      "\u001b[1;31mNameError\u001b[0m                                 Traceback (most recent call last)",
      "\u001b[1;32m<ipython-input-27-6af74cc75f37>\u001b[0m in \u001b[0;36m<module>\u001b[1;34m\u001b[0m\n\u001b[0;32m      1\u001b[0m \u001b[1;31m# количество прослушиваний в Москве по пятницам\u001b[0m\u001b[1;33m\u001b[0m\u001b[1;33m\u001b[0m\u001b[1;33m\u001b[0m\u001b[0m\n\u001b[1;32m----> 2\u001b[1;33m \u001b[0mnumber_tracks\u001b[0m\u001b[1;33m(\u001b[0m \u001b[1;34m'Friday'\u001b[0m\u001b[1;33m,\u001b[0m \u001b[1;34m'Moscow'\u001b[0m \u001b[1;33m)\u001b[0m\u001b[1;33m\u001b[0m\u001b[1;33m\u001b[0m\u001b[0m\n\u001b[0m",
      "\u001b[1;32m<ipython-input-22-80da125e150f>\u001b[0m in \u001b[0;36mnumber_tracks\u001b[1;34m(day, city)\u001b[0m\n\u001b[0;32m     13\u001b[0m     \u001b[1;31m# в столбце 'city' равно параметру city (используйте последовательную фильтрацию\u001b[0m\u001b[1;33m\u001b[0m\u001b[1;33m\u001b[0m\u001b[1;33m\u001b[0m\u001b[0m\n\u001b[0;32m     14\u001b[0m     \u001b[1;31m# с помощью логической индексации).\u001b[0m\u001b[1;33m\u001b[0m\u001b[1;33m\u001b[0m\u001b[1;33m\u001b[0m\u001b[0m\n\u001b[1;32m---> 15\u001b[1;33m     \u001b[0mtrack_list\u001b[0m \u001b[1;33m=\u001b[0m \u001b[0mdf\u001b[0m\u001b[1;33m[\u001b[0m \u001b[1;33m(\u001b[0m\u001b[0mdf\u001b[0m\u001b[1;33m.\u001b[0m\u001b[0mday\u001b[0m \u001b[1;33m==\u001b[0m \u001b[0mday\u001b[0m\u001b[1;33m)\u001b[0m \u001b[1;33m&\u001b[0m \u001b[1;33m(\u001b[0m\u001b[0mdf\u001b[0m\u001b[1;33m.\u001b[0m\u001b[0mcity\u001b[0m \u001b[1;33m==\u001b[0m \u001b[0mcity\u001b[0m\u001b[1;33m)\u001b[0m \u001b[1;33m]\u001b[0m\u001b[1;33m\u001b[0m\u001b[1;33m\u001b[0m\u001b[0m\n\u001b[0m\u001b[0;32m     16\u001b[0m \u001b[1;33m\u001b[0m\u001b[0m\n\u001b[0;32m     17\u001b[0m     \u001b[1;31m# В переменной track_list_count сохраняется число значений столбца 'user_id',\u001b[0m\u001b[1;33m\u001b[0m\u001b[1;33m\u001b[0m\u001b[1;33m\u001b[0m\u001b[0m\n",
      "\u001b[1;31mNameError\u001b[0m: name 'df' is not defined"
     ]
    }
   ],
   "source": [
    "# количество прослушиваний в Москве по пятницам\n",
    "number_tracks( 'Friday', 'Moscow' )"
   ]
  },
  {
   "cell_type": "code",
   "execution_count": 28,
   "metadata": {
    "id": "8_yzFtW3_Zcu"
   },
   "outputs": [
    {
     "ename": "NameError",
     "evalue": "name 'df' is not defined",
     "output_type": "error",
     "traceback": [
      "\u001b[1;31m---------------------------------------------------------------------------\u001b[0m",
      "\u001b[1;31mNameError\u001b[0m                                 Traceback (most recent call last)",
      "\u001b[1;32m<ipython-input-28-864d1bc6d09c>\u001b[0m in \u001b[0;36m<module>\u001b[1;34m\u001b[0m\n\u001b[0;32m      1\u001b[0m \u001b[1;31m# количество прослушиваний в Санкт-Петербурге по пятницам\u001b[0m\u001b[1;33m\u001b[0m\u001b[1;33m\u001b[0m\u001b[1;33m\u001b[0m\u001b[0m\n\u001b[1;32m----> 2\u001b[1;33m \u001b[0mnumber_tracks\u001b[0m\u001b[1;33m(\u001b[0m \u001b[1;34m'Friday'\u001b[0m\u001b[1;33m,\u001b[0m \u001b[1;34m'Saint-Petersburg'\u001b[0m \u001b[1;33m)\u001b[0m\u001b[1;33m\u001b[0m\u001b[1;33m\u001b[0m\u001b[0m\n\u001b[0m",
      "\u001b[1;32m<ipython-input-22-80da125e150f>\u001b[0m in \u001b[0;36mnumber_tracks\u001b[1;34m(day, city)\u001b[0m\n\u001b[0;32m     13\u001b[0m     \u001b[1;31m# в столбце 'city' равно параметру city (используйте последовательную фильтрацию\u001b[0m\u001b[1;33m\u001b[0m\u001b[1;33m\u001b[0m\u001b[1;33m\u001b[0m\u001b[0m\n\u001b[0;32m     14\u001b[0m     \u001b[1;31m# с помощью логической индексации).\u001b[0m\u001b[1;33m\u001b[0m\u001b[1;33m\u001b[0m\u001b[1;33m\u001b[0m\u001b[0m\n\u001b[1;32m---> 15\u001b[1;33m     \u001b[0mtrack_list\u001b[0m \u001b[1;33m=\u001b[0m \u001b[0mdf\u001b[0m\u001b[1;33m[\u001b[0m \u001b[1;33m(\u001b[0m\u001b[0mdf\u001b[0m\u001b[1;33m.\u001b[0m\u001b[0mday\u001b[0m \u001b[1;33m==\u001b[0m \u001b[0mday\u001b[0m\u001b[1;33m)\u001b[0m \u001b[1;33m&\u001b[0m \u001b[1;33m(\u001b[0m\u001b[0mdf\u001b[0m\u001b[1;33m.\u001b[0m\u001b[0mcity\u001b[0m \u001b[1;33m==\u001b[0m \u001b[0mcity\u001b[0m\u001b[1;33m)\u001b[0m \u001b[1;33m]\u001b[0m\u001b[1;33m\u001b[0m\u001b[1;33m\u001b[0m\u001b[0m\n\u001b[0m\u001b[0;32m     16\u001b[0m \u001b[1;33m\u001b[0m\u001b[0m\n\u001b[0;32m     17\u001b[0m     \u001b[1;31m# В переменной track_list_count сохраняется число значений столбца 'user_id',\u001b[0m\u001b[1;33m\u001b[0m\u001b[1;33m\u001b[0m\u001b[1;33m\u001b[0m\u001b[0m\n",
      "\u001b[1;31mNameError\u001b[0m: name 'df' is not defined"
     ]
    }
   ],
   "source": [
    "# количество прослушиваний в Санкт-Петербурге по пятницам\n",
    "number_tracks( 'Friday', 'Saint-Petersburg' )"
   ]
  },
  {
   "cell_type": "markdown",
   "metadata": {
    "id": "7QXffbO-_Zcu"
   },
   "source": [
    "Создайте c помощью конструктора `pd.DataFrame` таблицу, где\n",
    "* названия колонок — `['city', 'monday', 'wednesday', 'friday']`;\n",
    "* данные — результаты, которые вы получили с помощью `number_tracks`."
   ]
  },
  {
   "cell_type": "code",
   "execution_count": 29,
   "metadata": {
    "id": "APAcLpOr_Zcu"
   },
   "outputs": [
    {
     "ename": "NameError",
     "evalue": "name 'df' is not defined",
     "output_type": "error",
     "traceback": [
      "\u001b[1;31m---------------------------------------------------------------------------\u001b[0m",
      "\u001b[1;31mNameError\u001b[0m                                 Traceback (most recent call last)",
      "\u001b[1;32m<ipython-input-29-007cbaf9ae43>\u001b[0m in \u001b[0;36m<module>\u001b[1;34m\u001b[0m\n\u001b[0;32m      1\u001b[0m \u001b[1;31m# Таблица с результатами\u001b[0m\u001b[1;33m\u001b[0m\u001b[1;33m\u001b[0m\u001b[1;33m\u001b[0m\u001b[0m\n\u001b[0;32m      2\u001b[0m output = pd.DataFrame( data={'city':['Moscow', 'Saint-Petersburg'],\n\u001b[1;32m----> 3\u001b[1;33m                              \u001b[1;34m'monday'\u001b[0m\u001b[1;33m:\u001b[0m\u001b[1;33m[\u001b[0m\u001b[0mnumber_tracks\u001b[0m\u001b[1;33m(\u001b[0m \u001b[1;34m'Monday'\u001b[0m\u001b[1;33m,\u001b[0m \u001b[1;34m'Moscow'\u001b[0m \u001b[1;33m)\u001b[0m\u001b[1;33m,\u001b[0m \u001b[0mnumber_tracks\u001b[0m\u001b[1;33m(\u001b[0m \u001b[1;34m'Monday'\u001b[0m\u001b[1;33m,\u001b[0m \u001b[1;34m'Saint-Petersburg'\u001b[0m \u001b[1;33m)\u001b[0m\u001b[1;33m]\u001b[0m\u001b[1;33m,\u001b[0m\u001b[1;33m\u001b[0m\u001b[1;33m\u001b[0m\u001b[0m\n\u001b[0m\u001b[0;32m      4\u001b[0m                              \u001b[1;34m'wednesday'\u001b[0m\u001b[1;33m:\u001b[0m\u001b[1;33m[\u001b[0m\u001b[0mnumber_tracks\u001b[0m\u001b[1;33m(\u001b[0m \u001b[1;34m'Wednesday'\u001b[0m\u001b[1;33m,\u001b[0m \u001b[1;34m'Moscow'\u001b[0m \u001b[1;33m)\u001b[0m\u001b[1;33m,\u001b[0m \u001b[0mnumber_tracks\u001b[0m\u001b[1;33m(\u001b[0m \u001b[1;34m'Wednesday'\u001b[0m\u001b[1;33m,\u001b[0m \u001b[1;34m'Saint-Petersburg'\u001b[0m \u001b[1;33m)\u001b[0m\u001b[1;33m]\u001b[0m\u001b[1;33m,\u001b[0m\u001b[1;33m\u001b[0m\u001b[1;33m\u001b[0m\u001b[0m\n\u001b[0;32m      5\u001b[0m                              'friday':[number_tracks( 'Friday', 'Moscow' ), number_tracks( 'Friday', 'Saint-Petersburg' )]} )\n",
      "\u001b[1;32m<ipython-input-22-80da125e150f>\u001b[0m in \u001b[0;36mnumber_tracks\u001b[1;34m(day, city)\u001b[0m\n\u001b[0;32m     13\u001b[0m     \u001b[1;31m# в столбце 'city' равно параметру city (используйте последовательную фильтрацию\u001b[0m\u001b[1;33m\u001b[0m\u001b[1;33m\u001b[0m\u001b[1;33m\u001b[0m\u001b[0m\n\u001b[0;32m     14\u001b[0m     \u001b[1;31m# с помощью логической индексации).\u001b[0m\u001b[1;33m\u001b[0m\u001b[1;33m\u001b[0m\u001b[1;33m\u001b[0m\u001b[0m\n\u001b[1;32m---> 15\u001b[1;33m     \u001b[0mtrack_list\u001b[0m \u001b[1;33m=\u001b[0m \u001b[0mdf\u001b[0m\u001b[1;33m[\u001b[0m \u001b[1;33m(\u001b[0m\u001b[0mdf\u001b[0m\u001b[1;33m.\u001b[0m\u001b[0mday\u001b[0m \u001b[1;33m==\u001b[0m \u001b[0mday\u001b[0m\u001b[1;33m)\u001b[0m \u001b[1;33m&\u001b[0m \u001b[1;33m(\u001b[0m\u001b[0mdf\u001b[0m\u001b[1;33m.\u001b[0m\u001b[0mcity\u001b[0m \u001b[1;33m==\u001b[0m \u001b[0mcity\u001b[0m\u001b[1;33m)\u001b[0m \u001b[1;33m]\u001b[0m\u001b[1;33m\u001b[0m\u001b[1;33m\u001b[0m\u001b[0m\n\u001b[0m\u001b[0;32m     16\u001b[0m \u001b[1;33m\u001b[0m\u001b[0m\n\u001b[0;32m     17\u001b[0m     \u001b[1;31m# В переменной track_list_count сохраняется число значений столбца 'user_id',\u001b[0m\u001b[1;33m\u001b[0m\u001b[1;33m\u001b[0m\u001b[1;33m\u001b[0m\u001b[0m\n",
      "\u001b[1;31mNameError\u001b[0m: name 'df' is not defined"
     ]
    }
   ],
   "source": [
    "# Таблица с результатами\n",
    "output = pd.DataFrame( data={'city':['Moscow', 'Saint-Petersburg'],\n",
    "                             'monday':[number_tracks( 'Monday', 'Moscow' ), number_tracks( 'Monday', 'Saint-Petersburg' )], \n",
    "                             'wednesday':[number_tracks( 'Wednesday', 'Moscow' ), number_tracks( 'Wednesday', 'Saint-Petersburg' )],\n",
    "                             'friday':[number_tracks( 'Friday', 'Moscow' ), number_tracks( 'Friday', 'Saint-Petersburg' )]} )\n",
    "display( output )"
   ]
  },
  {
   "cell_type": "markdown",
   "metadata": {
    "id": "-EgPIHYu_Zcu"
   },
   "source": [
    "**Выводы**\n",
    "\n",
    "Данные показывают разницу поведения пользователей:\n",
    "\n",
    "- В Москве пик прослушиваний приходится на понедельник и пятницу, а в среду заметен спад.\n",
    "- В Петербурге, наоборот, больше слушают музыку по средам. Активность в понедельник и пятницу здесь почти в равной мере уступает среде.\n",
    "\n",
    "Значит, данные говорят в пользу первой гипотезы."
   ]
  },
  {
   "cell_type": "markdown",
   "metadata": {
    "id": "atZAxtq4_Zcu"
   },
   "source": [
    "### Музыка в начале и в конце недели"
   ]
  },
  {
   "cell_type": "markdown",
   "metadata": {
    "id": "eXrQqXFH_Zcu"
   },
   "source": [
    "Согласно второй гипотезе, утром в понедельник в Москве преобладают одни жанры, а в Петербурге — другие. Так же и вечером пятницы преобладают разные жанры — в зависимости от города."
   ]
  },
  {
   "cell_type": "markdown",
   "metadata": {
    "id": "S8UcW6Hw_Zcu"
   },
   "source": [
    "Сохраните таблицы с данными в две переменные:\n",
    "* по Москве — в `moscow_general`;\n",
    "* по Санкт-Петербургу — в `spb_general`."
   ]
  },
  {
   "cell_type": "code",
   "execution_count": 30,
   "metadata": {
    "id": "qeaFfM_P_Zcu"
   },
   "outputs": [
    {
     "ename": "NameError",
     "evalue": "name 'df' is not defined",
     "output_type": "error",
     "traceback": [
      "\u001b[1;31m---------------------------------------------------------------------------\u001b[0m",
      "\u001b[1;31mNameError\u001b[0m                                 Traceback (most recent call last)",
      "\u001b[1;32m<ipython-input-30-2307ec629032>\u001b[0m in \u001b[0;36m<module>\u001b[1;34m\u001b[0m\n\u001b[0;32m      1\u001b[0m \u001b[1;31m# получение таблицы moscow_general из тех строк таблицы df,\u001b[0m\u001b[1;33m\u001b[0m\u001b[1;33m\u001b[0m\u001b[1;33m\u001b[0m\u001b[0m\n\u001b[0;32m      2\u001b[0m \u001b[1;31m# для которых значение в столбце 'city' равно 'Moscow'\u001b[0m\u001b[1;33m\u001b[0m\u001b[1;33m\u001b[0m\u001b[1;33m\u001b[0m\u001b[0m\n\u001b[1;32m----> 3\u001b[1;33m \u001b[0mmoscow_general\u001b[0m \u001b[1;33m=\u001b[0m \u001b[0mdf\u001b[0m\u001b[1;33m[\u001b[0m \u001b[0mdf\u001b[0m\u001b[1;33m.\u001b[0m\u001b[0mcity\u001b[0m \u001b[1;33m==\u001b[0m \u001b[1;34m'Moscow'\u001b[0m \u001b[1;33m]\u001b[0m\u001b[1;33m\u001b[0m\u001b[1;33m\u001b[0m\u001b[0m\n\u001b[0m",
      "\u001b[1;31mNameError\u001b[0m: name 'df' is not defined"
     ]
    }
   ],
   "source": [
    "# получение таблицы moscow_general из тех строк таблицы df, \n",
    "# для которых значение в столбце 'city' равно 'Moscow'\n",
    "moscow_general = df[ df.city == 'Moscow' ]"
   ]
  },
  {
   "cell_type": "code",
   "execution_count": 31,
   "metadata": {
    "id": "ORaVRKto_Zcu"
   },
   "outputs": [
    {
     "ename": "NameError",
     "evalue": "name 'df' is not defined",
     "output_type": "error",
     "traceback": [
      "\u001b[1;31m---------------------------------------------------------------------------\u001b[0m",
      "\u001b[1;31mNameError\u001b[0m                                 Traceback (most recent call last)",
      "\u001b[1;32m<ipython-input-31-39cdcaf1fee3>\u001b[0m in \u001b[0;36m<module>\u001b[1;34m\u001b[0m\n\u001b[0;32m      1\u001b[0m \u001b[1;31m# получение таблицы spb_general из тех строк таблицы df,\u001b[0m\u001b[1;33m\u001b[0m\u001b[1;33m\u001b[0m\u001b[1;33m\u001b[0m\u001b[0m\n\u001b[0;32m      2\u001b[0m \u001b[1;31m# для которых значение в столбце 'city' равно 'Saint-Petersburg'\u001b[0m\u001b[1;33m\u001b[0m\u001b[1;33m\u001b[0m\u001b[1;33m\u001b[0m\u001b[0m\n\u001b[1;32m----> 3\u001b[1;33m \u001b[0mspb_general\u001b[0m \u001b[1;33m=\u001b[0m \u001b[0mdf\u001b[0m\u001b[1;33m[\u001b[0m \u001b[0mdf\u001b[0m\u001b[1;33m.\u001b[0m\u001b[0mcity\u001b[0m \u001b[1;33m==\u001b[0m \u001b[1;34m'Saint-Petersburg'\u001b[0m \u001b[1;33m]\u001b[0m\u001b[1;33m\u001b[0m\u001b[1;33m\u001b[0m\u001b[0m\n\u001b[0m",
      "\u001b[1;31mNameError\u001b[0m: name 'df' is not defined"
     ]
    }
   ],
   "source": [
    "# получение таблицы spb_general из тех строк таблицы df,\n",
    "# для которых значение в столбце 'city' равно 'Saint-Petersburg'\n",
    "spb_general = df[ df.city == 'Saint-Petersburg' ]"
   ]
  },
  {
   "cell_type": "markdown",
   "metadata": {
    "id": "MEJV-CX2_Zcu"
   },
   "source": [
    "Создайте функцию `genre_weekday()` с четырьмя параметрами:\n",
    "* таблица (датафрейм) с данными,\n",
    "* день недели,\n",
    "* начальная временная метка в формате 'hh:mm', \n",
    "* последняя временная метка в формате 'hh:mm'.\n",
    "\n",
    "Функция должна вернуть информацию о топ-10 жанров тех треков, которые прослушивали в указанный день, в промежутке между двумя отметками времени."
   ]
  },
  {
   "cell_type": "code",
   "execution_count": 32,
   "metadata": {
    "id": "laJT9BYl_Zcu"
   },
   "outputs": [],
   "source": [
    "# Объявление функции genre_weekday() с параметрами table, day, time1, time2,\n",
    "# которая возвращает информацию о самых популярных жанрах в указанный день в\n",
    "# заданное время:\n",
    "def genre_weekday( table, day, time1, time2 ):\n",
    "    # 1) в переменную genre_df сохраняются те строки переданного датафрейма table, для\n",
    "    #    которых одновременно:\n",
    "    #    - значение в столбце day равно значению аргумента day\n",
    "    #    - значение в столбце time больше значения аргумента time1\n",
    "    #    - значение в столбце time меньше значения аргумента time2\n",
    "    #    Используйте последовательную фильтрацию с помощью логической индексации.\n",
    "    genre_df = table[ (table.day == day) & (table.time >= time1) & (table.time <= time2) ]\n",
    "\n",
    "    # 2) сгруппировать датафрейм genre_df по столбцу genre, взять один из его\n",
    "    #    столбцов и посчитать методом count() количество записей для каждого из\n",
    "    #    присутствующих жанров, получившийся Series записать в переменную\n",
    "    #    genre_df_count\n",
    "    genre_df_count = genre_df.groupby('genre').user_id.count()\n",
    "    \n",
    "    # 3) отсортировать genre_df_count по убыванию встречаемости и сохранить\n",
    "    #    в переменную genre_df_sorted\n",
    "    genre_df_sorted = genre_df_count.sort_values( ascending=False )\n",
    "    \n",
    "    # 4) вернуть Series из 10 первых значений genre_df_sorted, это будут топ-10\n",
    "    #    популярных жанров (в указанный день, в заданное время)\n",
    "    return genre_df_sorted[:10]"
   ]
  },
  {
   "cell_type": "markdown",
   "metadata": {
    "id": "la2s2_PF_Zcu"
   },
   "source": [
    "Cравните результаты функции `genre_weekday()` для Москвы и Санкт-Петербурга в понедельник утром (с 7:00 до 11:00) и в пятницу вечером (с 17:00 до 23:00):"
   ]
  },
  {
   "cell_type": "code",
   "execution_count": 33,
   "metadata": {
    "id": "yz7itPUQ_Zcu"
   },
   "outputs": [
    {
     "ename": "NameError",
     "evalue": "name 'moscow_general' is not defined",
     "output_type": "error",
     "traceback": [
      "\u001b[1;31m---------------------------------------------------------------------------\u001b[0m",
      "\u001b[1;31mNameError\u001b[0m                                 Traceback (most recent call last)",
      "\u001b[1;32m<ipython-input-33-1bbfce19566d>\u001b[0m in \u001b[0;36m<module>\u001b[1;34m\u001b[0m\n\u001b[0;32m      2\u001b[0m \u001b[1;31m# объекты, хранящие время, являются строками и сравниваются как строки\u001b[0m\u001b[1;33m\u001b[0m\u001b[1;33m\u001b[0m\u001b[1;33m\u001b[0m\u001b[0m\n\u001b[0;32m      3\u001b[0m \u001b[1;31m# пример вызова: genre_weekday(moscow_general, 'Monday', '07:00', '11:00')\u001b[0m\u001b[1;33m\u001b[0m\u001b[1;33m\u001b[0m\u001b[1;33m\u001b[0m\u001b[0m\n\u001b[1;32m----> 4\u001b[1;33m \u001b[0mgenre_weekday\u001b[0m\u001b[1;33m(\u001b[0m\u001b[0mmoscow_general\u001b[0m\u001b[1;33m,\u001b[0m \u001b[1;34m'Monday'\u001b[0m\u001b[1;33m,\u001b[0m \u001b[1;34m'07:00'\u001b[0m\u001b[1;33m,\u001b[0m \u001b[1;34m'11:00'\u001b[0m\u001b[1;33m)\u001b[0m\u001b[1;33m\u001b[0m\u001b[1;33m\u001b[0m\u001b[0m\n\u001b[0m",
      "\u001b[1;31mNameError\u001b[0m: name 'moscow_general' is not defined"
     ]
    }
   ],
   "source": [
    "# вызов функции для утра понедельника в Москве (вместо df — таблица moscow_general)\n",
    "# объекты, хранящие время, являются строками и сравниваются как строки\n",
    "# пример вызова: genre_weekday(moscow_general, 'Monday', '07:00', '11:00')\n",
    "genre_weekday(moscow_general, 'Monday', '07:00', '11:00')"
   ]
  },
  {
   "cell_type": "code",
   "execution_count": 34,
   "metadata": {
    "id": "kwUcHPdy_Zcu"
   },
   "outputs": [
    {
     "ename": "NameError",
     "evalue": "name 'spb_general' is not defined",
     "output_type": "error",
     "traceback": [
      "\u001b[1;31m---------------------------------------------------------------------------\u001b[0m",
      "\u001b[1;31mNameError\u001b[0m                                 Traceback (most recent call last)",
      "\u001b[1;32m<ipython-input-34-08dd3bf747b5>\u001b[0m in \u001b[0;36m<module>\u001b[1;34m\u001b[0m\n\u001b[0;32m      1\u001b[0m \u001b[1;31m# вызов функции для утра понедельника в Петербурге (вместо df — таблица spb_general)\u001b[0m\u001b[1;33m\u001b[0m\u001b[1;33m\u001b[0m\u001b[1;33m\u001b[0m\u001b[0m\n\u001b[1;32m----> 2\u001b[1;33m \u001b[0mgenre_weekday\u001b[0m\u001b[1;33m(\u001b[0m\u001b[0mspb_general\u001b[0m\u001b[1;33m,\u001b[0m \u001b[1;34m'Monday'\u001b[0m\u001b[1;33m,\u001b[0m \u001b[1;34m'07:00'\u001b[0m\u001b[1;33m,\u001b[0m \u001b[1;34m'11:00'\u001b[0m\u001b[1;33m)\u001b[0m\u001b[1;33m\u001b[0m\u001b[1;33m\u001b[0m\u001b[0m\n\u001b[0m",
      "\u001b[1;31mNameError\u001b[0m: name 'spb_general' is not defined"
     ]
    }
   ],
   "source": [
    "# вызов функции для утра понедельника в Петербурге (вместо df — таблица spb_general)\n",
    "genre_weekday(spb_general, 'Monday', '07:00', '11:00')"
   ]
  },
  {
   "cell_type": "code",
   "execution_count": 35,
   "metadata": {
    "id": "EzXVRE1o_Zcu"
   },
   "outputs": [
    {
     "ename": "NameError",
     "evalue": "name 'moscow_general' is not defined",
     "output_type": "error",
     "traceback": [
      "\u001b[1;31m---------------------------------------------------------------------------\u001b[0m",
      "\u001b[1;31mNameError\u001b[0m                                 Traceback (most recent call last)",
      "\u001b[1;32m<ipython-input-35-4af7f4cdcde0>\u001b[0m in \u001b[0;36m<module>\u001b[1;34m\u001b[0m\n\u001b[0;32m      1\u001b[0m \u001b[1;31m# вызов функции для вечера пятницы в Москве\u001b[0m\u001b[1;33m\u001b[0m\u001b[1;33m\u001b[0m\u001b[1;33m\u001b[0m\u001b[0m\n\u001b[1;32m----> 2\u001b[1;33m \u001b[0mgenre_weekday\u001b[0m\u001b[1;33m(\u001b[0m\u001b[0mmoscow_general\u001b[0m\u001b[1;33m,\u001b[0m \u001b[1;34m'Friday'\u001b[0m\u001b[1;33m,\u001b[0m \u001b[1;34m'17:00'\u001b[0m\u001b[1;33m,\u001b[0m \u001b[1;34m'23:00'\u001b[0m\u001b[1;33m)\u001b[0m\u001b[1;33m\u001b[0m\u001b[1;33m\u001b[0m\u001b[0m\n\u001b[0m",
      "\u001b[1;31mNameError\u001b[0m: name 'moscow_general' is not defined"
     ]
    }
   ],
   "source": [
    "# вызов функции для вечера пятницы в Москве\n",
    "genre_weekday(moscow_general, 'Friday', '17:00', '23:00')"
   ]
  },
  {
   "cell_type": "code",
   "execution_count": 36,
   "metadata": {
    "id": "JZaEKu5v_Zcu"
   },
   "outputs": [
    {
     "ename": "NameError",
     "evalue": "name 'spb_general' is not defined",
     "output_type": "error",
     "traceback": [
      "\u001b[1;31m---------------------------------------------------------------------------\u001b[0m",
      "\u001b[1;31mNameError\u001b[0m                                 Traceback (most recent call last)",
      "\u001b[1;32m<ipython-input-36-b43c90dfb794>\u001b[0m in \u001b[0;36m<module>\u001b[1;34m\u001b[0m\n\u001b[0;32m      1\u001b[0m \u001b[1;31m# вызов функции для вечера пятницы в Петербурге\u001b[0m\u001b[1;33m\u001b[0m\u001b[1;33m\u001b[0m\u001b[1;33m\u001b[0m\u001b[0m\n\u001b[1;32m----> 2\u001b[1;33m \u001b[0mgenre_weekday\u001b[0m\u001b[1;33m(\u001b[0m\u001b[0mspb_general\u001b[0m\u001b[1;33m,\u001b[0m \u001b[1;34m'Friday'\u001b[0m\u001b[1;33m,\u001b[0m \u001b[1;34m'17:00'\u001b[0m\u001b[1;33m,\u001b[0m \u001b[1;34m'23:00'\u001b[0m\u001b[1;33m)\u001b[0m\u001b[1;33m\u001b[0m\u001b[1;33m\u001b[0m\u001b[0m\n\u001b[0m",
      "\u001b[1;31mNameError\u001b[0m: name 'spb_general' is not defined"
     ]
    }
   ],
   "source": [
    "# вызов функции для вечера пятницы в Петербурге\n",
    "genre_weekday(spb_general, 'Friday', '17:00', '23:00')"
   ]
  },
  {
   "cell_type": "markdown",
   "metadata": {
    "id": "wrCe4MNX_Zcu"
   },
   "source": [
    "**Выводы**\n",
    "\n",
    "Если сравнить топ-10 жанров в понедельник утром, можно сделать такие выводы:\n",
    "\n",
    "1. В Москве и Петербурге слушают похожую музыку. Единственное отличие — в московский рейтинг вошёл жанр “world”, а в петербургский — джаз и классика.\n",
    "\n",
    "2. В Москве пропущенных значений оказалось так много, что значение `'unknown'` заняло десятое место среди самых популярных жанров. Значит, пропущенные значения занимают существенную долю в данных и угрожают достоверности исследования.\n",
    "\n",
    "Вечер пятницы не меняет эту картину. Некоторые жанры поднимаются немного выше, другие спускаются, но в целом топ-10 остаётся тем же самым.\n",
    "\n",
    "Таким образом, вторая гипотеза подтвердилась лишь частично:\n",
    "* Пользователи слушают похожую музыку в начале недели и в конце.\n",
    "* Разница между Москвой и Петербургом не слишком выражена. В Москве чаще слушают русскую популярную музыку, в Петербурге — джаз.\n",
    "\n",
    "Однако пропуски в данных ставят под сомнение этот результат. В Москве их так много, что рейтинг топ-10 мог бы выглядеть иначе, если бы не утерянные  данные о жанрах."
   ]
  },
  {
   "cell_type": "markdown",
   "metadata": {
    "id": "JolODAqr_Zcu"
   },
   "source": [
    "### Жанровые предпочтения в Москве и Петербурге\n",
    "\n",
    "Гипотеза: Петербург — столица рэпа, музыку этого жанра там слушают чаще, чем в Москве.  А Москва — город контрастов, в котором, тем не менее, преобладает поп-музыка."
   ]
  },
  {
   "cell_type": "markdown",
   "metadata": {
    "id": "DlegSvaT_Zcu"
   },
   "source": [
    "Сгруппируйте таблицу `moscow_general` по жанру и посчитайте прослушивания треков каждого жанра методом `count()`. Затем отсортируйте результат в порядке убывания и сохраните его в таблице `moscow_genres`."
   ]
  },
  {
   "cell_type": "code",
   "execution_count": 37,
   "metadata": {
    "id": "r19lIPke_Zcu"
   },
   "outputs": [
    {
     "ename": "NameError",
     "evalue": "name 'moscow_general' is not defined",
     "output_type": "error",
     "traceback": [
      "\u001b[1;31m---------------------------------------------------------------------------\u001b[0m",
      "\u001b[1;31mNameError\u001b[0m                                 Traceback (most recent call last)",
      "\u001b[1;32m<ipython-input-37-da4991604722>\u001b[0m in \u001b[0;36m<module>\u001b[1;34m\u001b[0m\n\u001b[0;32m      2\u001b[0m \u001b[1;31m# подсчёт числа значений 'genre' в этой группировке методом count(),\u001b[0m\u001b[1;33m\u001b[0m\u001b[1;33m\u001b[0m\u001b[1;33m\u001b[0m\u001b[0m\n\u001b[0;32m      3\u001b[0m \u001b[1;31m# сортировка получившегося Series в порядке убывания и сохранение в moscow_genres\u001b[0m\u001b[1;33m\u001b[0m\u001b[1;33m\u001b[0m\u001b[1;33m\u001b[0m\u001b[0m\n\u001b[1;32m----> 4\u001b[1;33m \u001b[0mmoscow_genres\u001b[0m \u001b[1;33m=\u001b[0m \u001b[0mmoscow_general\u001b[0m\u001b[1;33m.\u001b[0m\u001b[0mgroupby\u001b[0m\u001b[1;33m(\u001b[0m\u001b[1;34m'genre'\u001b[0m\u001b[1;33m)\u001b[0m\u001b[1;33m.\u001b[0m\u001b[0mgenre\u001b[0m\u001b[1;33m.\u001b[0m\u001b[0mcount\u001b[0m\u001b[1;33m(\u001b[0m\u001b[1;33m)\u001b[0m\u001b[1;33m.\u001b[0m\u001b[0msort_values\u001b[0m\u001b[1;33m(\u001b[0m \u001b[0mascending\u001b[0m\u001b[1;33m=\u001b[0m\u001b[1;32mFalse\u001b[0m \u001b[1;33m)\u001b[0m\u001b[1;33m\u001b[0m\u001b[1;33m\u001b[0m\u001b[0m\n\u001b[0m",
      "\u001b[1;31mNameError\u001b[0m: name 'moscow_general' is not defined"
     ]
    }
   ],
   "source": [
    "# одной строкой: группировка таблицы moscow_general по столбцу 'genre', \n",
    "# подсчёт числа значений 'genre' в этой группировке методом count(), \n",
    "# сортировка получившегося Series в порядке убывания и сохранение в moscow_genres\n",
    "moscow_genres = moscow_general.groupby('genre').genre.count().sort_values( ascending=False )"
   ]
  },
  {
   "cell_type": "markdown",
   "metadata": {
    "id": "6kMuomxTiIr8"
   },
   "source": [
    "Выведите на экран первые десять строк `moscow_genres`:"
   ]
  },
  {
   "cell_type": "code",
   "execution_count": 38,
   "metadata": {
    "id": "WhCSooF8_Zcv"
   },
   "outputs": [
    {
     "ename": "NameError",
     "evalue": "name 'moscow_genres' is not defined",
     "output_type": "error",
     "traceback": [
      "\u001b[1;31m---------------------------------------------------------------------------\u001b[0m",
      "\u001b[1;31mNameError\u001b[0m                                 Traceback (most recent call last)",
      "\u001b[1;32m<ipython-input-38-675904722d3f>\u001b[0m in \u001b[0;36m<module>\u001b[1;34m\u001b[0m\n\u001b[0;32m      1\u001b[0m \u001b[1;31m# просмотр первых 10 строк moscow_genres\u001b[0m\u001b[1;33m\u001b[0m\u001b[1;33m\u001b[0m\u001b[1;33m\u001b[0m\u001b[0m\n\u001b[1;32m----> 2\u001b[1;33m \u001b[0mmoscow_genres\u001b[0m\u001b[1;33m.\u001b[0m\u001b[0mhead\u001b[0m\u001b[1;33m(\u001b[0m \u001b[1;36m10\u001b[0m \u001b[1;33m)\u001b[0m\u001b[1;33m\u001b[0m\u001b[1;33m\u001b[0m\u001b[0m\n\u001b[0m",
      "\u001b[1;31mNameError\u001b[0m: name 'moscow_genres' is not defined"
     ]
    }
   ],
   "source": [
    "# просмотр первых 10 строк moscow_genres\n",
    "moscow_genres.head( 10 )"
   ]
  },
  {
   "cell_type": "markdown",
   "metadata": {
    "id": "cnPG2vnN_Zcv"
   },
   "source": [
    "Теперь повторите то же и для Петербурга.\n",
    "\n",
    "Сгруппируйте таблицу `spb_general` по жанру. Посчитайте прослушивания треков каждого жанра. Результат отсортируйте в порядке убывания и сохраните в таблице `spb_genres`:\n"
   ]
  },
  {
   "cell_type": "code",
   "execution_count": 39,
   "metadata": {
    "id": "gluLIpE7_Zcv"
   },
   "outputs": [
    {
     "ename": "NameError",
     "evalue": "name 'spb_general' is not defined",
     "output_type": "error",
     "traceback": [
      "\u001b[1;31m---------------------------------------------------------------------------\u001b[0m",
      "\u001b[1;31mNameError\u001b[0m                                 Traceback (most recent call last)",
      "\u001b[1;32m<ipython-input-39-040bc0e128ed>\u001b[0m in \u001b[0;36m<module>\u001b[1;34m\u001b[0m\n\u001b[0;32m      2\u001b[0m \u001b[1;31m# подсчёт числа значений 'genre' в этой группировке методом count(),\u001b[0m\u001b[1;33m\u001b[0m\u001b[1;33m\u001b[0m\u001b[1;33m\u001b[0m\u001b[0m\n\u001b[0;32m      3\u001b[0m \u001b[1;31m# сортировка получившегося Series в порядке убывания и сохранение в spb_genres\u001b[0m\u001b[1;33m\u001b[0m\u001b[1;33m\u001b[0m\u001b[1;33m\u001b[0m\u001b[0m\n\u001b[1;32m----> 4\u001b[1;33m \u001b[0mspb_genres\u001b[0m \u001b[1;33m=\u001b[0m \u001b[0mspb_general\u001b[0m\u001b[1;33m.\u001b[0m\u001b[0mgroupby\u001b[0m\u001b[1;33m(\u001b[0m\u001b[1;34m'genre'\u001b[0m\u001b[1;33m)\u001b[0m\u001b[1;33m.\u001b[0m\u001b[0mgenre\u001b[0m\u001b[1;33m.\u001b[0m\u001b[0mcount\u001b[0m\u001b[1;33m(\u001b[0m\u001b[1;33m)\u001b[0m\u001b[1;33m.\u001b[0m\u001b[0msort_values\u001b[0m\u001b[1;33m(\u001b[0m \u001b[0mascending\u001b[0m\u001b[1;33m=\u001b[0m\u001b[1;32mFalse\u001b[0m \u001b[1;33m)\u001b[0m\u001b[1;33m\u001b[0m\u001b[1;33m\u001b[0m\u001b[0m\n\u001b[0m",
      "\u001b[1;31mNameError\u001b[0m: name 'spb_general' is not defined"
     ]
    }
   ],
   "source": [
    "# одной строкой: группировка таблицы spb_general по столбцу 'genre', \n",
    "# подсчёт числа значений 'genre' в этой группировке методом count(), \n",
    "# сортировка получившегося Series в порядке убывания и сохранение в spb_genres\n",
    "spb_genres = spb_general.groupby('genre').genre.count().sort_values( ascending=False )"
   ]
  },
  {
   "cell_type": "markdown",
   "metadata": {
    "id": "5Doha_ODgyQ8"
   },
   "source": [
    "Выведите на экран первые десять строк `spb_genres`:"
   ]
  },
  {
   "cell_type": "code",
   "execution_count": 40,
   "metadata": {
    "id": "uaGJHjVU_Zcv"
   },
   "outputs": [
    {
     "ename": "NameError",
     "evalue": "name 'spb_genres' is not defined",
     "output_type": "error",
     "traceback": [
      "\u001b[1;31m---------------------------------------------------------------------------\u001b[0m",
      "\u001b[1;31mNameError\u001b[0m                                 Traceback (most recent call last)",
      "\u001b[1;32m<ipython-input-40-1237ab3b8c3a>\u001b[0m in \u001b[0;36m<module>\u001b[1;34m\u001b[0m\n\u001b[0;32m      1\u001b[0m \u001b[1;31m# просмотр первых 10 строк spb_genres\u001b[0m\u001b[1;33m\u001b[0m\u001b[1;33m\u001b[0m\u001b[1;33m\u001b[0m\u001b[0m\n\u001b[1;32m----> 2\u001b[1;33m \u001b[0mspb_genres\u001b[0m\u001b[1;33m.\u001b[0m\u001b[0mhead\u001b[0m\u001b[1;33m(\u001b[0m \u001b[1;36m10\u001b[0m \u001b[1;33m)\u001b[0m\u001b[1;33m\u001b[0m\u001b[1;33m\u001b[0m\u001b[0m\n\u001b[0m",
      "\u001b[1;31mNameError\u001b[0m: name 'spb_genres' is not defined"
     ]
    }
   ],
   "source": [
    "# просмотр первых 10 строк spb_genres\n",
    "spb_genres.head( 10 )"
   ]
  },
  {
   "cell_type": "markdown",
   "metadata": {
    "id": "RY51YJYu_Zcv"
   },
   "source": [
    "**Выводы**"
   ]
  },
  {
   "cell_type": "markdown",
   "metadata": {
    "id": "nVhnJEm__Zcv"
   },
   "source": [
    "Гипотеза частично подтвердилась:\n",
    "* Поп-музыка — самый популярный жанр в Москве, как и предполагала гипотеза. Более того, в топ-10 жанров встречается близкий жанр — русская популярная музыка.\n",
    "* Вопреки ожиданиям, рэп одинаково популярен в Москве и Петербурге. \n"
   ]
  },
  {
   "cell_type": "markdown",
   "metadata": {
    "id": "ykKQ0N65_Zcv"
   },
   "source": [
    "## Итоги исследования"
   ]
  },
  {
   "cell_type": "markdown",
   "metadata": {
    "id": "tjUwbHb3_Zcv"
   },
   "source": [
    "Вы проверили три гипотезы и установили:\n",
    "\n",
    "1. День недели по-разному влияет на активность пользователей в Москве и Петербурге. \n",
    "\n",
    "Первая гипотеза полностью подтвердилась.\n",
    "\n",
    "2. Музыкальные предпочтения не сильно меняются в течение недели — будь то Москва или Петербург. Небольшие различия заметны в начале недели, по понедельникам:\n",
    "* в Москве слушают музыку жанра “world”,\n",
    "* в Петербурге — джаз и классику.\n",
    "\n",
    "Таким образом, вторая гипотеза подтвердилась лишь отчасти. Этот результат мог оказаться иным, если бы не пропуски в данных.\n",
    "\n",
    "3. Во вкусах пользователей Москвы и Петербурга больше общего чем различий. Вопреки ожиданиям, предпочтения жанров в Петербурге напоминают московские.\n",
    "\n",
    "Третья гипотеза не подтвердилась. Если различия в предпочтениях и существуют, на основной массе пользователей они незаметны.\n",
    "\n",
    "**На практике исследования содержат проверки статистических гипотез.**\n",
    "Из данных одного сервиса не всегда можно сделать вывод о всех жителях города.\n",
    "Проверки статистических гипотез покажут, насколько они достоверны, исходя из имеющихся данных. \n",
    "С методами проверок гипотез вы ещё познакомитесь в следующих темах."
   ]
  },
  {
   "cell_type": "code",
   "execution_count": 40,
   "metadata": {
    "collapsed": false,
    "pycharm": {
     "name": "#%%"
    }
   },
   "outputs": [],
   "source": []
  }
 ],
 "metadata": {
  "ExecuteTimeLog": [
   {
    "duration": 735,
    "start_time": "2022-01-22T17:34:39.294Z"
   },
   {
    "duration": 2040,
    "start_time": "2022-01-22T17:34:42.173Z"
   },
   {
    "duration": -411,
    "start_time": "2022-01-22T17:34:44.626Z"
   },
   {
    "duration": 628,
    "start_time": "2022-01-22T17:34:55.053Z"
   },
   {
    "duration": 24,
    "start_time": "2022-01-22T17:34:58.940Z"
   },
   {
    "duration": 15,
    "start_time": "2022-01-22T17:35:05.340Z"
   },
   {
    "duration": 4,
    "start_time": "2022-01-22T17:35:17.341Z"
   },
   {
    "duration": 12,
    "start_time": "2022-01-22T17:35:26.573Z"
   },
   {
    "duration": 31,
    "start_time": "2022-01-22T17:35:29.405Z"
   },
   {
    "duration": 6,
    "start_time": "2022-01-22T17:36:07.893Z"
   },
   {
    "duration": 39,
    "start_time": "2022-01-22T17:36:50.125Z"
   },
   {
    "duration": 73,
    "start_time": "2022-01-22T17:37:40.070Z"
   },
   {
    "duration": 272,
    "start_time": "2022-01-22T17:38:19.085Z"
   },
   {
    "duration": 55,
    "start_time": "2022-01-22T17:38:22.164Z"
   },
   {
    "duration": 6,
    "start_time": "2022-01-22T17:38:23.998Z"
   },
   {
    "duration": 97,
    "start_time": "2022-01-22T17:39:06.222Z"
   },
   {
    "duration": 5,
    "start_time": "2022-01-22T17:39:08.078Z"
   },
   {
    "duration": 62,
    "start_time": "2022-01-22T17:39:41.357Z"
   },
   {
    "duration": 5,
    "start_time": "2022-01-22T17:39:42.014Z"
   },
   {
    "duration": 6,
    "start_time": "2022-01-22T17:39:44.045Z"
   },
   {
    "duration": 20,
    "start_time": "2022-01-22T17:39:57.149Z"
   },
   {
    "duration": 5,
    "start_time": "2022-01-22T17:40:00.653Z"
   },
   {
    "duration": 31,
    "start_time": "2022-01-22T17:40:06.957Z"
   },
   {
    "duration": 5,
    "start_time": "2022-01-22T17:40:17.740Z"
   },
   {
    "duration": 6,
    "start_time": "2022-01-22T17:40:37.350Z"
   },
   {
    "duration": 45,
    "start_time": "2022-01-22T17:41:30.861Z"
   },
   {
    "duration": 3,
    "start_time": "2022-01-22T17:42:03.485Z"
   },
   {
    "duration": 3,
    "start_time": "2022-01-22T17:42:10.928Z"
   },
   {
    "duration": 7811,
    "start_time": "2022-01-22T17:43:32.405Z"
   },
   {
    "duration": -403,
    "start_time": "2022-01-22T17:43:40.622Z"
   },
   {
    "duration": 26,
    "start_time": "2022-01-22T17:43:59.245Z"
   },
   {
    "duration": 30,
    "start_time": "2022-01-22T17:44:08.013Z"
   },
   {
    "duration": 21,
    "start_time": "2022-01-22T17:44:26.622Z"
   },
   {
    "duration": 29,
    "start_time": "2022-01-22T17:44:27.678Z"
   },
   {
    "duration": 4084,
    "start_time": "2022-01-22T17:44:49.597Z"
   },
   {
    "duration": -567,
    "start_time": "2022-01-22T17:44:54.251Z"
   },
   {
    "duration": 4475,
    "start_time": "2022-01-22T17:45:08.238Z"
   },
   {
    "duration": 3926,
    "start_time": "2022-01-22T17:45:14.765Z"
   },
   {
    "duration": 3,
    "start_time": "2022-01-22T17:45:48.048Z"
   },
   {
    "duration": 205,
    "start_time": "2022-01-22T17:45:48.054Z"
   },
   {
    "duration": 17,
    "start_time": "2022-01-22T17:45:48.262Z"
   },
   {
    "duration": 51,
    "start_time": "2022-01-22T17:45:48.282Z"
   },
   {
    "duration": 4,
    "start_time": "2022-01-22T17:45:48.336Z"
   },
   {
    "duration": 23,
    "start_time": "2022-01-22T17:45:48.342Z"
   },
   {
    "duration": 4,
    "start_time": "2022-01-22T17:45:48.367Z"
   },
   {
    "duration": 67,
    "start_time": "2022-01-22T17:45:48.373Z"
   },
   {
    "duration": 3,
    "start_time": "2022-01-22T17:45:56.221Z"
   },
   {
    "duration": 167,
    "start_time": "2022-01-22T17:45:56.232Z"
   },
   {
    "duration": 22,
    "start_time": "2022-01-22T17:45:56.401Z"
   },
   {
    "duration": 29,
    "start_time": "2022-01-22T17:45:56.426Z"
   },
   {
    "duration": 6,
    "start_time": "2022-01-22T17:45:56.458Z"
   },
   {
    "duration": 24,
    "start_time": "2022-01-22T17:45:56.467Z"
   },
   {
    "duration": 5,
    "start_time": "2022-01-22T17:45:56.524Z"
   },
   {
    "duration": 29,
    "start_time": "2022-01-22T17:45:56.531Z"
   },
   {
    "duration": 3837,
    "start_time": "2022-01-22T17:46:53.437Z"
   },
   {
    "duration": 11,
    "start_time": "2022-01-22T17:47:00.653Z"
   },
   {
    "duration": 3487,
    "start_time": "2022-01-22T17:47:09.277Z"
   },
   {
    "duration": -395,
    "start_time": "2022-01-22T17:47:13.161Z"
   },
   {
    "duration": 9,
    "start_time": "2022-01-22T17:47:15.164Z"
   },
   {
    "duration": 3604,
    "start_time": "2022-01-22T17:47:35.019Z"
   },
   {
    "duration": 10,
    "start_time": "2022-01-22T17:47:45.180Z"
   },
   {
    "duration": 287,
    "start_time": "2022-01-22T17:47:50.468Z"
   },
   {
    "duration": 4,
    "start_time": "2022-01-22T17:47:57.452Z"
   },
   {
    "duration": 181,
    "start_time": "2022-01-22T17:47:59.932Z"
   },
   {
    "duration": 15,
    "start_time": "2022-01-22T17:48:00.668Z"
   },
   {
    "duration": 30,
    "start_time": "2022-01-22T17:48:02.884Z"
   },
   {
    "duration": 6,
    "start_time": "2022-01-22T17:48:06.556Z"
   },
   {
    "duration": 19,
    "start_time": "2022-01-22T17:48:09.340Z"
   },
   {
    "duration": 6,
    "start_time": "2022-01-22T17:48:11.181Z"
   },
   {
    "duration": 31,
    "start_time": "2022-01-22T17:48:12.700Z"
   },
   {
    "duration": 22,
    "start_time": "2022-01-22T17:48:14.364Z"
   },
   {
    "duration": 44,
    "start_time": "2022-01-22T17:48:16.020Z"
   },
   {
    "duration": 20,
    "start_time": "2022-01-22T17:48:24.652Z"
   },
   {
    "duration": 28,
    "start_time": "2022-01-22T17:48:26.567Z"
   },
   {
    "duration": 263,
    "start_time": "2022-01-22T17:48:42.365Z"
   },
   {
    "duration": 103,
    "start_time": "2022-01-22T17:48:47.693Z"
   },
   {
    "duration": 75,
    "start_time": "2022-01-22T17:48:50.140Z"
   },
   {
    "duration": 102,
    "start_time": "2022-01-22T17:49:07.249Z"
   },
   {
    "duration": 86,
    "start_time": "2022-01-22T17:49:32.437Z"
   },
   {
    "duration": 3,
    "start_time": "2022-01-22T17:49:36.236Z"
   },
   {
    "duration": 73,
    "start_time": "2022-01-22T17:49:46.396Z"
   },
   {
    "duration": 7,
    "start_time": "2022-01-22T17:50:40.109Z"
   },
   {
    "duration": 3,
    "start_time": "2022-01-22T17:52:01.557Z"
   },
   {
    "duration": 84,
    "start_time": "2022-01-22T17:52:18.844Z"
   },
   {
    "duration": 57,
    "start_time": "2022-01-22T17:52:30.283Z"
   },
   {
    "duration": 52,
    "start_time": "2022-01-22T17:52:45.852Z"
   },
   {
    "duration": 59,
    "start_time": "2022-01-22T17:52:50.942Z"
   },
   {
    "duration": 6,
    "start_time": "2022-01-22T17:55:30.447Z"
   },
   {
    "duration": 531,
    "start_time": "2022-01-22T17:56:53.668Z"
   },
   {
    "duration": 4,
    "start_time": "2022-01-22T17:59:26.885Z"
   },
   {
    "duration": 596,
    "start_time": "2022-01-22T17:59:28.084Z"
   },
   {
    "duration": 5,
    "start_time": "2022-01-22T17:59:38.237Z"
   },
   {
    "duration": 85,
    "start_time": "2022-01-22T17:59:39.100Z"
   },
   {
    "duration": 3,
    "start_time": "2022-01-22T17:59:43.614Z"
   },
   {
    "duration": 53,
    "start_time": "2022-01-22T17:59:55.704Z"
   },
   {
    "duration": 3,
    "start_time": "2022-01-22T18:01:16.958Z"
   },
   {
    "duration": 76,
    "start_time": "2022-01-22T18:01:18.540Z"
   },
   {
    "duration": 51,
    "start_time": "2022-01-22T18:01:21.213Z"
   },
   {
    "duration": 49,
    "start_time": "2022-01-22T18:01:25.180Z"
   },
   {
    "duration": 120,
    "start_time": "2022-01-22T18:01:32.641Z"
   },
   {
    "duration": 4,
    "start_time": "2022-01-22T18:01:49.324Z"
   },
   {
    "duration": 106,
    "start_time": "2022-01-22T18:01:50.828Z"
   },
   {
    "duration": 89,
    "start_time": "2022-01-22T18:01:53.012Z"
   },
   {
    "duration": 77,
    "start_time": "2022-01-22T18:01:56.212Z"
   },
   {
    "duration": 4,
    "start_time": "2022-01-22T18:02:04.604Z"
   },
   {
    "duration": 88,
    "start_time": "2022-01-22T18:02:05.819Z"
   },
   {
    "duration": 89,
    "start_time": "2022-01-22T18:02:07.037Z"
   },
   {
    "duration": 797,
    "start_time": "2022-01-22T18:02:16.760Z"
   },
   {
    "duration": 172,
    "start_time": "2022-01-22T18:02:17.559Z"
   },
   {
    "duration": 25,
    "start_time": "2022-01-22T18:02:17.733Z"
   },
   {
    "duration": 33,
    "start_time": "2022-01-22T18:02:17.761Z"
   },
   {
    "duration": 30,
    "start_time": "2022-01-22T18:02:17.796Z"
   },
   {
    "duration": 25,
    "start_time": "2022-01-22T18:02:17.828Z"
   },
   {
    "duration": 5,
    "start_time": "2022-01-22T18:02:17.855Z"
   },
   {
    "duration": 29,
    "start_time": "2022-01-22T18:02:17.863Z"
   },
   {
    "duration": 47,
    "start_time": "2022-01-22T18:02:17.895Z"
   },
   {
    "duration": 27,
    "start_time": "2022-01-22T18:02:17.945Z"
   },
   {
    "duration": 105,
    "start_time": "2022-01-22T18:02:17.974Z"
   },
   {
    "duration": 95,
    "start_time": "2022-01-22T18:02:18.082Z"
   },
   {
    "duration": 79,
    "start_time": "2022-01-22T18:02:18.179Z"
   },
   {
    "duration": 63,
    "start_time": "2022-01-22T18:02:18.260Z"
   },
   {
    "duration": 4,
    "start_time": "2022-01-22T18:02:18.325Z"
   },
   {
    "duration": 98,
    "start_time": "2022-01-22T18:02:18.331Z"
   },
   {
    "duration": 52,
    "start_time": "2022-01-22T18:02:18.432Z"
   },
   {
    "duration": 3,
    "start_time": "2022-01-22T18:02:18.487Z"
   },
   {
    "duration": 9,
    "start_time": "2022-01-22T18:02:18.492Z"
   },
   {
    "duration": 21,
    "start_time": "2022-01-22T18:02:18.503Z"
   },
   {
    "duration": 5,
    "start_time": "2022-01-22T18:02:18.526Z"
   },
   {
    "duration": 6,
    "start_time": "2022-01-22T18:02:18.533Z"
   },
   {
    "duration": 8,
    "start_time": "2022-01-22T18:02:18.544Z"
   },
   {
    "duration": 4,
    "start_time": "2022-01-22T18:02:18.555Z"
   },
   {
    "duration": 5,
    "start_time": "2022-01-22T18:02:18.561Z"
   },
   {
    "duration": 5,
    "start_time": "2022-01-22T18:02:18.568Z"
   },
   {
    "duration": 4,
    "start_time": "2022-01-22T18:02:18.575Z"
   },
   {
    "duration": 3,
    "start_time": "2022-01-22T18:02:18.623Z"
   },
   {
    "duration": 4,
    "start_time": "2022-01-22T18:02:18.629Z"
   },
   {
    "duration": 4,
    "start_time": "2022-01-22T18:02:18.636Z"
   },
   {
    "duration": 8,
    "start_time": "2022-01-22T18:02:18.642Z"
   },
   {
    "duration": 6,
    "start_time": "2022-01-22T18:02:18.653Z"
   },
   {
    "duration": 7,
    "start_time": "2022-01-22T18:02:18.662Z"
   },
   {
    "duration": 5,
    "start_time": "2022-01-22T18:02:18.671Z"
   },
   {
    "duration": 44,
    "start_time": "2022-01-22T18:02:18.679Z"
   },
   {
    "duration": 6,
    "start_time": "2022-01-22T18:02:18.725Z"
   },
   {
    "duration": 5,
    "start_time": "2022-01-22T18:02:18.733Z"
   },
   {
    "duration": 5,
    "start_time": "2022-01-22T18:02:18.741Z"
   },
   {
    "duration": 3,
    "start_time": "2022-01-22T18:02:42.233Z"
   },
   {
    "duration": 78,
    "start_time": "2022-01-22T18:02:44.266Z"
   },
   {
    "duration": 51,
    "start_time": "2022-01-22T18:02:45.253Z"
   },
   {
    "duration": 4,
    "start_time": "2022-01-22T18:03:09.289Z"
   },
   {
    "duration": 620,
    "start_time": "2022-01-22T18:03:10.425Z"
   },
   {
    "duration": 4,
    "start_time": "2022-01-22T18:03:27.770Z"
   },
   {
    "duration": 284,
    "start_time": "2022-01-22T18:03:28.993Z"
   },
   {
    "duration": 80,
    "start_time": "2022-01-22T18:03:41.498Z"
   },
   {
    "duration": 54,
    "start_time": "2022-01-22T18:03:43.289Z"
   },
   {
    "duration": 3,
    "start_time": "2022-01-22T18:04:52.842Z"
   },
   {
    "duration": 557,
    "start_time": "2022-01-22T18:04:53.818Z"
   },
   {
    "duration": 58,
    "start_time": "2022-01-22T18:04:55.354Z"
   },
   {
    "duration": 5,
    "start_time": "2022-01-22T18:05:08.041Z"
   },
   {
    "duration": 98,
    "start_time": "2022-01-22T18:05:09.066Z"
   },
   {
    "duration": 58,
    "start_time": "2022-01-22T18:05:11.357Z"
   },
   {
    "duration": 4,
    "start_time": "2022-01-22T18:06:35.801Z"
   },
   {
    "duration": 13,
    "start_time": "2022-01-22T18:06:36.729Z"
   },
   {
    "duration": 56,
    "start_time": "2022-01-22T18:06:37.722Z"
   },
   {
    "duration": 4,
    "start_time": "2022-01-22T18:06:49.241Z"
   },
   {
    "duration": 14,
    "start_time": "2022-01-22T18:06:53.290Z"
   },
   {
    "duration": 58,
    "start_time": "2022-01-22T18:06:55.723Z"
   },
   {
    "duration": 14,
    "start_time": "2022-01-22T18:10:06.001Z"
   },
   {
    "duration": 14,
    "start_time": "2022-01-22T18:10:44.169Z"
   },
   {
    "duration": 680,
    "start_time": "2022-01-22T18:14:45.546Z"
   },
   {
    "duration": 4,
    "start_time": "2022-01-22T18:15:17.412Z"
   },
   {
    "duration": 6,
    "start_time": "2022-01-22T18:16:12.261Z"
   },
   {
    "duration": 19,
    "start_time": "2022-01-22T18:16:45.258Z"
   },
   {
    "duration": 17,
    "start_time": "2022-01-22T18:18:47.721Z"
   },
   {
    "duration": 14,
    "start_time": "2022-01-22T18:18:49.548Z"
   },
   {
    "duration": 16,
    "start_time": "2022-01-22T18:18:56.873Z"
   },
   {
    "duration": 19,
    "start_time": "2022-01-22T18:20:24.721Z"
   },
   {
    "duration": 19,
    "start_time": "2022-01-22T18:20:25.201Z"
   },
   {
    "duration": 18,
    "start_time": "2022-01-22T18:20:25.682Z"
   },
   {
    "duration": 294,
    "start_time": "2022-01-22T18:25:13.562Z"
   },
   {
    "duration": 314,
    "start_time": "2022-01-22T18:25:23.835Z"
   },
   {
    "duration": 83,
    "start_time": "2022-01-22T18:26:24.234Z"
   },
   {
    "duration": 105,
    "start_time": "2022-01-22T18:26:41.658Z"
   },
   {
    "duration": 14,
    "start_time": "2022-01-22T18:31:23.538Z"
   },
   {
    "duration": 12,
    "start_time": "2022-01-22T18:31:23.900Z"
   },
   {
    "duration": 34,
    "start_time": "2022-01-22T18:31:34.938Z"
   },
   {
    "duration": 15,
    "start_time": "2022-01-22T18:31:42.318Z"
   },
   {
    "duration": 6,
    "start_time": "2022-01-22T18:38:13.942Z"
   },
   {
    "duration": 24,
    "start_time": "2022-01-22T18:38:38.042Z"
   },
   {
    "duration": 5,
    "start_time": "2022-01-22T18:38:55.412Z"
   },
   {
    "duration": 24,
    "start_time": "2022-01-22T18:38:56.571Z"
   },
   {
    "duration": 5,
    "start_time": "2022-01-22T18:39:06.500Z"
   },
   {
    "duration": 6,
    "start_time": "2022-01-22T18:39:47.764Z"
   },
   {
    "duration": 25,
    "start_time": "2022-01-22T18:39:48.635Z"
   },
   {
    "duration": 32,
    "start_time": "2022-01-22T18:40:07.035Z"
   },
   {
    "duration": 30,
    "start_time": "2022-01-22T18:41:14.155Z"
   },
   {
    "duration": 23,
    "start_time": "2022-01-22T18:41:14.875Z"
   },
   {
    "duration": 22,
    "start_time": "2022-01-22T18:41:15.499Z"
   },
   {
    "duration": 18,
    "start_time": "2022-01-22T18:41:16.204Z"
   },
   {
    "duration": 18,
    "start_time": "2022-01-22T18:41:53.194Z"
   },
   {
    "duration": 12,
    "start_time": "2022-01-22T18:43:26.796Z"
   },
   {
    "duration": 6,
    "start_time": "2022-01-22T18:43:35.515Z"
   },
   {
    "duration": 11,
    "start_time": "2022-01-22T18:43:46.002Z"
   },
   {
    "duration": 11,
    "start_time": "2022-01-22T18:43:52.010Z"
   },
   {
    "duration": 7,
    "start_time": "2022-01-22T18:43:53.103Z"
   },
   {
    "duration": 8,
    "start_time": "2022-01-22T18:44:15.643Z"
   },
   {
    "duration": 5,
    "start_time": "2022-01-22T18:44:31.531Z"
   },
   {
    "duration": 8,
    "start_time": "2022-01-22T18:44:33.131Z"
   },
   {
    "duration": 6,
    "start_time": "2022-01-22T18:44:33.738Z"
   }
  ],
  "colab": {
   "collapsed_sections": [
    "E0vqbgi9ay0H",
    "VUC88oWjTJw2"
   ],
   "name": "yandex_music_project_2021.2.ipynb",
   "provenance": []
  },
  "kernelspec": {
   "display_name": "base",
   "language": "python",
   "name": "python3"
  },
  "language_info": {
   "codemirror_mode": {
    "name": "ipython",
    "version": 3
   },
   "file_extension": ".py",
   "mimetype": "text/x-python",
   "name": "python",
   "nbconvert_exporter": "python",
   "pygments_lexer": "ipython3",
   "version": "3.9.7"
  },
  "toc": {
   "base_numbering": 1,
   "nav_menu": {},
   "number_sections": true,
   "sideBar": true,
   "skip_h1_title": true,
   "title_cell": "Table of Contents",
   "title_sidebar": "Contents",
   "toc_cell": false,
   "toc_position": {},
   "toc_section_display": true,
   "toc_window_display": true
  }
 },
 "nbformat": 4,
 "nbformat_minor": 1
}
