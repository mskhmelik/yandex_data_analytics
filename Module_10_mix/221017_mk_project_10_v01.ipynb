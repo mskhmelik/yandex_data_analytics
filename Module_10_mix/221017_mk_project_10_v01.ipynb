{
 "cells": [
  {
   "cell_type": "markdown",
   "metadata": {},
   "source": [
    "# Проект 10 - Эксперименты с шрифтами мобильного приложения\n",
    "\n",
    "## Введение\n",
    "\n",
    "**Описание проекта**\n",
    "\n",
    "Мы работаетем в стартапе, который продаёт продукты питания. Нужно разобраться, как ведут себя пользователи вашего мобильного приложения. Посмотрим воронку продаж: сколько пользователей доходит до покупки, а сколько — «застревает» на предыдущих шагах? На каких именно?\n",
    "\n",
    "После этого исследуем результаты A/A/B-эксперимента. Дизайнеры захотели поменять шрифты во всём приложении, а менеджеры испугались, что пользователям будет непривычно. Договорились принять решение по результатам A/A/B-теста. Пользователей разбили на 3 группы: 2 контрольные `246` и `247` со старыми шрифтами и одну экспериментальную `248` — с новыми. Выясним, какой шрифт лучше.\n",
    "\n",
    "**Описание данных**\n",
    "\n",
    "Таблица `logs_exp.csv`:\n",
    "\n",
    "1. `EventName` — название события\n",
    "2. `DeviceIDHash` — уникальный идентификатор пользователя\n",
    "3. `EventTimestamp` — время события\n",
    "4. `ExpId` — номер эксперимента"
   ]
  },
  {
   "cell_type": "code",
   "execution_count": 18,
   "metadata": {},
   "outputs": [],
   "source": [
    "import pandas as pd\n",
    "import numpy as np\n",
    "import math as mth\n",
    "import matplotlib.pyplot as plt\n",
    "import seaborn as sns\n",
    "from scipy import stats as st\n",
    "from datetime import date, timedelta\n",
    "from IPython.display import display\n",
    "plt.style.use('default')\n",
    "\n",
    "# Save raw datasets in case we need them\n",
    "try:\n",
    "    raw_logs = pd.read_csv('logs_exp.csv', sep='\\t')\n",
    "except:\n",
    "    raw_logs = pd.read_csv('/datasets/logs_exp.csv', sep='\\t')\n",
    "\n",
    "# Constants, which we will need later\n",
    "FIG_WIDTH = 10\n",
    "FIG_HEIGHT = 5\n"
   ]
  },
  {
   "cell_type": "markdown",
   "metadata": {},
   "source": [
    "## Предобработка данных\n",
    "\n",
    "Для начала проверим какие данные нам достались. Нас интересуют:\n",
    "\n",
    "1. Названия колонок.\n",
    "2. Артефакты в данных.\n",
    "3. Типы данных.\n",
    "\n",
    "Пойдем по порядку."
   ]
  },
  {
   "cell_type": "code",
   "execution_count": 19,
   "metadata": {},
   "outputs": [
    {
     "name": "stdout",
     "output_type": "stream",
     "text": [
      "<class 'pandas.core.frame.DataFrame'>\n",
      "RangeIndex: 244126 entries, 0 to 244125\n",
      "Data columns (total 4 columns):\n",
      " #   Column          Non-Null Count   Dtype \n",
      "---  ------          --------------   ----- \n",
      " 0   EventName       244126 non-null  object\n",
      " 1   DeviceIDHash    244126 non-null  int64 \n",
      " 2   EventTimestamp  244126 non-null  int64 \n",
      " 3   ExpId           244126 non-null  int64 \n",
      "dtypes: int64(3), object(1)\n",
      "memory usage: 7.5+ MB\n"
     ]
    }
   ],
   "source": [
    "# Let's have a look inside\n",
    "raw_logs.info()\n"
   ]
  },
  {
   "cell_type": "markdown",
   "metadata": {},
   "source": [
    "У нас не PEP-8 угодные названия колонок, странный формат и тип данных колонки с `timestamp` (unix-time?), а также нам надо добавить отдельный столбец с датой. Поправим это.\n",
    "\n",
    "Есть вероятность, что у нас будут дупликаты в данных. Я думаю, что логично будет их убрать: вряд ли у нас будет уникальный пользователь (судя по `device_id_hash`), который в одно и то же время (до секунд) сделает одно и то же действие, c одного и того же устройства.\n",
    "\n",
    "Наконец, у нас, похоже, нет пропущенных значений в данных, что и хорошо."
   ]
  },
  {
   "cell_type": "code",
   "execution_count": 20,
   "metadata": {},
   "outputs": [
    {
     "name": "stdout",
     "output_type": "stream",
     "text": [
      "Total number of rows in a raw dataset: 244126\n",
      "Total number of rows in a cleaned dataset: 243713\n",
      "Number of deleted duplicates: 0.17 %\n"
     ]
    }
   ],
   "source": [
    "# Time to clean things up a bit\n",
    "df_logs = (\n",
    "    raw_logs\n",
    "    .copy()\n",
    "    .rename(\n",
    "        columns={\n",
    "            'EventName': 'name_event',\n",
    "            'DeviceIDHash': 'id_device',\n",
    "            'EventTimestamp': 'dt_event',\n",
    "            'ExpId': 'id_group'\n",
    "        }\n",
    "    )\n",
    "    .astype({\n",
    "        'name_event': 'object',\n",
    "        'id_device': 'int64',\n",
    "        'dt_event': 'datetime64[s]',\n",
    "        'id_group': 'object'\n",
    "    })\n",
    "    .assign(\n",
    "        name_event = lambda df: df.name_event.str.replace('(?<!^)([A-Z])', r' \\1', regex=True),\n",
    "        date_event = lambda df: pd.to_datetime(df.dt_event, unit='s').dt.date,\n",
    "        id_group = lambda df: df.id_group.replace([246, 247, 248], ['A1', 'A2', 'B'])\n",
    "    )\n",
    "    .drop_duplicates()\n",
    ")\n",
    "\n",
    "print('Total number of rows in a raw dataset:', raw_logs.EventName.count())\n",
    "print('Total number of rows in a cleaned dataset:', df_logs.name_event.count())\n",
    "print('Number of deleted duplicates:',\n",
    "      round(100 - 100 * df_logs.name_event.count() / raw_logs.EventName.count(), 2), '%' )\n"
   ]
  },
  {
   "cell_type": "markdown",
   "metadata": {},
   "source": [
    "0.17% удаленных записей не звучит криминально. Можем переходить к описательному анализу данных."
   ]
  },
  {
   "cell_type": "markdown",
   "metadata": {},
   "source": [
    "## Исследовательский анализ данных\n",
    "\n",
    "Посчитаем некоторую высокоуровневую статистику по нашему датасету. Посмотрим, сколько у нас событий, уникальных пользователей, как они распределены по группам, и прочее."
   ]
  },
  {
   "cell_type": "code",
   "execution_count": 21,
   "metadata": {},
   "outputs": [
    {
     "name": "stdout",
     "output_type": "stream",
     "text": [
      "Total number of events: 243713\n",
      "Total number of unique users: 7551\n",
      "Average # of events per unique user: 32.3\n"
     ]
    }
   ],
   "source": [
    "# Dataset statisitcs\n",
    "print('Total number of events:',\n",
    "      df_logs.name_event.count())\n",
    "print('Total number of unique users:',\n",
    "      df_logs.id_device.nunique())\n",
    "print('Average # of events per unique user:', \n",
    "      round(df_logs.name_event.count() / df_logs.id_device.nunique(), 1))\n"
   ]
  },
  {
   "cell_type": "markdown",
   "metadata": {},
   "source": [
    "Статистика интересная, но прежде, чем делать выводы, надо узнать за какой она период."
   ]
  },
  {
   "cell_type": "code",
   "execution_count": 22,
   "metadata": {},
   "outputs": [
    {
     "name": "stdout",
     "output_type": "stream",
     "text": [
      "Minimum date is 2019-07-25\n",
      "Maximum date is 2019-08-07\n"
     ]
    },
    {
     "data": {
      "image/png": "[encoded data removed]",
      "image/svg+xml": "<?xml version=\"1.0\" encoding=\"utf-8\" standalone=\"no\"?>\r\n<!DOCTYPE svg PUBLIC \"-//W3C//DTD SVG 1.1//EN\"\r\n  \"http://www.w3.org/Graphics/SVG/1.1/DTD/svg11.dtd\">\r\n<svg height=\"352.775625pt\" version=\"1.1\" viewBox=\"0 0 712.69 352.775625\" width=\"712.69pt\" xmlns=\"http://www.w3.org/2000/svg\" xmlns:xlink=\"http://www.w3.org/1999/xlink\">\r\n <metadata>\r\n  <rdf:RDF xmlns:cc=\"http://creativecommons.org/ns#\" xmlns:dc=\"http://purl.org/dc/elements/1.1/\" xmlns:rdf=\"http://www.w3.org/1999/02/22-rdf-syntax-ns#\">\r\n   <cc:Work>\r\n    <dc:type rdf:resource=\"http://purl.org/dc/dcmitype/StillImage\"/>\r\n    <dc:date>2022-10-30T14:29:03.441643</dc:date>\r\n    <dc:format>image/svg+xml</dc:format>\r\n    <dc:creator>\r\n     <cc:Agent>\r\n      <dc:title>Matplotlib v3.4.3, https://matplotlib.org/</dc:title>\r\n     </cc:Agent>\r\n    </dc:creator>\r\n   </cc:Work>\r\n  </rdf:RDF>\r\n </metadata>\r\n <defs>\r\n  <style type=\"text/css\">*{stroke-linecap:butt;stroke-linejoin:round;}</style>\r\n </defs>\r\n <g id=\"figure_1\">\r\n  <g id=\"patch_1\">\r\n   <path d=\"M 0 352.775625 \r\nL 712.69 352.775625 \r\nL 712.69 0 \r\nL 0 0 \r\nz\r\n\" style=\"fill:#ffffff;\"/>\r\n  </g>\r\n  <g id=\"axes_1\">\r\n   <g id=\"patch_2\">\r\n    <path d=\"M 39.65 280.46 \r\nL 705.49 280.46 \r\nL 705.49 7.2 \r\nL 39.65 7.2 \r\nz\r\n\" style=\"fill:#ffffff;\"/>\r\n   </g>\r\n   <g id=\"patch_3\">\r\n    <path clip-path=\"url(#pa887f20762)\" d=\"M 69.915455 280.46 \r\nL 75.968545 280.46 \r\nL 75.968545 280.431392 \r\nL 69.915455 280.431392 \r\nz\r\n\" style=\"fill:#1f77b4;\"/>\r\n   </g>\r\n   <g id=\"patch_4\">\r\n    <path clip-path=\"url(#pa887f20762)\" d=\"M 75.968545 280.46 \r\nL 82.021636 280.46 \r\nL 82.021636 280.431392 \r\nL 75.968545 280.431392 \r\nz\r\n\" style=\"fill:#1f77b4;\"/>\r\n   </g>\r\n   <g id=\"patch_5\">\r\n    <path clip-path=\"url(#pa887f20762)\" d=\"M 82.021636 280.46 \r\nL 88.074727 280.46 \r\nL 88.074727 280.345568 \r\nL 82.021636 280.345568 \r\nz\r\n\" style=\"fill:#1f77b4;\"/>\r\n   </g>\r\n   <g id=\"patch_6\">\r\n    <path clip-path=\"url(#pa887f20762)\" d=\"M 88.074727 280.46 \r\nL 94.127818 280.46 \r\nL 94.127818 280.431392 \r\nL 88.074727 280.431392 \r\nz\r\n\" style=\"fill:#1f77b4;\"/>\r\n   </g>\r\n   <g id=\"patch_7\">\r\n    <path clip-path=\"url(#pa887f20762)\" d=\"M 94.127818 280.46 \r\nL 100.180909 280.46 \r\nL 100.180909 280.402784 \r\nL 94.127818 280.402784 \r\nz\r\n\" style=\"fill:#1f77b4;\"/>\r\n   </g>\r\n   <g id=\"patch_8\">\r\n    <path clip-path=\"url(#pa887f20762)\" d=\"M 100.180909 280.46 \r\nL 106.234 280.46 \r\nL 106.234 280.46 \r\nL 100.180909 280.46 \r\nz\r\n\" style=\"fill:#1f77b4;\"/>\r\n   </g>\r\n   <g id=\"patch_9\">\r\n    <path clip-path=\"url(#pa887f20762)\" d=\"M 106.234 280.46 \r\nL 112.287091 280.46 \r\nL 112.287091 280.431392 \r\nL 106.234 280.431392 \r\nz\r\n\" style=\"fill:#1f77b4;\"/>\r\n   </g>\r\n   <g id=\"patch_10\">\r\n    <path clip-path=\"url(#pa887f20762)\" d=\"M 112.287091 280.46 \r\nL 118.340182 280.46 \r\nL 118.340182 280.374176 \r\nL 112.287091 280.374176 \r\nz\r\n\" style=\"fill:#1f77b4;\"/>\r\n   </g>\r\n   <g id=\"patch_11\">\r\n    <path clip-path=\"url(#pa887f20762)\" d=\"M 118.340182 280.46 \r\nL 124.393273 280.46 \r\nL 124.393273 280.402784 \r\nL 118.340182 280.402784 \r\nz\r\n\" style=\"fill:#1f77b4;\"/>\r\n   </g>\r\n   <g id=\"patch_12\">\r\n    <path clip-path=\"url(#pa887f20762)\" d=\"M 124.393273 280.46 \r\nL 130.446364 280.46 \r\nL 130.446364 280.374176 \r\nL 124.393273 280.374176 \r\nz\r\n\" style=\"fill:#1f77b4;\"/>\r\n   </g>\r\n   <g id=\"patch_13\">\r\n    <path clip-path=\"url(#pa887f20762)\" d=\"M 130.446364 280.46 \r\nL 136.499455 280.46 \r\nL 136.499455 280.231135 \r\nL 130.446364 280.231135 \r\nz\r\n\" style=\"fill:#1f77b4;\"/>\r\n   </g>\r\n   <g id=\"patch_14\">\r\n    <path clip-path=\"url(#pa887f20762)\" d=\"M 136.499455 280.46 \r\nL 142.552545 280.46 \r\nL 142.552545 280.088095 \r\nL 136.499455 280.088095 \r\nz\r\n\" style=\"fill:#1f77b4;\"/>\r\n   </g>\r\n   <g id=\"patch_15\">\r\n    <path clip-path=\"url(#pa887f20762)\" d=\"M 142.552545 280.46 \r\nL 148.605636 280.46 \r\nL 148.605636 280.46 \r\nL 142.552545 280.46 \r\nz\r\n\" style=\"fill:#1f77b4;\"/>\r\n   </g>\r\n   <g id=\"patch_16\">\r\n    <path clip-path=\"url(#pa887f20762)\" d=\"M 148.605636 280.46 \r\nL 154.658727 280.46 \r\nL 154.658727 280.431392 \r\nL 148.605636 280.431392 \r\nz\r\n\" style=\"fill:#1f77b4;\"/>\r\n   </g>\r\n   <g id=\"patch_17\">\r\n    <path clip-path=\"url(#pa887f20762)\" d=\"M 154.658727 280.46 \r\nL 160.711818 280.46 \r\nL 160.711818 280.431392 \r\nL 154.658727 280.431392 \r\nz\r\n\" style=\"fill:#1f77b4;\"/>\r\n   </g>\r\n   <g id=\"patch_18\">\r\n    <path clip-path=\"url(#pa887f20762)\" d=\"M 160.711818 280.46 \r\nL 166.764909 280.46 \r\nL 166.764909 280.088095 \r\nL 160.711818 280.088095 \r\nz\r\n\" style=\"fill:#1f77b4;\"/>\r\n   </g>\r\n   <g id=\"patch_19\">\r\n    <path clip-path=\"url(#pa887f20762)\" d=\"M 166.764909 280.46 \r\nL 172.818 280.46 \r\nL 172.818 280.030879 \r\nL 166.764909 280.030879 \r\nz\r\n\" style=\"fill:#1f77b4;\"/>\r\n   </g>\r\n   <g id=\"patch_20\">\r\n    <path clip-path=\"url(#pa887f20762)\" d=\"M 172.818 280.46 \r\nL 178.871091 280.46 \r\nL 178.871091 280.231135 \r\nL 172.818 280.231135 \r\nz\r\n\" style=\"fill:#1f77b4;\"/>\r\n   </g>\r\n   <g id=\"patch_21\">\r\n    <path clip-path=\"url(#pa887f20762)\" d=\"M 178.871091 280.46 \r\nL 184.924182 280.46 \r\nL 184.924182 280.030879 \r\nL 178.871091 280.030879 \r\nz\r\n\" style=\"fill:#1f77b4;\"/>\r\n   </g>\r\n   <g id=\"patch_22\">\r\n    <path clip-path=\"url(#pa887f20762)\" d=\"M 184.924182 280.46 \r\nL 190.977273 280.46 \r\nL 190.977273 280.402784 \r\nL 184.924182 280.402784 \r\nz\r\n\" style=\"fill:#1f77b4;\"/>\r\n   </g>\r\n   <g id=\"patch_23\">\r\n    <path clip-path=\"url(#pa887f20762)\" d=\"M 190.977273 280.46 \r\nL 197.030364 280.46 \r\nL 197.030364 280.431392 \r\nL 190.977273 280.431392 \r\nz\r\n\" style=\"fill:#1f77b4;\"/>\r\n   </g>\r\n   <g id=\"patch_24\">\r\n    <path clip-path=\"url(#pa887f20762)\" d=\"M 197.030364 280.46 \r\nL 203.083455 280.46 \r\nL 203.083455 280.173919 \r\nL 197.030364 280.173919 \r\nz\r\n\" style=\"fill:#1f77b4;\"/>\r\n   </g>\r\n   <g id=\"patch_25\">\r\n    <path clip-path=\"url(#pa887f20762)\" d=\"M 203.083455 280.46 \r\nL 209.136545 280.46 \r\nL 209.136545 280.088095 \r\nL 203.083455 280.088095 \r\nz\r\n\" style=\"fill:#1f77b4;\"/>\r\n   </g>\r\n   <g id=\"patch_26\">\r\n    <path clip-path=\"url(#pa887f20762)\" d=\"M 209.136545 280.46 \r\nL 215.189636 280.46 \r\nL 215.189636 280.202527 \r\nL 209.136545 280.202527 \r\nz\r\n\" style=\"fill:#1f77b4;\"/>\r\n   </g>\r\n   <g id=\"patch_27\">\r\n    <path clip-path=\"url(#pa887f20762)\" d=\"M 215.189636 280.46 \r\nL 221.242727 280.46 \r\nL 221.242727 279.544542 \r\nL 215.189636 279.544542 \r\nz\r\n\" style=\"fill:#1f77b4;\"/>\r\n   </g>\r\n   <g id=\"patch_28\">\r\n    <path clip-path=\"url(#pa887f20762)\" d=\"M 221.242727 280.46 \r\nL 227.295818 280.46 \r\nL 227.295818 279.687582 \r\nL 221.242727 279.687582 \r\nz\r\n\" style=\"fill:#1f77b4;\"/>\r\n   </g>\r\n   <g id=\"patch_29\">\r\n    <path clip-path=\"url(#pa887f20762)\" d=\"M 227.295818 280.46 \r\nL 233.348909 280.46 \r\nL 233.348909 280.088095 \r\nL 227.295818 280.088095 \r\nz\r\n\" style=\"fill:#1f77b4;\"/>\r\n   </g>\r\n   <g id=\"patch_30\">\r\n    <path clip-path=\"url(#pa887f20762)\" d=\"M 233.348909 280.46 \r\nL 239.402 280.46 \r\nL 239.402 280.431392 \r\nL 233.348909 280.431392 \r\nz\r\n\" style=\"fill:#1f77b4;\"/>\r\n   </g>\r\n   <g id=\"patch_31\">\r\n    <path clip-path=\"url(#pa887f20762)\" d=\"M 239.402 280.46 \r\nL 245.455091 280.46 \r\nL 245.455091 280.402784 \r\nL 239.402 280.402784 \r\nz\r\n\" style=\"fill:#1f77b4;\"/>\r\n   </g>\r\n   <g id=\"patch_32\">\r\n    <path clip-path=\"url(#pa887f20762)\" d=\"M 245.455091 280.46 \r\nL 251.508182 280.46 \r\nL 251.508182 280.231135 \r\nL 245.455091 280.231135 \r\nz\r\n\" style=\"fill:#1f77b4;\"/>\r\n   </g>\r\n   <g id=\"patch_33\">\r\n    <path clip-path=\"url(#pa887f20762)\" d=\"M 251.508182 280.46 \r\nL 257.561273 280.46 \r\nL 257.561273 279.802014 \r\nL 251.508182 279.802014 \r\nz\r\n\" style=\"fill:#1f77b4;\"/>\r\n   </g>\r\n   <g id=\"patch_34\">\r\n    <path clip-path=\"url(#pa887f20762)\" d=\"M 257.561273 280.46 \r\nL 263.614364 280.46 \r\nL 263.614364 279.601758 \r\nL 257.561273 279.601758 \r\nz\r\n\" style=\"fill:#1f77b4;\"/>\r\n   </g>\r\n   <g id=\"patch_35\">\r\n    <path clip-path=\"url(#pa887f20762)\" d=\"M 263.614364 280.46 \r\nL 269.667455 280.46 \r\nL 269.667455 278.743516 \r\nL 263.614364 278.743516 \r\nz\r\n\" style=\"fill:#1f77b4;\"/>\r\n   </g>\r\n   <g id=\"patch_36\">\r\n    <path clip-path=\"url(#pa887f20762)\" d=\"M 269.667455 280.46 \r\nL 275.720545 280.46 \r\nL 275.720545 278.915164 \r\nL 269.667455 278.915164 \r\nz\r\n\" style=\"fill:#1f77b4;\"/>\r\n   </g>\r\n   <g id=\"patch_37\">\r\n    <path clip-path=\"url(#pa887f20762)\" d=\"M 275.720545 280.46 \r\nL 281.773636 280.46 \r\nL 281.773636 280.259744 \r\nL 275.720545 280.259744 \r\nz\r\n\" style=\"fill:#1f77b4;\"/>\r\n   </g>\r\n   <g id=\"patch_38\">\r\n    <path clip-path=\"url(#pa887f20762)\" d=\"M 281.773636 280.46 \r\nL 287.826727 280.46 \r\nL 287.826727 280.345568 \r\nL 281.773636 280.345568 \r\nz\r\n\" style=\"fill:#1f77b4;\"/>\r\n   </g>\r\n   <g id=\"patch_39\">\r\n    <path clip-path=\"url(#pa887f20762)\" d=\"M 287.826727 280.46 \r\nL 293.879818 280.46 \r\nL 293.879818 279.515934 \r\nL 287.826727 279.515934 \r\nz\r\n\" style=\"fill:#1f77b4;\"/>\r\n   </g>\r\n   <g id=\"patch_40\">\r\n    <path clip-path=\"url(#pa887f20762)\" d=\"M 293.879818 280.46 \r\nL 299.932909 280.46 \r\nL 299.932909 278.886556 \r\nL 293.879818 278.886556 \r\nz\r\n\" style=\"fill:#1f77b4;\"/>\r\n   </g>\r\n   <g id=\"patch_41\">\r\n    <path clip-path=\"url(#pa887f20762)\" d=\"M 299.932909 280.46 \r\nL 305.986 280.46 \r\nL 305.986 277.856666 \r\nL 299.932909 277.856666 \r\nz\r\n\" style=\"fill:#1f77b4;\"/>\r\n   </g>\r\n   <g id=\"patch_42\">\r\n    <path clip-path=\"url(#pa887f20762)\" d=\"M 305.986 280.46 \r\nL 312.039091 280.46 \r\nL 312.039091 277.828057 \r\nL 305.986 277.828057 \r\nz\r\n\" style=\"fill:#1f77b4;\"/>\r\n   </g>\r\n   <g id=\"patch_43\">\r\n    <path clip-path=\"url(#pa887f20762)\" d=\"M 312.039091 280.46 \r\nL 318.092182 280.46 \r\nL 318.092182 277.94249 \r\nL 312.039091 277.94249 \r\nz\r\n\" style=\"fill:#1f77b4;\"/>\r\n   </g>\r\n   <g id=\"patch_44\">\r\n    <path clip-path=\"url(#pa887f20762)\" d=\"M 318.092182 280.46 \r\nL 324.145273 280.46 \r\nL 324.145273 279.229853 \r\nL 318.092182 279.229853 \r\nz\r\n\" style=\"fill:#1f77b4;\"/>\r\n   </g>\r\n   <g id=\"patch_45\">\r\n    <path clip-path=\"url(#pa887f20762)\" d=\"M 324.145273 280.46 \r\nL 330.198364 280.46 \r\nL 330.198364 280.202527 \r\nL 324.145273 280.202527 \r\nz\r\n\" style=\"fill:#1f77b4;\"/>\r\n   </g>\r\n   <g id=\"patch_46\">\r\n    <path clip-path=\"url(#pa887f20762)\" d=\"M 330.198364 280.46 \r\nL 336.251455 280.46 \r\nL 336.251455 279.258461 \r\nL 330.198364 279.258461 \r\nz\r\n\" style=\"fill:#1f77b4;\"/>\r\n   </g>\r\n   <g id=\"patch_47\">\r\n    <path clip-path=\"url(#pa887f20762)\" d=\"M 336.251455 280.46 \r\nL 342.304545 280.46 \r\nL 342.304545 277.227288 \r\nL 336.251455 277.227288 \r\nz\r\n\" style=\"fill:#1f77b4;\"/>\r\n   </g>\r\n   <g id=\"patch_48\">\r\n    <path clip-path=\"url(#pa887f20762)\" d=\"M 342.304545 280.46 \r\nL 348.357636 280.46 \r\nL 348.357636 274.82421 \r\nL 342.304545 274.82421 \r\nz\r\n\" style=\"fill:#1f77b4;\"/>\r\n   </g>\r\n   <g id=\"patch_49\">\r\n    <path clip-path=\"url(#pa887f20762)\" d=\"M 348.357636 280.46 \r\nL 354.410727 280.46 \r\nL 354.410727 272.020619 \r\nL 348.357636 272.020619 \r\nz\r\n\" style=\"fill:#1f77b4;\"/>\r\n   </g>\r\n   <g id=\"patch_50\">\r\n    <path clip-path=\"url(#pa887f20762)\" d=\"M 354.410727 280.46 \r\nL 360.463818 280.46 \r\nL 360.463818 270.103878 \r\nL 354.410727 270.103878 \r\nz\r\n\" style=\"fill:#1f77b4;\"/>\r\n   </g>\r\n   <g id=\"patch_51\">\r\n    <path clip-path=\"url(#pa887f20762)\" d=\"M 360.463818 280.46 \r\nL 366.516909 280.46 \r\nL 366.516909 266.642302 \r\nL 360.463818 266.642302 \r\nz\r\n\" style=\"fill:#1f77b4;\"/>\r\n   </g>\r\n   <g id=\"patch_52\">\r\n    <path clip-path=\"url(#pa887f20762)\" d=\"M 366.516909 280.46 \r\nL 372.57 280.46 \r\nL 372.57 259.661933 \r\nL 366.516909 259.661933 \r\nz\r\n\" style=\"fill:#1f77b4;\"/>\r\n   </g>\r\n   <g id=\"patch_53\">\r\n    <path clip-path=\"url(#pa887f20762)\" d=\"M 372.57 280.46 \r\nL 378.623091 280.46 \r\nL 378.623091 241.553024 \r\nL 372.57 241.553024 \r\nz\r\n\" style=\"fill:#1f77b4;\"/>\r\n   </g>\r\n   <g id=\"patch_54\">\r\n    <path clip-path=\"url(#pa887f20762)\" d=\"M 378.623091 280.46 \r\nL 384.676182 280.46 \r\nL 384.676182 163.338559 \r\nL 378.623091 163.338559 \r\nz\r\n\" style=\"fill:#1f77b4;\"/>\r\n   </g>\r\n   <g id=\"patch_55\">\r\n    <path clip-path=\"url(#pa887f20762)\" d=\"M 384.676182 280.46 \r\nL 390.729273 280.46 \r\nL 390.729273 94.96527 \r\nL 384.676182 94.96527 \r\nz\r\n\" style=\"fill:#1f77b4;\"/>\r\n   </g>\r\n   <g id=\"patch_56\">\r\n    <path clip-path=\"url(#pa887f20762)\" d=\"M 390.729273 280.46 \r\nL 396.782364 280.46 \r\nL 396.782364 52.282028 \r\nL 390.729273 52.282028 \r\nz\r\n\" style=\"fill:#1f77b4;\"/>\r\n   </g>\r\n   <g id=\"patch_57\">\r\n    <path clip-path=\"url(#pa887f20762)\" d=\"M 396.782364 280.46 \r\nL 402.835455 280.46 \r\nL 402.835455 38.664587 \r\nL 396.782364 38.664587 \r\nz\r\n\" style=\"fill:#1f77b4;\"/>\r\n   </g>\r\n   <g id=\"patch_58\">\r\n    <path clip-path=\"url(#pa887f20762)\" d=\"M 402.835455 280.46 \r\nL 408.888545 280.46 \r\nL 408.888545 103.318826 \r\nL 402.835455 103.318826 \r\nz\r\n\" style=\"fill:#1f77b4;\"/>\r\n   </g>\r\n   <g id=\"patch_59\">\r\n    <path clip-path=\"url(#pa887f20762)\" d=\"M 408.888545 280.46 \r\nL 414.941636 280.46 \r\nL 414.941636 240.809214 \r\nL 408.888545 240.809214 \r\nz\r\n\" style=\"fill:#1f77b4;\"/>\r\n   </g>\r\n   <g id=\"patch_60\">\r\n    <path clip-path=\"url(#pa887f20762)\" d=\"M 414.941636 280.46 \r\nL 420.994727 280.46 \r\nL 420.994727 208.167405 \r\nL 414.941636 208.167405 \r\nz\r\n\" style=\"fill:#1f77b4;\"/>\r\n   </g>\r\n   <g id=\"patch_61\">\r\n    <path clip-path=\"url(#pa887f20762)\" d=\"M 420.994727 280.46 \r\nL 427.047818 280.46 \r\nL 427.047818 197.067474 \r\nL 420.994727 197.067474 \r\nz\r\n\" style=\"fill:#1f77b4;\"/>\r\n   </g>\r\n   <g id=\"patch_62\">\r\n    <path clip-path=\"url(#pa887f20762)\" d=\"M 427.047818 280.46 \r\nL 433.100909 280.46 \r\nL 433.100909 102.889705 \r\nL 427.047818 102.889705 \r\nz\r\n\" style=\"fill:#1f77b4;\"/>\r\n   </g>\r\n   <g id=\"patch_63\">\r\n    <path clip-path=\"url(#pa887f20762)\" d=\"M 433.100909 280.46 \r\nL 439.154 280.46 \r\nL 439.154 84.58054 \r\nL 433.100909 84.58054 \r\nz\r\n\" style=\"fill:#1f77b4;\"/>\r\n   </g>\r\n   <g id=\"patch_64\">\r\n    <path clip-path=\"url(#pa887f20762)\" d=\"M 439.154 280.46 \r\nL 445.207091 280.46 \r\nL 445.207091 54.685106 \r\nL 439.154 54.685106 \r\nz\r\n\" style=\"fill:#1f77b4;\"/>\r\n   </g>\r\n   <g id=\"patch_65\">\r\n    <path clip-path=\"url(#pa887f20762)\" d=\"M 445.207091 280.46 \r\nL 451.260182 280.46 \r\nL 451.260182 102.775273 \r\nL 445.207091 102.775273 \r\nz\r\n\" style=\"fill:#1f77b4;\"/>\r\n   </g>\r\n   <g id=\"patch_66\">\r\n    <path clip-path=\"url(#pa887f20762)\" d=\"M 451.260182 280.46 \r\nL 457.313273 280.46 \r\nL 457.313273 201.330076 \r\nL 451.260182 201.330076 \r\nz\r\n\" style=\"fill:#1f77b4;\"/>\r\n   </g>\r\n   <g id=\"patch_67\">\r\n    <path clip-path=\"url(#pa887f20762)\" d=\"M 457.313273 280.46 \r\nL 463.366364 280.46 \r\nL 463.366364 262.780212 \r\nL 457.313273 262.780212 \r\nz\r\n\" style=\"fill:#1f77b4;\"/>\r\n   </g>\r\n   <g id=\"patch_68\">\r\n    <path clip-path=\"url(#pa887f20762)\" d=\"M 463.366364 280.46 \r\nL 469.419455 280.46 \r\nL 469.419455 227.620893 \r\nL 463.366364 227.620893 \r\nz\r\n\" style=\"fill:#1f77b4;\"/>\r\n   </g>\r\n   <g id=\"patch_69\">\r\n    <path clip-path=\"url(#pa887f20762)\" d=\"M 469.419455 280.46 \r\nL 475.472545 280.46 \r\nL 475.472545 132.384626 \r\nL 469.419455 132.384626 \r\nz\r\n\" style=\"fill:#1f77b4;\"/>\r\n   </g>\r\n   <g id=\"patch_70\">\r\n    <path clip-path=\"url(#pa887f20762)\" d=\"M 475.472545 280.46 \r\nL 481.525636 280.46 \r\nL 481.525636 53.540783 \r\nL 475.472545 53.540783 \r\nz\r\n\" style=\"fill:#1f77b4;\"/>\r\n   </g>\r\n   <g id=\"patch_71\">\r\n    <path clip-path=\"url(#pa887f20762)\" d=\"M 481.525636 280.46 \r\nL 487.578727 280.46 \r\nL 487.578727 61.522435 \r\nL 481.525636 61.522435 \r\nz\r\n\" style=\"fill:#1f77b4;\"/>\r\n   </g>\r\n   <g id=\"patch_72\">\r\n    <path clip-path=\"url(#pa887f20762)\" d=\"M 487.578727 280.46 \r\nL 493.631818 280.46 \r\nL 493.631818 90.445194 \r\nL 487.578727 90.445194 \r\nz\r\n\" style=\"fill:#1f77b4;\"/>\r\n   </g>\r\n   <g id=\"patch_73\">\r\n    <path clip-path=\"url(#pa887f20762)\" d=\"M 493.631818 280.46 \r\nL 499.684909 280.46 \r\nL 499.684909 187.741243 \r\nL 493.631818 187.741243 \r\nz\r\n\" style=\"fill:#1f77b4;\"/>\r\n   </g>\r\n   <g id=\"patch_74\">\r\n    <path clip-path=\"url(#pa887f20762)\" d=\"M 499.684909 280.46 \r\nL 505.738 280.46 \r\nL 505.738 264.89721 \r\nL 499.684909 264.89721 \r\nz\r\n\" style=\"fill:#1f77b4;\"/>\r\n   </g>\r\n   <g id=\"patch_75\">\r\n    <path clip-path=\"url(#pa887f20762)\" d=\"M 505.738 280.46 \r\nL 511.791091 280.46 \r\nL 511.791091 245.071817 \r\nL 505.738 245.071817 \r\nz\r\n\" style=\"fill:#1f77b4;\"/>\r\n   </g>\r\n   <g id=\"patch_76\">\r\n    <path clip-path=\"url(#pa887f20762)\" d=\"M 511.791091 280.46 \r\nL 517.844182 280.46 \r\nL 517.844182 166.914567 \r\nL 511.791091 166.914567 \r\nz\r\n\" style=\"fill:#1f77b4;\"/>\r\n   </g>\r\n   <g id=\"patch_77\">\r\n    <path clip-path=\"url(#pa887f20762)\" d=\"M 517.844182 280.46 \r\nL 523.897273 280.46 \r\nL 523.897273 82.864056 \r\nL 517.844182 82.864056 \r\nz\r\n\" style=\"fill:#1f77b4;\"/>\r\n   </g>\r\n   <g id=\"patch_78\">\r\n    <path clip-path=\"url(#pa887f20762)\" d=\"M 523.897273 280.46 \r\nL 529.950364 280.46 \r\nL 529.950364 66.242767 \r\nL 523.897273 66.242767 \r\nz\r\n\" style=\"fill:#1f77b4;\"/>\r\n   </g>\r\n   <g id=\"patch_79\">\r\n    <path clip-path=\"url(#pa887f20762)\" d=\"M 529.950364 280.46 \r\nL 536.003455 280.46 \r\nL 536.003455 71.764124 \r\nL 529.950364 71.764124 \r\nz\r\n\" style=\"fill:#1f77b4;\"/>\r\n   </g>\r\n   <g id=\"patch_80\">\r\n    <path clip-path=\"url(#pa887f20762)\" d=\"M 536.003455 280.46 \r\nL 542.056545 280.46 \r\nL 542.056545 147.947417 \r\nL 536.003455 147.947417 \r\nz\r\n\" style=\"fill:#1f77b4;\"/>\r\n   </g>\r\n   <g id=\"patch_81\">\r\n    <path clip-path=\"url(#pa887f20762)\" d=\"M 542.056545 280.46 \r\nL 548.109636 280.46 \r\nL 548.109636 242.840387 \r\nL 542.056545 242.840387 \r\nz\r\n\" style=\"fill:#1f77b4;\"/>\r\n   </g>\r\n   <g id=\"patch_82\">\r\n    <path clip-path=\"url(#pa887f20762)\" d=\"M 548.109636 280.46 \r\nL 554.162727 280.46 \r\nL 554.162727 253.854494 \r\nL 548.109636 253.854494 \r\nz\r\n\" style=\"fill:#1f77b4;\"/>\r\n   </g>\r\n   <g id=\"patch_83\">\r\n    <path clip-path=\"url(#pa887f20762)\" d=\"M 554.162727 280.46 \r\nL 560.215818 280.46 \r\nL 560.215818 174.467098 \r\nL 554.162727 174.467098 \r\nz\r\n\" style=\"fill:#1f77b4;\"/>\r\n   </g>\r\n   <g id=\"patch_84\">\r\n    <path clip-path=\"url(#pa887f20762)\" d=\"M 560.215818 280.46 \r\nL 566.268909 280.46 \r\nL 566.268909 109.469561 \r\nL 560.215818 109.469561 \r\nz\r\n\" style=\"fill:#1f77b4;\"/>\r\n   </g>\r\n   <g id=\"patch_85\">\r\n    <path clip-path=\"url(#pa887f20762)\" d=\"M 566.268909 280.46 \r\nL 572.322 280.46 \r\nL 572.322 68.245332 \r\nL 566.268909 68.245332 \r\nz\r\n\" style=\"fill:#1f77b4;\"/>\r\n   </g>\r\n   <g id=\"patch_86\">\r\n    <path clip-path=\"url(#pa887f20762)\" d=\"M 572.322 280.46 \r\nL 578.375091 280.46 \r\nL 578.375091 20.212381 \r\nL 572.322 20.212381 \r\nz\r\n\" style=\"fill:#1f77b4;\"/>\r\n   </g>\r\n   <g id=\"patch_87\">\r\n    <path clip-path=\"url(#pa887f20762)\" d=\"M 578.375091 280.46 \r\nL 584.428182 280.46 \r\nL 584.428182 91.045964 \r\nL 578.375091 91.045964 \r\nz\r\n\" style=\"fill:#1f77b4;\"/>\r\n   </g>\r\n   <g id=\"patch_88\">\r\n    <path clip-path=\"url(#pa887f20762)\" d=\"M 584.428182 280.46 \r\nL 590.481273 280.46 \r\nL 590.481273 220.69774 \r\nL 584.428182 220.69774 \r\nz\r\n\" style=\"fill:#1f77b4;\"/>\r\n   </g>\r\n   <g id=\"patch_89\">\r\n    <path clip-path=\"url(#pa887f20762)\" d=\"M 590.481273 280.46 \r\nL 596.534364 280.46 \r\nL 596.534364 261.464241 \r\nL 590.481273 261.464241 \r\nz\r\n\" style=\"fill:#1f77b4;\"/>\r\n   </g>\r\n   <g id=\"patch_90\">\r\n    <path clip-path=\"url(#pa887f20762)\" d=\"M 596.534364 280.46 \r\nL 602.587455 280.46 \r\nL 602.587455 176.698528 \r\nL 596.534364 176.698528 \r\nz\r\n\" style=\"fill:#1f77b4;\"/>\r\n   </g>\r\n   <g id=\"patch_91\">\r\n    <path clip-path=\"url(#pa887f20762)\" d=\"M 602.587455 280.46 \r\nL 608.640545 280.46 \r\nL 608.640545 117.365389 \r\nL 602.587455 117.365389 \r\nz\r\n\" style=\"fill:#1f77b4;\"/>\r\n   </g>\r\n   <g id=\"patch_92\">\r\n    <path clip-path=\"url(#pa887f20762)\" d=\"M 608.640545 280.46 \r\nL 614.693636 280.46 \r\nL 614.693636 95.766296 \r\nL 608.640545 95.766296 \r\nz\r\n\" style=\"fill:#1f77b4;\"/>\r\n   </g>\r\n   <g id=\"patch_93\">\r\n    <path clip-path=\"url(#pa887f20762)\" d=\"M 614.693636 280.46 \r\nL 620.746727 280.46 \r\nL 620.746727 55.285876 \r\nL 614.693636 55.285876 \r\nz\r\n\" style=\"fill:#1f77b4;\"/>\r\n   </g>\r\n   <g id=\"patch_94\">\r\n    <path clip-path=\"url(#pa887f20762)\" d=\"M 620.746727 280.46 \r\nL 626.799818 280.46 \r\nL 626.799818 50.079207 \r\nL 620.746727 50.079207 \r\nz\r\n\" style=\"fill:#1f77b4;\"/>\r\n   </g>\r\n   <g id=\"patch_95\">\r\n    <path clip-path=\"url(#pa887f20762)\" d=\"M 626.799818 280.46 \r\nL 632.852909 280.46 \r\nL 632.852909 185.824502 \r\nL 626.799818 185.824502 \r\nz\r\n\" style=\"fill:#1f77b4;\"/>\r\n   </g>\r\n   <g id=\"patch_96\">\r\n    <path clip-path=\"url(#pa887f20762)\" d=\"M 632.852909 280.46 \r\nL 638.906 280.46 \r\nL 638.906 267.214463 \r\nL 632.852909 267.214463 \r\nz\r\n\" style=\"fill:#1f77b4;\"/>\r\n   </g>\r\n   <g id=\"patch_97\">\r\n    <path clip-path=\"url(#pa887f20762)\" d=\"M 638.906 280.46 \r\nL 644.959091 280.46 \r\nL 644.959091 218.351879 \r\nL 638.906 218.351879 \r\nz\r\n\" style=\"fill:#1f77b4;\"/>\r\n   </g>\r\n   <g id=\"patch_98\">\r\n    <path clip-path=\"url(#pa887f20762)\" d=\"M 644.959091 280.46 \r\nL 651.012182 280.46 \r\nL 651.012182 160.020022 \r\nL 644.959091 160.020022 \r\nz\r\n\" style=\"fill:#1f77b4;\"/>\r\n   </g>\r\n   <g id=\"patch_99\">\r\n    <path clip-path=\"url(#pa887f20762)\" d=\"M 651.012182 280.46 \r\nL 657.065273 280.46 \r\nL 657.065273 114.39015 \r\nL 651.012182 114.39015 \r\nz\r\n\" style=\"fill:#1f77b4;\"/>\r\n   </g>\r\n   <g id=\"patch_100\">\r\n    <path clip-path=\"url(#pa887f20762)\" d=\"M 657.065273 280.46 \r\nL 663.118364 280.46 \r\nL 663.118364 88.299589 \r\nL 657.065273 88.299589 \r\nz\r\n\" style=\"fill:#1f77b4;\"/>\r\n   </g>\r\n   <g id=\"patch_101\">\r\n    <path clip-path=\"url(#pa887f20762)\" d=\"M 663.118364 280.46 \r\nL 669.171455 280.46 \r\nL 669.171455 59.176573 \r\nL 663.118364 59.176573 \r\nz\r\n\" style=\"fill:#1f77b4;\"/>\r\n   </g>\r\n   <g id=\"patch_102\">\r\n    <path clip-path=\"url(#pa887f20762)\" d=\"M 669.171455 280.46 \r\nL 675.224545 280.46 \r\nL 675.224545 158.246322 \r\nL 669.171455 158.246322 \r\nz\r\n\" style=\"fill:#1f77b4;\"/>\r\n   </g>\r\n   <g id=\"matplotlib.axis_1\">\r\n    <g id=\"xtick_1\">\r\n     <g id=\"line2d_1\">\r\n      <path clip-path=\"url(#pa887f20762)\" d=\"M 61.206627 280.46 \r\nL 61.206627 7.2 \r\n\" style=\"fill:none;stroke:#b0b0b0;stroke-linecap:square;stroke-width:0.8;\"/>\r\n     </g>\r\n     <g id=\"line2d_2\">\r\n      <defs>\r\n       <path d=\"M 0 0 \r\nL 0 3.5 \r\n\" id=\"m77d0e99bbd\" style=\"stroke:#000000;stroke-width:0.8;\"/>\r\n      </defs>\r\n      <g>\r\n       <use style=\"stroke:#000000;stroke-width:0.8;\" x=\"61.206627\" xlink:href=\"#m77d0e99bbd\" y=\"280.46\"/>\r\n      </g>\r\n     </g>\r\n     <g id=\"text_1\">\r\n      <!-- 2019-07-25 -->\r\n      <g transform=\"translate(63.966002 345.575625)rotate(-90)scale(0.1 -0.1)\">\r\n       <defs>\r\n        <path d=\"M 1228 531 \r\nL 3431 531 \r\nL 3431 0 \r\nL 469 0 \r\nL 469 531 \r\nQ 828 903 1448 1529 \r\nQ 2069 2156 2228 2338 \r\nQ 2531 2678 2651 2914 \r\nQ 2772 3150 2772 3378 \r\nQ 2772 3750 2511 3984 \r\nQ 2250 4219 1831 4219 \r\nQ 1534 4219 1204 4116 \r\nQ 875 4013 500 3803 \r\nL 500 4441 \r\nQ 881 4594 1212 4672 \r\nQ 1544 4750 1819 4750 \r\nQ 2544 4750 2975 4387 \r\nQ 3406 4025 3406 3419 \r\nQ 3406 3131 3298 2873 \r\nQ 3191 2616 2906 2266 \r\nQ 2828 2175 2409 1742 \r\nQ 1991 1309 1228 531 \r\nz\r\n\" id=\"DejaVuSans-32\" transform=\"scale(0.015625)\"/>\r\n        <path d=\"M 2034 4250 \r\nQ 1547 4250 1301 3770 \r\nQ 1056 3291 1056 2328 \r\nQ 1056 1369 1301 889 \r\nQ 1547 409 2034 409 \r\nQ 2525 409 2770 889 \r\nQ 3016 1369 3016 2328 \r\nQ 3016 3291 2770 3770 \r\nQ 2525 4250 2034 4250 \r\nz\r\nM 2034 4750 \r\nQ 2819 4750 3233 4129 \r\nQ 3647 3509 3647 2328 \r\nQ 3647 1150 3233 529 \r\nQ 2819 -91 2034 -91 \r\nQ 1250 -91 836 529 \r\nQ 422 1150 422 2328 \r\nQ 422 3509 836 4129 \r\nQ 1250 4750 2034 4750 \r\nz\r\n\" id=\"DejaVuSans-30\" transform=\"scale(0.015625)\"/>\r\n        <path d=\"M 794 531 \r\nL 1825 531 \r\nL 1825 4091 \r\nL 703 3866 \r\nL 703 4441 \r\nL 1819 4666 \r\nL 2450 4666 \r\nL 2450 531 \r\nL 3481 531 \r\nL 3481 0 \r\nL 794 0 \r\nL 794 531 \r\nz\r\n\" id=\"DejaVuSans-31\" transform=\"scale(0.015625)\"/>\r\n        <path d=\"M 703 97 \r\nL 703 672 \r\nQ 941 559 1184 500 \r\nQ 1428 441 1663 441 \r\nQ 2288 441 2617 861 \r\nQ 2947 1281 2994 2138 \r\nQ 2813 1869 2534 1725 \r\nQ 2256 1581 1919 1581 \r\nQ 1219 1581 811 2004 \r\nQ 403 2428 403 3163 \r\nQ 403 3881 828 4315 \r\nQ 1253 4750 1959 4750 \r\nQ 2769 4750 3195 4129 \r\nQ 3622 3509 3622 2328 \r\nQ 3622 1225 3098 567 \r\nQ 2575 -91 1691 -91 \r\nQ 1453 -91 1209 -44 \r\nQ 966 3 703 97 \r\nz\r\nM 1959 2075 \r\nQ 2384 2075 2632 2365 \r\nQ 2881 2656 2881 3163 \r\nQ 2881 3666 2632 3958 \r\nQ 2384 4250 1959 4250 \r\nQ 1534 4250 1286 3958 \r\nQ 1038 3666 1038 3163 \r\nQ 1038 2656 1286 2365 \r\nQ 1534 2075 1959 2075 \r\nz\r\n\" id=\"DejaVuSans-39\" transform=\"scale(0.015625)\"/>\r\n        <path d=\"M 313 2009 \r\nL 1997 2009 \r\nL 1997 1497 \r\nL 313 1497 \r\nL 313 2009 \r\nz\r\n\" id=\"DejaVuSans-2d\" transform=\"scale(0.015625)\"/>\r\n        <path d=\"M 525 4666 \r\nL 3525 4666 \r\nL 3525 4397 \r\nL 1831 0 \r\nL 1172 0 \r\nL 2766 4134 \r\nL 525 4134 \r\nL 525 4666 \r\nz\r\n\" id=\"DejaVuSans-37\" transform=\"scale(0.015625)\"/>\r\n        <path d=\"M 691 4666 \r\nL 3169 4666 \r\nL 3169 4134 \r\nL 1269 4134 \r\nL 1269 2991 \r\nQ 1406 3038 1543 3061 \r\nQ 1681 3084 1819 3084 \r\nQ 2600 3084 3056 2656 \r\nQ 3513 2228 3513 1497 \r\nQ 3513 744 3044 326 \r\nQ 2575 -91 1722 -91 \r\nQ 1428 -91 1123 -41 \r\nQ 819 9 494 109 \r\nL 494 744 \r\nQ 775 591 1075 516 \r\nQ 1375 441 1709 441 \r\nQ 2250 441 2565 725 \r\nQ 2881 1009 2881 1497 \r\nQ 2881 1984 2565 2268 \r\nQ 2250 2553 1709 2553 \r\nQ 1456 2553 1204 2497 \r\nQ 953 2441 691 2322 \r\nL 691 4666 \r\nz\r\n\" id=\"DejaVuSans-35\" transform=\"scale(0.015625)\"/>\r\n       </defs>\r\n       <use xlink:href=\"#DejaVuSans-32\"/>\r\n       <use x=\"63.623047\" xlink:href=\"#DejaVuSans-30\"/>\r\n       <use x=\"127.246094\" xlink:href=\"#DejaVuSans-31\"/>\r\n       <use x=\"190.869141\" xlink:href=\"#DejaVuSans-39\"/>\r\n       <use x=\"254.492188\" xlink:href=\"#DejaVuSans-2d\"/>\r\n       <use x=\"290.576172\" xlink:href=\"#DejaVuSans-30\"/>\r\n       <use x=\"354.199219\" xlink:href=\"#DejaVuSans-37\"/>\r\n       <use x=\"417.822266\" xlink:href=\"#DejaVuSans-2d\"/>\r\n       <use x=\"453.90625\" xlink:href=\"#DejaVuSans-32\"/>\r\n       <use x=\"517.529297\" xlink:href=\"#DejaVuSans-35\"/>\r\n      </g>\r\n     </g>\r\n    </g>\r\n    <g id=\"xtick_2\">\r\n     <g id=\"line2d_3\">\r\n      <path clip-path=\"url(#pa887f20762)\" d=\"M 149.646064 280.46 \r\nL 149.646064 7.2 \r\n\" style=\"fill:none;stroke:#b0b0b0;stroke-linecap:square;stroke-width:0.8;\"/>\r\n     </g>\r\n     <g id=\"line2d_4\">\r\n      <g>\r\n       <use style=\"stroke:#000000;stroke-width:0.8;\" x=\"149.646064\" xlink:href=\"#m77d0e99bbd\" y=\"280.46\"/>\r\n      </g>\r\n     </g>\r\n     <g id=\"text_2\">\r\n      <!-- 2019-07-27 -->\r\n      <g transform=\"translate(152.405439 345.575625)rotate(-90)scale(0.1 -0.1)\">\r\n       <use xlink:href=\"#DejaVuSans-32\"/>\r\n       <use x=\"63.623047\" xlink:href=\"#DejaVuSans-30\"/>\r\n       <use x=\"127.246094\" xlink:href=\"#DejaVuSans-31\"/>\r\n       <use x=\"190.869141\" xlink:href=\"#DejaVuSans-39\"/>\r\n       <use x=\"254.492188\" xlink:href=\"#DejaVuSans-2d\"/>\r\n       <use x=\"290.576172\" xlink:href=\"#DejaVuSans-30\"/>\r\n       <use x=\"354.199219\" xlink:href=\"#DejaVuSans-37\"/>\r\n       <use x=\"417.822266\" xlink:href=\"#DejaVuSans-2d\"/>\r\n       <use x=\"453.90625\" xlink:href=\"#DejaVuSans-32\"/>\r\n       <use x=\"517.529297\" xlink:href=\"#DejaVuSans-37\"/>\r\n      </g>\r\n     </g>\r\n    </g>\r\n    <g id=\"xtick_3\">\r\n     <g id=\"line2d_5\">\r\n      <path clip-path=\"url(#pa887f20762)\" d=\"M 238.085501 280.46 \r\nL 238.085501 7.2 \r\n\" style=\"fill:none;stroke:#b0b0b0;stroke-linecap:square;stroke-width:0.8;\"/>\r\n     </g>\r\n     <g id=\"line2d_6\">\r\n      <g>\r\n       <use style=\"stroke:#000000;stroke-width:0.8;\" x=\"238.085501\" xlink:href=\"#m77d0e99bbd\" y=\"280.46\"/>\r\n      </g>\r\n     </g>\r\n     <g id=\"text_3\">\r\n      <!-- 2019-07-29 -->\r\n      <g transform=\"translate(240.844876 345.575625)rotate(-90)scale(0.1 -0.1)\">\r\n       <use xlink:href=\"#DejaVuSans-32\"/>\r\n       <use x=\"63.623047\" xlink:href=\"#DejaVuSans-30\"/>\r\n       <use x=\"127.246094\" xlink:href=\"#DejaVuSans-31\"/>\r\n       <use x=\"190.869141\" xlink:href=\"#DejaVuSans-39\"/>\r\n       <use x=\"254.492188\" xlink:href=\"#DejaVuSans-2d\"/>\r\n       <use x=\"290.576172\" xlink:href=\"#DejaVuSans-30\"/>\r\n       <use x=\"354.199219\" xlink:href=\"#DejaVuSans-37\"/>\r\n       <use x=\"417.822266\" xlink:href=\"#DejaVuSans-2d\"/>\r\n       <use x=\"453.90625\" xlink:href=\"#DejaVuSans-32\"/>\r\n       <use x=\"517.529297\" xlink:href=\"#DejaVuSans-39\"/>\r\n      </g>\r\n     </g>\r\n    </g>\r\n    <g id=\"xtick_4\">\r\n     <g id=\"line2d_7\">\r\n      <path clip-path=\"url(#pa887f20762)\" d=\"M 326.524938 280.46 \r\nL 326.524938 7.2 \r\n\" style=\"fill:none;stroke:#b0b0b0;stroke-linecap:square;stroke-width:0.8;\"/>\r\n     </g>\r\n     <g id=\"line2d_8\">\r\n      <g>\r\n       <use style=\"stroke:#000000;stroke-width:0.8;\" x=\"326.524938\" xlink:href=\"#m77d0e99bbd\" y=\"280.46\"/>\r\n      </g>\r\n     </g>\r\n     <g id=\"text_4\">\r\n      <!-- 2019-07-31 -->\r\n      <g transform=\"translate(329.284313 345.575625)rotate(-90)scale(0.1 -0.1)\">\r\n       <defs>\r\n        <path d=\"M 2597 2516 \r\nQ 3050 2419 3304 2112 \r\nQ 3559 1806 3559 1356 \r\nQ 3559 666 3084 287 \r\nQ 2609 -91 1734 -91 \r\nQ 1441 -91 1130 -33 \r\nQ 819 25 488 141 \r\nL 488 750 \r\nQ 750 597 1062 519 \r\nQ 1375 441 1716 441 \r\nQ 2309 441 2620 675 \r\nQ 2931 909 2931 1356 \r\nQ 2931 1769 2642 2001 \r\nQ 2353 2234 1838 2234 \r\nL 1294 2234 \r\nL 1294 2753 \r\nL 1863 2753 \r\nQ 2328 2753 2575 2939 \r\nQ 2822 3125 2822 3475 \r\nQ 2822 3834 2567 4026 \r\nQ 2313 4219 1838 4219 \r\nQ 1578 4219 1281 4162 \r\nQ 984 4106 628 3988 \r\nL 628 4550 \r\nQ 988 4650 1302 4700 \r\nQ 1616 4750 1894 4750 \r\nQ 2613 4750 3031 4423 \r\nQ 3450 4097 3450 3541 \r\nQ 3450 3153 3228 2886 \r\nQ 3006 2619 2597 2516 \r\nz\r\n\" id=\"DejaVuSans-33\" transform=\"scale(0.015625)\"/>\r\n       </defs>\r\n       <use xlink:href=\"#DejaVuSans-32\"/>\r\n       <use x=\"63.623047\" xlink:href=\"#DejaVuSans-30\"/>\r\n       <use x=\"127.246094\" xlink:href=\"#DejaVuSans-31\"/>\r\n       <use x=\"190.869141\" xlink:href=\"#DejaVuSans-39\"/>\r\n       <use x=\"254.492188\" xlink:href=\"#DejaVuSans-2d\"/>\r\n       <use x=\"290.576172\" xlink:href=\"#DejaVuSans-30\"/>\r\n       <use x=\"354.199219\" xlink:href=\"#DejaVuSans-37\"/>\r\n       <use x=\"417.822266\" xlink:href=\"#DejaVuSans-2d\"/>\r\n       <use x=\"453.90625\" xlink:href=\"#DejaVuSans-33\"/>\r\n       <use x=\"517.529297\" xlink:href=\"#DejaVuSans-31\"/>\r\n      </g>\r\n     </g>\r\n    </g>\r\n    <g id=\"xtick_5\">\r\n     <g id=\"line2d_9\">\r\n      <path clip-path=\"url(#pa887f20762)\" d=\"M 370.744657 280.46 \r\nL 370.744657 7.2 \r\n\" style=\"fill:none;stroke:#b0b0b0;stroke-linecap:square;stroke-width:0.8;\"/>\r\n     </g>\r\n     <g id=\"line2d_10\">\r\n      <g>\r\n       <use style=\"stroke:#000000;stroke-width:0.8;\" x=\"370.744657\" xlink:href=\"#m77d0e99bbd\" y=\"280.46\"/>\r\n      </g>\r\n     </g>\r\n     <g id=\"text_5\">\r\n      <!-- 2019-08-01 -->\r\n      <g transform=\"translate(373.504032 345.575625)rotate(-90)scale(0.1 -0.1)\">\r\n       <defs>\r\n        <path d=\"M 2034 2216 \r\nQ 1584 2216 1326 1975 \r\nQ 1069 1734 1069 1313 \r\nQ 1069 891 1326 650 \r\nQ 1584 409 2034 409 \r\nQ 2484 409 2743 651 \r\nQ 3003 894 3003 1313 \r\nQ 3003 1734 2745 1975 \r\nQ 2488 2216 2034 2216 \r\nz\r\nM 1403 2484 \r\nQ 997 2584 770 2862 \r\nQ 544 3141 544 3541 \r\nQ 544 4100 942 4425 \r\nQ 1341 4750 2034 4750 \r\nQ 2731 4750 3128 4425 \r\nQ 3525 4100 3525 3541 \r\nQ 3525 3141 3298 2862 \r\nQ 3072 2584 2669 2484 \r\nQ 3125 2378 3379 2068 \r\nQ 3634 1759 3634 1313 \r\nQ 3634 634 3220 271 \r\nQ 2806 -91 2034 -91 \r\nQ 1263 -91 848 271 \r\nQ 434 634 434 1313 \r\nQ 434 1759 690 2068 \r\nQ 947 2378 1403 2484 \r\nz\r\nM 1172 3481 \r\nQ 1172 3119 1398 2916 \r\nQ 1625 2713 2034 2713 \r\nQ 2441 2713 2670 2916 \r\nQ 2900 3119 2900 3481 \r\nQ 2900 3844 2670 4047 \r\nQ 2441 4250 2034 4250 \r\nQ 1625 4250 1398 4047 \r\nQ 1172 3844 1172 3481 \r\nz\r\n\" id=\"DejaVuSans-38\" transform=\"scale(0.015625)\"/>\r\n       </defs>\r\n       <use xlink:href=\"#DejaVuSans-32\"/>\r\n       <use x=\"63.623047\" xlink:href=\"#DejaVuSans-30\"/>\r\n       <use x=\"127.246094\" xlink:href=\"#DejaVuSans-31\"/>\r\n       <use x=\"190.869141\" xlink:href=\"#DejaVuSans-39\"/>\r\n       <use x=\"254.492188\" xlink:href=\"#DejaVuSans-2d\"/>\r\n       <use x=\"290.576172\" xlink:href=\"#DejaVuSans-30\"/>\r\n       <use x=\"354.199219\" xlink:href=\"#DejaVuSans-38\"/>\r\n       <use x=\"417.822266\" xlink:href=\"#DejaVuSans-2d\"/>\r\n       <use x=\"453.90625\" xlink:href=\"#DejaVuSans-30\"/>\r\n       <use x=\"517.529297\" xlink:href=\"#DejaVuSans-31\"/>\r\n      </g>\r\n     </g>\r\n    </g>\r\n    <g id=\"xtick_6\">\r\n     <g id=\"line2d_11\">\r\n      <path clip-path=\"url(#pa887f20762)\" d=\"M 459.184094 280.46 \r\nL 459.184094 7.2 \r\n\" style=\"fill:none;stroke:#b0b0b0;stroke-linecap:square;stroke-width:0.8;\"/>\r\n     </g>\r\n     <g id=\"line2d_12\">\r\n      <g>\r\n       <use style=\"stroke:#000000;stroke-width:0.8;\" x=\"459.184094\" xlink:href=\"#m77d0e99bbd\" y=\"280.46\"/>\r\n      </g>\r\n     </g>\r\n     <g id=\"text_6\">\r\n      <!-- 2019-08-03 -->\r\n      <g transform=\"translate(461.943469 345.575625)rotate(-90)scale(0.1 -0.1)\">\r\n       <use xlink:href=\"#DejaVuSans-32\"/>\r\n       <use x=\"63.623047\" xlink:href=\"#DejaVuSans-30\"/>\r\n       <use x=\"127.246094\" xlink:href=\"#DejaVuSans-31\"/>\r\n       <use x=\"190.869141\" xlink:href=\"#DejaVuSans-39\"/>\r\n       <use x=\"254.492188\" xlink:href=\"#DejaVuSans-2d\"/>\r\n       <use x=\"290.576172\" xlink:href=\"#DejaVuSans-30\"/>\r\n       <use x=\"354.199219\" xlink:href=\"#DejaVuSans-38\"/>\r\n       <use x=\"417.822266\" xlink:href=\"#DejaVuSans-2d\"/>\r\n       <use x=\"453.90625\" xlink:href=\"#DejaVuSans-30\"/>\r\n       <use x=\"517.529297\" xlink:href=\"#DejaVuSans-33\"/>\r\n      </g>\r\n     </g>\r\n    </g>\r\n    <g id=\"xtick_7\">\r\n     <g id=\"line2d_13\">\r\n      <path clip-path=\"url(#pa887f20762)\" d=\"M 547.623532 280.46 \r\nL 547.623532 7.2 \r\n\" style=\"fill:none;stroke:#b0b0b0;stroke-linecap:square;stroke-width:0.8;\"/>\r\n     </g>\r\n     <g id=\"line2d_14\">\r\n      <g>\r\n       <use style=\"stroke:#000000;stroke-width:0.8;\" x=\"547.623532\" xlink:href=\"#m77d0e99bbd\" y=\"280.46\"/>\r\n      </g>\r\n     </g>\r\n     <g id=\"text_7\">\r\n      <!-- 2019-08-05 -->\r\n      <g transform=\"translate(550.382907 345.575625)rotate(-90)scale(0.1 -0.1)\">\r\n       <use xlink:href=\"#DejaVuSans-32\"/>\r\n       <use x=\"63.623047\" xlink:href=\"#DejaVuSans-30\"/>\r\n       <use x=\"127.246094\" xlink:href=\"#DejaVuSans-31\"/>\r\n       <use x=\"190.869141\" xlink:href=\"#DejaVuSans-39\"/>\r\n       <use x=\"254.492188\" xlink:href=\"#DejaVuSans-2d\"/>\r\n       <use x=\"290.576172\" xlink:href=\"#DejaVuSans-30\"/>\r\n       <use x=\"354.199219\" xlink:href=\"#DejaVuSans-38\"/>\r\n       <use x=\"417.822266\" xlink:href=\"#DejaVuSans-2d\"/>\r\n       <use x=\"453.90625\" xlink:href=\"#DejaVuSans-30\"/>\r\n       <use x=\"517.529297\" xlink:href=\"#DejaVuSans-35\"/>\r\n      </g>\r\n     </g>\r\n    </g>\r\n    <g id=\"xtick_8\">\r\n     <g id=\"line2d_15\">\r\n      <path clip-path=\"url(#pa887f20762)\" d=\"M 636.062969 280.46 \r\nL 636.062969 7.2 \r\n\" style=\"fill:none;stroke:#b0b0b0;stroke-linecap:square;stroke-width:0.8;\"/>\r\n     </g>\r\n     <g id=\"line2d_16\">\r\n      <g>\r\n       <use style=\"stroke:#000000;stroke-width:0.8;\" x=\"636.062969\" xlink:href=\"#m77d0e99bbd\" y=\"280.46\"/>\r\n      </g>\r\n     </g>\r\n     <g id=\"text_8\">\r\n      <!-- 2019-08-07 -->\r\n      <g transform=\"translate(638.822344 345.575625)rotate(-90)scale(0.1 -0.1)\">\r\n       <use xlink:href=\"#DejaVuSans-32\"/>\r\n       <use x=\"63.623047\" xlink:href=\"#DejaVuSans-30\"/>\r\n       <use x=\"127.246094\" xlink:href=\"#DejaVuSans-31\"/>\r\n       <use x=\"190.869141\" xlink:href=\"#DejaVuSans-39\"/>\r\n       <use x=\"254.492188\" xlink:href=\"#DejaVuSans-2d\"/>\r\n       <use x=\"290.576172\" xlink:href=\"#DejaVuSans-30\"/>\r\n       <use x=\"354.199219\" xlink:href=\"#DejaVuSans-38\"/>\r\n       <use x=\"417.822266\" xlink:href=\"#DejaVuSans-2d\"/>\r\n       <use x=\"453.90625\" xlink:href=\"#DejaVuSans-30\"/>\r\n       <use x=\"517.529297\" xlink:href=\"#DejaVuSans-37\"/>\r\n      </g>\r\n     </g>\r\n    </g>\r\n   </g>\r\n   <g id=\"matplotlib.axis_2\">\r\n    <g id=\"ytick_1\">\r\n     <g id=\"line2d_17\">\r\n      <path clip-path=\"url(#pa887f20762)\" d=\"M 39.65 280.46 \r\nL 705.49 280.46 \r\n\" style=\"fill:none;stroke:#b0b0b0;stroke-linecap:square;stroke-width:0.8;\"/>\r\n     </g>\r\n     <g id=\"line2d_18\">\r\n      <defs>\r\n       <path d=\"M 0 0 \r\nL -3.5 0 \r\n\" id=\"mf890f45f75\" style=\"stroke:#000000;stroke-width:0.8;\"/>\r\n      </defs>\r\n      <g>\r\n       <use style=\"stroke:#000000;stroke-width:0.8;\" x=\"39.65\" xlink:href=\"#mf890f45f75\" y=\"280.46\"/>\r\n      </g>\r\n     </g>\r\n     <g id=\"text_9\">\r\n      <!-- 0 -->\r\n      <g transform=\"translate(26.2875 284.259219)scale(0.1 -0.1)\">\r\n       <use xlink:href=\"#DejaVuSans-30\"/>\r\n      </g>\r\n     </g>\r\n    </g>\r\n    <g id=\"ytick_2\">\r\n     <g id=\"line2d_19\">\r\n      <path clip-path=\"url(#pa887f20762)\" d=\"M 39.65 223.243859 \r\nL 705.49 223.243859 \r\n\" style=\"fill:none;stroke:#b0b0b0;stroke-linecap:square;stroke-width:0.8;\"/>\r\n     </g>\r\n     <g id=\"line2d_20\">\r\n      <g>\r\n       <use style=\"stroke:#000000;stroke-width:0.8;\" x=\"39.65\" xlink:href=\"#mf890f45f75\" y=\"223.243859\"/>\r\n      </g>\r\n     </g>\r\n     <g id=\"text_10\">\r\n      <!-- 2000 -->\r\n      <g transform=\"translate(7.2 227.043077)scale(0.1 -0.1)\">\r\n       <use xlink:href=\"#DejaVuSans-32\"/>\r\n       <use x=\"63.623047\" xlink:href=\"#DejaVuSans-30\"/>\r\n       <use x=\"127.246094\" xlink:href=\"#DejaVuSans-30\"/>\r\n       <use x=\"190.869141\" xlink:href=\"#DejaVuSans-30\"/>\r\n      </g>\r\n     </g>\r\n    </g>\r\n    <g id=\"ytick_3\">\r\n     <g id=\"line2d_21\">\r\n      <path clip-path=\"url(#pa887f20762)\" d=\"M 39.65 166.027717 \r\nL 705.49 166.027717 \r\n\" style=\"fill:none;stroke:#b0b0b0;stroke-linecap:square;stroke-width:0.8;\"/>\r\n     </g>\r\n     <g id=\"line2d_22\">\r\n      <g>\r\n       <use style=\"stroke:#000000;stroke-width:0.8;\" x=\"39.65\" xlink:href=\"#mf890f45f75\" y=\"166.027717\"/>\r\n      </g>\r\n     </g>\r\n     <g id=\"text_11\">\r\n      <!-- 4000 -->\r\n      <g transform=\"translate(7.2 169.826936)scale(0.1 -0.1)\">\r\n       <defs>\r\n        <path d=\"M 2419 4116 \r\nL 825 1625 \r\nL 2419 1625 \r\nL 2419 4116 \r\nz\r\nM 2253 4666 \r\nL 3047 4666 \r\nL 3047 1625 \r\nL 3713 1625 \r\nL 3713 1100 \r\nL 3047 1100 \r\nL 3047 0 \r\nL 2419 0 \r\nL 2419 1100 \r\nL 313 1100 \r\nL 313 1709 \r\nL 2253 4666 \r\nz\r\n\" id=\"DejaVuSans-34\" transform=\"scale(0.015625)\"/>\r\n       </defs>\r\n       <use xlink:href=\"#DejaVuSans-34\"/>\r\n       <use x=\"63.623047\" xlink:href=\"#DejaVuSans-30\"/>\r\n       <use x=\"127.246094\" xlink:href=\"#DejaVuSans-30\"/>\r\n       <use x=\"190.869141\" xlink:href=\"#DejaVuSans-30\"/>\r\n      </g>\r\n     </g>\r\n    </g>\r\n    <g id=\"ytick_4\">\r\n     <g id=\"line2d_23\">\r\n      <path clip-path=\"url(#pa887f20762)\" d=\"M 39.65 108.811576 \r\nL 705.49 108.811576 \r\n\" style=\"fill:none;stroke:#b0b0b0;stroke-linecap:square;stroke-width:0.8;\"/>\r\n     </g>\r\n     <g id=\"line2d_24\">\r\n      <g>\r\n       <use style=\"stroke:#000000;stroke-width:0.8;\" x=\"39.65\" xlink:href=\"#mf890f45f75\" y=\"108.811576\"/>\r\n      </g>\r\n     </g>\r\n     <g id=\"text_12\">\r\n      <!-- 6000 -->\r\n      <g transform=\"translate(7.2 112.610795)scale(0.1 -0.1)\">\r\n       <defs>\r\n        <path d=\"M 2113 2584 \r\nQ 1688 2584 1439 2293 \r\nQ 1191 2003 1191 1497 \r\nQ 1191 994 1439 701 \r\nQ 1688 409 2113 409 \r\nQ 2538 409 2786 701 \r\nQ 3034 994 3034 1497 \r\nQ 3034 2003 2786 2293 \r\nQ 2538 2584 2113 2584 \r\nz\r\nM 3366 4563 \r\nL 3366 3988 \r\nQ 3128 4100 2886 4159 \r\nQ 2644 4219 2406 4219 \r\nQ 1781 4219 1451 3797 \r\nQ 1122 3375 1075 2522 \r\nQ 1259 2794 1537 2939 \r\nQ 1816 3084 2150 3084 \r\nQ 2853 3084 3261 2657 \r\nQ 3669 2231 3669 1497 \r\nQ 3669 778 3244 343 \r\nQ 2819 -91 2113 -91 \r\nQ 1303 -91 875 529 \r\nQ 447 1150 447 2328 \r\nQ 447 3434 972 4092 \r\nQ 1497 4750 2381 4750 \r\nQ 2619 4750 2861 4703 \r\nQ 3103 4656 3366 4563 \r\nz\r\n\" id=\"DejaVuSans-36\" transform=\"scale(0.015625)\"/>\r\n       </defs>\r\n       <use xlink:href=\"#DejaVuSans-36\"/>\r\n       <use x=\"63.623047\" xlink:href=\"#DejaVuSans-30\"/>\r\n       <use x=\"127.246094\" xlink:href=\"#DejaVuSans-30\"/>\r\n       <use x=\"190.869141\" xlink:href=\"#DejaVuSans-30\"/>\r\n      </g>\r\n     </g>\r\n    </g>\r\n    <g id=\"ytick_5\">\r\n     <g id=\"line2d_25\">\r\n      <path clip-path=\"url(#pa887f20762)\" d=\"M 39.65 51.595434 \r\nL 705.49 51.595434 \r\n\" style=\"fill:none;stroke:#b0b0b0;stroke-linecap:square;stroke-width:0.8;\"/>\r\n     </g>\r\n     <g id=\"line2d_26\">\r\n      <g>\r\n       <use style=\"stroke:#000000;stroke-width:0.8;\" x=\"39.65\" xlink:href=\"#mf890f45f75\" y=\"51.595434\"/>\r\n      </g>\r\n     </g>\r\n     <g id=\"text_13\">\r\n      <!-- 8000 -->\r\n      <g transform=\"translate(7.2 55.394653)scale(0.1 -0.1)\">\r\n       <use xlink:href=\"#DejaVuSans-38\"/>\r\n       <use x=\"63.623047\" xlink:href=\"#DejaVuSans-30\"/>\r\n       <use x=\"127.246094\" xlink:href=\"#DejaVuSans-30\"/>\r\n       <use x=\"190.869141\" xlink:href=\"#DejaVuSans-30\"/>\r\n      </g>\r\n     </g>\r\n    </g>\r\n   </g>\r\n   <g id=\"patch_103\">\r\n    <path d=\"M 39.65 280.46 \r\nL 39.65 7.2 \r\n\" style=\"fill:none;stroke:#000000;stroke-linecap:square;stroke-linejoin:miter;stroke-width:0.8;\"/>\r\n   </g>\r\n   <g id=\"patch_104\">\r\n    <path d=\"M 705.49 280.46 \r\nL 705.49 7.2 \r\n\" style=\"fill:none;stroke:#000000;stroke-linecap:square;stroke-linejoin:miter;stroke-width:0.8;\"/>\r\n   </g>\r\n   <g id=\"patch_105\">\r\n    <path d=\"M 39.65 280.46 \r\nL 705.49 280.46 \r\n\" style=\"fill:none;stroke:#000000;stroke-linecap:square;stroke-linejoin:miter;stroke-width:0.8;\"/>\r\n   </g>\r\n   <g id=\"patch_106\">\r\n    <path d=\"M 39.65 7.2 \r\nL 705.49 7.2 \r\n\" style=\"fill:none;stroke:#000000;stroke-linecap:square;stroke-linejoin:miter;stroke-width:0.8;\"/>\r\n   </g>\r\n  </g>\r\n </g>\r\n <defs>\r\n  <clipPath id=\"pa887f20762\">\r\n   <rect height=\"273.26\" width=\"665.84\" x=\"39.65\" y=\"7.2\"/>\r\n  </clipPath>\r\n </defs>\r\n</svg>\r\n",
      "text/plain": [
       "<Figure size 1000x500 with 1 Axes>"
      ]
     },
     "metadata": {},
     "output_type": "display_data"
    }
   ],
   "source": [
    "# Minimum and maximum dates in the dataset\n",
    "print('Minimum date is', min(df_logs.date_event))\n",
    "print('Maximum date is', max(df_logs.date_event))\n",
    "df_logs.dt_event.hist(bins=100, figsize=[FIG_WIDTH, FIG_HEIGHT], xrot=90);\n",
    "plt.tight_layout()\n"
   ]
  },
  {
   "cell_type": "markdown",
   "metadata": {},
   "source": [
    "Похоже, наши данные покрывают не только период \"нормальной\" работы приложения, но и, например, период разработки - когда приложение могло быть недоступно широкой публике. Для нашего анализа нам придется обрезать датасет, чтобы избежать ошибочных выводов. Возьмем данные с `2019-08-01` - сразу после относительно значительного роста количества пользователей.\n",
    "\n",
    "Другое интересное наблюдение - это явная сезонность в использовании нашего приложения. Наши данные покрывают период нескольких дней: видимо, пользователи делают заказы днем, а ночью не делают."
   ]
  },
  {
   "cell_type": "code",
   "execution_count": 23,
   "metadata": {},
   "outputs": [],
   "source": [
    "# Summary function to compare filtering results\n",
    "def fun_get_statistics_comparison(\n",
    "        df_before: pd.DataFrame,\n",
    "        df_after: pd.DataFrame,\n",
    "        index: str,\n",
    "        values: str,\n",
    "        aggfunc: str\n",
    "    ) -> pd.DataFrame:\n",
    "    \"\"\"\n",
    "    This function compares summaries of 2 dataframes and returns a total summary with % difference across specified dimensions\n",
    "\n",
    "    Args:\n",
    "        df_before (pd.DataFrame): initial dataframe \n",
    "        \n",
    "        df_after (pd.DataFrame): dataframe after some kind of transformation\n",
    "        \n",
    "        index (str): column name that will be taken as index used in an pd.pivot_table().\n",
    "        This has to be the same for both datasets\n",
    "        \n",
    "        values (str): column name that will be taken as values used in in an pd.pivot_table().\n",
    "        This has to be the same for both datasets\n",
    "        \n",
    "        aggfunc (str): column name that will be taken as aggregate function used in in an pd.pivot_table().\n",
    "        This has to be a single function\n",
    "\n",
    "    Returns:\n",
    "        pd.DataFrame: a summary dataframe, where rows are unique values from index column and 3 columns:\n",
    "        results of aggfunc applied to df_before, df_after and a comparison % = df_after / df_before\n",
    "    \"\"\"\n",
    "    \n",
    "    name_column_before = values + '_' + aggfunc + '_' + 'before'\n",
    "    name_column_after = values + '_' + aggfunc + '_' + 'after'\n",
    "    \n",
    "    df_summary = (\n",
    "        pd.merge(\n",
    "            left=(\n",
    "                pd.pivot_table(\n",
    "                    data=df_before,\n",
    "                    index=index,\n",
    "                    values=values,\n",
    "                    aggfunc=aggfunc,\n",
    "                    margins=True\n",
    "                )\n",
    "                .reset_index()\n",
    "                .set_axis(\n",
    "                    [index, name_column_before],\n",
    "                    axis='columns'\n",
    "                )\n",
    "            ),\n",
    "            right=(\n",
    "                pd.pivot_table(\n",
    "                    data=df_after,\n",
    "                    index=index,\n",
    "                    values=values,\n",
    "                    aggfunc=aggfunc,\n",
    "                    margins=True\n",
    "                )\n",
    "                .reset_index()\n",
    "                .set_axis(\n",
    "                    [index, name_column_after],\n",
    "                    axis='columns'\n",
    "                )\n",
    "            ),\n",
    "            on=index,\n",
    "            how='left'\n",
    "        )\n",
    "        .assign(\n",
    "            change_per = lambda df: 100 * round(df[name_column_after] / df[name_column_before], 3) \n",
    "        )\n",
    "    )\n",
    "    \n",
    "    return df_summary\n"
   ]
  },
  {
   "cell_type": "markdown",
   "metadata": {},
   "source": [
    "Проверим, что будет с нашими данными, если мы обрежем верменной промежуток для анализа. Нас интересует количество событий и количество уникальных пользователей."
   ]
  },
  {
   "cell_type": "code",
   "execution_count": 24,
   "metadata": {},
   "outputs": [
    {
     "data": {
      "text/html": [
       "<div>\n",
       "<style scoped>\n",
       "    .dataframe tbody tr th:only-of-type {\n",
       "        vertical-align: middle;\n",
       "    }\n",
       "\n",
       "    .dataframe tbody tr th {\n",
       "        vertical-align: top;\n",
       "    }\n",
       "\n",
       "    .dataframe thead th {\n",
       "        text-align: right;\n",
       "    }\n",
       "</style>\n",
       "<table border=\"1\" class=\"dataframe\">\n",
       "  <thead>\n",
       "    <tr style=\"text-align: right;\">\n",
       "      <th></th>\n",
       "      <th>id_group</th>\n",
       "      <th>id_device_nunique_before</th>\n",
       "      <th>id_device_nunique_after</th>\n",
       "      <th>change_per</th>\n",
       "    </tr>\n",
       "  </thead>\n",
       "  <tbody>\n",
       "    <tr>\n",
       "      <th>0</th>\n",
       "      <td>A1</td>\n",
       "      <td>2489</td>\n",
       "      <td>2484</td>\n",
       "      <td>99.8</td>\n",
       "    </tr>\n",
       "    <tr>\n",
       "      <th>1</th>\n",
       "      <td>A2</td>\n",
       "      <td>2520</td>\n",
       "      <td>2513</td>\n",
       "      <td>99.7</td>\n",
       "    </tr>\n",
       "    <tr>\n",
       "      <th>2</th>\n",
       "      <td>B</td>\n",
       "      <td>2542</td>\n",
       "      <td>2537</td>\n",
       "      <td>99.8</td>\n",
       "    </tr>\n",
       "    <tr>\n",
       "      <th>3</th>\n",
       "      <td>All</td>\n",
       "      <td>7551</td>\n",
       "      <td>7534</td>\n",
       "      <td>99.8</td>\n",
       "    </tr>\n",
       "  </tbody>\n",
       "</table>\n",
       "</div>"
      ],
      "text/plain": [
       "  id_group  id_device_nunique_before  id_device_nunique_after  change_per\n",
       "0       A1                      2489                     2484        99.8\n",
       "1       A2                      2520                     2513        99.7\n",
       "2        B                      2542                     2537        99.8\n",
       "3      All                      7551                     7534        99.8"
      ]
     },
     "execution_count": 24,
     "metadata": {},
     "output_type": "execute_result"
    }
   ],
   "source": [
    "fun_get_statistics_comparison(\n",
    "    df_logs, \n",
    "    df_logs[df_logs.date_event >= date(2019, 8, 1)],\n",
    "    'id_group', 'id_device', 'nunique'\n",
    ")"
   ]
  },
  {
   "cell_type": "code",
   "execution_count": 25,
   "metadata": {},
   "outputs": [
    {
     "data": {
      "text/html": [
       "<div>\n",
       "<style scoped>\n",
       "    .dataframe tbody tr th:only-of-type {\n",
       "        vertical-align: middle;\n",
       "    }\n",
       "\n",
       "    .dataframe tbody tr th {\n",
       "        vertical-align: top;\n",
       "    }\n",
       "\n",
       "    .dataframe thead th {\n",
       "        text-align: right;\n",
       "    }\n",
       "</style>\n",
       "<table border=\"1\" class=\"dataframe\">\n",
       "  <thead>\n",
       "    <tr style=\"text-align: right;\">\n",
       "      <th></th>\n",
       "      <th>id_group</th>\n",
       "      <th>id_device_count_before</th>\n",
       "      <th>id_device_count_after</th>\n",
       "      <th>change_per</th>\n",
       "    </tr>\n",
       "  </thead>\n",
       "  <tbody>\n",
       "    <tr>\n",
       "      <th>0</th>\n",
       "      <td>A1</td>\n",
       "      <td>80181</td>\n",
       "      <td>79302</td>\n",
       "      <td>98.9</td>\n",
       "    </tr>\n",
       "    <tr>\n",
       "      <th>1</th>\n",
       "      <td>A2</td>\n",
       "      <td>77950</td>\n",
       "      <td>77022</td>\n",
       "      <td>98.8</td>\n",
       "    </tr>\n",
       "    <tr>\n",
       "      <th>2</th>\n",
       "      <td>B</td>\n",
       "      <td>85582</td>\n",
       "      <td>84563</td>\n",
       "      <td>98.8</td>\n",
       "    </tr>\n",
       "    <tr>\n",
       "      <th>3</th>\n",
       "      <td>All</td>\n",
       "      <td>243713</td>\n",
       "      <td>240887</td>\n",
       "      <td>98.8</td>\n",
       "    </tr>\n",
       "  </tbody>\n",
       "</table>\n",
       "</div>"
      ],
      "text/plain": [
       "  id_group  id_device_count_before  id_device_count_after  change_per\n",
       "0       A1                   80181                  79302        98.9\n",
       "1       A2                   77950                  77022        98.8\n",
       "2        B                   85582                  84563        98.8\n",
       "3      All                  243713                 240887        98.8"
      ]
     },
     "execution_count": 25,
     "metadata": {},
     "output_type": "execute_result"
    }
   ],
   "source": [
    "fun_get_statistics_comparison(\n",
    "    df_logs, \n",
    "    df_logs[df_logs.date_event >= date(2019, 8, 1)],\n",
    "    'id_group', 'id_device', 'count'\n",
    ")"
   ]
  },
  {
   "cell_type": "markdown",
   "metadata": {},
   "source": [
    "Потерянные данные минимальны - в первом случае мы потеряли всего 0.2% уникальных пользователей из ~7K, а во втором - чуть больше 1% всех событий. У нас также нет перекосов по группам для А/А/B теста. Перезапишем наш датасет и перейдем к следующим приключениям."
   ]
  },
  {
   "cell_type": "code",
   "execution_count": 26,
   "metadata": {},
   "outputs": [
    {
     "data": {
      "image/png": "[encoded data removed]",
      "image/svg+xml": "<?xml version=\"1.0\" encoding=\"utf-8\" standalone=\"no\"?>\r\n<!DOCTYPE svg PUBLIC \"-//W3C//DTD SVG 1.1//EN\"\r\n  \"http://www.w3.org/Graphics/SVG/1.1/DTD/svg11.dtd\">\r\n<svg height=\"352.641974pt\" version=\"1.1\" viewBox=\"0 0 712.69 352.641974\" width=\"712.69pt\" xmlns=\"http://www.w3.org/2000/svg\" xmlns:xlink=\"http://www.w3.org/1999/xlink\">\r\n <metadata>\r\n  <rdf:RDF xmlns:cc=\"http://creativecommons.org/ns#\" xmlns:dc=\"http://purl.org/dc/elements/1.1/\" xmlns:rdf=\"http://www.w3.org/1999/02/22-rdf-syntax-ns#\">\r\n   <cc:Work>\r\n    <dc:type rdf:resource=\"http://purl.org/dc/dcmitype/StillImage\"/>\r\n    <dc:date>2022-10-30T14:29:04.991139</dc:date>\r\n    <dc:format>image/svg+xml</dc:format>\r\n    <dc:creator>\r\n     <cc:Agent>\r\n      <dc:title>Matplotlib v3.4.3, https://matplotlib.org/</dc:title>\r\n     </cc:Agent>\r\n    </dc:creator>\r\n   </cc:Work>\r\n  </rdf:RDF>\r\n </metadata>\r\n <defs>\r\n  <style type=\"text/css\">*{stroke-linecap:butt;stroke-linejoin:round;}</style>\r\n </defs>\r\n <g id=\"figure_1\">\r\n  <g id=\"patch_1\">\r\n   <path d=\"M 0 352.641974 \r\nL 712.69 352.641974 \r\nL 712.69 0 \r\nL 0 0 \r\nz\r\n\" style=\"fill:#ffffff;\"/>\r\n  </g>\r\n  <g id=\"axes_1\">\r\n   <g id=\"patch_2\">\r\n    <path d=\"M 39.65 280.326349 \r\nL 705.49 280.326349 \r\nL 705.49 9.919217 \r\nL 39.65 9.919217 \r\nz\r\n\" style=\"fill:#ffffff;\"/>\r\n   </g>\r\n   <g id=\"patch_3\">\r\n    <path clip-path=\"url(#p2ce82f79ff)\" d=\"M 69.915455 280.326349 \r\nL 75.968545 280.326349 \r\nL 75.968545 261.365719 \r\nL 69.915455 261.365719 \r\nz\r\n\" style=\"fill:#1f77b4;\"/>\r\n   </g>\r\n   <g id=\"patch_4\">\r\n    <path clip-path=\"url(#p2ce82f79ff)\" d=\"M 75.968545 280.326349 \r\nL 82.021636 280.326349 \r\nL 82.021636 248.922806 \r\nL 75.968545 248.922806 \r\nz\r\n\" style=\"fill:#1f77b4;\"/>\r\n   </g>\r\n   <g id=\"patch_5\">\r\n    <path clip-path=\"url(#p2ce82f79ff)\" d=\"M 82.021636 280.326349 \r\nL 88.074727 280.326349 \r\nL 88.074727 205.615003 \r\nL 82.021636 205.615003 \r\nz\r\n\" style=\"fill:#1f77b4;\"/>\r\n   </g>\r\n   <g id=\"patch_6\">\r\n    <path clip-path=\"url(#p2ce82f79ff)\" d=\"M 88.074727 280.326349 \r\nL 94.127818 280.326349 \r\nL 94.127818 167.96307 \r\nL 88.074727 167.96307 \r\nz\r\n\" style=\"fill:#1f77b4;\"/>\r\n   </g>\r\n   <g id=\"patch_7\">\r\n    <path clip-path=\"url(#p2ce82f79ff)\" d=\"M 94.127818 280.326349 \r\nL 100.180909 280.326349 \r\nL 100.180909 128.74904 \r\nL 94.127818 128.74904 \r\nz\r\n\" style=\"fill:#1f77b4;\"/>\r\n   </g>\r\n   <g id=\"patch_8\">\r\n    <path clip-path=\"url(#p2ce82f79ff)\" d=\"M 100.180909 280.326349 \r\nL 106.234 280.326349 \r\nL 106.234 102.462712 \r\nL 100.180909 102.462712 \r\nz\r\n\" style=\"fill:#1f77b4;\"/>\r\n   </g>\r\n   <g id=\"patch_9\">\r\n    <path clip-path=\"url(#p2ce82f79ff)\" d=\"M 106.234 280.326349 \r\nL 112.287091 280.326349 \r\nL 112.287091 80.862676 \r\nL 106.234 80.862676 \r\nz\r\n\" style=\"fill:#1f77b4;\"/>\r\n   </g>\r\n   <g id=\"patch_10\">\r\n    <path clip-path=\"url(#p2ce82f79ff)\" d=\"M 112.287091 280.326349 \r\nL 118.340182 280.326349 \r\nL 118.340182 70.089591 \r\nL 112.287091 70.089591 \r\nz\r\n\" style=\"fill:#1f77b4;\"/>\r\n   </g>\r\n   <g id=\"patch_11\">\r\n    <path clip-path=\"url(#p2ce82f79ff)\" d=\"M 118.340182 280.326349 \r\nL 124.393273 280.326349 \r\nL 124.393273 41.056127 \r\nL 118.340182 41.056127 \r\nz\r\n\" style=\"fill:#1f77b4;\"/>\r\n   </g>\r\n   <g id=\"patch_12\">\r\n    <path clip-path=\"url(#p2ce82f79ff)\" d=\"M 124.393273 280.326349 \r\nL 130.446364 280.326349 \r\nL 130.446364 54.630214 \r\nL 124.393273 54.630214 \r\nz\r\n\" style=\"fill:#1f77b4;\"/>\r\n   </g>\r\n   <g id=\"patch_13\">\r\n    <path clip-path=\"url(#p2ce82f79ff)\" d=\"M 130.446364 280.326349 \r\nL 136.499455 280.326349 \r\nL 136.499455 73.429248 \r\nL 130.446364 73.429248 \r\nz\r\n\" style=\"fill:#1f77b4;\"/>\r\n   </g>\r\n   <g id=\"patch_14\">\r\n    <path clip-path=\"url(#p2ce82f79ff)\" d=\"M 136.499455 280.326349 \r\nL 142.552545 280.326349 \r\nL 142.552545 105.9101 \r\nL 136.499455 105.9101 \r\nz\r\n\" style=\"fill:#1f77b4;\"/>\r\n   </g>\r\n   <g id=\"patch_15\">\r\n    <path clip-path=\"url(#p2ce82f79ff)\" d=\"M 142.552545 280.326349 \r\nL 148.605636 280.326349 \r\nL 148.605636 193.333686 \r\nL 142.552545 193.333686 \r\nz\r\n\" style=\"fill:#1f77b4;\"/>\r\n   </g>\r\n   <g id=\"patch_16\">\r\n    <path clip-path=\"url(#p2ce82f79ff)\" d=\"M 148.605636 280.326349 \r\nL 154.658727 280.326349 \r\nL 154.658727 252.262462 \r\nL 148.605636 252.262462 \r\nz\r\n\" style=\"fill:#1f77b4;\"/>\r\n   </g>\r\n   <g id=\"patch_17\">\r\n    <path clip-path=\"url(#p2ce82f79ff)\" d=\"M 154.658727 280.326349 \r\nL 160.711818 280.326349 \r\nL 160.711818 241.004588 \r\nL 154.658727 241.004588 \r\nz\r\n\" style=\"fill:#1f77b4;\"/>\r\n   </g>\r\n   <g id=\"patch_18\">\r\n    <path clip-path=\"url(#p2ce82f79ff)\" d=\"M 160.711818 280.326349 \r\nL 166.764909 280.326349 \r\nL 166.764909 223.336729 \r\nL 160.711818 223.336729 \r\nz\r\n\" style=\"fill:#1f77b4;\"/>\r\n   </g>\r\n   <g id=\"patch_19\">\r\n    <path clip-path=\"url(#p2ce82f79ff)\" d=\"M 166.764909 280.326349 \r\nL 172.818 280.326349 \r\nL 172.818 198.93569 \r\nL 166.764909 198.93569 \r\nz\r\n\" style=\"fill:#1f77b4;\"/>\r\n   </g>\r\n   <g id=\"patch_20\">\r\n    <path clip-path=\"url(#p2ce82f79ff)\" d=\"M 172.818 280.326349 \r\nL 178.871091 280.326349 \r\nL 178.871091 200.228461 \r\nL 172.818 200.228461 \r\nz\r\n\" style=\"fill:#1f77b4;\"/>\r\n   </g>\r\n   <g id=\"patch_21\">\r\n    <path clip-path=\"url(#p2ce82f79ff)\" d=\"M 178.871091 280.326349 \r\nL 184.924182 280.326349 \r\nL 184.924182 151.857308 \r\nL 178.871091 151.857308 \r\nz\r\n\" style=\"fill:#1f77b4;\"/>\r\n   </g>\r\n   <g id=\"patch_22\">\r\n    <path clip-path=\"url(#p2ce82f79ff)\" d=\"M 184.924182 280.326349 \r\nL 190.977273 280.326349 \r\nL 190.977273 111.565969 \r\nL 184.924182 111.565969 \r\nz\r\n\" style=\"fill:#1f77b4;\"/>\r\n   </g>\r\n   <g id=\"patch_23\">\r\n    <path clip-path=\"url(#p2ce82f79ff)\" d=\"M 190.977273 280.326349 \r\nL 197.030364 280.326349 \r\nL 197.030364 90.181395 \r\nL 190.977273 90.181395 \r\nz\r\n\" style=\"fill:#1f77b4;\"/>\r\n   </g>\r\n   <g id=\"patch_24\">\r\n    <path clip-path=\"url(#p2ce82f79ff)\" d=\"M 197.030364 280.326349 \r\nL 203.083455 280.326349 \r\nL 203.083455 91.474165 \r\nL 197.030364 91.474165 \r\nz\r\n\" style=\"fill:#1f77b4;\"/>\r\n   </g>\r\n   <g id=\"patch_25\">\r\n    <path clip-path=\"url(#p2ce82f79ff)\" d=\"M 203.083455 280.326349 \r\nL 209.136545 280.326349 \r\nL 209.136545 86.087623 \r\nL 203.083455 86.087623 \r\nz\r\n\" style=\"fill:#1f77b4;\"/>\r\n   </g>\r\n   <g id=\"patch_26\">\r\n    <path clip-path=\"url(#p2ce82f79ff)\" d=\"M 209.136545 280.326349 \r\nL 215.189636 280.326349 \r\nL 215.189636 58.885583 \r\nL 209.136545 58.885583 \r\nz\r\n\" style=\"fill:#1f77b4;\"/>\r\n   </g>\r\n   <g id=\"patch_27\">\r\n    <path clip-path=\"url(#p2ce82f79ff)\" d=\"M 215.189636 280.326349 \r\nL 221.242727 280.326349 \r\nL 221.242727 90.396857 \r\nL 215.189636 90.396857 \r\nz\r\n\" style=\"fill:#1f77b4;\"/>\r\n   </g>\r\n   <g id=\"patch_28\">\r\n    <path clip-path=\"url(#p2ce82f79ff)\" d=\"M 221.242727 280.326349 \r\nL 227.295818 280.326349 \r\nL 227.295818 117.221839 \r\nL 221.242727 117.221839 \r\nz\r\n\" style=\"fill:#1f77b4;\"/>\r\n   </g>\r\n   <g id=\"patch_29\">\r\n    <path clip-path=\"url(#p2ce82f79ff)\" d=\"M 227.295818 280.326349 \r\nL 233.348909 280.326349 \r\nL 233.348909 154.819906 \r\nL 227.295818 154.819906 \r\nz\r\n\" style=\"fill:#1f77b4;\"/>\r\n   </g>\r\n   <g id=\"patch_30\">\r\n    <path clip-path=\"url(#p2ce82f79ff)\" d=\"M 233.348909 280.326349 \r\nL 239.402 280.326349 \r\nL 239.402 202.652405 \r\nL 233.348909 202.652405 \r\nz\r\n\" style=\"fill:#1f77b4;\"/>\r\n   </g>\r\n   <g id=\"patch_31\">\r\n    <path clip-path=\"url(#p2ce82f79ff)\" d=\"M 239.402 280.326349 \r\nL 245.455091 280.326349 \r\nL 245.455091 262.119835 \r\nL 239.402 262.119835 \r\nz\r\n\" style=\"fill:#1f77b4;\"/>\r\n   </g>\r\n   <g id=\"patch_32\">\r\n    <path clip-path=\"url(#p2ce82f79ff)\" d=\"M 245.455091 280.326349 \r\nL 251.508182 280.326349 \r\nL 251.508182 271.115361 \r\nL 245.455091 271.115361 \r\nz\r\n\" style=\"fill:#1f77b4;\"/>\r\n   </g>\r\n   <g id=\"patch_33\">\r\n    <path clip-path=\"url(#p2ce82f79ff)\" d=\"M 251.508182 280.326349 \r\nL 257.561273 280.326349 \r\nL 257.561273 243.69786 \r\nL 251.508182 243.69786 \r\nz\r\n\" style=\"fill:#1f77b4;\"/>\r\n   </g>\r\n   <g id=\"patch_34\">\r\n    <path clip-path=\"url(#p2ce82f79ff)\" d=\"M 257.561273 280.326349 \r\nL 263.614364 280.326349 \r\nL 263.614364 232.493851 \r\nL 257.561273 232.493851 \r\nz\r\n\" style=\"fill:#1f77b4;\"/>\r\n   </g>\r\n   <g id=\"patch_35\">\r\n    <path clip-path=\"url(#p2ce82f79ff)\" d=\"M 263.614364 280.326349 \r\nL 269.667455 280.326349 \r\nL 269.667455 177.928174 \r\nL 263.614364 177.928174 \r\nz\r\n\" style=\"fill:#1f77b4;\"/>\r\n   </g>\r\n   <g id=\"patch_36\">\r\n    <path clip-path=\"url(#p2ce82f79ff)\" d=\"M 269.667455 280.326349 \r\nL 275.720545 280.326349 \r\nL 275.720545 131.334581 \r\nL 269.667455 131.334581 \r\nz\r\n\" style=\"fill:#1f77b4;\"/>\r\n   </g>\r\n   <g id=\"patch_37\">\r\n    <path clip-path=\"url(#p2ce82f79ff)\" d=\"M 275.720545 280.326349 \r\nL 281.773636 280.326349 \r\nL 281.773636 85.279641 \r\nL 275.720545 85.279641 \r\nz\r\n\" style=\"fill:#1f77b4;\"/>\r\n   </g>\r\n   <g id=\"patch_38\">\r\n    <path clip-path=\"url(#p2ce82f79ff)\" d=\"M 281.773636 280.326349 \r\nL 287.826727 280.326349 \r\nL 287.826727 72.621266 \r\nL 281.773636 72.621266 \r\nz\r\n\" style=\"fill:#1f77b4;\"/>\r\n   </g>\r\n   <g id=\"patch_39\">\r\n    <path clip-path=\"url(#p2ce82f79ff)\" d=\"M 287.826727 280.326349 \r\nL 293.879818 280.326349 \r\nL 293.879818 68.904552 \r\nL 287.826727 68.904552 \r\nz\r\n\" style=\"fill:#1f77b4;\"/>\r\n   </g>\r\n   <g id=\"patch_40\">\r\n    <path clip-path=\"url(#p2ce82f79ff)\" d=\"M 293.879818 280.326349 \r\nL 299.932909 280.326349 \r\nL 299.932909 69.820264 \r\nL 293.879818 69.820264 \r\nz\r\n\" style=\"fill:#1f77b4;\"/>\r\n   </g>\r\n   <g id=\"patch_41\">\r\n    <path clip-path=\"url(#p2ce82f79ff)\" d=\"M 299.932909 280.326349 \r\nL 305.986 280.326349 \r\nL 305.986 84.794853 \r\nL 299.932909 84.794853 \r\nz\r\n\" style=\"fill:#1f77b4;\"/>\r\n   </g>\r\n   <g id=\"patch_42\">\r\n    <path clip-path=\"url(#p2ce82f79ff)\" d=\"M 305.986 280.326349 \r\nL 312.039091 280.326349 \r\nL 312.039091 96.052727 \r\nL 305.986 96.052727 \r\nz\r\n\" style=\"fill:#1f77b4;\"/>\r\n   </g>\r\n   <g id=\"patch_43\">\r\n    <path clip-path=\"url(#p2ce82f79ff)\" d=\"M 312.039091 280.326349 \r\nL 318.092182 280.326349 \r\nL 318.092182 138.067759 \r\nL 312.039091 138.067759 \r\nz\r\n\" style=\"fill:#1f77b4;\"/>\r\n   </g>\r\n   <g id=\"patch_44\">\r\n    <path clip-path=\"url(#p2ce82f79ff)\" d=\"M 318.092182 280.326349 \r\nL 324.145273 280.326349 \r\nL 324.145273 214.179606 \r\nL 318.092182 214.179606 \r\nz\r\n\" style=\"fill:#1f77b4;\"/>\r\n   </g>\r\n   <g id=\"patch_45\">\r\n    <path clip-path=\"url(#p2ce82f79ff)\" d=\"M 324.145273 280.326349 \r\nL 330.198364 280.326349 \r\nL 330.198364 250.377172 \r\nL 324.145273 250.377172 \r\nz\r\n\" style=\"fill:#1f77b4;\"/>\r\n   </g>\r\n   <g id=\"patch_46\">\r\n    <path clip-path=\"url(#p2ce82f79ff)\" d=\"M 330.198364 280.326349 \r\nL 336.251455 280.326349 \r\nL 336.251455 270.468976 \r\nL 330.198364 270.468976 \r\nz\r\n\" style=\"fill:#1f77b4;\"/>\r\n   </g>\r\n   <g id=\"patch_47\">\r\n    <path clip-path=\"url(#p2ce82f79ff)\" d=\"M 336.251455 280.326349 \r\nL 342.304545 280.326349 \r\nL 342.304545 262.012104 \r\nL 336.251455 262.012104 \r\nz\r\n\" style=\"fill:#1f77b4;\"/>\r\n   </g>\r\n   <g id=\"patch_48\">\r\n    <path clip-path=\"url(#p2ce82f79ff)\" d=\"M 342.304545 280.326349 \r\nL 348.357636 280.326349 \r\nL 348.357636 245.906342 \r\nL 342.304545 245.906342 \r\nz\r\n\" style=\"fill:#1f77b4;\"/>\r\n   </g>\r\n   <g id=\"patch_49\">\r\n    <path clip-path=\"url(#p2ce82f79ff)\" d=\"M 348.357636 280.326349 \r\nL 354.410727 280.326349 \r\nL 354.410727 206.369119 \r\nL 348.357636 206.369119 \r\nz\r\n\" style=\"fill:#1f77b4;\"/>\r\n   </g>\r\n   <g id=\"patch_50\">\r\n    <path clip-path=\"url(#p2ce82f79ff)\" d=\"M 354.410727 280.326349 \r\nL 360.463818 280.326349 \r\nL 360.463818 156.759062 \r\nL 354.410727 156.759062 \r\nz\r\n\" style=\"fill:#1f77b4;\"/>\r\n   </g>\r\n   <g id=\"patch_51\">\r\n    <path clip-path=\"url(#p2ce82f79ff)\" d=\"M 360.463818 280.326349 \r\nL 366.516909 280.326349 \r\nL 366.516909 127.240808 \r\nL 360.463818 127.240808 \r\nz\r\n\" style=\"fill:#1f77b4;\"/>\r\n   </g>\r\n   <g id=\"patch_52\">\r\n    <path clip-path=\"url(#p2ce82f79ff)\" d=\"M 366.516909 280.326349 \r\nL 372.57 280.326349 \r\nL 372.57 80.970407 \r\nL 366.516909 80.970407 \r\nz\r\n\" style=\"fill:#1f77b4;\"/>\r\n   </g>\r\n   <g id=\"patch_53\">\r\n    <path clip-path=\"url(#p2ce82f79ff)\" d=\"M 372.57 280.326349 \r\nL 378.623091 280.326349 \r\nL 378.623091 70.197322 \r\nL 372.57 70.197322 \r\nz\r\n\" style=\"fill:#1f77b4;\"/>\r\n   </g>\r\n   <g id=\"patch_54\">\r\n    <path clip-path=\"url(#p2ce82f79ff)\" d=\"M 378.623091 280.326349 \r\nL 384.676182 280.326349 \r\nL 384.676182 77.199827 \r\nL 378.623091 77.199827 \r\nz\r\n\" style=\"fill:#1f77b4;\"/>\r\n   </g>\r\n   <g id=\"patch_55\">\r\n    <path clip-path=\"url(#p2ce82f79ff)\" d=\"M 384.676182 280.326349 \r\nL 390.729273 280.326349 \r\nL 390.729273 88.24224 \r\nL 384.676182 88.24224 \r\nz\r\n\" style=\"fill:#1f77b4;\"/>\r\n   </g>\r\n   <g id=\"patch_56\">\r\n    <path clip-path=\"url(#p2ce82f79ff)\" d=\"M 390.729273 280.326349 \r\nL 396.782364 280.326349 \r\nL 396.782364 79.569906 \r\nL 390.729273 79.569906 \r\nz\r\n\" style=\"fill:#1f77b4;\"/>\r\n   </g>\r\n   <g id=\"patch_57\">\r\n    <path clip-path=\"url(#p2ce82f79ff)\" d=\"M 396.782364 280.326349 \r\nL 402.835455 280.326349 \r\nL 402.835455 109.465218 \r\nL 396.782364 109.465218 \r\nz\r\n\" style=\"fill:#1f77b4;\"/>\r\n   </g>\r\n   <g id=\"patch_58\">\r\n    <path clip-path=\"url(#p2ce82f79ff)\" d=\"M 402.835455 280.326349 \r\nL 408.888545 280.326349 \r\nL 408.888545 169.579033 \r\nL 402.835455 169.579033 \r\nz\r\n\" style=\"fill:#1f77b4;\"/>\r\n   </g>\r\n   <g id=\"patch_59\">\r\n    <path clip-path=\"url(#p2ce82f79ff)\" d=\"M 408.888545 280.326349 \r\nL 414.941636 280.326349 \r\nL 414.941636 223.444459 \r\nL 408.888545 223.444459 \r\nz\r\n\" style=\"fill:#1f77b4;\"/>\r\n   </g>\r\n   <g id=\"patch_60\">\r\n    <path clip-path=\"url(#p2ce82f79ff)\" d=\"M 414.941636 280.326349 \r\nL 420.994727 280.326349 \r\nL 420.994727 257.972198 \r\nL 414.941636 257.972198 \r\nz\r\n\" style=\"fill:#1f77b4;\"/>\r\n   </g>\r\n   <g id=\"patch_61\">\r\n    <path clip-path=\"url(#p2ce82f79ff)\" d=\"M 420.994727 280.326349 \r\nL 427.047818 280.326349 \r\nL 427.047818 265.782684 \r\nL 420.994727 265.782684 \r\nz\r\n\" style=\"fill:#1f77b4;\"/>\r\n   </g>\r\n   <g id=\"patch_62\">\r\n    <path clip-path=\"url(#p2ce82f79ff)\" d=\"M 427.047818 280.326349 \r\nL 433.100909 280.326349 \r\nL 433.100909 251.831539 \r\nL 427.047818 251.831539 \r\nz\r\n\" style=\"fill:#1f77b4;\"/>\r\n   </g>\r\n   <g id=\"patch_63\">\r\n    <path clip-path=\"url(#p2ce82f79ff)\" d=\"M 433.100909 280.326349 \r\nL 439.154 280.326349 \r\nL 439.154 220.37413 \r\nL 433.100909 220.37413 \r\nz\r\n\" style=\"fill:#1f77b4;\"/>\r\n   </g>\r\n   <g id=\"patch_64\">\r\n    <path clip-path=\"url(#p2ce82f79ff)\" d=\"M 439.154 280.326349 \r\nL 445.207091 280.326349 \r\nL 445.207091 160.960565 \r\nL 439.154 160.960565 \r\nz\r\n\" style=\"fill:#1f77b4;\"/>\r\n   </g>\r\n   <g id=\"patch_65\">\r\n    <path clip-path=\"url(#p2ce82f79ff)\" d=\"M 445.207091 280.326349 \r\nL 451.260182 280.326349 \r\nL 451.260182 144.693206 \r\nL 445.207091 144.693206 \r\nz\r\n\" style=\"fill:#1f77b4;\"/>\r\n   </g>\r\n   <g id=\"patch_66\">\r\n    <path clip-path=\"url(#p2ce82f79ff)\" d=\"M 451.260182 280.326349 \r\nL 457.313273 280.326349 \r\nL 457.313273 103.43229 \r\nL 451.260182 103.43229 \r\nz\r\n\" style=\"fill:#1f77b4;\"/>\r\n   </g>\r\n   <g id=\"patch_67\">\r\n    <path clip-path=\"url(#p2ce82f79ff)\" d=\"M 457.313273 280.326349 \r\nL 463.366364 280.326349 \r\nL 463.366364 80.270157 \r\nL 457.313273 80.270157 \r\nz\r\n\" style=\"fill:#1f77b4;\"/>\r\n   </g>\r\n   <g id=\"patch_68\">\r\n    <path clip-path=\"url(#p2ce82f79ff)\" d=\"M 463.366364 280.326349 \r\nL 469.419455 280.326349 \r\nL 469.419455 84.633256 \r\nL 463.366364 84.633256 \r\nz\r\n\" style=\"fill:#1f77b4;\"/>\r\n   </g>\r\n   <g id=\"patch_69\">\r\n    <path clip-path=\"url(#p2ce82f79ff)\" d=\"M 469.419455 280.326349 \r\nL 475.472545 280.326349 \r\nL 475.472545 39.116971 \r\nL 469.419455 39.116971 \r\nz\r\n\" style=\"fill:#1f77b4;\"/>\r\n   </g>\r\n   <g id=\"patch_70\">\r\n    <path clip-path=\"url(#p2ce82f79ff)\" d=\"M 475.472545 280.326349 \r\nL 481.525636 280.326349 \r\nL 481.525636 22.795747 \r\nL 475.472545 22.795747 \r\nz\r\n\" style=\"fill:#1f77b4;\"/>\r\n   </g>\r\n   <g id=\"patch_71\">\r\n    <path clip-path=\"url(#p2ce82f79ff)\" d=\"M 481.525636 280.326349 \r\nL 487.578727 280.326349 \r\nL 487.578727 59.208775 \r\nL 481.525636 59.208775 \r\nz\r\n\" style=\"fill:#1f77b4;\"/>\r\n   </g>\r\n   <g id=\"patch_72\">\r\n    <path clip-path=\"url(#p2ce82f79ff)\" d=\"M 487.578727 280.326349 \r\nL 493.631818 280.326349 \r\nL 493.631818 131.496177 \r\nL 487.578727 131.496177 \r\nz\r\n\" style=\"fill:#1f77b4;\"/>\r\n   </g>\r\n   <g id=\"patch_73\">\r\n    <path clip-path=\"url(#p2ce82f79ff)\" d=\"M 493.631818 280.326349 \r\nL 499.684909 280.326349 \r\nL 499.684909 183.74564 \r\nL 493.631818 183.74564 \r\nz\r\n\" style=\"fill:#1f77b4;\"/>\r\n   </g>\r\n   <g id=\"patch_74\">\r\n    <path clip-path=\"url(#p2ce82f79ff)\" d=\"M 499.684909 280.326349 \r\nL 505.738 280.326349 \r\nL 505.738 245.313822 \r\nL 499.684909 245.313822 \r\nz\r\n\" style=\"fill:#1f77b4;\"/>\r\n   </g>\r\n   <g id=\"patch_75\">\r\n    <path clip-path=\"url(#p2ce82f79ff)\" d=\"M 505.738 280.326349 \r\nL 511.791091 280.326349 \r\nL 511.791091 263.466471 \r\nL 505.738 263.466471 \r\nz\r\n\" style=\"fill:#1f77b4;\"/>\r\n   </g>\r\n   <g id=\"patch_76\">\r\n    <path clip-path=\"url(#p2ce82f79ff)\" d=\"M 511.791091 280.326349 \r\nL 517.844182 280.326349 \r\nL 517.844182 263.35874 \r\nL 511.791091 263.35874 \r\nz\r\n\" style=\"fill:#1f77b4;\"/>\r\n   </g>\r\n   <g id=\"patch_77\">\r\n    <path clip-path=\"url(#p2ce82f79ff)\" d=\"M 517.844182 280.326349 \r\nL 523.897273 280.326349 \r\nL 523.897273 224.521768 \r\nL 517.844182 224.521768 \r\nz\r\n\" style=\"fill:#1f77b4;\"/>\r\n   </g>\r\n   <g id=\"patch_78\">\r\n    <path clip-path=\"url(#p2ce82f79ff)\" d=\"M 523.897273 280.326349 \r\nL 529.950364 280.326349 \r\nL 529.950364 166.077781 \r\nL 523.897273 166.077781 \r\nz\r\n\" style=\"fill:#1f77b4;\"/>\r\n   </g>\r\n   <g id=\"patch_79\">\r\n    <path clip-path=\"url(#p2ce82f79ff)\" d=\"M 529.950364 280.326349 \r\nL 536.003455 280.326349 \r\nL 536.003455 120.50763 \r\nL 529.950364 120.50763 \r\nz\r\n\" style=\"fill:#1f77b4;\"/>\r\n   </g>\r\n   <g id=\"patch_80\">\r\n    <path clip-path=\"url(#p2ce82f79ff)\" d=\"M 536.003455 280.326349 \r\nL 542.056545 280.326349 \r\nL 542.056545 121.584939 \r\nL 536.003455 121.584939 \r\nz\r\n\" style=\"fill:#1f77b4;\"/>\r\n   </g>\r\n   <g id=\"patch_81\">\r\n    <path clip-path=\"url(#p2ce82f79ff)\" d=\"M 542.056545 280.326349 \r\nL 548.109636 280.326349 \r\nL 548.109636 105.640772 \r\nL 542.056545 105.640772 \r\nz\r\n\" style=\"fill:#1f77b4;\"/>\r\n   </g>\r\n   <g id=\"patch_82\">\r\n    <path clip-path=\"url(#p2ce82f79ff)\" d=\"M 548.109636 280.326349 \r\nL 554.162727 280.326349 \r\nL 554.162727 104.886656 \r\nL 548.109636 104.886656 \r\nz\r\n\" style=\"fill:#1f77b4;\"/>\r\n   </g>\r\n   <g id=\"patch_83\">\r\n    <path clip-path=\"url(#p2ce82f79ff)\" d=\"M 554.162727 280.326349 \r\nL 560.215818 280.326349 \r\nL 560.215818 101.762462 \r\nL 554.162727 101.762462 \r\nz\r\n\" style=\"fill:#1f77b4;\"/>\r\n   </g>\r\n   <g id=\"patch_84\">\r\n    <path clip-path=\"url(#p2ce82f79ff)\" d=\"M 560.215818 280.326349 \r\nL 566.268909 280.326349 \r\nL 566.268909 39.494029 \r\nL 560.215818 39.494029 \r\nz\r\n\" style=\"fill:#1f77b4;\"/>\r\n   </g>\r\n   <g id=\"patch_85\">\r\n    <path clip-path=\"url(#p2ce82f79ff)\" d=\"M 566.268909 280.326349 \r\nL 572.322 280.326349 \r\nL 572.322 51.290557 \r\nL 566.268909 51.290557 \r\nz\r\n\" style=\"fill:#1f77b4;\"/>\r\n   </g>\r\n   <g id=\"patch_86\">\r\n    <path clip-path=\"url(#p2ce82f79ff)\" d=\"M 572.322 280.326349 \r\nL 578.375091 280.326349 \r\nL 578.375091 68.042705 \r\nL 572.322 68.042705 \r\nz\r\n\" style=\"fill:#1f77b4;\"/>\r\n   </g>\r\n   <g id=\"patch_87\">\r\n    <path clip-path=\"url(#p2ce82f79ff)\" d=\"M 578.375091 280.326349 \r\nL 584.428182 280.326349 \r\nL 584.428182 145.177995 \r\nL 578.375091 145.177995 \r\nz\r\n\" style=\"fill:#1f77b4;\"/>\r\n   </g>\r\n   <g id=\"patch_88\">\r\n    <path clip-path=\"url(#p2ce82f79ff)\" d=\"M 584.428182 280.326349 \r\nL 590.481273 280.326349 \r\nL 590.481273 224.575633 \r\nL 584.428182 224.575633 \r\nz\r\n\" style=\"fill:#1f77b4;\"/>\r\n   </g>\r\n   <g id=\"patch_89\">\r\n    <path clip-path=\"url(#p2ce82f79ff)\" d=\"M 590.481273 280.326349 \r\nL 596.534364 280.326349 \r\nL 596.534364 266.213608 \r\nL 590.481273 266.213608 \r\nz\r\n\" style=\"fill:#1f77b4;\"/>\r\n   </g>\r\n   <g id=\"patch_90\">\r\n    <path clip-path=\"url(#p2ce82f79ff)\" d=\"M 596.534364 280.326349 \r\nL 602.587455 280.326349 \r\nL 602.587455 269.176206 \r\nL 596.534364 269.176206 \r\nz\r\n\" style=\"fill:#1f77b4;\"/>\r\n   </g>\r\n   <g id=\"patch_91\">\r\n    <path clip-path=\"url(#p2ce82f79ff)\" d=\"M 602.587455 280.326349 \r\nL 608.640545 280.326349 \r\nL 608.640545 252.316328 \r\nL 602.587455 252.316328 \r\nz\r\n\" style=\"fill:#1f77b4;\"/>\r\n   </g>\r\n   <g id=\"patch_92\">\r\n    <path clip-path=\"url(#p2ce82f79ff)\" d=\"M 608.640545 280.326349 \r\nL 614.693636 280.326349 \r\nL 614.693636 196.35015 \r\nL 608.640545 196.35015 \r\nz\r\n\" style=\"fill:#1f77b4;\"/>\r\n   </g>\r\n   <g id=\"patch_93\">\r\n    <path clip-path=\"url(#p2ce82f79ff)\" d=\"M 614.693636 280.326349 \r\nL 620.746727 280.326349 \r\nL 620.746727 176.366077 \r\nL 614.693636 176.366077 \r\nz\r\n\" style=\"fill:#1f77b4;\"/>\r\n   </g>\r\n   <g id=\"patch_94\">\r\n    <path clip-path=\"url(#p2ce82f79ff)\" d=\"M 620.746727 280.326349 \r\nL 626.799818 280.326349 \r\nL 626.799818 156.166542 \r\nL 620.746727 156.166542 \r\nz\r\n\" style=\"fill:#1f77b4;\"/>\r\n   </g>\r\n   <g id=\"patch_95\">\r\n    <path clip-path=\"url(#p2ce82f79ff)\" d=\"M 626.799818 280.326349 \r\nL 632.852909 280.326349 \r\nL 632.852909 132.735082 \r\nL 626.799818 132.735082 \r\nz\r\n\" style=\"fill:#1f77b4;\"/>\r\n   </g>\r\n   <g id=\"patch_96\">\r\n    <path clip-path=\"url(#p2ce82f79ff)\" d=\"M 632.852909 280.326349 \r\nL 638.906 280.326349 \r\nL 638.906 115.390415 \r\nL 632.852909 115.390415 \r\nz\r\n\" style=\"fill:#1f77b4;\"/>\r\n   </g>\r\n   <g id=\"patch_97\">\r\n    <path clip-path=\"url(#p2ce82f79ff)\" d=\"M 638.906 280.326349 \r\nL 644.959091 280.326349 \r\nL 644.959091 111.188911 \r\nL 638.906 111.188911 \r\nz\r\n\" style=\"fill:#1f77b4;\"/>\r\n   </g>\r\n   <g id=\"patch_98\">\r\n    <path clip-path=\"url(#p2ce82f79ff)\" d=\"M 644.959091 280.326349 \r\nL 651.012182 280.326349 \r\nL 651.012182 87.595855 \r\nL 644.959091 87.595855 \r\nz\r\n\" style=\"fill:#1f77b4;\"/>\r\n   </g>\r\n   <g id=\"patch_99\">\r\n    <path clip-path=\"url(#p2ce82f79ff)\" d=\"M 651.012182 280.326349 \r\nL 657.065273 280.326349 \r\nL 657.065273 46.281073 \r\nL 651.012182 46.281073 \r\nz\r\n\" style=\"fill:#1f77b4;\"/>\r\n   </g>\r\n   <g id=\"patch_100\">\r\n    <path clip-path=\"url(#p2ce82f79ff)\" d=\"M 657.065273 280.326349 \r\nL 663.118364 280.326349 \r\nL 663.118364 95.729534 \r\nL 657.065273 95.729534 \r\nz\r\n\" style=\"fill:#1f77b4;\"/>\r\n   </g>\r\n   <g id=\"patch_101\">\r\n    <path clip-path=\"url(#p2ce82f79ff)\" d=\"M 663.118364 280.326349 \r\nL 669.171455 280.326349 \r\nL 669.171455 129.126098 \r\nL 663.118364 129.126098 \r\nz\r\n\" style=\"fill:#1f77b4;\"/>\r\n   </g>\r\n   <g id=\"patch_102\">\r\n    <path clip-path=\"url(#p2ce82f79ff)\" d=\"M 669.171455 280.326349 \r\nL 675.224545 280.326349 \r\nL 675.224545 198.989556 \r\nL 669.171455 198.989556 \r\nz\r\n\" style=\"fill:#1f77b4;\"/>\r\n   </g>\r\n   <g id=\"matplotlib.axis_1\">\r\n    <g id=\"xtick_1\">\r\n     <g id=\"line2d_1\">\r\n      <path clip-path=\"url(#p2ce82f79ff)\" d=\"M 69.459285 280.326349 \r\nL 69.459285 9.919217 \r\n\" style=\"fill:none;stroke:#b0b0b0;stroke-linecap:square;stroke-width:0.8;\"/>\r\n     </g>\r\n     <g id=\"line2d_2\">\r\n      <defs>\r\n       <path d=\"M 0 0 \r\nL 0 3.5 \r\n\" id=\"m7c5eaf1fbf\" style=\"stroke:#000000;stroke-width:0.8;\"/>\r\n      </defs>\r\n      <g>\r\n       <use style=\"stroke:#000000;stroke-width:0.8;\" x=\"69.459285\" xlink:href=\"#m7c5eaf1fbf\" y=\"280.326349\"/>\r\n      </g>\r\n     </g>\r\n     <g id=\"text_1\">\r\n      <!-- 2019-08-01 -->\r\n      <g transform=\"translate(72.21866 345.441974)rotate(-90)scale(0.1 -0.1)\">\r\n       <defs>\r\n        <path d=\"M 1228 531 \r\nL 3431 531 \r\nL 3431 0 \r\nL 469 0 \r\nL 469 531 \r\nQ 828 903 1448 1529 \r\nQ 2069 2156 2228 2338 \r\nQ 2531 2678 2651 2914 \r\nQ 2772 3150 2772 3378 \r\nQ 2772 3750 2511 3984 \r\nQ 2250 4219 1831 4219 \r\nQ 1534 4219 1204 4116 \r\nQ 875 4013 500 3803 \r\nL 500 4441 \r\nQ 881 4594 1212 4672 \r\nQ 1544 4750 1819 4750 \r\nQ 2544 4750 2975 4387 \r\nQ 3406 4025 3406 3419 \r\nQ 3406 3131 3298 2873 \r\nQ 3191 2616 2906 2266 \r\nQ 2828 2175 2409 1742 \r\nQ 1991 1309 1228 531 \r\nz\r\n\" id=\"DejaVuSans-32\" transform=\"scale(0.015625)\"/>\r\n        <path d=\"M 2034 4250 \r\nQ 1547 4250 1301 3770 \r\nQ 1056 3291 1056 2328 \r\nQ 1056 1369 1301 889 \r\nQ 1547 409 2034 409 \r\nQ 2525 409 2770 889 \r\nQ 3016 1369 3016 2328 \r\nQ 3016 3291 2770 3770 \r\nQ 2525 4250 2034 4250 \r\nz\r\nM 2034 4750 \r\nQ 2819 4750 3233 4129 \r\nQ 3647 3509 3647 2328 \r\nQ 3647 1150 3233 529 \r\nQ 2819 -91 2034 -91 \r\nQ 1250 -91 836 529 \r\nQ 422 1150 422 2328 \r\nQ 422 3509 836 4129 \r\nQ 1250 4750 2034 4750 \r\nz\r\n\" id=\"DejaVuSans-30\" transform=\"scale(0.015625)\"/>\r\n        <path d=\"M 794 531 \r\nL 1825 531 \r\nL 1825 4091 \r\nL 703 3866 \r\nL 703 4441 \r\nL 1819 4666 \r\nL 2450 4666 \r\nL 2450 531 \r\nL 3481 531 \r\nL 3481 0 \r\nL 794 0 \r\nL 794 531 \r\nz\r\n\" id=\"DejaVuSans-31\" transform=\"scale(0.015625)\"/>\r\n        <path d=\"M 703 97 \r\nL 703 672 \r\nQ 941 559 1184 500 \r\nQ 1428 441 1663 441 \r\nQ 2288 441 2617 861 \r\nQ 2947 1281 2994 2138 \r\nQ 2813 1869 2534 1725 \r\nQ 2256 1581 1919 1581 \r\nQ 1219 1581 811 2004 \r\nQ 403 2428 403 3163 \r\nQ 403 3881 828 4315 \r\nQ 1253 4750 1959 4750 \r\nQ 2769 4750 3195 4129 \r\nQ 3622 3509 3622 2328 \r\nQ 3622 1225 3098 567 \r\nQ 2575 -91 1691 -91 \r\nQ 1453 -91 1209 -44 \r\nQ 966 3 703 97 \r\nz\r\nM 1959 2075 \r\nQ 2384 2075 2632 2365 \r\nQ 2881 2656 2881 3163 \r\nQ 2881 3666 2632 3958 \r\nQ 2384 4250 1959 4250 \r\nQ 1534 4250 1286 3958 \r\nQ 1038 3666 1038 3163 \r\nQ 1038 2656 1286 2365 \r\nQ 1534 2075 1959 2075 \r\nz\r\n\" id=\"DejaVuSans-39\" transform=\"scale(0.015625)\"/>\r\n        <path d=\"M 313 2009 \r\nL 1997 2009 \r\nL 1997 1497 \r\nL 313 1497 \r\nL 313 2009 \r\nz\r\n\" id=\"DejaVuSans-2d\" transform=\"scale(0.015625)\"/>\r\n        <path d=\"M 2034 2216 \r\nQ 1584 2216 1326 1975 \r\nQ 1069 1734 1069 1313 \r\nQ 1069 891 1326 650 \r\nQ 1584 409 2034 409 \r\nQ 2484 409 2743 651 \r\nQ 3003 894 3003 1313 \r\nQ 3003 1734 2745 1975 \r\nQ 2488 2216 2034 2216 \r\nz\r\nM 1403 2484 \r\nQ 997 2584 770 2862 \r\nQ 544 3141 544 3541 \r\nQ 544 4100 942 4425 \r\nQ 1341 4750 2034 4750 \r\nQ 2731 4750 3128 4425 \r\nQ 3525 4100 3525 3541 \r\nQ 3525 3141 3298 2862 \r\nQ 3072 2584 2669 2484 \r\nQ 3125 2378 3379 2068 \r\nQ 3634 1759 3634 1313 \r\nQ 3634 634 3220 271 \r\nQ 2806 -91 2034 -91 \r\nQ 1263 -91 848 271 \r\nQ 434 634 434 1313 \r\nQ 434 1759 690 2068 \r\nQ 947 2378 1403 2484 \r\nz\r\nM 1172 3481 \r\nQ 1172 3119 1398 2916 \r\nQ 1625 2713 2034 2713 \r\nQ 2441 2713 2670 2916 \r\nQ 2900 3119 2900 3481 \r\nQ 2900 3844 2670 4047 \r\nQ 2441 4250 2034 4250 \r\nQ 1625 4250 1398 4047 \r\nQ 1172 3844 1172 3481 \r\nz\r\n\" id=\"DejaVuSans-38\" transform=\"scale(0.015625)\"/>\r\n       </defs>\r\n       <use xlink:href=\"#DejaVuSans-32\"/>\r\n       <use x=\"63.623047\" xlink:href=\"#DejaVuSans-30\"/>\r\n       <use x=\"127.246094\" xlink:href=\"#DejaVuSans-31\"/>\r\n       <use x=\"190.869141\" xlink:href=\"#DejaVuSans-39\"/>\r\n       <use x=\"254.492188\" xlink:href=\"#DejaVuSans-2d\"/>\r\n       <use x=\"290.576172\" xlink:href=\"#DejaVuSans-30\"/>\r\n       <use x=\"354.199219\" xlink:href=\"#DejaVuSans-38\"/>\r\n       <use x=\"417.822266\" xlink:href=\"#DejaVuSans-2d\"/>\r\n       <use x=\"453.90625\" xlink:href=\"#DejaVuSans-30\"/>\r\n       <use x=\"517.529297\" xlink:href=\"#DejaVuSans-31\"/>\r\n      </g>\r\n     </g>\r\n    </g>\r\n    <g id=\"xtick_2\">\r\n     <g id=\"line2d_3\">\r\n      <path clip-path=\"url(#p2ce82f79ff)\" d=\"M 157.434782 280.326349 \r\nL 157.434782 9.919217 \r\n\" style=\"fill:none;stroke:#b0b0b0;stroke-linecap:square;stroke-width:0.8;\"/>\r\n     </g>\r\n     <g id=\"line2d_4\">\r\n      <g>\r\n       <use style=\"stroke:#000000;stroke-width:0.8;\" x=\"157.434782\" xlink:href=\"#m7c5eaf1fbf\" y=\"280.326349\"/>\r\n      </g>\r\n     </g>\r\n     <g id=\"text_2\">\r\n      <!-- 2019-08-02 -->\r\n      <g transform=\"translate(160.194157 345.441974)rotate(-90)scale(0.1 -0.1)\">\r\n       <use xlink:href=\"#DejaVuSans-32\"/>\r\n       <use x=\"63.623047\" xlink:href=\"#DejaVuSans-30\"/>\r\n       <use x=\"127.246094\" xlink:href=\"#DejaVuSans-31\"/>\r\n       <use x=\"190.869141\" xlink:href=\"#DejaVuSans-39\"/>\r\n       <use x=\"254.492188\" xlink:href=\"#DejaVuSans-2d\"/>\r\n       <use x=\"290.576172\" xlink:href=\"#DejaVuSans-30\"/>\r\n       <use x=\"354.199219\" xlink:href=\"#DejaVuSans-38\"/>\r\n       <use x=\"417.822266\" xlink:href=\"#DejaVuSans-2d\"/>\r\n       <use x=\"453.90625\" xlink:href=\"#DejaVuSans-30\"/>\r\n       <use x=\"517.529297\" xlink:href=\"#DejaVuSans-32\"/>\r\n      </g>\r\n     </g>\r\n    </g>\r\n    <g id=\"xtick_3\">\r\n     <g id=\"line2d_5\">\r\n      <path clip-path=\"url(#p2ce82f79ff)\" d=\"M 245.410278 280.326349 \r\nL 245.410278 9.919217 \r\n\" style=\"fill:none;stroke:#b0b0b0;stroke-linecap:square;stroke-width:0.8;\"/>\r\n     </g>\r\n     <g id=\"line2d_6\">\r\n      <g>\r\n       <use style=\"stroke:#000000;stroke-width:0.8;\" x=\"245.410278\" xlink:href=\"#m7c5eaf1fbf\" y=\"280.326349\"/>\r\n      </g>\r\n     </g>\r\n     <g id=\"text_3\">\r\n      <!-- 2019-08-03 -->\r\n      <g transform=\"translate(248.169653 345.441974)rotate(-90)scale(0.1 -0.1)\">\r\n       <defs>\r\n        <path d=\"M 2597 2516 \r\nQ 3050 2419 3304 2112 \r\nQ 3559 1806 3559 1356 \r\nQ 3559 666 3084 287 \r\nQ 2609 -91 1734 -91 \r\nQ 1441 -91 1130 -33 \r\nQ 819 25 488 141 \r\nL 488 750 \r\nQ 750 597 1062 519 \r\nQ 1375 441 1716 441 \r\nQ 2309 441 2620 675 \r\nQ 2931 909 2931 1356 \r\nQ 2931 1769 2642 2001 \r\nQ 2353 2234 1838 2234 \r\nL 1294 2234 \r\nL 1294 2753 \r\nL 1863 2753 \r\nQ 2328 2753 2575 2939 \r\nQ 2822 3125 2822 3475 \r\nQ 2822 3834 2567 4026 \r\nQ 2313 4219 1838 4219 \r\nQ 1578 4219 1281 4162 \r\nQ 984 4106 628 3988 \r\nL 628 4550 \r\nQ 988 4650 1302 4700 \r\nQ 1616 4750 1894 4750 \r\nQ 2613 4750 3031 4423 \r\nQ 3450 4097 3450 3541 \r\nQ 3450 3153 3228 2886 \r\nQ 3006 2619 2597 2516 \r\nz\r\n\" id=\"DejaVuSans-33\" transform=\"scale(0.015625)\"/>\r\n       </defs>\r\n       <use xlink:href=\"#DejaVuSans-32\"/>\r\n       <use x=\"63.623047\" xlink:href=\"#DejaVuSans-30\"/>\r\n       <use x=\"127.246094\" xlink:href=\"#DejaVuSans-31\"/>\r\n       <use x=\"190.869141\" xlink:href=\"#DejaVuSans-39\"/>\r\n       <use x=\"254.492188\" xlink:href=\"#DejaVuSans-2d\"/>\r\n       <use x=\"290.576172\" xlink:href=\"#DejaVuSans-30\"/>\r\n       <use x=\"354.199219\" xlink:href=\"#DejaVuSans-38\"/>\r\n       <use x=\"417.822266\" xlink:href=\"#DejaVuSans-2d\"/>\r\n       <use x=\"453.90625\" xlink:href=\"#DejaVuSans-30\"/>\r\n       <use x=\"517.529297\" xlink:href=\"#DejaVuSans-33\"/>\r\n      </g>\r\n     </g>\r\n    </g>\r\n    <g id=\"xtick_4\">\r\n     <g id=\"line2d_7\">\r\n      <path clip-path=\"url(#p2ce82f79ff)\" d=\"M 333.385775 280.326349 \r\nL 333.385775 9.919217 \r\n\" style=\"fill:none;stroke:#b0b0b0;stroke-linecap:square;stroke-width:0.8;\"/>\r\n     </g>\r\n     <g id=\"line2d_8\">\r\n      <g>\r\n       <use style=\"stroke:#000000;stroke-width:0.8;\" x=\"333.385775\" xlink:href=\"#m7c5eaf1fbf\" y=\"280.326349\"/>\r\n      </g>\r\n     </g>\r\n     <g id=\"text_4\">\r\n      <!-- 2019-08-04 -->\r\n      <g transform=\"translate(336.14515 345.441974)rotate(-90)scale(0.1 -0.1)\">\r\n       <defs>\r\n        <path d=\"M 2419 4116 \r\nL 825 1625 \r\nL 2419 1625 \r\nL 2419 4116 \r\nz\r\nM 2253 4666 \r\nL 3047 4666 \r\nL 3047 1625 \r\nL 3713 1625 \r\nL 3713 1100 \r\nL 3047 1100 \r\nL 3047 0 \r\nL 2419 0 \r\nL 2419 1100 \r\nL 313 1100 \r\nL 313 1709 \r\nL 2253 4666 \r\nz\r\n\" id=\"DejaVuSans-34\" transform=\"scale(0.015625)\"/>\r\n       </defs>\r\n       <use xlink:href=\"#DejaVuSans-32\"/>\r\n       <use x=\"63.623047\" xlink:href=\"#DejaVuSans-30\"/>\r\n       <use x=\"127.246094\" xlink:href=\"#DejaVuSans-31\"/>\r\n       <use x=\"190.869141\" xlink:href=\"#DejaVuSans-39\"/>\r\n       <use x=\"254.492188\" xlink:href=\"#DejaVuSans-2d\"/>\r\n       <use x=\"290.576172\" xlink:href=\"#DejaVuSans-30\"/>\r\n       <use x=\"354.199219\" xlink:href=\"#DejaVuSans-38\"/>\r\n       <use x=\"417.822266\" xlink:href=\"#DejaVuSans-2d\"/>\r\n       <use x=\"453.90625\" xlink:href=\"#DejaVuSans-30\"/>\r\n       <use x=\"517.529297\" xlink:href=\"#DejaVuSans-34\"/>\r\n      </g>\r\n     </g>\r\n    </g>\r\n    <g id=\"xtick_5\">\r\n     <g id=\"line2d_9\">\r\n      <path clip-path=\"url(#p2ce82f79ff)\" d=\"M 421.361271 280.326349 \r\nL 421.361271 9.919217 \r\n\" style=\"fill:none;stroke:#b0b0b0;stroke-linecap:square;stroke-width:0.8;\"/>\r\n     </g>\r\n     <g id=\"line2d_10\">\r\n      <g>\r\n       <use style=\"stroke:#000000;stroke-width:0.8;\" x=\"421.361271\" xlink:href=\"#m7c5eaf1fbf\" y=\"280.326349\"/>\r\n      </g>\r\n     </g>\r\n     <g id=\"text_5\">\r\n      <!-- 2019-08-05 -->\r\n      <g transform=\"translate(424.120646 345.441974)rotate(-90)scale(0.1 -0.1)\">\r\n       <defs>\r\n        <path d=\"M 691 4666 \r\nL 3169 4666 \r\nL 3169 4134 \r\nL 1269 4134 \r\nL 1269 2991 \r\nQ 1406 3038 1543 3061 \r\nQ 1681 3084 1819 3084 \r\nQ 2600 3084 3056 2656 \r\nQ 3513 2228 3513 1497 \r\nQ 3513 744 3044 326 \r\nQ 2575 -91 1722 -91 \r\nQ 1428 -91 1123 -41 \r\nQ 819 9 494 109 \r\nL 494 744 \r\nQ 775 591 1075 516 \r\nQ 1375 441 1709 441 \r\nQ 2250 441 2565 725 \r\nQ 2881 1009 2881 1497 \r\nQ 2881 1984 2565 2268 \r\nQ 2250 2553 1709 2553 \r\nQ 1456 2553 1204 2497 \r\nQ 953 2441 691 2322 \r\nL 691 4666 \r\nz\r\n\" id=\"DejaVuSans-35\" transform=\"scale(0.015625)\"/>\r\n       </defs>\r\n       <use xlink:href=\"#DejaVuSans-32\"/>\r\n       <use x=\"63.623047\" xlink:href=\"#DejaVuSans-30\"/>\r\n       <use x=\"127.246094\" xlink:href=\"#DejaVuSans-31\"/>\r\n       <use x=\"190.869141\" xlink:href=\"#DejaVuSans-39\"/>\r\n       <use x=\"254.492188\" xlink:href=\"#DejaVuSans-2d\"/>\r\n       <use x=\"290.576172\" xlink:href=\"#DejaVuSans-30\"/>\r\n       <use x=\"354.199219\" xlink:href=\"#DejaVuSans-38\"/>\r\n       <use x=\"417.822266\" xlink:href=\"#DejaVuSans-2d\"/>\r\n       <use x=\"453.90625\" xlink:href=\"#DejaVuSans-30\"/>\r\n       <use x=\"517.529297\" xlink:href=\"#DejaVuSans-35\"/>\r\n      </g>\r\n     </g>\r\n    </g>\r\n    <g id=\"xtick_6\">\r\n     <g id=\"line2d_11\">\r\n      <path clip-path=\"url(#p2ce82f79ff)\" d=\"M 509.336768 280.326349 \r\nL 509.336768 9.919217 \r\n\" style=\"fill:none;stroke:#b0b0b0;stroke-linecap:square;stroke-width:0.8;\"/>\r\n     </g>\r\n     <g id=\"line2d_12\">\r\n      <g>\r\n       <use style=\"stroke:#000000;stroke-width:0.8;\" x=\"509.336768\" xlink:href=\"#m7c5eaf1fbf\" y=\"280.326349\"/>\r\n      </g>\r\n     </g>\r\n     <g id=\"text_6\">\r\n      <!-- 2019-08-06 -->\r\n      <g transform=\"translate(512.096143 345.441974)rotate(-90)scale(0.1 -0.1)\">\r\n       <defs>\r\n        <path d=\"M 2113 2584 \r\nQ 1688 2584 1439 2293 \r\nQ 1191 2003 1191 1497 \r\nQ 1191 994 1439 701 \r\nQ 1688 409 2113 409 \r\nQ 2538 409 2786 701 \r\nQ 3034 994 3034 1497 \r\nQ 3034 2003 2786 2293 \r\nQ 2538 2584 2113 2584 \r\nz\r\nM 3366 4563 \r\nL 3366 3988 \r\nQ 3128 4100 2886 4159 \r\nQ 2644 4219 2406 4219 \r\nQ 1781 4219 1451 3797 \r\nQ 1122 3375 1075 2522 \r\nQ 1259 2794 1537 2939 \r\nQ 1816 3084 2150 3084 \r\nQ 2853 3084 3261 2657 \r\nQ 3669 2231 3669 1497 \r\nQ 3669 778 3244 343 \r\nQ 2819 -91 2113 -91 \r\nQ 1303 -91 875 529 \r\nQ 447 1150 447 2328 \r\nQ 447 3434 972 4092 \r\nQ 1497 4750 2381 4750 \r\nQ 2619 4750 2861 4703 \r\nQ 3103 4656 3366 4563 \r\nz\r\n\" id=\"DejaVuSans-36\" transform=\"scale(0.015625)\"/>\r\n       </defs>\r\n       <use xlink:href=\"#DejaVuSans-32\"/>\r\n       <use x=\"63.623047\" xlink:href=\"#DejaVuSans-30\"/>\r\n       <use x=\"127.246094\" xlink:href=\"#DejaVuSans-31\"/>\r\n       <use x=\"190.869141\" xlink:href=\"#DejaVuSans-39\"/>\r\n       <use x=\"254.492188\" xlink:href=\"#DejaVuSans-2d\"/>\r\n       <use x=\"290.576172\" xlink:href=\"#DejaVuSans-30\"/>\r\n       <use x=\"354.199219\" xlink:href=\"#DejaVuSans-38\"/>\r\n       <use x=\"417.822266\" xlink:href=\"#DejaVuSans-2d\"/>\r\n       <use x=\"453.90625\" xlink:href=\"#DejaVuSans-30\"/>\r\n       <use x=\"517.529297\" xlink:href=\"#DejaVuSans-36\"/>\r\n      </g>\r\n     </g>\r\n    </g>\r\n    <g id=\"xtick_7\">\r\n     <g id=\"line2d_13\">\r\n      <path clip-path=\"url(#p2ce82f79ff)\" d=\"M 597.312265 280.326349 \r\nL 597.312265 9.919217 \r\n\" style=\"fill:none;stroke:#b0b0b0;stroke-linecap:square;stroke-width:0.8;\"/>\r\n     </g>\r\n     <g id=\"line2d_14\">\r\n      <g>\r\n       <use style=\"stroke:#000000;stroke-width:0.8;\" x=\"597.312265\" xlink:href=\"#m7c5eaf1fbf\" y=\"280.326349\"/>\r\n      </g>\r\n     </g>\r\n     <g id=\"text_7\">\r\n      <!-- 2019-08-07 -->\r\n      <g transform=\"translate(600.07164 345.441974)rotate(-90)scale(0.1 -0.1)\">\r\n       <defs>\r\n        <path d=\"M 525 4666 \r\nL 3525 4666 \r\nL 3525 4397 \r\nL 1831 0 \r\nL 1172 0 \r\nL 2766 4134 \r\nL 525 4134 \r\nL 525 4666 \r\nz\r\n\" id=\"DejaVuSans-37\" transform=\"scale(0.015625)\"/>\r\n       </defs>\r\n       <use xlink:href=\"#DejaVuSans-32\"/>\r\n       <use x=\"63.623047\" xlink:href=\"#DejaVuSans-30\"/>\r\n       <use x=\"127.246094\" xlink:href=\"#DejaVuSans-31\"/>\r\n       <use x=\"190.869141\" xlink:href=\"#DejaVuSans-39\"/>\r\n       <use x=\"254.492188\" xlink:href=\"#DejaVuSans-2d\"/>\r\n       <use x=\"290.576172\" xlink:href=\"#DejaVuSans-30\"/>\r\n       <use x=\"354.199219\" xlink:href=\"#DejaVuSans-38\"/>\r\n       <use x=\"417.822266\" xlink:href=\"#DejaVuSans-2d\"/>\r\n       <use x=\"453.90625\" xlink:href=\"#DejaVuSans-30\"/>\r\n       <use x=\"517.529297\" xlink:href=\"#DejaVuSans-37\"/>\r\n      </g>\r\n     </g>\r\n    </g>\r\n    <g id=\"xtick_8\">\r\n     <g id=\"line2d_15\">\r\n      <path clip-path=\"url(#p2ce82f79ff)\" d=\"M 685.287761 280.326349 \r\nL 685.287761 9.919217 \r\n\" style=\"fill:none;stroke:#b0b0b0;stroke-linecap:square;stroke-width:0.8;\"/>\r\n     </g>\r\n     <g id=\"line2d_16\">\r\n      <g>\r\n       <use style=\"stroke:#000000;stroke-width:0.8;\" x=\"685.287761\" xlink:href=\"#m7c5eaf1fbf\" y=\"280.326349\"/>\r\n      </g>\r\n     </g>\r\n     <g id=\"text_8\">\r\n      <!-- 2019-08-08 -->\r\n      <g transform=\"translate(688.047136 345.441974)rotate(-90)scale(0.1 -0.1)\">\r\n       <use xlink:href=\"#DejaVuSans-32\"/>\r\n       <use x=\"63.623047\" xlink:href=\"#DejaVuSans-30\"/>\r\n       <use x=\"127.246094\" xlink:href=\"#DejaVuSans-31\"/>\r\n       <use x=\"190.869141\" xlink:href=\"#DejaVuSans-39\"/>\r\n       <use x=\"254.492188\" xlink:href=\"#DejaVuSans-2d\"/>\r\n       <use x=\"290.576172\" xlink:href=\"#DejaVuSans-30\"/>\r\n       <use x=\"354.199219\" xlink:href=\"#DejaVuSans-38\"/>\r\n       <use x=\"417.822266\" xlink:href=\"#DejaVuSans-2d\"/>\r\n       <use x=\"453.90625\" xlink:href=\"#DejaVuSans-30\"/>\r\n       <use x=\"517.529297\" xlink:href=\"#DejaVuSans-38\"/>\r\n      </g>\r\n     </g>\r\n    </g>\r\n   </g>\r\n   <g id=\"matplotlib.axis_2\">\r\n    <g id=\"ytick_1\">\r\n     <g id=\"line2d_17\">\r\n      <path clip-path=\"url(#p2ce82f79ff)\" d=\"M 39.65 280.326349 \r\nL 705.49 280.326349 \r\n\" style=\"fill:none;stroke:#b0b0b0;stroke-linecap:square;stroke-width:0.8;\"/>\r\n     </g>\r\n     <g id=\"line2d_18\">\r\n      <defs>\r\n       <path d=\"M 0 0 \r\nL -3.5 0 \r\n\" id=\"m04f920b2b2\" style=\"stroke:#000000;stroke-width:0.8;\"/>\r\n      </defs>\r\n      <g>\r\n       <use style=\"stroke:#000000;stroke-width:0.8;\" x=\"39.65\" xlink:href=\"#m04f920b2b2\" y=\"280.326349\"/>\r\n      </g>\r\n     </g>\r\n     <g id=\"text_9\">\r\n      <!-- 0 -->\r\n      <g transform=\"translate(26.2875 284.125568)scale(0.1 -0.1)\">\r\n       <use xlink:href=\"#DejaVuSans-30\"/>\r\n      </g>\r\n     </g>\r\n    </g>\r\n    <g id=\"ytick_2\">\r\n     <g id=\"line2d_19\">\r\n      <path clip-path=\"url(#p2ce82f79ff)\" d=\"M 39.65 226.460923 \r\nL 705.49 226.460923 \r\n\" style=\"fill:none;stroke:#b0b0b0;stroke-linecap:square;stroke-width:0.8;\"/>\r\n     </g>\r\n     <g id=\"line2d_20\">\r\n      <g>\r\n       <use style=\"stroke:#000000;stroke-width:0.8;\" x=\"39.65\" xlink:href=\"#m04f920b2b2\" y=\"226.460923\"/>\r\n      </g>\r\n     </g>\r\n     <g id=\"text_10\">\r\n      <!-- 1000 -->\r\n      <g transform=\"translate(7.2 230.260142)scale(0.1 -0.1)\">\r\n       <use xlink:href=\"#DejaVuSans-31\"/>\r\n       <use x=\"63.623047\" xlink:href=\"#DejaVuSans-30\"/>\r\n       <use x=\"127.246094\" xlink:href=\"#DejaVuSans-30\"/>\r\n       <use x=\"190.869141\" xlink:href=\"#DejaVuSans-30\"/>\r\n      </g>\r\n     </g>\r\n    </g>\r\n    <g id=\"ytick_3\">\r\n     <g id=\"line2d_21\">\r\n      <path clip-path=\"url(#p2ce82f79ff)\" d=\"M 39.65 172.595497 \r\nL 705.49 172.595497 \r\n\" style=\"fill:none;stroke:#b0b0b0;stroke-linecap:square;stroke-width:0.8;\"/>\r\n     </g>\r\n     <g id=\"line2d_22\">\r\n      <g>\r\n       <use style=\"stroke:#000000;stroke-width:0.8;\" x=\"39.65\" xlink:href=\"#m04f920b2b2\" y=\"172.595497\"/>\r\n      </g>\r\n     </g>\r\n     <g id=\"text_11\">\r\n      <!-- 2000 -->\r\n      <g transform=\"translate(7.2 176.394716)scale(0.1 -0.1)\">\r\n       <use xlink:href=\"#DejaVuSans-32\"/>\r\n       <use x=\"63.623047\" xlink:href=\"#DejaVuSans-30\"/>\r\n       <use x=\"127.246094\" xlink:href=\"#DejaVuSans-30\"/>\r\n       <use x=\"190.869141\" xlink:href=\"#DejaVuSans-30\"/>\r\n      </g>\r\n     </g>\r\n    </g>\r\n    <g id=\"ytick_4\">\r\n     <g id=\"line2d_23\">\r\n      <path clip-path=\"url(#p2ce82f79ff)\" d=\"M 39.65 118.730071 \r\nL 705.49 118.730071 \r\n\" style=\"fill:none;stroke:#b0b0b0;stroke-linecap:square;stroke-width:0.8;\"/>\r\n     </g>\r\n     <g id=\"line2d_24\">\r\n      <g>\r\n       <use style=\"stroke:#000000;stroke-width:0.8;\" x=\"39.65\" xlink:href=\"#m04f920b2b2\" y=\"118.730071\"/>\r\n      </g>\r\n     </g>\r\n     <g id=\"text_12\">\r\n      <!-- 3000 -->\r\n      <g transform=\"translate(7.2 122.52929)scale(0.1 -0.1)\">\r\n       <use xlink:href=\"#DejaVuSans-33\"/>\r\n       <use x=\"63.623047\" xlink:href=\"#DejaVuSans-30\"/>\r\n       <use x=\"127.246094\" xlink:href=\"#DejaVuSans-30\"/>\r\n       <use x=\"190.869141\" xlink:href=\"#DejaVuSans-30\"/>\r\n      </g>\r\n     </g>\r\n    </g>\r\n    <g id=\"ytick_5\">\r\n     <g id=\"line2d_25\">\r\n      <path clip-path=\"url(#p2ce82f79ff)\" d=\"M 39.65 64.864645 \r\nL 705.49 64.864645 \r\n\" style=\"fill:none;stroke:#b0b0b0;stroke-linecap:square;stroke-width:0.8;\"/>\r\n     </g>\r\n     <g id=\"line2d_26\">\r\n      <g>\r\n       <use style=\"stroke:#000000;stroke-width:0.8;\" x=\"39.65\" xlink:href=\"#m04f920b2b2\" y=\"64.864645\"/>\r\n      </g>\r\n     </g>\r\n     <g id=\"text_13\">\r\n      <!-- 4000 -->\r\n      <g transform=\"translate(7.2 68.663864)scale(0.1 -0.1)\">\r\n       <use xlink:href=\"#DejaVuSans-34\"/>\r\n       <use x=\"63.623047\" xlink:href=\"#DejaVuSans-30\"/>\r\n       <use x=\"127.246094\" xlink:href=\"#DejaVuSans-30\"/>\r\n       <use x=\"190.869141\" xlink:href=\"#DejaVuSans-30\"/>\r\n      </g>\r\n     </g>\r\n    </g>\r\n    <g id=\"ytick_6\">\r\n     <g id=\"line2d_27\">\r\n      <path clip-path=\"url(#p2ce82f79ff)\" d=\"M 39.65 10.999219 \r\nL 705.49 10.999219 \r\n\" style=\"fill:none;stroke:#b0b0b0;stroke-linecap:square;stroke-width:0.8;\"/>\r\n     </g>\r\n     <g id=\"line2d_28\">\r\n      <g>\r\n       <use style=\"stroke:#000000;stroke-width:0.8;\" x=\"39.65\" xlink:href=\"#m04f920b2b2\" y=\"10.999219\"/>\r\n      </g>\r\n     </g>\r\n     <g id=\"text_14\">\r\n      <!-- 5000 -->\r\n      <g transform=\"translate(7.2 14.798437)scale(0.1 -0.1)\">\r\n       <use xlink:href=\"#DejaVuSans-35\"/>\r\n       <use x=\"63.623047\" xlink:href=\"#DejaVuSans-30\"/>\r\n       <use x=\"127.246094\" xlink:href=\"#DejaVuSans-30\"/>\r\n       <use x=\"190.869141\" xlink:href=\"#DejaVuSans-30\"/>\r\n      </g>\r\n     </g>\r\n    </g>\r\n   </g>\r\n   <g id=\"patch_103\">\r\n    <path d=\"M 39.65 280.326349 \r\nL 39.65 9.919217 \r\n\" style=\"fill:none;stroke:#000000;stroke-linecap:square;stroke-linejoin:miter;stroke-width:0.8;\"/>\r\n   </g>\r\n   <g id=\"patch_104\">\r\n    <path d=\"M 705.49 280.326349 \r\nL 705.49 9.919217 \r\n\" style=\"fill:none;stroke:#000000;stroke-linecap:square;stroke-linejoin:miter;stroke-width:0.8;\"/>\r\n   </g>\r\n   <g id=\"patch_105\">\r\n    <path d=\"M 39.65 280.326349 \r\nL 705.49 280.326349 \r\n\" style=\"fill:none;stroke:#000000;stroke-linecap:square;stroke-linejoin:miter;stroke-width:0.8;\"/>\r\n   </g>\r\n   <g id=\"patch_106\">\r\n    <path d=\"M 39.65 9.919217 \r\nL 705.49 9.919217 \r\n\" style=\"fill:none;stroke:#000000;stroke-linecap:square;stroke-linejoin:miter;stroke-width:0.8;\"/>\r\n   </g>\r\n  </g>\r\n </g>\r\n <defs>\r\n  <clipPath id=\"p2ce82f79ff\">\r\n   <rect height=\"270.407132\" width=\"665.84\" x=\"39.65\" y=\"9.919217\"/>\r\n  </clipPath>\r\n </defs>\r\n</svg>\r\n",
      "text/plain": [
       "<Figure size 1000x500 with 1 Axes>"
      ]
     },
     "metadata": {},
     "output_type": "display_data"
    }
   ],
   "source": [
    "df_logs = df_logs[df_logs.date_event >= date(2019, 8, 1)]\n",
    "df_logs.dt_event.hist(bins=100, figsize=[FIG_WIDTH, FIG_HEIGHT], xrot=90);\n",
    "plt.tight_layout()\n"
   ]
  },
  {
   "cell_type": "markdown",
   "metadata": {},
   "source": [
    "## Анализ воронки событий\n",
    "\n",
    "Посмотрим теперь на события в логах, как часто они встречаются, как ведут себя пользователи."
   ]
  },
  {
   "cell_type": "code",
   "execution_count": 27,
   "metadata": {},
   "outputs": [
    {
     "data": {
      "text/html": [
       "<div>\n",
       "<style scoped>\n",
       "    .dataframe tbody tr th:only-of-type {\n",
       "        vertical-align: middle;\n",
       "    }\n",
       "\n",
       "    .dataframe tbody tr th {\n",
       "        vertical-align: top;\n",
       "    }\n",
       "\n",
       "    .dataframe thead th {\n",
       "        text-align: right;\n",
       "    }\n",
       "</style>\n",
       "<table border=\"1\" class=\"dataframe\">\n",
       "  <thead>\n",
       "    <tr style=\"text-align: right;\">\n",
       "      <th></th>\n",
       "      <th>name_event</th>\n",
       "      <th>event_count</th>\n",
       "    </tr>\n",
       "  </thead>\n",
       "  <tbody>\n",
       "    <tr>\n",
       "      <th>1</th>\n",
       "      <td>Main Screen Appear</td>\n",
       "      <td>117328</td>\n",
       "    </tr>\n",
       "    <tr>\n",
       "      <th>2</th>\n",
       "      <td>Offers Screen Appear</td>\n",
       "      <td>46333</td>\n",
       "    </tr>\n",
       "    <tr>\n",
       "      <th>0</th>\n",
       "      <td>Cart Screen Appear</td>\n",
       "      <td>42303</td>\n",
       "    </tr>\n",
       "    <tr>\n",
       "      <th>3</th>\n",
       "      <td>Payment Screen Successful</td>\n",
       "      <td>33918</td>\n",
       "    </tr>\n",
       "    <tr>\n",
       "      <th>4</th>\n",
       "      <td>Tutorial</td>\n",
       "      <td>1005</td>\n",
       "    </tr>\n",
       "  </tbody>\n",
       "</table>\n",
       "</div>"
      ],
      "text/plain": [
       "                  name_event  event_count\n",
       "1         Main Screen Appear       117328\n",
       "2       Offers Screen Appear        46333\n",
       "0         Cart Screen Appear        42303\n",
       "3  Payment Screen Successful        33918\n",
       "4                   Tutorial         1005"
      ]
     },
     "execution_count": 27,
     "metadata": {},
     "output_type": "execute_result"
    }
   ],
   "source": [
    "# Events pipeline\n",
    "(pd.pivot_table(\n",
    "    data=df_logs,\n",
    "    index='name_event',\n",
    "    values='id_device',\n",
    "    aggfunc='count',\n",
    "    # margins=True\n",
    " )\n",
    " .reset_index()\n",
    " .set_axis(\n",
    "    ['name_event', 'event_count'],\n",
    "    axis='columns'\n",
    " )\n",
    " .sort_values(by='event_count', ascending=False)\n",
    ")"
   ]
  },
  {
   "cell_type": "markdown",
   "metadata": {},
   "source": [
    "В нашей воронке событий 5 шагов. События расположены не совсем в логическом порядке: `tutorial` проходят, вероятно, до использования сервиса, чтобы понять, как оставить заказ. Остальные шаги выглядят разумно: начинаем с основного экрана, где-то во время кликов получаем экран с предолжениями, переходим в корзину и платим за заказ.\n",
    "\n",
    "Посмотрим, сколько уникальных пользователей прошли по нашей воронке."
   ]
  },
  {
   "cell_type": "code",
   "execution_count": 28,
   "metadata": {},
   "outputs": [
    {
     "data": {
      "text/html": [
       "<div>\n",
       "<style scoped>\n",
       "    .dataframe tbody tr th:only-of-type {\n",
       "        vertical-align: middle;\n",
       "    }\n",
       "\n",
       "    .dataframe tbody tr th {\n",
       "        vertical-align: top;\n",
       "    }\n",
       "\n",
       "    .dataframe thead th {\n",
       "        text-align: right;\n",
       "    }\n",
       "</style>\n",
       "<table border=\"1\" class=\"dataframe\">\n",
       "  <thead>\n",
       "    <tr style=\"text-align: right;\">\n",
       "      <th></th>\n",
       "      <th>name_event</th>\n",
       "      <th>user_unique_count</th>\n",
       "      <th>conversion_step_per</th>\n",
       "      <th>conversion_total_per</th>\n",
       "    </tr>\n",
       "  </thead>\n",
       "  <tbody>\n",
       "    <tr>\n",
       "      <th>1</th>\n",
       "      <td>Main Screen Appear</td>\n",
       "      <td>7419</td>\n",
       "      <td>100.0</td>\n",
       "      <td>100.0</td>\n",
       "    </tr>\n",
       "    <tr>\n",
       "      <th>2</th>\n",
       "      <td>Offers Screen Appear</td>\n",
       "      <td>4593</td>\n",
       "      <td>61.9</td>\n",
       "      <td>61.9</td>\n",
       "    </tr>\n",
       "    <tr>\n",
       "      <th>0</th>\n",
       "      <td>Cart Screen Appear</td>\n",
       "      <td>3734</td>\n",
       "      <td>81.3</td>\n",
       "      <td>50.3</td>\n",
       "    </tr>\n",
       "    <tr>\n",
       "      <th>3</th>\n",
       "      <td>Payment Screen Successful</td>\n",
       "      <td>3539</td>\n",
       "      <td>94.8</td>\n",
       "      <td>47.7</td>\n",
       "    </tr>\n",
       "  </tbody>\n",
       "</table>\n",
       "</div>"
      ],
      "text/plain": [
       "                  name_event  user_unique_count  conversion_step_per  \\\n",
       "1         Main Screen Appear               7419                100.0   \n",
       "2       Offers Screen Appear               4593                 61.9   \n",
       "0         Cart Screen Appear               3734                 81.3   \n",
       "3  Payment Screen Successful               3539                 94.8   \n",
       "\n",
       "   conversion_total_per  \n",
       "1                 100.0  \n",
       "2                  61.9  \n",
       "0                  50.3  \n",
       "3                  47.7  "
      ]
     },
     "metadata": {},
     "output_type": "display_data"
    },
    {
     "name": "stdout",
     "output_type": "stream",
     "text": [
      "Main screen to successful payment conversion 47.7 %\n"
     ]
    }
   ],
   "source": [
    "# Users in the pipeline\n",
    "display(\n",
    "    pd.pivot_table(\n",
    "        data=df_logs[df_logs.name_event != 'Tutorial'],\n",
    "        index='name_event',\n",
    "        values='id_device',\n",
    "        aggfunc='nunique',\n",
    "        # margins=True\n",
    "    )\n",
    "    .reset_index()\n",
    "    .set_axis(\n",
    "        ['name_event', 'user_unique_count'],\n",
    "        axis='columns'\n",
    "    )\n",
    "    .sort_values(by='user_unique_count', ascending=False)\n",
    "    .assign(\n",
    "        conversion_step_per = lambda df: round(\n",
    "            100 * df.user_unique_count /  df.user_unique_count.shift(1), 1\n",
    "        ),\n",
    "        conversion_total_per = lambda df: round(\n",
    "            100 * df.user_unique_count /  df.user_unique_count.max(), 1\n",
    "        ),\n",
    "    )\n",
    "    .fillna(100)\n",
    ")\n",
    "\n",
    "print(\n",
    "    'Main screen to successful payment conversion',\n",
    "    round(\n",
    "        100 * df_logs[df_logs.name_event == 'Payment Screen Successful'].id_device.nunique()\n",
    "        / df_logs[df_logs.name_event == 'Main Screen Appear'].id_device.nunique(), 2\n",
    "    ), '%'\n",
    ")\n",
    "\n"
   ]
  },
  {
   "cell_type": "markdown",
   "metadata": {},
   "source": [
    "С пользователями похожая ситуация. Можно заметить, что у нас отваливаются пользователи в переходе между главным экраном и экраном с предложениями - здесь конверсия с предыдущего шага самая маленькая. Общая конверсия с момента первого события до оплаты почти 50% - слжоно сказать хорошо это или плохо, т.к. мы не знаем деталей бизнеса, но выглядит адекватно.\n",
    "\n",
    "Посмотрим, какое количество пользователей сделали по одному, два, и т.д. событий."
   ]
  },
  {
   "cell_type": "code",
   "execution_count": 29,
   "metadata": {},
   "outputs": [
    {
     "data": {
      "text/html": [
       "<div>\n",
       "<style scoped>\n",
       "    .dataframe tbody tr th:only-of-type {\n",
       "        vertical-align: middle;\n",
       "    }\n",
       "\n",
       "    .dataframe tbody tr th {\n",
       "        vertical-align: top;\n",
       "    }\n",
       "\n",
       "    .dataframe thead th {\n",
       "        text-align: right;\n",
       "    }\n",
       "</style>\n",
       "<table border=\"1\" class=\"dataframe\">\n",
       "  <thead>\n",
       "    <tr style=\"text-align: right;\">\n",
       "      <th></th>\n",
       "      <th>events_count</th>\n",
       "      <th>users_unique_count</th>\n",
       "      <th>users_vs_total_per</th>\n",
       "    </tr>\n",
       "  </thead>\n",
       "  <tbody>\n",
       "    <tr>\n",
       "      <th>0</th>\n",
       "      <td>1</td>\n",
       "      <td>2894</td>\n",
       "      <td>38.4</td>\n",
       "    </tr>\n",
       "    <tr>\n",
       "      <th>1</th>\n",
       "      <td>2</td>\n",
       "      <td>946</td>\n",
       "      <td>12.6</td>\n",
       "    </tr>\n",
       "    <tr>\n",
       "      <th>2</th>\n",
       "      <td>3</td>\n",
       "      <td>261</td>\n",
       "      <td>3.5</td>\n",
       "    </tr>\n",
       "    <tr>\n",
       "      <th>3</th>\n",
       "      <td>4</td>\n",
       "      <td>3429</td>\n",
       "      <td>45.5</td>\n",
       "    </tr>\n",
       "    <tr>\n",
       "      <th>4</th>\n",
       "      <td>All</td>\n",
       "      <td>7530</td>\n",
       "      <td>100.0</td>\n",
       "    </tr>\n",
       "  </tbody>\n",
       "</table>\n",
       "</div>"
      ],
      "text/plain": [
       "  events_count  users_unique_count  users_vs_total_per\n",
       "0            1                2894                38.4\n",
       "1            2                 946                12.6\n",
       "2            3                 261                 3.5\n",
       "3            4                3429                45.5\n",
       "4          All                7530               100.0"
      ]
     },
     "execution_count": 29,
     "metadata": {},
     "output_type": "execute_result"
    }
   ],
   "source": [
    "# Users in the pipeline\n",
    "df_temp = (\n",
    "    pd.pivot_table(\n",
    "        data=df_logs[df_logs.name_event != 'Tutorial'],\n",
    "        index='id_device',\n",
    "        values='name_event',\n",
    "        aggfunc='nunique',\n",
    "        # margins=True\n",
    "    )\n",
    "    .reset_index()\n",
    "    .set_axis(\n",
    "        ['id_device', 'name_event_count'],\n",
    "        axis='columns'\n",
    "    )\n",
    "    .sort_values(by='name_event_count', ascending=False)\n",
    ")\n",
    "\n",
    "(pd.pivot_table(\n",
    "    data=df_temp,\n",
    "    index='name_event_count',\n",
    "    values='id_device',\n",
    "    aggfunc='count',\n",
    "    margins=True  \n",
    " )\n",
    " .reset_index()\n",
    " .set_axis(\n",
    "     ['events_count', 'users_unique_count'],\n",
    "     axis='columns'\n",
    " )\n",
    " .assign(\n",
    "     users_vs_total_per = lambda df: round(\n",
    "         100 * df.users_unique_count / df.users_unique_count.iloc[-1], 1\n",
    "     )\n",
    " )\n",
    ")"
   ]
  },
  {
   "cell_type": "markdown",
   "metadata": {},
   "source": [
    "А вот это уже странно. У нас, вроде, правильное суммарное количество уникальных пользователей, но почему-то пользователей, прошедших через 3 события, меньше, чем пользователей прошедших через все события. Откуда эти пользователи взялись? Загадка.\n",
    "\n",
    "Тем не менее, почти 63% наших уникальных пользователей совершили более одного события. "
   ]
  },
  {
   "cell_type": "markdown",
   "metadata": {},
   "source": [
    "## A/A/B тесты\n",
    "\n",
    "### Проверка данных\n",
    "\n",
    "Начнем готовится к нашим тестам. Посмотрим, есть ли у нас пользователи, которые оказались в нескольких группах одновременно."
   ]
  },
  {
   "cell_type": "code",
   "execution_count": 30,
   "metadata": {},
   "outputs": [
    {
     "data": {
      "text/plain": [
       "id_group    1\n",
       "dtype: int64"
      ]
     },
     "execution_count": 30,
     "metadata": {},
     "output_type": "execute_result"
    }
   ],
   "source": [
    "# Number of users\n",
    "(pd.pivot_table(\n",
    "    data=df_logs,\n",
    "    index='id_device',\n",
    "    values='id_group',\n",
    "    aggfunc='nunique'\n",
    " )\n",
    " .max()\n",
    ")"
   ]
  },
  {
   "cell_type": "markdown",
   "metadata": {},
   "source": [
    "Максимальное количество уникальных групп, в которых состят наши пользователи равно `1`. Это значит, что перебезжчиков между группами нет. Посмотрим, сколько всего пользователей в каждой группе."
   ]
  },
  {
   "cell_type": "code",
   "execution_count": 31,
   "metadata": {},
   "outputs": [
    {
     "data": {
      "text/html": [
       "<div>\n",
       "<style scoped>\n",
       "    .dataframe tbody tr th:only-of-type {\n",
       "        vertical-align: middle;\n",
       "    }\n",
       "\n",
       "    .dataframe tbody tr th {\n",
       "        vertical-align: top;\n",
       "    }\n",
       "\n",
       "    .dataframe thead th {\n",
       "        text-align: right;\n",
       "    }\n",
       "</style>\n",
       "<table border=\"1\" class=\"dataframe\">\n",
       "  <thead>\n",
       "    <tr style=\"text-align: right;\">\n",
       "      <th></th>\n",
       "      <th>id_group</th>\n",
       "      <th>users_unique_count</th>\n",
       "      <th>users_unique_per</th>\n",
       "    </tr>\n",
       "  </thead>\n",
       "  <tbody>\n",
       "    <tr>\n",
       "      <th>0</th>\n",
       "      <td>A1</td>\n",
       "      <td>2484</td>\n",
       "      <td>33.0</td>\n",
       "    </tr>\n",
       "    <tr>\n",
       "      <th>1</th>\n",
       "      <td>A2</td>\n",
       "      <td>2513</td>\n",
       "      <td>33.4</td>\n",
       "    </tr>\n",
       "    <tr>\n",
       "      <th>2</th>\n",
       "      <td>B</td>\n",
       "      <td>2537</td>\n",
       "      <td>33.7</td>\n",
       "    </tr>\n",
       "    <tr>\n",
       "      <th>3</th>\n",
       "      <td>All</td>\n",
       "      <td>7534</td>\n",
       "      <td>100.0</td>\n",
       "    </tr>\n",
       "  </tbody>\n",
       "</table>\n",
       "</div>"
      ],
      "text/plain": [
       "  id_group  users_unique_count  users_unique_per\n",
       "0       A1                2484              33.0\n",
       "1       A2                2513              33.4\n",
       "2        B                2537              33.7\n",
       "3      All                7534             100.0"
      ]
     },
     "execution_count": 31,
     "metadata": {},
     "output_type": "execute_result"
    }
   ],
   "source": [
    "# Number of users\n",
    "(pd.pivot_table(\n",
    "    data=df_logs,\n",
    "    index='id_group',\n",
    "    values='id_device',\n",
    "    aggfunc='nunique',\n",
    "    margins=True\n",
    " )\n",
    " .reset_index()\n",
    " .set_axis(\n",
    "     ['id_group', 'users_unique_count'],\n",
    "     axis='columns'\n",
    " )\n",
    " .assign(\n",
    "     users_unique_per = lambda df: round(\n",
    "         100 * df.users_unique_count / df.users_unique_count.iloc[-1], 1\n",
    "     )\n",
    " )\n",
    ")"
   ]
  },
  {
   "cell_type": "markdown",
   "metadata": {},
   "source": [
    "Количество пользователей в группах не отличается более чем на 1%. Ну и хорошо.\n",
    "\n",
    "Последним упражнением проверим, как группы были распеределены во времени. Просто из любопытства."
   ]
  },
  {
   "cell_type": "code",
   "execution_count": 32,
   "metadata": {},
   "outputs": [
    {
     "data": {
      "image/png": "[encoded data removed]",
      "image/svg+xml": "<?xml version=\"1.0\" encoding=\"utf-8\" standalone=\"no\"?>\r\n<!DOCTYPE svg PUBLIC \"-//W3C//DTD SVG 1.1//EN\"\r\n  \"http://www.w3.org/Graphics/SVG/1.1/DTD/svg11.dtd\">\r\n<svg height=\"352.851875pt\" version=\"1.1\" viewBox=\"0 0 712.288125 352.851875\" width=\"712.288125pt\" xmlns=\"http://www.w3.org/2000/svg\" xmlns:xlink=\"http://www.w3.org/1999/xlink\">\r\n <metadata>\r\n  <rdf:RDF xmlns:cc=\"http://creativecommons.org/ns#\" xmlns:dc=\"http://purl.org/dc/elements/1.1/\" xmlns:rdf=\"http://www.w3.org/1999/02/22-rdf-syntax-ns#\">\r\n   <cc:Work>\r\n    <dc:type rdf:resource=\"http://purl.org/dc/dcmitype/StillImage\"/>\r\n    <dc:date>2022-10-30T14:29:06.832232</dc:date>\r\n    <dc:format>image/svg+xml</dc:format>\r\n    <dc:creator>\r\n     <cc:Agent>\r\n      <dc:title>Matplotlib v3.4.3, https://matplotlib.org/</dc:title>\r\n     </cc:Agent>\r\n    </dc:creator>\r\n   </cc:Work>\r\n  </rdf:RDF>\r\n </metadata>\r\n <defs>\r\n  <style type=\"text/css\">*{stroke-linecap:butt;stroke-linejoin:round;}</style>\r\n </defs>\r\n <g id=\"figure_1\">\r\n  <g id=\"patch_1\">\r\n   <path d=\"M 0 352.851875 \r\nL 712.288125 352.851875 \r\nL 712.288125 0 \r\nL 0 0 \r\nz\r\n\" style=\"fill:#ffffff;\"/>\r\n  </g>\r\n  <g id=\"axes_1\">\r\n   <g id=\"patch_2\">\r\n    <path d=\"M 53.328125 266.858125 \r\nL 705.088125 266.858125 \r\nL 705.088125 22.318125 \r\nL 53.328125 22.318125 \r\nz\r\n\" style=\"fill:#ffffff;\"/>\r\n   </g>\r\n   <g id=\"matplotlib.axis_1\">\r\n    <g id=\"xtick_1\">\r\n     <g id=\"line2d_1\">\r\n      <defs>\r\n       <path d=\"M 0 0 \r\nL 0 3.5 \r\n\" id=\"m2e9875b5ef\" style=\"stroke:#000000;stroke-width:0.8;\"/>\r\n      </defs>\r\n      <g>\r\n       <use style=\"stroke:#000000;stroke-width:0.8;\" x=\"82.95358\" xlink:href=\"#m2e9875b5ef\" y=\"266.858125\"/>\r\n      </g>\r\n     </g>\r\n     <g id=\"text_1\">\r\n      <!-- 2019-08-01 -->\r\n      <g transform=\"translate(85.712955 331.97375)rotate(-90)scale(0.1 -0.1)\">\r\n       <defs>\r\n        <path d=\"M 1228 531 \r\nL 3431 531 \r\nL 3431 0 \r\nL 469 0 \r\nL 469 531 \r\nQ 828 903 1448 1529 \r\nQ 2069 2156 2228 2338 \r\nQ 2531 2678 2651 2914 \r\nQ 2772 3150 2772 3378 \r\nQ 2772 3750 2511 3984 \r\nQ 2250 4219 1831 4219 \r\nQ 1534 4219 1204 4116 \r\nQ 875 4013 500 3803 \r\nL 500 4441 \r\nQ 881 4594 1212 4672 \r\nQ 1544 4750 1819 4750 \r\nQ 2544 4750 2975 4387 \r\nQ 3406 4025 3406 3419 \r\nQ 3406 3131 3298 2873 \r\nQ 3191 2616 2906 2266 \r\nQ 2828 2175 2409 1742 \r\nQ 1991 1309 1228 531 \r\nz\r\n\" id=\"DejaVuSans-32\" transform=\"scale(0.015625)\"/>\r\n        <path d=\"M 2034 4250 \r\nQ 1547 4250 1301 3770 \r\nQ 1056 3291 1056 2328 \r\nQ 1056 1369 1301 889 \r\nQ 1547 409 2034 409 \r\nQ 2525 409 2770 889 \r\nQ 3016 1369 3016 2328 \r\nQ 3016 3291 2770 3770 \r\nQ 2525 4250 2034 4250 \r\nz\r\nM 2034 4750 \r\nQ 2819 4750 3233 4129 \r\nQ 3647 3509 3647 2328 \r\nQ 3647 1150 3233 529 \r\nQ 2819 -91 2034 -91 \r\nQ 1250 -91 836 529 \r\nQ 422 1150 422 2328 \r\nQ 422 3509 836 4129 \r\nQ 1250 4750 2034 4750 \r\nz\r\n\" id=\"DejaVuSans-30\" transform=\"scale(0.015625)\"/>\r\n        <path d=\"M 794 531 \r\nL 1825 531 \r\nL 1825 4091 \r\nL 703 3866 \r\nL 703 4441 \r\nL 1819 4666 \r\nL 2450 4666 \r\nL 2450 531 \r\nL 3481 531 \r\nL 3481 0 \r\nL 794 0 \r\nL 794 531 \r\nz\r\n\" id=\"DejaVuSans-31\" transform=\"scale(0.015625)\"/>\r\n        <path d=\"M 703 97 \r\nL 703 672 \r\nQ 941 559 1184 500 \r\nQ 1428 441 1663 441 \r\nQ 2288 441 2617 861 \r\nQ 2947 1281 2994 2138 \r\nQ 2813 1869 2534 1725 \r\nQ 2256 1581 1919 1581 \r\nQ 1219 1581 811 2004 \r\nQ 403 2428 403 3163 \r\nQ 403 3881 828 4315 \r\nQ 1253 4750 1959 4750 \r\nQ 2769 4750 3195 4129 \r\nQ 3622 3509 3622 2328 \r\nQ 3622 1225 3098 567 \r\nQ 2575 -91 1691 -91 \r\nQ 1453 -91 1209 -44 \r\nQ 966 3 703 97 \r\nz\r\nM 1959 2075 \r\nQ 2384 2075 2632 2365 \r\nQ 2881 2656 2881 3163 \r\nQ 2881 3666 2632 3958 \r\nQ 2384 4250 1959 4250 \r\nQ 1534 4250 1286 3958 \r\nQ 1038 3666 1038 3163 \r\nQ 1038 2656 1286 2365 \r\nQ 1534 2075 1959 2075 \r\nz\r\n\" id=\"DejaVuSans-39\" transform=\"scale(0.015625)\"/>\r\n        <path d=\"M 313 2009 \r\nL 1997 2009 \r\nL 1997 1497 \r\nL 313 1497 \r\nL 313 2009 \r\nz\r\n\" id=\"DejaVuSans-2d\" transform=\"scale(0.015625)\"/>\r\n        <path d=\"M 2034 2216 \r\nQ 1584 2216 1326 1975 \r\nQ 1069 1734 1069 1313 \r\nQ 1069 891 1326 650 \r\nQ 1584 409 2034 409 \r\nQ 2484 409 2743 651 \r\nQ 3003 894 3003 1313 \r\nQ 3003 1734 2745 1975 \r\nQ 2488 2216 2034 2216 \r\nz\r\nM 1403 2484 \r\nQ 997 2584 770 2862 \r\nQ 544 3141 544 3541 \r\nQ 544 4100 942 4425 \r\nQ 1341 4750 2034 4750 \r\nQ 2731 4750 3128 4425 \r\nQ 3525 4100 3525 3541 \r\nQ 3525 3141 3298 2862 \r\nQ 3072 2584 2669 2484 \r\nQ 3125 2378 3379 2068 \r\nQ 3634 1759 3634 1313 \r\nQ 3634 634 3220 271 \r\nQ 2806 -91 2034 -91 \r\nQ 1263 -91 848 271 \r\nQ 434 634 434 1313 \r\nQ 434 1759 690 2068 \r\nQ 947 2378 1403 2484 \r\nz\r\nM 1172 3481 \r\nQ 1172 3119 1398 2916 \r\nQ 1625 2713 2034 2713 \r\nQ 2441 2713 2670 2916 \r\nQ 2900 3119 2900 3481 \r\nQ 2900 3844 2670 4047 \r\nQ 2441 4250 2034 4250 \r\nQ 1625 4250 1398 4047 \r\nQ 1172 3844 1172 3481 \r\nz\r\n\" id=\"DejaVuSans-38\" transform=\"scale(0.015625)\"/>\r\n       </defs>\r\n       <use xlink:href=\"#DejaVuSans-32\"/>\r\n       <use x=\"63.623047\" xlink:href=\"#DejaVuSans-30\"/>\r\n       <use x=\"127.246094\" xlink:href=\"#DejaVuSans-31\"/>\r\n       <use x=\"190.869141\" xlink:href=\"#DejaVuSans-39\"/>\r\n       <use x=\"254.492188\" xlink:href=\"#DejaVuSans-2d\"/>\r\n       <use x=\"290.576172\" xlink:href=\"#DejaVuSans-30\"/>\r\n       <use x=\"354.199219\" xlink:href=\"#DejaVuSans-38\"/>\r\n       <use x=\"417.822266\" xlink:href=\"#DejaVuSans-2d\"/>\r\n       <use x=\"453.90625\" xlink:href=\"#DejaVuSans-30\"/>\r\n       <use x=\"517.529297\" xlink:href=\"#DejaVuSans-31\"/>\r\n      </g>\r\n     </g>\r\n    </g>\r\n    <g id=\"xtick_2\">\r\n     <g id=\"line2d_2\">\r\n      <g>\r\n       <use style=\"stroke:#000000;stroke-width:0.8;\" x=\"181.705095\" xlink:href=\"#m2e9875b5ef\" y=\"266.858125\"/>\r\n      </g>\r\n     </g>\r\n     <g id=\"text_2\">\r\n      <!-- 2019-08-02 -->\r\n      <g transform=\"translate(184.46447 331.97375)rotate(-90)scale(0.1 -0.1)\">\r\n       <use xlink:href=\"#DejaVuSans-32\"/>\r\n       <use x=\"63.623047\" xlink:href=\"#DejaVuSans-30\"/>\r\n       <use x=\"127.246094\" xlink:href=\"#DejaVuSans-31\"/>\r\n       <use x=\"190.869141\" xlink:href=\"#DejaVuSans-39\"/>\r\n       <use x=\"254.492188\" xlink:href=\"#DejaVuSans-2d\"/>\r\n       <use x=\"290.576172\" xlink:href=\"#DejaVuSans-30\"/>\r\n       <use x=\"354.199219\" xlink:href=\"#DejaVuSans-38\"/>\r\n       <use x=\"417.822266\" xlink:href=\"#DejaVuSans-2d\"/>\r\n       <use x=\"453.90625\" xlink:href=\"#DejaVuSans-30\"/>\r\n       <use x=\"517.529297\" xlink:href=\"#DejaVuSans-32\"/>\r\n      </g>\r\n     </g>\r\n    </g>\r\n    <g id=\"xtick_3\">\r\n     <g id=\"line2d_3\">\r\n      <g>\r\n       <use style=\"stroke:#000000;stroke-width:0.8;\" x=\"280.45661\" xlink:href=\"#m2e9875b5ef\" y=\"266.858125\"/>\r\n      </g>\r\n     </g>\r\n     <g id=\"text_3\">\r\n      <!-- 2019-08-03 -->\r\n      <g transform=\"translate(283.215985 331.97375)rotate(-90)scale(0.1 -0.1)\">\r\n       <defs>\r\n        <path d=\"M 2597 2516 \r\nQ 3050 2419 3304 2112 \r\nQ 3559 1806 3559 1356 \r\nQ 3559 666 3084 287 \r\nQ 2609 -91 1734 -91 \r\nQ 1441 -91 1130 -33 \r\nQ 819 25 488 141 \r\nL 488 750 \r\nQ 750 597 1062 519 \r\nQ 1375 441 1716 441 \r\nQ 2309 441 2620 675 \r\nQ 2931 909 2931 1356 \r\nQ 2931 1769 2642 2001 \r\nQ 2353 2234 1838 2234 \r\nL 1294 2234 \r\nL 1294 2753 \r\nL 1863 2753 \r\nQ 2328 2753 2575 2939 \r\nQ 2822 3125 2822 3475 \r\nQ 2822 3834 2567 4026 \r\nQ 2313 4219 1838 4219 \r\nQ 1578 4219 1281 4162 \r\nQ 984 4106 628 3988 \r\nL 628 4550 \r\nQ 988 4650 1302 4700 \r\nQ 1616 4750 1894 4750 \r\nQ 2613 4750 3031 4423 \r\nQ 3450 4097 3450 3541 \r\nQ 3450 3153 3228 2886 \r\nQ 3006 2619 2597 2516 \r\nz\r\n\" id=\"DejaVuSans-33\" transform=\"scale(0.015625)\"/>\r\n       </defs>\r\n       <use xlink:href=\"#DejaVuSans-32\"/>\r\n       <use x=\"63.623047\" xlink:href=\"#DejaVuSans-30\"/>\r\n       <use x=\"127.246094\" xlink:href=\"#DejaVuSans-31\"/>\r\n       <use x=\"190.869141\" xlink:href=\"#DejaVuSans-39\"/>\r\n       <use x=\"254.492188\" xlink:href=\"#DejaVuSans-2d\"/>\r\n       <use x=\"290.576172\" xlink:href=\"#DejaVuSans-30\"/>\r\n       <use x=\"354.199219\" xlink:href=\"#DejaVuSans-38\"/>\r\n       <use x=\"417.822266\" xlink:href=\"#DejaVuSans-2d\"/>\r\n       <use x=\"453.90625\" xlink:href=\"#DejaVuSans-30\"/>\r\n       <use x=\"517.529297\" xlink:href=\"#DejaVuSans-33\"/>\r\n      </g>\r\n     </g>\r\n    </g>\r\n    <g id=\"xtick_4\">\r\n     <g id=\"line2d_4\">\r\n      <g>\r\n       <use style=\"stroke:#000000;stroke-width:0.8;\" x=\"379.208125\" xlink:href=\"#m2e9875b5ef\" y=\"266.858125\"/>\r\n      </g>\r\n     </g>\r\n     <g id=\"text_4\">\r\n      <!-- 2019-08-04 -->\r\n      <g transform=\"translate(381.9675 331.97375)rotate(-90)scale(0.1 -0.1)\">\r\n       <defs>\r\n        <path d=\"M 2419 4116 \r\nL 825 1625 \r\nL 2419 1625 \r\nL 2419 4116 \r\nz\r\nM 2253 4666 \r\nL 3047 4666 \r\nL 3047 1625 \r\nL 3713 1625 \r\nL 3713 1100 \r\nL 3047 1100 \r\nL 3047 0 \r\nL 2419 0 \r\nL 2419 1100 \r\nL 313 1100 \r\nL 313 1709 \r\nL 2253 4666 \r\nz\r\n\" id=\"DejaVuSans-34\" transform=\"scale(0.015625)\"/>\r\n       </defs>\r\n       <use xlink:href=\"#DejaVuSans-32\"/>\r\n       <use x=\"63.623047\" xlink:href=\"#DejaVuSans-30\"/>\r\n       <use x=\"127.246094\" xlink:href=\"#DejaVuSans-31\"/>\r\n       <use x=\"190.869141\" xlink:href=\"#DejaVuSans-39\"/>\r\n       <use x=\"254.492188\" xlink:href=\"#DejaVuSans-2d\"/>\r\n       <use x=\"290.576172\" xlink:href=\"#DejaVuSans-30\"/>\r\n       <use x=\"354.199219\" xlink:href=\"#DejaVuSans-38\"/>\r\n       <use x=\"417.822266\" xlink:href=\"#DejaVuSans-2d\"/>\r\n       <use x=\"453.90625\" xlink:href=\"#DejaVuSans-30\"/>\r\n       <use x=\"517.529297\" xlink:href=\"#DejaVuSans-34\"/>\r\n      </g>\r\n     </g>\r\n    </g>\r\n    <g id=\"xtick_5\">\r\n     <g id=\"line2d_5\">\r\n      <g>\r\n       <use style=\"stroke:#000000;stroke-width:0.8;\" x=\"477.95964\" xlink:href=\"#m2e9875b5ef\" y=\"266.858125\"/>\r\n      </g>\r\n     </g>\r\n     <g id=\"text_5\">\r\n      <!-- 2019-08-05 -->\r\n      <g transform=\"translate(480.719015 331.97375)rotate(-90)scale(0.1 -0.1)\">\r\n       <defs>\r\n        <path d=\"M 691 4666 \r\nL 3169 4666 \r\nL 3169 4134 \r\nL 1269 4134 \r\nL 1269 2991 \r\nQ 1406 3038 1543 3061 \r\nQ 1681 3084 1819 3084 \r\nQ 2600 3084 3056 2656 \r\nQ 3513 2228 3513 1497 \r\nQ 3513 744 3044 326 \r\nQ 2575 -91 1722 -91 \r\nQ 1428 -91 1123 -41 \r\nQ 819 9 494 109 \r\nL 494 744 \r\nQ 775 591 1075 516 \r\nQ 1375 441 1709 441 \r\nQ 2250 441 2565 725 \r\nQ 2881 1009 2881 1497 \r\nQ 2881 1984 2565 2268 \r\nQ 2250 2553 1709 2553 \r\nQ 1456 2553 1204 2497 \r\nQ 953 2441 691 2322 \r\nL 691 4666 \r\nz\r\n\" id=\"DejaVuSans-35\" transform=\"scale(0.015625)\"/>\r\n       </defs>\r\n       <use xlink:href=\"#DejaVuSans-32\"/>\r\n       <use x=\"63.623047\" xlink:href=\"#DejaVuSans-30\"/>\r\n       <use x=\"127.246094\" xlink:href=\"#DejaVuSans-31\"/>\r\n       <use x=\"190.869141\" xlink:href=\"#DejaVuSans-39\"/>\r\n       <use x=\"254.492188\" xlink:href=\"#DejaVuSans-2d\"/>\r\n       <use x=\"290.576172\" xlink:href=\"#DejaVuSans-30\"/>\r\n       <use x=\"354.199219\" xlink:href=\"#DejaVuSans-38\"/>\r\n       <use x=\"417.822266\" xlink:href=\"#DejaVuSans-2d\"/>\r\n       <use x=\"453.90625\" xlink:href=\"#DejaVuSans-30\"/>\r\n       <use x=\"517.529297\" xlink:href=\"#DejaVuSans-35\"/>\r\n      </g>\r\n     </g>\r\n    </g>\r\n    <g id=\"xtick_6\">\r\n     <g id=\"line2d_6\">\r\n      <g>\r\n       <use style=\"stroke:#000000;stroke-width:0.8;\" x=\"576.711155\" xlink:href=\"#m2e9875b5ef\" y=\"266.858125\"/>\r\n      </g>\r\n     </g>\r\n     <g id=\"text_6\">\r\n      <!-- 2019-08-06 -->\r\n      <g transform=\"translate(579.47053 331.97375)rotate(-90)scale(0.1 -0.1)\">\r\n       <defs>\r\n        <path d=\"M 2113 2584 \r\nQ 1688 2584 1439 2293 \r\nQ 1191 2003 1191 1497 \r\nQ 1191 994 1439 701 \r\nQ 1688 409 2113 409 \r\nQ 2538 409 2786 701 \r\nQ 3034 994 3034 1497 \r\nQ 3034 2003 2786 2293 \r\nQ 2538 2584 2113 2584 \r\nz\r\nM 3366 4563 \r\nL 3366 3988 \r\nQ 3128 4100 2886 4159 \r\nQ 2644 4219 2406 4219 \r\nQ 1781 4219 1451 3797 \r\nQ 1122 3375 1075 2522 \r\nQ 1259 2794 1537 2939 \r\nQ 1816 3084 2150 3084 \r\nQ 2853 3084 3261 2657 \r\nQ 3669 2231 3669 1497 \r\nQ 3669 778 3244 343 \r\nQ 2819 -91 2113 -91 \r\nQ 1303 -91 875 529 \r\nQ 447 1150 447 2328 \r\nQ 447 3434 972 4092 \r\nQ 1497 4750 2381 4750 \r\nQ 2619 4750 2861 4703 \r\nQ 3103 4656 3366 4563 \r\nz\r\n\" id=\"DejaVuSans-36\" transform=\"scale(0.015625)\"/>\r\n       </defs>\r\n       <use xlink:href=\"#DejaVuSans-32\"/>\r\n       <use x=\"63.623047\" xlink:href=\"#DejaVuSans-30\"/>\r\n       <use x=\"127.246094\" xlink:href=\"#DejaVuSans-31\"/>\r\n       <use x=\"190.869141\" xlink:href=\"#DejaVuSans-39\"/>\r\n       <use x=\"254.492188\" xlink:href=\"#DejaVuSans-2d\"/>\r\n       <use x=\"290.576172\" xlink:href=\"#DejaVuSans-30\"/>\r\n       <use x=\"354.199219\" xlink:href=\"#DejaVuSans-38\"/>\r\n       <use x=\"417.822266\" xlink:href=\"#DejaVuSans-2d\"/>\r\n       <use x=\"453.90625\" xlink:href=\"#DejaVuSans-30\"/>\r\n       <use x=\"517.529297\" xlink:href=\"#DejaVuSans-36\"/>\r\n      </g>\r\n     </g>\r\n    </g>\r\n    <g id=\"xtick_7\">\r\n     <g id=\"line2d_7\">\r\n      <g>\r\n       <use style=\"stroke:#000000;stroke-width:0.8;\" x=\"675.46267\" xlink:href=\"#m2e9875b5ef\" y=\"266.858125\"/>\r\n      </g>\r\n     </g>\r\n     <g id=\"text_7\">\r\n      <!-- 2019-08-07 -->\r\n      <g transform=\"translate(678.222045 331.97375)rotate(-90)scale(0.1 -0.1)\">\r\n       <defs>\r\n        <path d=\"M 525 4666 \r\nL 3525 4666 \r\nL 3525 4397 \r\nL 1831 0 \r\nL 1172 0 \r\nL 2766 4134 \r\nL 525 4134 \r\nL 525 4666 \r\nz\r\n\" id=\"DejaVuSans-37\" transform=\"scale(0.015625)\"/>\r\n       </defs>\r\n       <use xlink:href=\"#DejaVuSans-32\"/>\r\n       <use x=\"63.623047\" xlink:href=\"#DejaVuSans-30\"/>\r\n       <use x=\"127.246094\" xlink:href=\"#DejaVuSans-31\"/>\r\n       <use x=\"190.869141\" xlink:href=\"#DejaVuSans-39\"/>\r\n       <use x=\"254.492188\" xlink:href=\"#DejaVuSans-2d\"/>\r\n       <use x=\"290.576172\" xlink:href=\"#DejaVuSans-30\"/>\r\n       <use x=\"354.199219\" xlink:href=\"#DejaVuSans-38\"/>\r\n       <use x=\"417.822266\" xlink:href=\"#DejaVuSans-2d\"/>\r\n       <use x=\"453.90625\" xlink:href=\"#DejaVuSans-30\"/>\r\n       <use x=\"517.529297\" xlink:href=\"#DejaVuSans-37\"/>\r\n      </g>\r\n     </g>\r\n    </g>\r\n    <g id=\"text_8\">\r\n     <!-- Date -->\r\n     <g transform=\"translate(367.257344 343.572187)scale(0.1 -0.1)\">\r\n      <defs>\r\n       <path d=\"M 1259 4147 \r\nL 1259 519 \r\nL 2022 519 \r\nQ 2988 519 3436 956 \r\nQ 3884 1394 3884 2338 \r\nQ 3884 3275 3436 3711 \r\nQ 2988 4147 2022 4147 \r\nL 1259 4147 \r\nz\r\nM 628 4666 \r\nL 1925 4666 \r\nQ 3281 4666 3915 4102 \r\nQ 4550 3538 4550 2338 \r\nQ 4550 1131 3912 565 \r\nQ 3275 0 1925 0 \r\nL 628 0 \r\nL 628 4666 \r\nz\r\n\" id=\"DejaVuSans-44\" transform=\"scale(0.015625)\"/>\r\n       <path d=\"M 2194 1759 \r\nQ 1497 1759 1228 1600 \r\nQ 959 1441 959 1056 \r\nQ 959 750 1161 570 \r\nQ 1363 391 1709 391 \r\nQ 2188 391 2477 730 \r\nQ 2766 1069 2766 1631 \r\nL 2766 1759 \r\nL 2194 1759 \r\nz\r\nM 3341 1997 \r\nL 3341 0 \r\nL 2766 0 \r\nL 2766 531 \r\nQ 2569 213 2275 61 \r\nQ 1981 -91 1556 -91 \r\nQ 1019 -91 701 211 \r\nQ 384 513 384 1019 \r\nQ 384 1609 779 1909 \r\nQ 1175 2209 1959 2209 \r\nL 2766 2209 \r\nL 2766 2266 \r\nQ 2766 2663 2505 2880 \r\nQ 2244 3097 1772 3097 \r\nQ 1472 3097 1187 3025 \r\nQ 903 2953 641 2809 \r\nL 641 3341 \r\nQ 956 3463 1253 3523 \r\nQ 1550 3584 1831 3584 \r\nQ 2591 3584 2966 3190 \r\nQ 3341 2797 3341 1997 \r\nz\r\n\" id=\"DejaVuSans-61\" transform=\"scale(0.015625)\"/>\r\n       <path d=\"M 1172 4494 \r\nL 1172 3500 \r\nL 2356 3500 \r\nL 2356 3053 \r\nL 1172 3053 \r\nL 1172 1153 \r\nQ 1172 725 1289 603 \r\nQ 1406 481 1766 481 \r\nL 2356 481 \r\nL 2356 0 \r\nL 1766 0 \r\nQ 1100 0 847 248 \r\nQ 594 497 594 1153 \r\nL 594 3053 \r\nL 172 3053 \r\nL 172 3500 \r\nL 594 3500 \r\nL 594 4494 \r\nL 1172 4494 \r\nz\r\n\" id=\"DejaVuSans-74\" transform=\"scale(0.015625)\"/>\r\n       <path d=\"M 3597 1894 \r\nL 3597 1613 \r\nL 953 1613 \r\nQ 991 1019 1311 708 \r\nQ 1631 397 2203 397 \r\nQ 2534 397 2845 478 \r\nQ 3156 559 3463 722 \r\nL 3463 178 \r\nQ 3153 47 2828 -22 \r\nQ 2503 -91 2169 -91 \r\nQ 1331 -91 842 396 \r\nQ 353 884 353 1716 \r\nQ 353 2575 817 3079 \r\nQ 1281 3584 2069 3584 \r\nQ 2775 3584 3186 3129 \r\nQ 3597 2675 3597 1894 \r\nz\r\nM 3022 2063 \r\nQ 3016 2534 2758 2815 \r\nQ 2500 3097 2075 3097 \r\nQ 1594 3097 1305 2825 \r\nQ 1016 2553 972 2059 \r\nL 3022 2063 \r\nz\r\n\" id=\"DejaVuSans-65\" transform=\"scale(0.015625)\"/>\r\n      </defs>\r\n      <use xlink:href=\"#DejaVuSans-44\"/>\r\n      <use x=\"77.001953\" xlink:href=\"#DejaVuSans-61\"/>\r\n      <use x=\"138.28125\" xlink:href=\"#DejaVuSans-74\"/>\r\n      <use x=\"177.490234\" xlink:href=\"#DejaVuSans-65\"/>\r\n     </g>\r\n    </g>\r\n   </g>\r\n   <g id=\"matplotlib.axis_2\">\r\n    <g id=\"ytick_1\">\r\n     <g id=\"line2d_8\">\r\n      <defs>\r\n       <path d=\"M 0 0 \r\nL -3.5 0 \r\n\" id=\"m0535261ad9\" style=\"stroke:#000000;stroke-width:0.8;\"/>\r\n      </defs>\r\n      <g>\r\n       <use style=\"stroke:#000000;stroke-width:0.8;\" x=\"53.328125\" xlink:href=\"#m0535261ad9\" y=\"244.164072\"/>\r\n      </g>\r\n     </g>\r\n     <g id=\"text_9\">\r\n      <!-- 1150 -->\r\n      <g transform=\"translate(20.878125 247.963291)scale(0.1 -0.1)\">\r\n       <use xlink:href=\"#DejaVuSans-31\"/>\r\n       <use x=\"63.623047\" xlink:href=\"#DejaVuSans-31\"/>\r\n       <use x=\"127.246094\" xlink:href=\"#DejaVuSans-35\"/>\r\n       <use x=\"190.869141\" xlink:href=\"#DejaVuSans-30\"/>\r\n      </g>\r\n     </g>\r\n    </g>\r\n    <g id=\"ytick_2\">\r\n     <g id=\"line2d_9\">\r\n      <g>\r\n       <use style=\"stroke:#000000;stroke-width:0.8;\" x=\"53.328125\" xlink:href=\"#m0535261ad9\" y=\"215.217576\"/>\r\n      </g>\r\n     </g>\r\n     <g id=\"text_10\">\r\n      <!-- 1175 -->\r\n      <g transform=\"translate(20.878125 219.016795)scale(0.1 -0.1)\">\r\n       <use xlink:href=\"#DejaVuSans-31\"/>\r\n       <use x=\"63.623047\" xlink:href=\"#DejaVuSans-31\"/>\r\n       <use x=\"127.246094\" xlink:href=\"#DejaVuSans-37\"/>\r\n       <use x=\"190.869141\" xlink:href=\"#DejaVuSans-35\"/>\r\n      </g>\r\n     </g>\r\n    </g>\r\n    <g id=\"ytick_3\">\r\n     <g id=\"line2d_10\">\r\n      <g>\r\n       <use style=\"stroke:#000000;stroke-width:0.8;\" x=\"53.328125\" xlink:href=\"#m0535261ad9\" y=\"186.27108\"/>\r\n      </g>\r\n     </g>\r\n     <g id=\"text_11\">\r\n      <!-- 1200 -->\r\n      <g transform=\"translate(20.878125 190.070298)scale(0.1 -0.1)\">\r\n       <use xlink:href=\"#DejaVuSans-31\"/>\r\n       <use x=\"63.623047\" xlink:href=\"#DejaVuSans-32\"/>\r\n       <use x=\"127.246094\" xlink:href=\"#DejaVuSans-30\"/>\r\n       <use x=\"190.869141\" xlink:href=\"#DejaVuSans-30\"/>\r\n      </g>\r\n     </g>\r\n    </g>\r\n    <g id=\"ytick_4\">\r\n     <g id=\"line2d_11\">\r\n      <g>\r\n       <use style=\"stroke:#000000;stroke-width:0.8;\" x=\"53.328125\" xlink:href=\"#m0535261ad9\" y=\"157.324583\"/>\r\n      </g>\r\n     </g>\r\n     <g id=\"text_12\">\r\n      <!-- 1225 -->\r\n      <g transform=\"translate(20.878125 161.123802)scale(0.1 -0.1)\">\r\n       <use xlink:href=\"#DejaVuSans-31\"/>\r\n       <use x=\"63.623047\" xlink:href=\"#DejaVuSans-32\"/>\r\n       <use x=\"127.246094\" xlink:href=\"#DejaVuSans-32\"/>\r\n       <use x=\"190.869141\" xlink:href=\"#DejaVuSans-35\"/>\r\n      </g>\r\n     </g>\r\n    </g>\r\n    <g id=\"ytick_5\">\r\n     <g id=\"line2d_12\">\r\n      <g>\r\n       <use style=\"stroke:#000000;stroke-width:0.8;\" x=\"53.328125\" xlink:href=\"#m0535261ad9\" y=\"128.378087\"/>\r\n      </g>\r\n     </g>\r\n     <g id=\"text_13\">\r\n      <!-- 1250 -->\r\n      <g transform=\"translate(20.878125 132.177306)scale(0.1 -0.1)\">\r\n       <use xlink:href=\"#DejaVuSans-31\"/>\r\n       <use x=\"63.623047\" xlink:href=\"#DejaVuSans-32\"/>\r\n       <use x=\"127.246094\" xlink:href=\"#DejaVuSans-35\"/>\r\n       <use x=\"190.869141\" xlink:href=\"#DejaVuSans-30\"/>\r\n      </g>\r\n     </g>\r\n    </g>\r\n    <g id=\"ytick_6\">\r\n     <g id=\"line2d_13\">\r\n      <g>\r\n       <use style=\"stroke:#000000;stroke-width:0.8;\" x=\"53.328125\" xlink:href=\"#m0535261ad9\" y=\"99.431591\"/>\r\n      </g>\r\n     </g>\r\n     <g id=\"text_14\">\r\n      <!-- 1275 -->\r\n      <g transform=\"translate(20.878125 103.23081)scale(0.1 -0.1)\">\r\n       <use xlink:href=\"#DejaVuSans-31\"/>\r\n       <use x=\"63.623047\" xlink:href=\"#DejaVuSans-32\"/>\r\n       <use x=\"127.246094\" xlink:href=\"#DejaVuSans-37\"/>\r\n       <use x=\"190.869141\" xlink:href=\"#DejaVuSans-35\"/>\r\n      </g>\r\n     </g>\r\n    </g>\r\n    <g id=\"ytick_7\">\r\n     <g id=\"line2d_14\">\r\n      <g>\r\n       <use style=\"stroke:#000000;stroke-width:0.8;\" x=\"53.328125\" xlink:href=\"#m0535261ad9\" y=\"70.485095\"/>\r\n      </g>\r\n     </g>\r\n     <g id=\"text_15\">\r\n      <!-- 1300 -->\r\n      <g transform=\"translate(20.878125 74.284313)scale(0.1 -0.1)\">\r\n       <use xlink:href=\"#DejaVuSans-31\"/>\r\n       <use x=\"63.623047\" xlink:href=\"#DejaVuSans-33\"/>\r\n       <use x=\"127.246094\" xlink:href=\"#DejaVuSans-30\"/>\r\n       <use x=\"190.869141\" xlink:href=\"#DejaVuSans-30\"/>\r\n      </g>\r\n     </g>\r\n    </g>\r\n    <g id=\"ytick_8\">\r\n     <g id=\"line2d_15\">\r\n      <g>\r\n       <use style=\"stroke:#000000;stroke-width:0.8;\" x=\"53.328125\" xlink:href=\"#m0535261ad9\" y=\"41.538598\"/>\r\n      </g>\r\n     </g>\r\n     <g id=\"text_16\">\r\n      <!-- 1325 -->\r\n      <g transform=\"translate(20.878125 45.337817)scale(0.1 -0.1)\">\r\n       <use xlink:href=\"#DejaVuSans-31\"/>\r\n       <use x=\"63.623047\" xlink:href=\"#DejaVuSans-33\"/>\r\n       <use x=\"127.246094\" xlink:href=\"#DejaVuSans-32\"/>\r\n       <use x=\"190.869141\" xlink:href=\"#DejaVuSans-35\"/>\r\n      </g>\r\n     </g>\r\n    </g>\r\n    <g id=\"text_17\">\r\n     <!-- Number of users -->\r\n     <g transform=\"translate(14.798438 186.181875)rotate(-90)scale(0.1 -0.1)\">\r\n      <defs>\r\n       <path d=\"M 628 4666 \r\nL 1478 4666 \r\nL 3547 763 \r\nL 3547 4666 \r\nL 4159 4666 \r\nL 4159 0 \r\nL 3309 0 \r\nL 1241 3903 \r\nL 1241 0 \r\nL 628 0 \r\nL 628 4666 \r\nz\r\n\" id=\"DejaVuSans-4e\" transform=\"scale(0.015625)\"/>\r\n       <path d=\"M 544 1381 \r\nL 544 3500 \r\nL 1119 3500 \r\nL 1119 1403 \r\nQ 1119 906 1312 657 \r\nQ 1506 409 1894 409 \r\nQ 2359 409 2629 706 \r\nQ 2900 1003 2900 1516 \r\nL 2900 3500 \r\nL 3475 3500 \r\nL 3475 0 \r\nL 2900 0 \r\nL 2900 538 \r\nQ 2691 219 2414 64 \r\nQ 2138 -91 1772 -91 \r\nQ 1169 -91 856 284 \r\nQ 544 659 544 1381 \r\nz\r\nM 1991 3584 \r\nL 1991 3584 \r\nz\r\n\" id=\"DejaVuSans-75\" transform=\"scale(0.015625)\"/>\r\n       <path d=\"M 3328 2828 \r\nQ 3544 3216 3844 3400 \r\nQ 4144 3584 4550 3584 \r\nQ 5097 3584 5394 3201 \r\nQ 5691 2819 5691 2113 \r\nL 5691 0 \r\nL 5113 0 \r\nL 5113 2094 \r\nQ 5113 2597 4934 2840 \r\nQ 4756 3084 4391 3084 \r\nQ 3944 3084 3684 2787 \r\nQ 3425 2491 3425 1978 \r\nL 3425 0 \r\nL 2847 0 \r\nL 2847 2094 \r\nQ 2847 2600 2669 2842 \r\nQ 2491 3084 2119 3084 \r\nQ 1678 3084 1418 2786 \r\nQ 1159 2488 1159 1978 \r\nL 1159 0 \r\nL 581 0 \r\nL 581 3500 \r\nL 1159 3500 \r\nL 1159 2956 \r\nQ 1356 3278 1631 3431 \r\nQ 1906 3584 2284 3584 \r\nQ 2666 3584 2933 3390 \r\nQ 3200 3197 3328 2828 \r\nz\r\n\" id=\"DejaVuSans-6d\" transform=\"scale(0.015625)\"/>\r\n       <path d=\"M 3116 1747 \r\nQ 3116 2381 2855 2742 \r\nQ 2594 3103 2138 3103 \r\nQ 1681 3103 1420 2742 \r\nQ 1159 2381 1159 1747 \r\nQ 1159 1113 1420 752 \r\nQ 1681 391 2138 391 \r\nQ 2594 391 2855 752 \r\nQ 3116 1113 3116 1747 \r\nz\r\nM 1159 2969 \r\nQ 1341 3281 1617 3432 \r\nQ 1894 3584 2278 3584 \r\nQ 2916 3584 3314 3078 \r\nQ 3713 2572 3713 1747 \r\nQ 3713 922 3314 415 \r\nQ 2916 -91 2278 -91 \r\nQ 1894 -91 1617 61 \r\nQ 1341 213 1159 525 \r\nL 1159 0 \r\nL 581 0 \r\nL 581 4863 \r\nL 1159 4863 \r\nL 1159 2969 \r\nz\r\n\" id=\"DejaVuSans-62\" transform=\"scale(0.015625)\"/>\r\n       <path d=\"M 2631 2963 \r\nQ 2534 3019 2420 3045 \r\nQ 2306 3072 2169 3072 \r\nQ 1681 3072 1420 2755 \r\nQ 1159 2438 1159 1844 \r\nL 1159 0 \r\nL 581 0 \r\nL 581 3500 \r\nL 1159 3500 \r\nL 1159 2956 \r\nQ 1341 3275 1631 3429 \r\nQ 1922 3584 2338 3584 \r\nQ 2397 3584 2469 3576 \r\nQ 2541 3569 2628 3553 \r\nL 2631 2963 \r\nz\r\n\" id=\"DejaVuSans-72\" transform=\"scale(0.015625)\"/>\r\n       <path id=\"DejaVuSans-20\" transform=\"scale(0.015625)\"/>\r\n       <path d=\"M 1959 3097 \r\nQ 1497 3097 1228 2736 \r\nQ 959 2375 959 1747 \r\nQ 959 1119 1226 758 \r\nQ 1494 397 1959 397 \r\nQ 2419 397 2687 759 \r\nQ 2956 1122 2956 1747 \r\nQ 2956 2369 2687 2733 \r\nQ 2419 3097 1959 3097 \r\nz\r\nM 1959 3584 \r\nQ 2709 3584 3137 3096 \r\nQ 3566 2609 3566 1747 \r\nQ 3566 888 3137 398 \r\nQ 2709 -91 1959 -91 \r\nQ 1206 -91 779 398 \r\nQ 353 888 353 1747 \r\nQ 353 2609 779 3096 \r\nQ 1206 3584 1959 3584 \r\nz\r\n\" id=\"DejaVuSans-6f\" transform=\"scale(0.015625)\"/>\r\n       <path d=\"M 2375 4863 \r\nL 2375 4384 \r\nL 1825 4384 \r\nQ 1516 4384 1395 4259 \r\nQ 1275 4134 1275 3809 \r\nL 1275 3500 \r\nL 2222 3500 \r\nL 2222 3053 \r\nL 1275 3053 \r\nL 1275 0 \r\nL 697 0 \r\nL 697 3053 \r\nL 147 3053 \r\nL 147 3500 \r\nL 697 3500 \r\nL 697 3744 \r\nQ 697 4328 969 4595 \r\nQ 1241 4863 1831 4863 \r\nL 2375 4863 \r\nz\r\n\" id=\"DejaVuSans-66\" transform=\"scale(0.015625)\"/>\r\n       <path d=\"M 2834 3397 \r\nL 2834 2853 \r\nQ 2591 2978 2328 3040 \r\nQ 2066 3103 1784 3103 \r\nQ 1356 3103 1142 2972 \r\nQ 928 2841 928 2578 \r\nQ 928 2378 1081 2264 \r\nQ 1234 2150 1697 2047 \r\nL 1894 2003 \r\nQ 2506 1872 2764 1633 \r\nQ 3022 1394 3022 966 \r\nQ 3022 478 2636 193 \r\nQ 2250 -91 1575 -91 \r\nQ 1294 -91 989 -36 \r\nQ 684 19 347 128 \r\nL 347 722 \r\nQ 666 556 975 473 \r\nQ 1284 391 1588 391 \r\nQ 1994 391 2212 530 \r\nQ 2431 669 2431 922 \r\nQ 2431 1156 2273 1281 \r\nQ 2116 1406 1581 1522 \r\nL 1381 1569 \r\nQ 847 1681 609 1914 \r\nQ 372 2147 372 2553 \r\nQ 372 3047 722 3315 \r\nQ 1072 3584 1716 3584 \r\nQ 2034 3584 2315 3537 \r\nQ 2597 3491 2834 3397 \r\nz\r\n\" id=\"DejaVuSans-73\" transform=\"scale(0.015625)\"/>\r\n      </defs>\r\n      <use xlink:href=\"#DejaVuSans-4e\"/>\r\n      <use x=\"74.804688\" xlink:href=\"#DejaVuSans-75\"/>\r\n      <use x=\"138.183594\" xlink:href=\"#DejaVuSans-6d\"/>\r\n      <use x=\"235.595703\" xlink:href=\"#DejaVuSans-62\"/>\r\n      <use x=\"299.072266\" xlink:href=\"#DejaVuSans-65\"/>\r\n      <use x=\"360.595703\" xlink:href=\"#DejaVuSans-72\"/>\r\n      <use x=\"401.708984\" xlink:href=\"#DejaVuSans-20\"/>\r\n      <use x=\"433.496094\" xlink:href=\"#DejaVuSans-6f\"/>\r\n      <use x=\"494.677734\" xlink:href=\"#DejaVuSans-66\"/>\r\n      <use x=\"529.882812\" xlink:href=\"#DejaVuSans-20\"/>\r\n      <use x=\"561.669922\" xlink:href=\"#DejaVuSans-75\"/>\r\n      <use x=\"625.048828\" xlink:href=\"#DejaVuSans-73\"/>\r\n      <use x=\"677.148438\" xlink:href=\"#DejaVuSans-65\"/>\r\n      <use x=\"738.671875\" xlink:href=\"#DejaVuSans-72\"/>\r\n      <use x=\"779.785156\" xlink:href=\"#DejaVuSans-73\"/>\r\n     </g>\r\n    </g>\r\n   </g>\r\n   <g id=\"line2d_16\">\r\n    <path clip-path=\"url(#p58337b366b)\" d=\"M 82.95358 196.691818 \r\nL 181.705095 189.744659 \r\nL 280.45661 255.74267 \r\nL 379.208125 221.006875 \r\nL 477.95964 106.37875 \r\nL 576.711155 105.22089 \r\nL 675.46267 188.586799 \r\n\" style=\"fill:none;stroke:#1f77b4;stroke-linecap:square;stroke-width:1.5;\"/>\r\n   </g>\r\n   <g id=\"line2d_17\">\r\n    <path clip-path=\"url(#p58337b366b)\" d=\"M 82.95358 91.326572 \r\nL 181.705095 161.956023 \r\nL 280.45661 214.059716 \r\nL 379.208125 222.164735 \r\nL 477.95964 113.325909 \r\nL 576.711155 47.327898 \r\nL 675.46267 172.376761 \r\n\" style=\"fill:none;stroke:#ff7f0e;stroke-linecap:square;stroke-width:1.5;\"/>\r\n   </g>\r\n   <g id=\"line2d_18\">\r\n    <path clip-path=\"url(#p58337b366b)\" d=\"M 82.95358 151.535284 \r\nL 181.705095 152.693144 \r\nL 280.45661 225.638314 \r\nL 379.208125 200.165398 \r\nL 477.95964 105.22089 \r\nL 576.711155 33.43358 \r\nL 675.46267 138.798826 \r\n\" style=\"fill:none;stroke:#2ca02c;stroke-linecap:square;stroke-width:1.5;\"/>\r\n   </g>\r\n   <g id=\"patch_3\">\r\n    <path d=\"M 53.328125 266.858125 \r\nL 53.328125 22.318125 \r\n\" style=\"fill:none;stroke:#000000;stroke-linecap:square;stroke-linejoin:miter;stroke-width:0.8;\"/>\r\n   </g>\r\n   <g id=\"patch_4\">\r\n    <path d=\"M 705.088125 266.858125 \r\nL 705.088125 22.318125 \r\n\" style=\"fill:none;stroke:#000000;stroke-linecap:square;stroke-linejoin:miter;stroke-width:0.8;\"/>\r\n   </g>\r\n   <g id=\"patch_5\">\r\n    <path d=\"M 53.328125 266.858125 \r\nL 705.088125 266.858125 \r\n\" style=\"fill:none;stroke:#000000;stroke-linecap:square;stroke-linejoin:miter;stroke-width:0.8;\"/>\r\n   </g>\r\n   <g id=\"patch_6\">\r\n    <path d=\"M 53.328125 22.318125 \r\nL 705.088125 22.318125 \r\n\" style=\"fill:none;stroke:#000000;stroke-linecap:square;stroke-linejoin:miter;stroke-width:0.8;\"/>\r\n   </g>\r\n   <g id=\"text_18\">\r\n    <!-- Number of users accessing the app per day per group -->\r\n    <g transform=\"translate(216.91375 16.318125)scale(0.12 -0.12)\">\r\n     <defs>\r\n      <path d=\"M 3122 3366 \r\nL 3122 2828 \r\nQ 2878 2963 2633 3030 \r\nQ 2388 3097 2138 3097 \r\nQ 1578 3097 1268 2742 \r\nQ 959 2388 959 1747 \r\nQ 959 1106 1268 751 \r\nQ 1578 397 2138 397 \r\nQ 2388 397 2633 464 \r\nQ 2878 531 3122 666 \r\nL 3122 134 \r\nQ 2881 22 2623 -34 \r\nQ 2366 -91 2075 -91 \r\nQ 1284 -91 818 406 \r\nQ 353 903 353 1747 \r\nQ 353 2603 823 3093 \r\nQ 1294 3584 2113 3584 \r\nQ 2378 3584 2631 3529 \r\nQ 2884 3475 3122 3366 \r\nz\r\n\" id=\"DejaVuSans-63\" transform=\"scale(0.015625)\"/>\r\n      <path d=\"M 603 3500 \r\nL 1178 3500 \r\nL 1178 0 \r\nL 603 0 \r\nL 603 3500 \r\nz\r\nM 603 4863 \r\nL 1178 4863 \r\nL 1178 4134 \r\nL 603 4134 \r\nL 603 4863 \r\nz\r\n\" id=\"DejaVuSans-69\" transform=\"scale(0.015625)\"/>\r\n      <path d=\"M 3513 2113 \r\nL 3513 0 \r\nL 2938 0 \r\nL 2938 2094 \r\nQ 2938 2591 2744 2837 \r\nQ 2550 3084 2163 3084 \r\nQ 1697 3084 1428 2787 \r\nQ 1159 2491 1159 1978 \r\nL 1159 0 \r\nL 581 0 \r\nL 581 3500 \r\nL 1159 3500 \r\nL 1159 2956 \r\nQ 1366 3272 1645 3428 \r\nQ 1925 3584 2291 3584 \r\nQ 2894 3584 3203 3211 \r\nQ 3513 2838 3513 2113 \r\nz\r\n\" id=\"DejaVuSans-6e\" transform=\"scale(0.015625)\"/>\r\n      <path d=\"M 2906 1791 \r\nQ 2906 2416 2648 2759 \r\nQ 2391 3103 1925 3103 \r\nQ 1463 3103 1205 2759 \r\nQ 947 2416 947 1791 \r\nQ 947 1169 1205 825 \r\nQ 1463 481 1925 481 \r\nQ 2391 481 2648 825 \r\nQ 2906 1169 2906 1791 \r\nz\r\nM 3481 434 \r\nQ 3481 -459 3084 -895 \r\nQ 2688 -1331 1869 -1331 \r\nQ 1566 -1331 1297 -1286 \r\nQ 1028 -1241 775 -1147 \r\nL 775 -588 \r\nQ 1028 -725 1275 -790 \r\nQ 1522 -856 1778 -856 \r\nQ 2344 -856 2625 -561 \r\nQ 2906 -266 2906 331 \r\nL 2906 616 \r\nQ 2728 306 2450 153 \r\nQ 2172 0 1784 0 \r\nQ 1141 0 747 490 \r\nQ 353 981 353 1791 \r\nQ 353 2603 747 3093 \r\nQ 1141 3584 1784 3584 \r\nQ 2172 3584 2450 3431 \r\nQ 2728 3278 2906 2969 \r\nL 2906 3500 \r\nL 3481 3500 \r\nL 3481 434 \r\nz\r\n\" id=\"DejaVuSans-67\" transform=\"scale(0.015625)\"/>\r\n      <path d=\"M 3513 2113 \r\nL 3513 0 \r\nL 2938 0 \r\nL 2938 2094 \r\nQ 2938 2591 2744 2837 \r\nQ 2550 3084 2163 3084 \r\nQ 1697 3084 1428 2787 \r\nQ 1159 2491 1159 1978 \r\nL 1159 0 \r\nL 581 0 \r\nL 581 4863 \r\nL 1159 4863 \r\nL 1159 2956 \r\nQ 1366 3272 1645 3428 \r\nQ 1925 3584 2291 3584 \r\nQ 2894 3584 3203 3211 \r\nQ 3513 2838 3513 2113 \r\nz\r\n\" id=\"DejaVuSans-68\" transform=\"scale(0.015625)\"/>\r\n      <path d=\"M 1159 525 \r\nL 1159 -1331 \r\nL 581 -1331 \r\nL 581 3500 \r\nL 1159 3500 \r\nL 1159 2969 \r\nQ 1341 3281 1617 3432 \r\nQ 1894 3584 2278 3584 \r\nQ 2916 3584 3314 3078 \r\nQ 3713 2572 3713 1747 \r\nQ 3713 922 3314 415 \r\nQ 2916 -91 2278 -91 \r\nQ 1894 -91 1617 61 \r\nQ 1341 213 1159 525 \r\nz\r\nM 3116 1747 \r\nQ 3116 2381 2855 2742 \r\nQ 2594 3103 2138 3103 \r\nQ 1681 3103 1420 2742 \r\nQ 1159 2381 1159 1747 \r\nQ 1159 1113 1420 752 \r\nQ 1681 391 2138 391 \r\nQ 2594 391 2855 752 \r\nQ 3116 1113 3116 1747 \r\nz\r\n\" id=\"DejaVuSans-70\" transform=\"scale(0.015625)\"/>\r\n      <path d=\"M 2906 2969 \r\nL 2906 4863 \r\nL 3481 4863 \r\nL 3481 0 \r\nL 2906 0 \r\nL 2906 525 \r\nQ 2725 213 2448 61 \r\nQ 2172 -91 1784 -91 \r\nQ 1150 -91 751 415 \r\nQ 353 922 353 1747 \r\nQ 353 2572 751 3078 \r\nQ 1150 3584 1784 3584 \r\nQ 2172 3584 2448 3432 \r\nQ 2725 3281 2906 2969 \r\nz\r\nM 947 1747 \r\nQ 947 1113 1208 752 \r\nQ 1469 391 1925 391 \r\nQ 2381 391 2643 752 \r\nQ 2906 1113 2906 1747 \r\nQ 2906 2381 2643 2742 \r\nQ 2381 3103 1925 3103 \r\nQ 1469 3103 1208 2742 \r\nQ 947 2381 947 1747 \r\nz\r\n\" id=\"DejaVuSans-64\" transform=\"scale(0.015625)\"/>\r\n      <path d=\"M 2059 -325 \r\nQ 1816 -950 1584 -1140 \r\nQ 1353 -1331 966 -1331 \r\nL 506 -1331 \r\nL 506 -850 \r\nL 844 -850 \r\nQ 1081 -850 1212 -737 \r\nQ 1344 -625 1503 -206 \r\nL 1606 56 \r\nL 191 3500 \r\nL 800 3500 \r\nL 1894 763 \r\nL 2988 3500 \r\nL 3597 3500 \r\nL 2059 -325 \r\nz\r\n\" id=\"DejaVuSans-79\" transform=\"scale(0.015625)\"/>\r\n     </defs>\r\n     <use xlink:href=\"#DejaVuSans-4e\"/>\r\n     <use x=\"74.804688\" xlink:href=\"#DejaVuSans-75\"/>\r\n     <use x=\"138.183594\" xlink:href=\"#DejaVuSans-6d\"/>\r\n     <use x=\"235.595703\" xlink:href=\"#DejaVuSans-62\"/>\r\n     <use x=\"299.072266\" xlink:href=\"#DejaVuSans-65\"/>\r\n     <use x=\"360.595703\" xlink:href=\"#DejaVuSans-72\"/>\r\n     <use x=\"401.708984\" xlink:href=\"#DejaVuSans-20\"/>\r\n     <use x=\"433.496094\" xlink:href=\"#DejaVuSans-6f\"/>\r\n     <use x=\"494.677734\" xlink:href=\"#DejaVuSans-66\"/>\r\n     <use x=\"529.882812\" xlink:href=\"#DejaVuSans-20\"/>\r\n     <use x=\"561.669922\" xlink:href=\"#DejaVuSans-75\"/>\r\n     <use x=\"625.048828\" xlink:href=\"#DejaVuSans-73\"/>\r\n     <use x=\"677.148438\" xlink:href=\"#DejaVuSans-65\"/>\r\n     <use x=\"738.671875\" xlink:href=\"#DejaVuSans-72\"/>\r\n     <use x=\"779.785156\" xlink:href=\"#DejaVuSans-73\"/>\r\n     <use x=\"831.884766\" xlink:href=\"#DejaVuSans-20\"/>\r\n     <use x=\"863.671875\" xlink:href=\"#DejaVuSans-61\"/>\r\n     <use x=\"924.951172\" xlink:href=\"#DejaVuSans-63\"/>\r\n     <use x=\"979.931641\" xlink:href=\"#DejaVuSans-63\"/>\r\n     <use x=\"1034.912109\" xlink:href=\"#DejaVuSans-65\"/>\r\n     <use x=\"1096.435547\" xlink:href=\"#DejaVuSans-73\"/>\r\n     <use x=\"1148.535156\" xlink:href=\"#DejaVuSans-73\"/>\r\n     <use x=\"1200.634766\" xlink:href=\"#DejaVuSans-69\"/>\r\n     <use x=\"1228.417969\" xlink:href=\"#DejaVuSans-6e\"/>\r\n     <use x=\"1291.796875\" xlink:href=\"#DejaVuSans-67\"/>\r\n     <use x=\"1355.273438\" xlink:href=\"#DejaVuSans-20\"/>\r\n     <use x=\"1387.060547\" xlink:href=\"#DejaVuSans-74\"/>\r\n     <use x=\"1426.269531\" xlink:href=\"#DejaVuSans-68\"/>\r\n     <use x=\"1489.648438\" xlink:href=\"#DejaVuSans-65\"/>\r\n     <use x=\"1551.171875\" xlink:href=\"#DejaVuSans-20\"/>\r\n     <use x=\"1582.958984\" xlink:href=\"#DejaVuSans-61\"/>\r\n     <use x=\"1644.238281\" xlink:href=\"#DejaVuSans-70\"/>\r\n     <use x=\"1707.714844\" xlink:href=\"#DejaVuSans-70\"/>\r\n     <use x=\"1771.191406\" xlink:href=\"#DejaVuSans-20\"/>\r\n     <use x=\"1802.978516\" xlink:href=\"#DejaVuSans-70\"/>\r\n     <use x=\"1866.455078\" xlink:href=\"#DejaVuSans-65\"/>\r\n     <use x=\"1927.978516\" xlink:href=\"#DejaVuSans-72\"/>\r\n     <use x=\"1969.091797\" xlink:href=\"#DejaVuSans-20\"/>\r\n     <use x=\"2000.878906\" xlink:href=\"#DejaVuSans-64\"/>\r\n     <use x=\"2064.355469\" xlink:href=\"#DejaVuSans-61\"/>\r\n     <use x=\"2125.634766\" xlink:href=\"#DejaVuSans-79\"/>\r\n     <use x=\"2184.814453\" xlink:href=\"#DejaVuSans-20\"/>\r\n     <use x=\"2216.601562\" xlink:href=\"#DejaVuSans-70\"/>\r\n     <use x=\"2280.078125\" xlink:href=\"#DejaVuSans-65\"/>\r\n     <use x=\"2341.601562\" xlink:href=\"#DejaVuSans-72\"/>\r\n     <use x=\"2382.714844\" xlink:href=\"#DejaVuSans-20\"/>\r\n     <use x=\"2414.501953\" xlink:href=\"#DejaVuSans-67\"/>\r\n     <use x=\"2477.978516\" xlink:href=\"#DejaVuSans-72\"/>\r\n     <use x=\"2516.841797\" xlink:href=\"#DejaVuSans-6f\"/>\r\n     <use x=\"2578.023438\" xlink:href=\"#DejaVuSans-75\"/>\r\n     <use x=\"2641.402344\" xlink:href=\"#DejaVuSans-70\"/>\r\n    </g>\r\n   </g>\r\n   <g id=\"legend_1\">\r\n    <g id=\"patch_7\">\r\n     <path d=\"M 652.885 74.3525 \r\nL 698.088125 74.3525 \r\nQ 700.088125 74.3525 700.088125 72.3525 \r\nL 700.088125 29.318125 \r\nQ 700.088125 27.318125 698.088125 27.318125 \r\nL 652.885 27.318125 \r\nQ 650.885 27.318125 650.885 29.318125 \r\nL 650.885 72.3525 \r\nQ 650.885 74.3525 652.885 74.3525 \r\nz\r\n\" style=\"fill:#ffffff;opacity:0.8;stroke:#cccccc;stroke-linejoin:miter;\"/>\r\n    </g>\r\n    <g id=\"line2d_19\">\r\n     <path d=\"M 654.885 35.416562 \r\nL 674.885 35.416562 \r\n\" style=\"fill:none;stroke:#1f77b4;stroke-linecap:square;stroke-width:1.5;\"/>\r\n    </g>\r\n    <g id=\"line2d_20\"/>\r\n    <g id=\"text_19\">\r\n     <!-- A1 -->\r\n     <g transform=\"translate(682.885 38.916562)scale(0.1 -0.1)\">\r\n      <defs>\r\n       <path d=\"M 2188 4044 \r\nL 1331 1722 \r\nL 3047 1722 \r\nL 2188 4044 \r\nz\r\nM 1831 4666 \r\nL 2547 4666 \r\nL 4325 0 \r\nL 3669 0 \r\nL 3244 1197 \r\nL 1141 1197 \r\nL 716 0 \r\nL 50 0 \r\nL 1831 4666 \r\nz\r\n\" id=\"DejaVuSans-41\" transform=\"scale(0.015625)\"/>\r\n      </defs>\r\n      <use xlink:href=\"#DejaVuSans-41\"/>\r\n      <use x=\"68.408203\" xlink:href=\"#DejaVuSans-31\"/>\r\n     </g>\r\n    </g>\r\n    <g id=\"line2d_21\">\r\n     <path d=\"M 654.885 50.094687 \r\nL 674.885 50.094687 \r\n\" style=\"fill:none;stroke:#ff7f0e;stroke-linecap:square;stroke-width:1.5;\"/>\r\n    </g>\r\n    <g id=\"line2d_22\"/>\r\n    <g id=\"text_20\">\r\n     <!-- A2 -->\r\n     <g transform=\"translate(682.885 53.594687)scale(0.1 -0.1)\">\r\n      <use xlink:href=\"#DejaVuSans-41\"/>\r\n      <use x=\"68.408203\" xlink:href=\"#DejaVuSans-32\"/>\r\n     </g>\r\n    </g>\r\n    <g id=\"line2d_23\">\r\n     <path d=\"M 654.885 64.772812 \r\nL 674.885 64.772812 \r\n\" style=\"fill:none;stroke:#2ca02c;stroke-linecap:square;stroke-width:1.5;\"/>\r\n    </g>\r\n    <g id=\"line2d_24\"/>\r\n    <g id=\"text_21\">\r\n     <!-- B -->\r\n     <g transform=\"translate(682.885 68.272812)scale(0.1 -0.1)\">\r\n      <defs>\r\n       <path d=\"M 1259 2228 \r\nL 1259 519 \r\nL 2272 519 \r\nQ 2781 519 3026 730 \r\nQ 3272 941 3272 1375 \r\nQ 3272 1813 3026 2020 \r\nQ 2781 2228 2272 2228 \r\nL 1259 2228 \r\nz\r\nM 1259 4147 \r\nL 1259 2741 \r\nL 2194 2741 \r\nQ 2656 2741 2882 2914 \r\nQ 3109 3088 3109 3444 \r\nQ 3109 3797 2882 3972 \r\nQ 2656 4147 2194 4147 \r\nL 1259 4147 \r\nz\r\nM 628 4666 \r\nL 2241 4666 \r\nQ 2963 4666 3353 4366 \r\nQ 3744 4066 3744 3513 \r\nQ 3744 3084 3544 2831 \r\nQ 3344 2578 2956 2516 \r\nQ 3422 2416 3680 2098 \r\nQ 3938 1781 3938 1306 \r\nQ 3938 681 3513 340 \r\nQ 3088 0 2303 0 \r\nL 628 0 \r\nL 628 4666 \r\nz\r\n\" id=\"DejaVuSans-42\" transform=\"scale(0.015625)\"/>\r\n      </defs>\r\n      <use xlink:href=\"#DejaVuSans-42\"/>\r\n     </g>\r\n    </g>\r\n   </g>\r\n  </g>\r\n </g>\r\n <defs>\r\n  <clipPath id=\"p58337b366b\">\r\n   <rect height=\"244.54\" width=\"651.76\" x=\"53.328125\" y=\"22.318125\"/>\r\n  </clipPath>\r\n </defs>\r\n</svg>\r\n",
      "text/plain": [
       "<Figure size 1000x500 with 1 Axes>"
      ]
     },
     "metadata": {},
     "output_type": "display_data"
    }
   ],
   "source": [
    "# Number of users\n",
    "(pd.pivot_table(\n",
    "    data=df_logs,\n",
    "    index='date_event',\n",
    "    columns='id_group',\n",
    "    values='id_device',\n",
    "    aggfunc='nunique'\n",
    " )\n",
    " .reset_index()\n",
    " .set_axis(\n",
    "     ['date', 'A1', 'A2', 'B'],\n",
    "     axis='columns'\n",
    " )\n",
    " .plot(\n",
    "     x='date',\n",
    "     kind='line',\n",
    "     title='Number of users accessing the app per day per group',\n",
    "     xlabel='Date',\n",
    "     ylabel='Number of users',\n",
    "     figsize=[FIG_WIDTH, FIG_HEIGHT],\n",
    "     rot=90\n",
    " )\n",
    ");\n",
    "plt.tight_layout()"
   ]
  },
  {
   "cell_type": "markdown",
   "metadata": {},
   "source": [
    "Интересно, что визуально группы А2 и В очень похожи, а группа А1 по количеству пользователей просядает. Посмотрим, что скажут статистические тесты.\n"
   ]
  },
  {
   "cell_type": "markdown",
   "metadata": {},
   "source": [
    "### А/А тесты\n",
    "\n",
    "Освновное упражнение в этой и следующих секциях - проверить статистическую значимость различия конверсий на каждом шаге между группами. С этим нам поможет Z-тест. Чтобы минимизировать вероятность ошибок, выберем уровень значимости `alpha = 0.01`. \n",
    "\n",
    "Первым делом, соберем данные в таблицу, которую будем использовать."
   ]
  },
  {
   "cell_type": "code",
   "execution_count": 33,
   "metadata": {},
   "outputs": [
    {
     "data": {
      "text/html": [
       "<div>\n",
       "<style scoped>\n",
       "    .dataframe tbody tr th:only-of-type {\n",
       "        vertical-align: middle;\n",
       "    }\n",
       "\n",
       "    .dataframe tbody tr th {\n",
       "        vertical-align: top;\n",
       "    }\n",
       "\n",
       "    .dataframe thead th {\n",
       "        text-align: right;\n",
       "    }\n",
       "</style>\n",
       "<table border=\"1\" class=\"dataframe\">\n",
       "  <thead>\n",
       "    <tr style=\"text-align: right;\">\n",
       "      <th></th>\n",
       "      <th>name_event</th>\n",
       "      <th>A1</th>\n",
       "      <th>A2</th>\n",
       "      <th>B</th>\n",
       "      <th>A12</th>\n",
       "    </tr>\n",
       "  </thead>\n",
       "  <tbody>\n",
       "    <tr>\n",
       "      <th>1</th>\n",
       "      <td>Main Screen Appear</td>\n",
       "      <td>2450</td>\n",
       "      <td>2476</td>\n",
       "      <td>2493</td>\n",
       "      <td>4926</td>\n",
       "    </tr>\n",
       "    <tr>\n",
       "      <th>2</th>\n",
       "      <td>Offers Screen Appear</td>\n",
       "      <td>1542</td>\n",
       "      <td>1520</td>\n",
       "      <td>1531</td>\n",
       "      <td>3062</td>\n",
       "    </tr>\n",
       "    <tr>\n",
       "      <th>0</th>\n",
       "      <td>Cart Screen Appear</td>\n",
       "      <td>1266</td>\n",
       "      <td>1238</td>\n",
       "      <td>1230</td>\n",
       "      <td>2504</td>\n",
       "    </tr>\n",
       "    <tr>\n",
       "      <th>3</th>\n",
       "      <td>Payment Screen Successful</td>\n",
       "      <td>1200</td>\n",
       "      <td>1158</td>\n",
       "      <td>1181</td>\n",
       "      <td>2358</td>\n",
       "    </tr>\n",
       "  </tbody>\n",
       "</table>\n",
       "</div>"
      ],
      "text/plain": [
       "                  name_event    A1    A2     B   A12\n",
       "1         Main Screen Appear  2450  2476  2493  4926\n",
       "2       Offers Screen Appear  1542  1520  1531  3062\n",
       "0         Cart Screen Appear  1266  1238  1230  2504\n",
       "3  Payment Screen Successful  1200  1158  1181  2358"
      ]
     },
     "metadata": {},
     "output_type": "display_data"
    }
   ],
   "source": [
    "pvt_summary = (\n",
    "    pd.pivot_table(\n",
    "        data=df_logs[df_logs.name_event != 'Tutorial'],\n",
    "        index='name_event',\n",
    "        columns='id_group',\n",
    "        values='id_device',\n",
    "        aggfunc='nunique'\n",
    "    )\n",
    "    .reset_index()\n",
    "    .set_axis(\n",
    "        ['name_event', 'A1', 'A2', 'B'],\n",
    "        axis='columns'\n",
    "    )\n",
    "    .assign(\n",
    "        A12 = lambda df: df.A1 + df.A2\n",
    "    )\n",
    "    .sort_values(by='B', ascending=False)\n",
    ")\n",
    " \n",
    "display(pvt_summary)"
   ]
  },
  {
   "cell_type": "markdown",
   "metadata": {},
   "source": [
    "Напишем функцию, которая будет делать за нас Z-тест. "
   ]
  },
  {
   "cell_type": "code",
   "execution_count": 34,
   "metadata": {},
   "outputs": [],
   "source": [
    "# Hypothesis testing\n",
    "def fun_get_p_value(start_count: list, end_count: list, alpha: float) -> float:\n",
    "    \"\"\"\n",
    "    This function output p-value of a Z-test for conversions of 2 samples.\n",
    "\n",
    "    Args:\n",
    "        start_count (list): list of starting values.\n",
    "        end_count (list): list of values after an event.\n",
    "        alpha (float): statistical significance\n",
    "\n",
    "    Returns:\n",
    "        p-value: p-value of a test\n",
    "    \"\"\"\n",
    "    \n",
    "    p1 = end_count[0] / start_count[0]\n",
    "    p2 = end_count[1] / start_count[1]\n",
    "    \n",
    "    p_combined = (end_count[0] + end_count[1]) / (start_count[0] + start_count[1])\n",
    "    difference = p1 - p2\n",
    "    \n",
    "    z_value = difference / mth.sqrt(p_combined * (1 - p_combined) * (1 / start_count[0] + 1 / start_count[1]))\n",
    "    \n",
    "    distribution = st.norm(0, 1)\n",
    "    p_value = (1 - distribution.cdf(abs(z_value))) * 2\n",
    "\n",
    "    return p_value"
   ]
  },
  {
   "cell_type": "markdown",
   "metadata": {},
   "source": [
    "Теперь проверим есть ли статистически значимая разница между группами А1 и А2. Т.к. мы еще не раз вернемся к гипотезам ниже, я напишу их в общем виде, подразумевая, что вместо групп 1 и 2 мы будем выбирать нужные нам комбинации.\n",
    "\n",
    "> **Нулевая гипотеза (H0):** статистически значимых различий между конверсиями группы 1 и конверсиями группы 2 нет.\n",
    "\n",
    "> **Альтернативная гипотеза (H1):** статистически значимые различия между конверсиями группы 1 и конверсиями группы 2 есть.\n",
    "\n",
    "Мы принимаем нулевую гипотезу, если `p_value > alpha`. Мы принимаем альтернативную гипотезу, если `p_value < alpha`. Напишем еще одну функцию, которая будет шерстить по нашей таблице `pvt_summary`."
   ]
  },
  {
   "cell_type": "code",
   "execution_count": 41,
   "metadata": {},
   "outputs": [],
   "source": [
    "# Results for several hypotheses\n",
    "def fun_hypothesis_results(df_input: pd.DataFrame, group_1: object, group_2: object, alpha: float) -> pd.DataFrame:\n",
    "    \"\"\"\n",
    "    This function creates a summary report after testing hypotheses related to conversion.\n",
    "\n",
    "    Args:\n",
    "        df_input (DataFrame): input dataframe\n",
    "        group_1 (object): name of the column which contains total unique users per each step of the pipeline for the first group \n",
    "        group_2 (object): name of the column which contains total unique users per each step of the pipeline for the second group\n",
    "        alpha (float): statistical significance.\n",
    "\n",
    "    Returns:\n",
    "        DataFrame: summary table of key results for each test: steps in scope, conversions, p_value, alpha and H0/H1 decision.\n",
    "    \"\"\"\n",
    "    \n",
    "    start_event = []\n",
    "    end_event = []\n",
    "    conversion_group_1 = []\n",
    "    conversion_group_2 = []\n",
    "    p_values = []\n",
    "    hypothesis_to_accept = []\n",
    "    \n",
    "    for counter in range(len(df_input.name_event) - 1):       \n",
    "        start_event.append(df_input.name_event.iloc[counter])\n",
    "        end_event.append(df_input.name_event.iloc[counter + 1])\n",
    "        \n",
    "        conversion_group_1.append(\n",
    "            round(100 * df_input[group_1].iloc[counter + 1] / df_input[group_1].iloc[counter], 1)\n",
    "        )\n",
    "        \n",
    "        conversion_group_2.append(\n",
    "            round(100 * df_input[group_2].iloc[counter + 1] / df_input[group_2].iloc[counter], 1)\n",
    "        )\n",
    "        \n",
    "        p_value = fun_get_p_value(\n",
    "            [df_input[group_1].iloc[counter], df_input[group_2].iloc[counter]],\n",
    "            [df_input[group_1].iloc[counter + 1], df_input[group_2].iloc[counter + 1]],\n",
    "            alpha\n",
    "        )\n",
    "        \n",
    "        p_values.append(round(p_value, 3))\n",
    "        \n",
    "        if p_value > alpha:\n",
    "            hypothesis_to_accept.append('H0')\n",
    "        else:\n",
    "            hypothesis_to_accept.append('H1')\n",
    "\n",
    "    df_output = pd.DataFrame({\n",
    "        'start_event': start_event,\n",
    "        'end_event': end_event,\n",
    "        'conversion_group_' + group_1: conversion_group_1,\n",
    "        'conversion_group_' + group_2: conversion_group_2,\n",
    "        'p_value': p_values,\n",
    "        'alpha': alpha,\n",
    "        'hypothesis_to_accept': hypothesis_to_accept\n",
    "    })\n",
    "    \n",
    "    return df_output\n"
   ]
  },
  {
   "cell_type": "markdown",
   "metadata": {},
   "source": [
    "Настало время узнать ответ: есть ли разница между группами `A1` и `А2`."
   ]
  },
  {
   "cell_type": "code",
   "execution_count": 42,
   "metadata": {},
   "outputs": [
    {
     "data": {
      "text/html": [
       "<div>\n",
       "<style scoped>\n",
       "    .dataframe tbody tr th:only-of-type {\n",
       "        vertical-align: middle;\n",
       "    }\n",
       "\n",
       "    .dataframe tbody tr th {\n",
       "        vertical-align: top;\n",
       "    }\n",
       "\n",
       "    .dataframe thead th {\n",
       "        text-align: right;\n",
       "    }\n",
       "</style>\n",
       "<table border=\"1\" class=\"dataframe\">\n",
       "  <thead>\n",
       "    <tr style=\"text-align: right;\">\n",
       "      <th></th>\n",
       "      <th>start_event</th>\n",
       "      <th>end_event</th>\n",
       "      <th>conversion_group_A1</th>\n",
       "      <th>conversion_group_A2</th>\n",
       "      <th>p_value</th>\n",
       "      <th>alpha</th>\n",
       "      <th>hypothesis_to_accept</th>\n",
       "    </tr>\n",
       "  </thead>\n",
       "  <tbody>\n",
       "    <tr>\n",
       "      <th>0</th>\n",
       "      <td>Main Screen Appear</td>\n",
       "      <td>Offers Screen Appear</td>\n",
       "      <td>62.9</td>\n",
       "      <td>61.4</td>\n",
       "      <td>0.262</td>\n",
       "      <td>0.01</td>\n",
       "      <td>H0</td>\n",
       "    </tr>\n",
       "    <tr>\n",
       "      <th>1</th>\n",
       "      <td>Offers Screen Appear</td>\n",
       "      <td>Cart Screen Appear</td>\n",
       "      <td>82.1</td>\n",
       "      <td>81.4</td>\n",
       "      <td>0.639</td>\n",
       "      <td>0.01</td>\n",
       "      <td>H0</td>\n",
       "    </tr>\n",
       "    <tr>\n",
       "      <th>2</th>\n",
       "      <td>Cart Screen Appear</td>\n",
       "      <td>Payment Screen Successful</td>\n",
       "      <td>94.8</td>\n",
       "      <td>93.5</td>\n",
       "      <td>0.182</td>\n",
       "      <td>0.01</td>\n",
       "      <td>H0</td>\n",
       "    </tr>\n",
       "  </tbody>\n",
       "</table>\n",
       "</div>"
      ],
      "text/plain": [
       "            start_event                  end_event  conversion_group_A1  \\\n",
       "0    Main Screen Appear       Offers Screen Appear                 62.9   \n",
       "1  Offers Screen Appear         Cart Screen Appear                 82.1   \n",
       "2    Cart Screen Appear  Payment Screen Successful                 94.8   \n",
       "\n",
       "   conversion_group_A2  p_value  alpha hypothesis_to_accept  \n",
       "0                 61.4    0.262   0.01                   H0  \n",
       "1                 81.4    0.639   0.01                   H0  \n",
       "2                 93.5    0.182   0.01                   H0  "
      ]
     },
     "metadata": {},
     "output_type": "display_data"
    }
   ],
   "source": [
    "alpha = 0.01\n",
    "\n",
    "display(fun_hypothesis_results(pvt_summary, 'A1', 'A2', alpha))"
   ]
  },
  {
   "cell_type": "markdown",
   "metadata": {},
   "source": [
    "Статистической разницы в конверсиях на каждом шаге воронки нет. Похоже, мы можем использовать обе группы, как контрольные."
   ]
  },
  {
   "cell_type": "markdown",
   "metadata": {},
   "source": [
    "### Тесты А1/В, А2/В, А1+А2/В\n",
    "\n",
    "Посмотрим теперь, есть ли какие-то различия между контрольными группами и экспериментальной. Параметры теста оставляем пока такими же."
   ]
  },
  {
   "cell_type": "code",
   "execution_count": 43,
   "metadata": {},
   "outputs": [
    {
     "data": {
      "text/html": [
       "<div>\n",
       "<style scoped>\n",
       "    .dataframe tbody tr th:only-of-type {\n",
       "        vertical-align: middle;\n",
       "    }\n",
       "\n",
       "    .dataframe tbody tr th {\n",
       "        vertical-align: top;\n",
       "    }\n",
       "\n",
       "    .dataframe thead th {\n",
       "        text-align: right;\n",
       "    }\n",
       "</style>\n",
       "<table border=\"1\" class=\"dataframe\">\n",
       "  <thead>\n",
       "    <tr style=\"text-align: right;\">\n",
       "      <th></th>\n",
       "      <th>start_event</th>\n",
       "      <th>end_event</th>\n",
       "      <th>conversion_group_A1</th>\n",
       "      <th>conversion_group_B</th>\n",
       "      <th>p_value</th>\n",
       "      <th>alpha</th>\n",
       "      <th>hypothesis_to_accept</th>\n",
       "    </tr>\n",
       "  </thead>\n",
       "  <tbody>\n",
       "    <tr>\n",
       "      <th>0</th>\n",
       "      <td>Main Screen Appear</td>\n",
       "      <td>Offers Screen Appear</td>\n",
       "      <td>62.9</td>\n",
       "      <td>61.4</td>\n",
       "      <td>0.268</td>\n",
       "      <td>0.01</td>\n",
       "      <td>H0</td>\n",
       "    </tr>\n",
       "    <tr>\n",
       "      <th>1</th>\n",
       "      <td>Offers Screen Appear</td>\n",
       "      <td>Cart Screen Appear</td>\n",
       "      <td>82.1</td>\n",
       "      <td>80.3</td>\n",
       "      <td>0.211</td>\n",
       "      <td>0.01</td>\n",
       "      <td>H0</td>\n",
       "    </tr>\n",
       "    <tr>\n",
       "      <th>2</th>\n",
       "      <td>Cart Screen Appear</td>\n",
       "      <td>Payment Screen Successful</td>\n",
       "      <td>94.8</td>\n",
       "      <td>96.0</td>\n",
       "      <td>0.143</td>\n",
       "      <td>0.01</td>\n",
       "      <td>H0</td>\n",
       "    </tr>\n",
       "  </tbody>\n",
       "</table>\n",
       "</div>"
      ],
      "text/plain": [
       "            start_event                  end_event  conversion_group_A1  \\\n",
       "0    Main Screen Appear       Offers Screen Appear                 62.9   \n",
       "1  Offers Screen Appear         Cart Screen Appear                 82.1   \n",
       "2    Cart Screen Appear  Payment Screen Successful                 94.8   \n",
       "\n",
       "   conversion_group_B  p_value  alpha hypothesis_to_accept  \n",
       "0                61.4    0.268   0.01                   H0  \n",
       "1                80.3    0.211   0.01                   H0  \n",
       "2                96.0    0.143   0.01                   H0  "
      ]
     },
     "metadata": {},
     "output_type": "display_data"
    }
   ],
   "source": [
    "display(fun_hypothesis_results(pvt_summary, 'A1', 'B', alpha))"
   ]
  },
  {
   "cell_type": "markdown",
   "metadata": {},
   "source": [
    "Первый подход к снаряду показывает, что разницы между группами `A1` и `B` нет. `p_value` для всех шагов воронки много больше значения `alpha` - принимаем нулевую гипотезу."
   ]
  },
  {
   "cell_type": "code",
   "execution_count": 44,
   "metadata": {},
   "outputs": [
    {
     "data": {
      "text/html": [
       "<div>\n",
       "<style scoped>\n",
       "    .dataframe tbody tr th:only-of-type {\n",
       "        vertical-align: middle;\n",
       "    }\n",
       "\n",
       "    .dataframe tbody tr th {\n",
       "        vertical-align: top;\n",
       "    }\n",
       "\n",
       "    .dataframe thead th {\n",
       "        text-align: right;\n",
       "    }\n",
       "</style>\n",
       "<table border=\"1\" class=\"dataframe\">\n",
       "  <thead>\n",
       "    <tr style=\"text-align: right;\">\n",
       "      <th></th>\n",
       "      <th>start_event</th>\n",
       "      <th>end_event</th>\n",
       "      <th>conversion_group_A2</th>\n",
       "      <th>conversion_group_B</th>\n",
       "      <th>p_value</th>\n",
       "      <th>alpha</th>\n",
       "      <th>hypothesis_to_accept</th>\n",
       "    </tr>\n",
       "  </thead>\n",
       "  <tbody>\n",
       "    <tr>\n",
       "      <th>0</th>\n",
       "      <td>Main Screen Appear</td>\n",
       "      <td>Offers Screen Appear</td>\n",
       "      <td>61.4</td>\n",
       "      <td>61.4</td>\n",
       "      <td>0.987</td>\n",
       "      <td>0.01</td>\n",
       "      <td>H0</td>\n",
       "    </tr>\n",
       "    <tr>\n",
       "      <th>1</th>\n",
       "      <td>Offers Screen Appear</td>\n",
       "      <td>Cart Screen Appear</td>\n",
       "      <td>81.4</td>\n",
       "      <td>80.3</td>\n",
       "      <td>0.436</td>\n",
       "      <td>0.01</td>\n",
       "      <td>H0</td>\n",
       "    </tr>\n",
       "    <tr>\n",
       "      <th>2</th>\n",
       "      <td>Cart Screen Appear</td>\n",
       "      <td>Payment Screen Successful</td>\n",
       "      <td>93.5</td>\n",
       "      <td>96.0</td>\n",
       "      <td>0.006</td>\n",
       "      <td>0.01</td>\n",
       "      <td>H1</td>\n",
       "    </tr>\n",
       "  </tbody>\n",
       "</table>\n",
       "</div>"
      ],
      "text/plain": [
       "            start_event                  end_event  conversion_group_A2  \\\n",
       "0    Main Screen Appear       Offers Screen Appear                 61.4   \n",
       "1  Offers Screen Appear         Cart Screen Appear                 81.4   \n",
       "2    Cart Screen Appear  Payment Screen Successful                 93.5   \n",
       "\n",
       "   conversion_group_B  p_value  alpha hypothesis_to_accept  \n",
       "0                61.4    0.987   0.01                   H0  \n",
       "1                80.3    0.436   0.01                   H0  \n",
       "2                96.0    0.006   0.01                   H1  "
      ]
     },
     "metadata": {},
     "output_type": "display_data"
    }
   ],
   "source": [
    "display(fun_hypothesis_results(pvt_summary, 'A2', 'B', alpha))"
   ]
  },
  {
   "cell_type": "markdown",
   "metadata": {},
   "source": [
    "Второй подход к снаряду показывает, что разницы между группами `A2` и `B` нет, кроме последнего шага. Здесь `p_value` оказалось меньше, чем значение `alpha`, но исходя из остальных этапов в этом тесте, а также предыдущей итерации, я думаю, что справедливо будет предположить, что это скорее ложноположительный результат."
   ]
  },
  {
   "cell_type": "code",
   "execution_count": 45,
   "metadata": {},
   "outputs": [
    {
     "data": {
      "text/html": [
       "<div>\n",
       "<style scoped>\n",
       "    .dataframe tbody tr th:only-of-type {\n",
       "        vertical-align: middle;\n",
       "    }\n",
       "\n",
       "    .dataframe tbody tr th {\n",
       "        vertical-align: top;\n",
       "    }\n",
       "\n",
       "    .dataframe thead th {\n",
       "        text-align: right;\n",
       "    }\n",
       "</style>\n",
       "<table border=\"1\" class=\"dataframe\">\n",
       "  <thead>\n",
       "    <tr style=\"text-align: right;\">\n",
       "      <th></th>\n",
       "      <th>start_event</th>\n",
       "      <th>end_event</th>\n",
       "      <th>conversion_group_A12</th>\n",
       "      <th>conversion_group_B</th>\n",
       "      <th>p_value</th>\n",
       "      <th>alpha</th>\n",
       "      <th>hypothesis_to_accept</th>\n",
       "    </tr>\n",
       "  </thead>\n",
       "  <tbody>\n",
       "    <tr>\n",
       "      <th>0</th>\n",
       "      <td>Main Screen Appear</td>\n",
       "      <td>Offers Screen Appear</td>\n",
       "      <td>62.2</td>\n",
       "      <td>61.4</td>\n",
       "      <td>0.531</td>\n",
       "      <td>0.01</td>\n",
       "      <td>H0</td>\n",
       "    </tr>\n",
       "    <tr>\n",
       "      <th>1</th>\n",
       "      <td>Offers Screen Appear</td>\n",
       "      <td>Cart Screen Appear</td>\n",
       "      <td>81.8</td>\n",
       "      <td>80.3</td>\n",
       "      <td>0.239</td>\n",
       "      <td>0.01</td>\n",
       "      <td>H0</td>\n",
       "    </tr>\n",
       "    <tr>\n",
       "      <th>2</th>\n",
       "      <td>Cart Screen Appear</td>\n",
       "      <td>Payment Screen Successful</td>\n",
       "      <td>94.2</td>\n",
       "      <td>96.0</td>\n",
       "      <td>0.017</td>\n",
       "      <td>0.01</td>\n",
       "      <td>H0</td>\n",
       "    </tr>\n",
       "  </tbody>\n",
       "</table>\n",
       "</div>"
      ],
      "text/plain": [
       "            start_event                  end_event  conversion_group_A12  \\\n",
       "0    Main Screen Appear       Offers Screen Appear                  62.2   \n",
       "1  Offers Screen Appear         Cart Screen Appear                  81.8   \n",
       "2    Cart Screen Appear  Payment Screen Successful                  94.2   \n",
       "\n",
       "   conversion_group_B  p_value  alpha hypothesis_to_accept  \n",
       "0                61.4    0.531   0.01                   H0  \n",
       "1                80.3    0.239   0.01                   H0  \n",
       "2                96.0    0.017   0.01                   H0  "
      ]
     },
     "metadata": {},
     "output_type": "display_data"
    }
   ],
   "source": [
    "display(fun_hypothesis_results(pvt_summary, 'A12', 'B',  alpha))"
   ]
  },
  {
   "cell_type": "markdown",
   "metadata": {},
   "source": [
    "Последний подход к снаряду показывает, что разницы между группами `A12` и `B` нет. `p_value` для всех шагов воронки много больше значения `alpha` - принимаем нулевую гипотезу."
   ]
  },
  {
   "cell_type": "markdown",
   "metadata": {},
   "source": [
    "### Заключение и выводы\n",
    "\n",
    "Последнее, о чем следует поговорить - это возможные ошибки. Мы сделали всего 12 тестов, что увеличивает вероятность отклонить нулевую гипотезу, при условии, что она верна. Похоже, это у нас и случилось в одной из итераций.\n",
    "\n",
    "Чтобы этого избежать, можно принять попровачный коэффициент (например, Бонферрони). При \"стандартной\" альфе в `0.05` это даст нам значение `alpha = 0.05 / 12 = 0.0041`. Это все еще сильно меньше, чем `p-values`, которые мы получили.\n",
    "\n",
    "Выводы:\n",
    "\n",
    "1. У нас получился насыщенный проект: мы начали с загрузки и отчистки данных, потом собрали основную статистику по пользователям и событиям, затем перешли к проверке гипотез. Пара основных наблюдений:\n",
    "- Временной период в исследовании: `2019-07-25` по `2019-08-07`. Но в нашей работе мы начали с `2019-08-01`, т.к. до этой даты данных почти нет.\n",
    "- Общее количество пользователей чуть больше `7.5K`. Общее количество событий - больше `200K`.\n",
    "- У нас 4 шага воронки, которые мы рассматривали. Суммарная конверсия от основного экрана до покупки составила `47.7%`.\n",
    "\n",
    "\n",
    "2. Гипотезы проверяли по 3 контрольным группам (`A1`, `A2`, `A1 + A2`) и одной экспериментальной (`B`). К сожалению, исследование показало, что изменение шрифтов не повлияло на конверсию в нашем приложении. Но кто работал - молодец.\n",
    "   "
   ]
  }
 ],
 "metadata": {
  "kernelspec": {
   "display_name": "Python 3.9.7 ('base')",
   "language": "python",
   "name": "python3"
  },
  "language_info": {
   "codemirror_mode": {
    "name": "ipython",
    "version": 3
   },
   "file_extension": ".py",
   "mimetype": "text/x-python",
   "name": "python",
   "nbconvert_exporter": "python",
   "pygments_lexer": "ipython3",
   "version": "3.9.7"
  },
  "orig_nbformat": 4,
  "vscode": {
   "interpreter": {
    "hash": "95633e14b7ea774968f538ab8687a60d358136f4a990a7903a22cc539dc1dcdb"
   }
  }
 },
 "nbformat": 4,
 "nbformat_minor": 2
}
